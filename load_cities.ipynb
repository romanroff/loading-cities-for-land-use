{
 "cells": [
  {
   "cell_type": "code",
   "execution_count": null,
   "id": "aa932302",
   "metadata": {},
   "outputs": [],
   "source": [
    "!pip install osmnx pandas geopandas"
   ]
  },
  {
   "cell_type": "code",
   "execution_count": null,
   "id": "0609afd6",
   "metadata": {},
   "outputs": [],
   "source": [
    "import io\n",
    "import zipfile\n",
    "from pathlib import Path\n",
    "from datetime import date\n",
    "\n",
    "import pandas as pd\n",
    "import requests\n",
    "\n",
    "# =========================\n",
    "# Настройки и константы\n",
    "# =========================\n",
    "BASE = \"https://download.geonames.org/export/dump\"\n",
    "OUT_DIR = Path(\"data/geonames_cities\")\n",
    "OUT_DIR.mkdir(parents=True, exist_ok=True)\n",
    "TIMEOUT = 120\n",
    "\n",
    "# Колонки основной таблицы 'geoname' (см. Readme GeoNames)\n",
    "GEONAME_COLS = [\n",
    "    \"geonameid\",\"name\",\"asciiname\",\"alternatenames\",\"latitude\",\"longitude\",\n",
    "    \"feature_class\",\"feature_code\",\"country_code\",\"cc2\",\"admin1_code\",\"admin2_code\",\n",
    "    \"admin3_code\",\"admin4_code\",\"population\",\"elevation\",\"dem\",\"timezone\",\"modification_date\"\n",
    "]\n",
    "\n",
    "# Фильтр «чистых городов»\n",
    "CITY_FCODES = {\"PPL\",\"PPLC\",\"PPLA\",\"PPLA2\",\"PPLA3\",\"PPLA4\",\"PPLG\",\"PPLL\",\"PPLS\"}\n",
    "\n",
    "# =========================\n",
    "# Функции\n",
    "# =========================\n",
    "def load_iso2_country_table() -> pd.DataFrame:\n",
    "    \"\"\"\n",
    "    Загружает countryInfo.txt и возвращает DataFrame:\n",
    "    ISO — код страны (ISO2)\n",
    "    Country — полное название страны\n",
    "    \"\"\"\n",
    "    url = f\"{BASE}/countryInfo.txt\"\n",
    "    txt = requests.get(url, timeout=TIMEOUT).text\n",
    "    clean = \"\\n\".join(l for l in txt.splitlines() if not l.startswith(\"#\"))\n",
    "    df = pd.read_csv(io.StringIO(clean), sep=\"\\t\", dtype=str, header=0)\n",
    "    # По позициям (0 — ISO, 4 — Country)\n",
    "    df = df.rename(columns={df.columns[0]: \"ISO\", df.columns[4]: \"Country\"})\n",
    "    df = df[[\"ISO\", \"Country\"]].dropna().reset_index(drop=True)\n",
    "    df[\"ISO\"] = df[\"ISO\"].str.upper()\n",
    "    return df\n",
    "\n",
    "def safe_filename(name: str) -> str:\n",
    "    \"\"\"\n",
    "    Очищает имя файла от запрещённых символов.\n",
    "    \"\"\"\n",
    "    return \"\".join(c for c in name if c.isalnum() or c in (\" \", \"-\", \"_\")).strip().replace(\" \", \"_\")\n",
    "\n",
    "def process_country(iso2: str, country_name: str) -> pd.DataFrame:\n",
    "    \"\"\"\n",
    "    Скачивает {ISO2}.zip, фильтрует города, сохраняет CSV с названием страны.\n",
    "    \"\"\"\n",
    "    url = f\"{BASE}/{iso2}.zip\"\n",
    "    print(f\"[{country_name}] downloading {url}\")\n",
    "    r = requests.get(url, timeout=TIMEOUT)\n",
    "    if r.status_code != 200:\n",
    "        print(f\"[{country_name}] skip: HTTP {r.status_code}\")\n",
    "        return pd.DataFrame(columns=[\"name\",\"population\",\"date\"])\n",
    "\n",
    "    with zipfile.ZipFile(io.BytesIO(r.content)) as zf:\n",
    "        txt_name = f\"{iso2}.txt\"\n",
    "        if txt_name not in zf.namelist():\n",
    "            print(f\"[{country_name}] skip: {txt_name} not in archive\")\n",
    "            return pd.DataFrame(columns=[\"name\",\"population\",\"date\"])\n",
    "\n",
    "        df = pd.read_csv(\n",
    "            zf.open(txt_name),\n",
    "            sep=\"\\t\",\n",
    "            header=None,\n",
    "            names=GEONAME_COLS,\n",
    "            dtype={\"population\": \"Int64\"},\n",
    "            low_memory=False,\n",
    "        )\n",
    "\n",
    "    # Фильтрация\n",
    "    df = df[(df[\"feature_class\"] == \"P\") & (df[\"feature_code\"].isin(CITY_FCODES))]\n",
    "    df = df[df[\"population\"].notna() & (df[\"population\"] > 0)]\n",
    "\n",
    "    if df.empty:\n",
    "        print(f\"[{country_name}] no matching cities\")\n",
    "        return pd.DataFrame(columns=[\"name\",\"population\",\"date\"])\n",
    "\n",
    "    out = df.loc[:, [\"name\", \"population\", \"modification_date\"]].rename(\n",
    "        columns={\"modification_date\": \"date\"}\n",
    "    )\n",
    "    out[\"date\"] = out[\"date\"].fillna(date.today().isoformat())\n",
    "\n",
    "    # Имя файла — по названию страны\n",
    "    fname = safe_filename(country_name) + \".csv\"\n",
    "    path = OUT_DIR / fname\n",
    "    out.to_csv(path, index=False, header=False)\n",
    "    print(f\"[{country_name}] saved {len(out)} rows -> {path}\")\n",
    "    return out\n",
    "\n",
    "# =========================\n",
    "# Точка входа\n",
    "# =========================\n",
    "if __name__ == \"__main__\":\n",
    "    countries = load_iso2_country_table()\n",
    "    all_parts = []\n",
    "\n",
    "    for _, row in countries.iterrows():\n",
    "        iso = row[\"ISO\"]\n",
    "        cname = row[\"Country\"]\n",
    "        try:\n",
    "            part = process_country(iso, cname)\n",
    "            if not part.empty:\n",
    "                tmp = part.copy()\n",
    "                tmp[\"country\"] = cname\n",
    "                all_parts.append(tmp)\n",
    "        except Exception as e:\n",
    "            print(f\"[{cname}] error: {e}\")\n",
    "\n",
    "    if all_parts:\n",
    "        all_df = pd.concat(all_parts, ignore_index=True)\n",
    "        all_path = OUT_DIR / \"ALL_cities.csv\"\n",
    "        all_df.to_csv(all_path, index=False, header=False)\n",
    "        print(f\"[ALL] total {len(all_df)} rows -> {all_path}\")\n"
   ]
  },
  {
   "cell_type": "code",
   "execution_count": null,
   "id": "de627409",
   "metadata": {},
   "outputs": [
    {
     "name": "stderr",
     "output_type": "stream",
     "text": [
      "d:\\programming\\github\\loading-cities-for-land-use\\.venv\\lib\\site-packages\\osmnx\\_overpass.py:271: UserWarning: This area is 16 times your configured Overpass max query area size. It will automatically be divided up into multiple sub-queries accordingly. This may take a long time.\n",
      "  multi_poly_proj = utils_geo._consolidate_subdivide_geometry(poly_proj)\n",
      "\u001b[32m2025-08-15 17:37:04.608\u001b[0m | \u001b[1mINFO    \u001b[0m | \u001b[36mblocksnet.blocks.cutting.preprocessing.core\u001b[0m:\u001b[36mpreprocess_urban_objects\u001b[0m:\u001b[36m44\u001b[0m - \u001b[1mChecking roads schema\u001b[0m\n",
      "\u001b[32m2025-08-15 17:37:04.634\u001b[0m | \u001b[1mINFO    \u001b[0m | \u001b[36mblocksnet.blocks.cutting.preprocessing.core\u001b[0m:\u001b[36mpreprocess_urban_objects\u001b[0m:\u001b[36m51\u001b[0m - \u001b[1mChecking railways schema\u001b[0m\n",
      "\u001b[32m2025-08-15 17:37:04.645\u001b[0m | \u001b[1mINFO    \u001b[0m | \u001b[36mblocksnet.blocks.cutting.preprocessing.core\u001b[0m:\u001b[36mpreprocess_urban_objects\u001b[0m:\u001b[36m58\u001b[0m - \u001b[1mChecking water schema\u001b[0m\n",
      "\u001b[32m2025-08-15 17:37:04.666\u001b[0m | \u001b[1mINFO    \u001b[0m | \u001b[36mblocksnet.blocks.cutting.processing.core\u001b[0m:\u001b[36mwrapper\u001b[0m:\u001b[36m21\u001b[0m - \u001b[1mChecking boundaries schema\u001b[0m\n",
      "\u001b[32m2025-08-15 17:37:04.677\u001b[0m | \u001b[1mINFO    \u001b[0m | \u001b[36mblocksnet.blocks.cutting.processing.core\u001b[0m:\u001b[36mwrapper\u001b[0m:\u001b[36m25\u001b[0m - \u001b[1mChecking line objects schema\u001b[0m\n",
      "\u001b[32m2025-08-15 17:37:04.708\u001b[0m | \u001b[1mINFO    \u001b[0m | \u001b[36mblocksnet.blocks.cutting.processing.core\u001b[0m:\u001b[36mwrapper\u001b[0m:\u001b[36m31\u001b[0m - \u001b[1mChecking polygon objects schema\u001b[0m\n",
      "\u001b[32m2025-08-15 17:37:04.723\u001b[0m | \u001b[1mINFO    \u001b[0m | \u001b[36mblocksnet.blocks.cutting.processing.core\u001b[0m:\u001b[36m_exclude_polygons\u001b[0m:\u001b[36m45\u001b[0m - \u001b[1mExcluding polygon objects from blocks\u001b[0m\n",
      "\u001b[32m2025-08-15 17:37:04.991\u001b[0m | \u001b[1mINFO    \u001b[0m | \u001b[36mblocksnet.blocks.cutting.processing.core\u001b[0m:\u001b[36m_get_enclosures\u001b[0m:\u001b[36m51\u001b[0m - \u001b[1mSetting up enclosures\u001b[0m\n",
      "\u001b[32m2025-08-15 17:37:05.632\u001b[0m | \u001b[1mINFO    \u001b[0m | \u001b[36mblocksnet.blocks.cutting.processing.core\u001b[0m:\u001b[36m_fill_holes\u001b[0m:\u001b[36m68\u001b[0m - \u001b[1mFilling holes inside the blocks\u001b[0m\n",
      "\u001b[32m2025-08-15 17:37:05.886\u001b[0m | \u001b[1mINFO    \u001b[0m | \u001b[36mblocksnet.blocks.cutting.processing.core\u001b[0m:\u001b[36m_filter_overlapping\u001b[0m:\u001b[36m78\u001b[0m - \u001b[1mFiltering overlapping geometries\u001b[0m\n",
      "\u001b[32m2025-08-15 17:37:06.662\u001b[0m | \u001b[32m\u001b[1mSUCCESS \u001b[0m | \u001b[36mblocksnet.blocks.cutting.processing.core\u001b[0m:\u001b[36mcut_urban_blocks\u001b[0m:\u001b[36m118\u001b[0m - \u001b[32m\u001b[1mBlocks are successfully cut!\u001b[0m\n",
      "d:\\programming\\github\\loading-cities-for-land-use\\.venv\\lib\\site-packages\\osmnx\\_overpass.py:271: UserWarning: This area is 16 times your configured Overpass max query area size. It will automatically be divided up into multiple sub-queries accordingly. This may take a long time.\n",
      "  multi_poly_proj = utils_geo._consolidate_subdivide_geometry(poly_proj)\n",
      "\u001b[32m2025-08-15 17:38:17.931\u001b[0m | \u001b[1mINFO    \u001b[0m | \u001b[36mblocksnet.blocks.assignment.core\u001b[0m:\u001b[36massign_land_use\u001b[0m:\u001b[36m44\u001b[0m - \u001b[1mOverlaying geometries\u001b[0m\n",
      "\u001b[32m2025-08-15 17:38:19.130\u001b[0m | \u001b[32m\u001b[1mSUCCESS \u001b[0m | \u001b[36mblocksnet.blocks.assignment.core\u001b[0m:\u001b[36massign_land_use\u001b[0m:\u001b[36m55\u001b[0m - \u001b[32m\u001b[1mShares calculated\u001b[0m\n"
     ]
    },
    {
     "name": "stdout",
     "output_type": "stream",
     "text": [
      " -> Ballarat, Australia\n",
      "    [skip] Ballarat, Australia: At least one GeoDataFrame must be passed\n",
      " -> Bendigo, Australia\n"
     ]
    },
    {
     "name": "stderr",
     "output_type": "stream",
     "text": [
      "\u001b[32m2025-08-15 17:38:39.892\u001b[0m | \u001b[1mINFO    \u001b[0m | \u001b[36mblocksnet.blocks.cutting.preprocessing.core\u001b[0m:\u001b[36mpreprocess_urban_objects\u001b[0m:\u001b[36m44\u001b[0m - \u001b[1mChecking roads schema\u001b[0m\n",
      "\u001b[32m2025-08-15 17:38:39.908\u001b[0m | \u001b[1mINFO    \u001b[0m | \u001b[36mblocksnet.blocks.cutting.preprocessing.core\u001b[0m:\u001b[36mpreprocess_urban_objects\u001b[0m:\u001b[36m51\u001b[0m - \u001b[1mChecking railways schema\u001b[0m\n",
      "\u001b[32m2025-08-15 17:38:39.919\u001b[0m | \u001b[1mINFO    \u001b[0m | \u001b[36mblocksnet.blocks.cutting.preprocessing.core\u001b[0m:\u001b[36mpreprocess_urban_objects\u001b[0m:\u001b[36m58\u001b[0m - \u001b[1mChecking water schema\u001b[0m\n",
      "\u001b[32m2025-08-15 17:38:39.935\u001b[0m | \u001b[1mINFO    \u001b[0m | \u001b[36mblocksnet.blocks.cutting.processing.core\u001b[0m:\u001b[36mwrapper\u001b[0m:\u001b[36m21\u001b[0m - \u001b[1mChecking boundaries schema\u001b[0m\n",
      "\u001b[32m2025-08-15 17:38:39.946\u001b[0m | \u001b[1mINFO    \u001b[0m | \u001b[36mblocksnet.blocks.cutting.processing.core\u001b[0m:\u001b[36mwrapper\u001b[0m:\u001b[36m25\u001b[0m - \u001b[1mChecking line objects schema\u001b[0m\n",
      "\u001b[32m2025-08-15 17:38:39.962\u001b[0m | \u001b[1mINFO    \u001b[0m | \u001b[36mblocksnet.blocks.cutting.processing.core\u001b[0m:\u001b[36mwrapper\u001b[0m:\u001b[36m31\u001b[0m - \u001b[1mChecking polygon objects schema\u001b[0m\n",
      "\u001b[32m2025-08-15 17:38:39.976\u001b[0m | \u001b[1mINFO    \u001b[0m | \u001b[36mblocksnet.blocks.cutting.processing.core\u001b[0m:\u001b[36m_exclude_polygons\u001b[0m:\u001b[36m45\u001b[0m - \u001b[1mExcluding polygon objects from blocks\u001b[0m\n",
      "\u001b[32m2025-08-15 17:38:39.990\u001b[0m | \u001b[1mINFO    \u001b[0m | \u001b[36mblocksnet.blocks.cutting.processing.core\u001b[0m:\u001b[36m_get_enclosures\u001b[0m:\u001b[36m51\u001b[0m - \u001b[1mSetting up enclosures\u001b[0m\n",
      "\u001b[32m2025-08-15 17:38:40.041\u001b[0m | \u001b[1mINFO    \u001b[0m | \u001b[36mblocksnet.blocks.cutting.processing.core\u001b[0m:\u001b[36m_fill_holes\u001b[0m:\u001b[36m68\u001b[0m - \u001b[1mFilling holes inside the blocks\u001b[0m\n",
      "\u001b[32m2025-08-15 17:38:40.089\u001b[0m | \u001b[1mINFO    \u001b[0m | \u001b[36mblocksnet.blocks.cutting.processing.core\u001b[0m:\u001b[36m_filter_overlapping\u001b[0m:\u001b[36m78\u001b[0m - \u001b[1mFiltering overlapping geometries\u001b[0m\n",
      "\u001b[32m2025-08-15 17:38:40.148\u001b[0m | \u001b[32m\u001b[1mSUCCESS \u001b[0m | \u001b[36mblocksnet.blocks.cutting.processing.core\u001b[0m:\u001b[36mcut_urban_blocks\u001b[0m:\u001b[36m118\u001b[0m - \u001b[32m\u001b[1mBlocks are successfully cut!\u001b[0m\n",
      "\u001b[32m2025-08-15 17:38:41.902\u001b[0m | \u001b[1mINFO    \u001b[0m | \u001b[36mblocksnet.blocks.assignment.core\u001b[0m:\u001b[36massign_land_use\u001b[0m:\u001b[36m44\u001b[0m - \u001b[1mOverlaying geometries\u001b[0m\n",
      "\u001b[32m2025-08-15 17:38:41.995\u001b[0m | \u001b[32m\u001b[1mSUCCESS \u001b[0m | \u001b[36mblocksnet.blocks.assignment.core\u001b[0m:\u001b[36massign_land_use\u001b[0m:\u001b[36m55\u001b[0m - \u001b[32m\u001b[1mShares calculated\u001b[0m\n"
     ]
    },
    {
     "name": "stdout",
     "output_type": "stream",
     "text": [
      "\n",
      "=== Austria ===\n",
      " -> Vienna, Austria\n"
     ]
    },
    {
     "name": "stderr",
     "output_type": "stream",
     "text": [
      "\u001b[32m2025-08-15 17:41:32.242\u001b[0m | \u001b[1mINFO    \u001b[0m | \u001b[36mblocksnet.blocks.cutting.preprocessing.core\u001b[0m:\u001b[36mpreprocess_urban_objects\u001b[0m:\u001b[36m44\u001b[0m - \u001b[1mChecking roads schema\u001b[0m\n",
      "\u001b[32m2025-08-15 17:41:32.583\u001b[0m | \u001b[1mINFO    \u001b[0m | \u001b[36mblocksnet.blocks.cutting.preprocessing.core\u001b[0m:\u001b[36mpreprocess_urban_objects\u001b[0m:\u001b[36m51\u001b[0m - \u001b[1mChecking railways schema\u001b[0m\n",
      "\u001b[32m2025-08-15 17:41:32.613\u001b[0m | \u001b[1mINFO    \u001b[0m | \u001b[36mblocksnet.blocks.cutting.preprocessing.core\u001b[0m:\u001b[36mpreprocess_urban_objects\u001b[0m:\u001b[36m58\u001b[0m - \u001b[1mChecking water schema\u001b[0m\n",
      "\u001b[32m2025-08-15 17:41:32.734\u001b[0m | \u001b[1mINFO    \u001b[0m | \u001b[36mblocksnet.blocks.cutting.processing.core\u001b[0m:\u001b[36mwrapper\u001b[0m:\u001b[36m21\u001b[0m - \u001b[1mChecking boundaries schema\u001b[0m\n",
      "\u001b[32m2025-08-15 17:41:32.747\u001b[0m | \u001b[1mINFO    \u001b[0m | \u001b[36mblocksnet.blocks.cutting.processing.core\u001b[0m:\u001b[36mwrapper\u001b[0m:\u001b[36m25\u001b[0m - \u001b[1mChecking line objects schema\u001b[0m\n",
      "\u001b[32m2025-08-15 17:41:32.838\u001b[0m | \u001b[1mINFO    \u001b[0m | \u001b[36mblocksnet.blocks.cutting.processing.core\u001b[0m:\u001b[36mwrapper\u001b[0m:\u001b[36m31\u001b[0m - \u001b[1mChecking polygon objects schema\u001b[0m\n",
      "\u001b[32m2025-08-15 17:41:32.854\u001b[0m | \u001b[1mINFO    \u001b[0m | \u001b[36mblocksnet.blocks.cutting.processing.core\u001b[0m:\u001b[36m_exclude_polygons\u001b[0m:\u001b[36m45\u001b[0m - \u001b[1mExcluding polygon objects from blocks\u001b[0m\n",
      "\u001b[32m2025-08-15 17:41:33.275\u001b[0m | \u001b[1mINFO    \u001b[0m | \u001b[36mblocksnet.blocks.cutting.processing.core\u001b[0m:\u001b[36m_get_enclosures\u001b[0m:\u001b[36m51\u001b[0m - \u001b[1mSetting up enclosures\u001b[0m\n",
      "\u001b[32m2025-08-15 17:41:35.402\u001b[0m | \u001b[1mINFO    \u001b[0m | \u001b[36mblocksnet.blocks.cutting.processing.core\u001b[0m:\u001b[36m_fill_holes\u001b[0m:\u001b[36m68\u001b[0m - \u001b[1mFilling holes inside the blocks\u001b[0m\n",
      "\u001b[32m2025-08-15 17:41:36.509\u001b[0m | \u001b[1mINFO    \u001b[0m | \u001b[36mblocksnet.blocks.cutting.processing.core\u001b[0m:\u001b[36m_filter_overlapping\u001b[0m:\u001b[36m78\u001b[0m - \u001b[1mFiltering overlapping geometries\u001b[0m\n",
      "\u001b[32m2025-08-15 17:41:38.390\u001b[0m | \u001b[32m\u001b[1mSUCCESS \u001b[0m | \u001b[36mblocksnet.blocks.cutting.processing.core\u001b[0m:\u001b[36mcut_urban_blocks\u001b[0m:\u001b[36m118\u001b[0m - \u001b[32m\u001b[1mBlocks are successfully cut!\u001b[0m\n",
      "\u001b[32m2025-08-15 17:42:09.405\u001b[0m | \u001b[1mINFO    \u001b[0m | \u001b[36mblocksnet.blocks.assignment.core\u001b[0m:\u001b[36massign_land_use\u001b[0m:\u001b[36m44\u001b[0m - \u001b[1mOverlaying geometries\u001b[0m\n",
      "\u001b[32m2025-08-15 17:42:15.075\u001b[0m | \u001b[32m\u001b[1mSUCCESS \u001b[0m | \u001b[36mblocksnet.blocks.assignment.core\u001b[0m:\u001b[36massign_land_use\u001b[0m:\u001b[36m55\u001b[0m - \u001b[32m\u001b[1mShares calculated\u001b[0m\n"
     ]
    },
    {
     "name": "stdout",
     "output_type": "stream",
     "text": [
      " -> Graz, Austria\n"
     ]
    },
    {
     "name": "stderr",
     "output_type": "stream",
     "text": [
      "\u001b[32m2025-08-15 17:44:28.161\u001b[0m | \u001b[1mINFO    \u001b[0m | \u001b[36mblocksnet.blocks.cutting.preprocessing.core\u001b[0m:\u001b[36mpreprocess_urban_objects\u001b[0m:\u001b[36m44\u001b[0m - \u001b[1mChecking roads schema\u001b[0m\n",
      "\u001b[32m2025-08-15 17:44:28.252\u001b[0m | \u001b[1mINFO    \u001b[0m | \u001b[36mblocksnet.blocks.cutting.preprocessing.core\u001b[0m:\u001b[36mpreprocess_urban_objects\u001b[0m:\u001b[36m51\u001b[0m - \u001b[1mChecking railways schema\u001b[0m\n",
      "\u001b[32m2025-08-15 17:44:28.265\u001b[0m | \u001b[1mINFO    \u001b[0m | \u001b[36mblocksnet.blocks.cutting.preprocessing.core\u001b[0m:\u001b[36mpreprocess_urban_objects\u001b[0m:\u001b[36m58\u001b[0m - \u001b[1mChecking water schema\u001b[0m\n",
      "\u001b[32m2025-08-15 17:44:28.300\u001b[0m | \u001b[1mINFO    \u001b[0m | \u001b[36mblocksnet.blocks.cutting.processing.core\u001b[0m:\u001b[36mwrapper\u001b[0m:\u001b[36m21\u001b[0m - \u001b[1mChecking boundaries schema\u001b[0m\n",
      "\u001b[32m2025-08-15 17:44:28.310\u001b[0m | \u001b[1mINFO    \u001b[0m | \u001b[36mblocksnet.blocks.cutting.processing.core\u001b[0m:\u001b[36mwrapper\u001b[0m:\u001b[36m25\u001b[0m - \u001b[1mChecking line objects schema\u001b[0m\n",
      "\u001b[32m2025-08-15 17:44:28.347\u001b[0m | \u001b[1mINFO    \u001b[0m | \u001b[36mblocksnet.blocks.cutting.processing.core\u001b[0m:\u001b[36mwrapper\u001b[0m:\u001b[36m31\u001b[0m - \u001b[1mChecking polygon objects schema\u001b[0m\n",
      "\u001b[32m2025-08-15 17:44:28.362\u001b[0m | \u001b[1mINFO    \u001b[0m | \u001b[36mblocksnet.blocks.cutting.processing.core\u001b[0m:\u001b[36m_exclude_polygons\u001b[0m:\u001b[36m45\u001b[0m - \u001b[1mExcluding polygon objects from blocks\u001b[0m\n",
      "\u001b[32m2025-08-15 17:44:28.542\u001b[0m | \u001b[1mINFO    \u001b[0m | \u001b[36mblocksnet.blocks.cutting.processing.core\u001b[0m:\u001b[36m_get_enclosures\u001b[0m:\u001b[36m51\u001b[0m - \u001b[1mSetting up enclosures\u001b[0m\n",
      "\u001b[32m2025-08-15 17:44:29.070\u001b[0m | \u001b[1mINFO    \u001b[0m | \u001b[36mblocksnet.blocks.cutting.processing.core\u001b[0m:\u001b[36m_fill_holes\u001b[0m:\u001b[36m68\u001b[0m - \u001b[1mFilling holes inside the blocks\u001b[0m\n",
      "\u001b[32m2025-08-15 17:44:29.324\u001b[0m | \u001b[1mINFO    \u001b[0m | \u001b[36mblocksnet.blocks.cutting.processing.core\u001b[0m:\u001b[36m_filter_overlapping\u001b[0m:\u001b[36m78\u001b[0m - \u001b[1mFiltering overlapping geometries\u001b[0m\n",
      "\u001b[32m2025-08-15 17:44:29.906\u001b[0m | \u001b[32m\u001b[1mSUCCESS \u001b[0m | \u001b[36mblocksnet.blocks.cutting.processing.core\u001b[0m:\u001b[36mcut_urban_blocks\u001b[0m:\u001b[36m118\u001b[0m - \u001b[32m\u001b[1mBlocks are successfully cut!\u001b[0m\n",
      "\u001b[32m2025-08-15 17:44:56.285\u001b[0m | \u001b[1mINFO    \u001b[0m | \u001b[36mblocksnet.blocks.assignment.core\u001b[0m:\u001b[36massign_land_use\u001b[0m:\u001b[36m44\u001b[0m - \u001b[1mOverlaying geometries\u001b[0m\n",
      "\u001b[32m2025-08-15 17:44:58.123\u001b[0m | \u001b[32m\u001b[1mSUCCESS \u001b[0m | \u001b[36mblocksnet.blocks.assignment.core\u001b[0m:\u001b[36massign_land_use\u001b[0m:\u001b[36m55\u001b[0m - \u001b[32m\u001b[1mShares calculated\u001b[0m\n"
     ]
    },
    {
     "name": "stdout",
     "output_type": "stream",
     "text": [
      " -> Linz, Austria\n"
     ]
    },
    {
     "name": "stderr",
     "output_type": "stream",
     "text": [
      "\u001b[32m2025-08-15 17:48:38.454\u001b[0m | \u001b[1mINFO    \u001b[0m | \u001b[36mblocksnet.blocks.cutting.preprocessing.core\u001b[0m:\u001b[36mpreprocess_urban_objects\u001b[0m:\u001b[36m44\u001b[0m - \u001b[1mChecking roads schema\u001b[0m\n",
      "\u001b[32m2025-08-15 17:48:38.524\u001b[0m | \u001b[1mINFO    \u001b[0m | \u001b[36mblocksnet.blocks.cutting.preprocessing.core\u001b[0m:\u001b[36mpreprocess_urban_objects\u001b[0m:\u001b[36m51\u001b[0m - \u001b[1mChecking railways schema\u001b[0m\n",
      "\u001b[32m2025-08-15 17:48:38.539\u001b[0m | \u001b[1mINFO    \u001b[0m | \u001b[36mblocksnet.blocks.cutting.preprocessing.core\u001b[0m:\u001b[36mpreprocess_urban_objects\u001b[0m:\u001b[36m58\u001b[0m - \u001b[1mChecking water schema\u001b[0m\n",
      "\u001b[32m2025-08-15 17:48:38.567\u001b[0m | \u001b[1mINFO    \u001b[0m | \u001b[36mblocksnet.blocks.cutting.processing.core\u001b[0m:\u001b[36mwrapper\u001b[0m:\u001b[36m21\u001b[0m - \u001b[1mChecking boundaries schema\u001b[0m\n",
      "\u001b[32m2025-08-15 17:48:38.581\u001b[0m | \u001b[1mINFO    \u001b[0m | \u001b[36mblocksnet.blocks.cutting.processing.core\u001b[0m:\u001b[36mwrapper\u001b[0m:\u001b[36m25\u001b[0m - \u001b[1mChecking line objects schema\u001b[0m\n",
      "\u001b[32m2025-08-15 17:48:38.622\u001b[0m | \u001b[1mINFO    \u001b[0m | \u001b[36mblocksnet.blocks.cutting.processing.core\u001b[0m:\u001b[36mwrapper\u001b[0m:\u001b[36m31\u001b[0m - \u001b[1mChecking polygon objects schema\u001b[0m\n",
      "\u001b[32m2025-08-15 17:48:38.637\u001b[0m | \u001b[1mINFO    \u001b[0m | \u001b[36mblocksnet.blocks.cutting.processing.core\u001b[0m:\u001b[36m_exclude_polygons\u001b[0m:\u001b[36m45\u001b[0m - \u001b[1mExcluding polygon objects from blocks\u001b[0m\n",
      "\u001b[32m2025-08-15 17:48:38.722\u001b[0m | \u001b[1mINFO    \u001b[0m | \u001b[36mblocksnet.blocks.cutting.processing.core\u001b[0m:\u001b[36m_get_enclosures\u001b[0m:\u001b[36m51\u001b[0m - \u001b[1mSetting up enclosures\u001b[0m\n",
      "\u001b[32m2025-08-15 17:48:39.188\u001b[0m | \u001b[1mINFO    \u001b[0m | \u001b[36mblocksnet.blocks.cutting.processing.core\u001b[0m:\u001b[36m_fill_holes\u001b[0m:\u001b[36m68\u001b[0m - \u001b[1mFilling holes inside the blocks\u001b[0m\n",
      "\u001b[32m2025-08-15 17:48:39.446\u001b[0m | \u001b[1mINFO    \u001b[0m | \u001b[36mblocksnet.blocks.cutting.processing.core\u001b[0m:\u001b[36m_filter_overlapping\u001b[0m:\u001b[36m78\u001b[0m - \u001b[1mFiltering overlapping geometries\u001b[0m\n",
      "\u001b[32m2025-08-15 17:48:40.085\u001b[0m | \u001b[32m\u001b[1mSUCCESS \u001b[0m | \u001b[36mblocksnet.blocks.cutting.processing.core\u001b[0m:\u001b[36mcut_urban_blocks\u001b[0m:\u001b[36m118\u001b[0m - \u001b[32m\u001b[1mBlocks are successfully cut!\u001b[0m\n",
      "\u001b[32m2025-08-15 17:49:34.279\u001b[0m | \u001b[1mINFO    \u001b[0m | \u001b[36mblocksnet.blocks.assignment.core\u001b[0m:\u001b[36massign_land_use\u001b[0m:\u001b[36m44\u001b[0m - \u001b[1mOverlaying geometries\u001b[0m\n",
      "\u001b[32m2025-08-15 17:49:35.131\u001b[0m | \u001b[32m\u001b[1mSUCCESS \u001b[0m | \u001b[36mblocksnet.blocks.assignment.core\u001b[0m:\u001b[36massign_land_use\u001b[0m:\u001b[36m55\u001b[0m - \u001b[32m\u001b[1mShares calculated\u001b[0m\n"
     ]
    },
    {
     "name": "stdout",
     "output_type": "stream",
     "text": [
      " -> Salzburg, Austria\n"
     ]
    },
    {
     "name": "stderr",
     "output_type": "stream",
     "text": [
      "\u001b[32m2025-08-15 17:50:55.076\u001b[0m | \u001b[1mINFO    \u001b[0m | \u001b[36mblocksnet.blocks.cutting.preprocessing.core\u001b[0m:\u001b[36mpreprocess_urban_objects\u001b[0m:\u001b[36m44\u001b[0m - \u001b[1mChecking roads schema\u001b[0m\n",
      "\u001b[32m2025-08-15 17:50:55.120\u001b[0m | \u001b[1mINFO    \u001b[0m | \u001b[36mblocksnet.blocks.cutting.preprocessing.core\u001b[0m:\u001b[36mpreprocess_urban_objects\u001b[0m:\u001b[36m51\u001b[0m - \u001b[1mChecking railways schema\u001b[0m\n",
      "\u001b[32m2025-08-15 17:50:55.132\u001b[0m | \u001b[1mINFO    \u001b[0m | \u001b[36mblocksnet.blocks.cutting.preprocessing.core\u001b[0m:\u001b[36mpreprocess_urban_objects\u001b[0m:\u001b[36m58\u001b[0m - \u001b[1mChecking water schema\u001b[0m\n",
      "\u001b[32m2025-08-15 17:50:55.162\u001b[0m | \u001b[1mINFO    \u001b[0m | \u001b[36mblocksnet.blocks.cutting.processing.core\u001b[0m:\u001b[36mwrapper\u001b[0m:\u001b[36m21\u001b[0m - \u001b[1mChecking boundaries schema\u001b[0m\n",
      "\u001b[32m2025-08-15 17:50:55.172\u001b[0m | \u001b[1mINFO    \u001b[0m | \u001b[36mblocksnet.blocks.cutting.processing.core\u001b[0m:\u001b[36mwrapper\u001b[0m:\u001b[36m25\u001b[0m - \u001b[1mChecking line objects schema\u001b[0m\n",
      "\u001b[32m2025-08-15 17:50:55.200\u001b[0m | \u001b[1mINFO    \u001b[0m | \u001b[36mblocksnet.blocks.cutting.processing.core\u001b[0m:\u001b[36mwrapper\u001b[0m:\u001b[36m31\u001b[0m - \u001b[1mChecking polygon objects schema\u001b[0m\n",
      "\u001b[32m2025-08-15 17:50:55.214\u001b[0m | \u001b[1mINFO    \u001b[0m | \u001b[36mblocksnet.blocks.cutting.processing.core\u001b[0m:\u001b[36m_exclude_polygons\u001b[0m:\u001b[36m45\u001b[0m - \u001b[1mExcluding polygon objects from blocks\u001b[0m\n",
      "\u001b[32m2025-08-15 17:50:55.303\u001b[0m | \u001b[1mINFO    \u001b[0m | \u001b[36mblocksnet.blocks.cutting.processing.core\u001b[0m:\u001b[36m_get_enclosures\u001b[0m:\u001b[36m51\u001b[0m - \u001b[1mSetting up enclosures\u001b[0m\n",
      "\u001b[32m2025-08-15 17:50:55.604\u001b[0m | \u001b[1mINFO    \u001b[0m | \u001b[36mblocksnet.blocks.cutting.processing.core\u001b[0m:\u001b[36m_fill_holes\u001b[0m:\u001b[36m68\u001b[0m - \u001b[1mFilling holes inside the blocks\u001b[0m\n",
      "\u001b[32m2025-08-15 17:50:55.766\u001b[0m | \u001b[1mINFO    \u001b[0m | \u001b[36mblocksnet.blocks.cutting.processing.core\u001b[0m:\u001b[36m_filter_overlapping\u001b[0m:\u001b[36m78\u001b[0m - \u001b[1mFiltering overlapping geometries\u001b[0m\n",
      "\u001b[32m2025-08-15 17:50:56.100\u001b[0m | \u001b[32m\u001b[1mSUCCESS \u001b[0m | \u001b[36mblocksnet.blocks.cutting.processing.core\u001b[0m:\u001b[36mcut_urban_blocks\u001b[0m:\u001b[36m118\u001b[0m - \u001b[32m\u001b[1mBlocks are successfully cut!\u001b[0m\n",
      "\u001b[32m2025-08-15 17:51:12.009\u001b[0m | \u001b[1mINFO    \u001b[0m | \u001b[36mblocksnet.blocks.assignment.core\u001b[0m:\u001b[36massign_land_use\u001b[0m:\u001b[36m44\u001b[0m - \u001b[1mOverlaying geometries\u001b[0m\n",
      "\u001b[32m2025-08-15 17:51:12.538\u001b[0m | \u001b[32m\u001b[1mSUCCESS \u001b[0m | \u001b[36mblocksnet.blocks.assignment.core\u001b[0m:\u001b[36massign_land_use\u001b[0m:\u001b[36m55\u001b[0m - \u001b[32m\u001b[1mShares calculated\u001b[0m\n"
     ]
    },
    {
     "name": "stdout",
     "output_type": "stream",
     "text": [
      " -> Innsbruck, Austria\n"
     ]
    },
    {
     "name": "stderr",
     "output_type": "stream",
     "text": [
      "\u001b[32m2025-08-15 17:52:41.514\u001b[0m | \u001b[1mINFO    \u001b[0m | \u001b[36mblocksnet.blocks.cutting.preprocessing.core\u001b[0m:\u001b[36mpreprocess_urban_objects\u001b[0m:\u001b[36m44\u001b[0m - \u001b[1mChecking roads schema\u001b[0m\n",
      "\u001b[32m2025-08-15 17:52:41.570\u001b[0m | \u001b[1mINFO    \u001b[0m | \u001b[36mblocksnet.blocks.cutting.preprocessing.core\u001b[0m:\u001b[36mpreprocess_urban_objects\u001b[0m:\u001b[36m51\u001b[0m - \u001b[1mChecking railways schema\u001b[0m\n",
      "\u001b[32m2025-08-15 17:52:41.595\u001b[0m | \u001b[1mINFO    \u001b[0m | \u001b[36mblocksnet.blocks.cutting.preprocessing.core\u001b[0m:\u001b[36mpreprocess_urban_objects\u001b[0m:\u001b[36m58\u001b[0m - \u001b[1mChecking water schema\u001b[0m\n",
      "\u001b[32m2025-08-15 17:52:41.616\u001b[0m | \u001b[1mINFO    \u001b[0m | \u001b[36mblocksnet.blocks.cutting.processing.core\u001b[0m:\u001b[36mwrapper\u001b[0m:\u001b[36m21\u001b[0m - \u001b[1mChecking boundaries schema\u001b[0m\n",
      "\u001b[32m2025-08-15 17:52:41.625\u001b[0m | \u001b[1mINFO    \u001b[0m | \u001b[36mblocksnet.blocks.cutting.processing.core\u001b[0m:\u001b[36mwrapper\u001b[0m:\u001b[36m25\u001b[0m - \u001b[1mChecking line objects schema\u001b[0m\n",
      "\u001b[32m2025-08-15 17:52:41.650\u001b[0m | \u001b[1mINFO    \u001b[0m | \u001b[36mblocksnet.blocks.cutting.processing.core\u001b[0m:\u001b[36mwrapper\u001b[0m:\u001b[36m31\u001b[0m - \u001b[1mChecking polygon objects schema\u001b[0m\n",
      "\u001b[32m2025-08-15 17:52:41.681\u001b[0m | \u001b[1mINFO    \u001b[0m | \u001b[36mblocksnet.blocks.cutting.processing.core\u001b[0m:\u001b[36m_exclude_polygons\u001b[0m:\u001b[36m45\u001b[0m - \u001b[1mExcluding polygon objects from blocks\u001b[0m\n",
      "\u001b[32m2025-08-15 17:52:41.736\u001b[0m | \u001b[1mINFO    \u001b[0m | \u001b[36mblocksnet.blocks.cutting.processing.core\u001b[0m:\u001b[36m_get_enclosures\u001b[0m:\u001b[36m51\u001b[0m - \u001b[1mSetting up enclosures\u001b[0m\n",
      "\u001b[32m2025-08-15 17:52:41.973\u001b[0m | \u001b[1mINFO    \u001b[0m | \u001b[36mblocksnet.blocks.cutting.processing.core\u001b[0m:\u001b[36m_fill_holes\u001b[0m:\u001b[36m68\u001b[0m - \u001b[1mFilling holes inside the blocks\u001b[0m\n",
      "\u001b[32m2025-08-15 17:52:42.098\u001b[0m | \u001b[1mINFO    \u001b[0m | \u001b[36mblocksnet.blocks.cutting.processing.core\u001b[0m:\u001b[36m_filter_overlapping\u001b[0m:\u001b[36m78\u001b[0m - \u001b[1mFiltering overlapping geometries\u001b[0m\n",
      "\u001b[32m2025-08-15 17:52:42.392\u001b[0m | \u001b[32m\u001b[1mSUCCESS \u001b[0m | \u001b[36mblocksnet.blocks.cutting.processing.core\u001b[0m:\u001b[36mcut_urban_blocks\u001b[0m:\u001b[36m118\u001b[0m - \u001b[32m\u001b[1mBlocks are successfully cut!\u001b[0m\n",
      "\u001b[32m2025-08-15 17:52:54.242\u001b[0m | \u001b[1mINFO    \u001b[0m | \u001b[36mblocksnet.blocks.assignment.core\u001b[0m:\u001b[36massign_land_use\u001b[0m:\u001b[36m44\u001b[0m - \u001b[1mOverlaying geometries\u001b[0m\n",
      "\u001b[32m2025-08-15 17:52:54.675\u001b[0m | \u001b[32m\u001b[1mSUCCESS \u001b[0m | \u001b[36mblocksnet.blocks.assignment.core\u001b[0m:\u001b[36massign_land_use\u001b[0m:\u001b[36m55\u001b[0m - \u001b[32m\u001b[1mShares calculated\u001b[0m\n"
     ]
    },
    {
     "name": "stdout",
     "output_type": "stream",
     "text": [
      " -> Klagenfurt am Wörthersee, Austria\n"
     ]
    },
    {
     "name": "stderr",
     "output_type": "stream",
     "text": [
      "\u001b[32m2025-08-15 17:54:04.955\u001b[0m | \u001b[1mINFO    \u001b[0m | \u001b[36mblocksnet.blocks.cutting.preprocessing.core\u001b[0m:\u001b[36mpreprocess_urban_objects\u001b[0m:\u001b[36m44\u001b[0m - \u001b[1mChecking roads schema\u001b[0m\n",
      "\u001b[32m2025-08-15 17:54:04.994\u001b[0m | \u001b[1mINFO    \u001b[0m | \u001b[36mblocksnet.blocks.cutting.preprocessing.core\u001b[0m:\u001b[36mpreprocess_urban_objects\u001b[0m:\u001b[36m51\u001b[0m - \u001b[1mChecking railways schema\u001b[0m\n",
      "\u001b[32m2025-08-15 17:54:05.004\u001b[0m | \u001b[1mINFO    \u001b[0m | \u001b[36mblocksnet.blocks.cutting.preprocessing.core\u001b[0m:\u001b[36mpreprocess_urban_objects\u001b[0m:\u001b[36m58\u001b[0m - \u001b[1mChecking water schema\u001b[0m\n",
      "\u001b[32m2025-08-15 17:54:05.027\u001b[0m | \u001b[1mINFO    \u001b[0m | \u001b[36mblocksnet.blocks.cutting.processing.core\u001b[0m:\u001b[36mwrapper\u001b[0m:\u001b[36m21\u001b[0m - \u001b[1mChecking boundaries schema\u001b[0m\n",
      "\u001b[32m2025-08-15 17:54:05.037\u001b[0m | \u001b[1mINFO    \u001b[0m | \u001b[36mblocksnet.blocks.cutting.processing.core\u001b[0m:\u001b[36mwrapper\u001b[0m:\u001b[36m25\u001b[0m - \u001b[1mChecking line objects schema\u001b[0m\n",
      "\u001b[32m2025-08-15 17:54:05.061\u001b[0m | \u001b[1mINFO    \u001b[0m | \u001b[36mblocksnet.blocks.cutting.processing.core\u001b[0m:\u001b[36mwrapper\u001b[0m:\u001b[36m31\u001b[0m - \u001b[1mChecking polygon objects schema\u001b[0m\n",
      "\u001b[32m2025-08-15 17:54:05.075\u001b[0m | \u001b[1mINFO    \u001b[0m | \u001b[36mblocksnet.blocks.cutting.processing.core\u001b[0m:\u001b[36m_exclude_polygons\u001b[0m:\u001b[36m45\u001b[0m - \u001b[1mExcluding polygon objects from blocks\u001b[0m\n",
      "\u001b[32m2025-08-15 17:54:05.158\u001b[0m | \u001b[1mINFO    \u001b[0m | \u001b[36mblocksnet.blocks.cutting.processing.core\u001b[0m:\u001b[36m_get_enclosures\u001b[0m:\u001b[36m51\u001b[0m - \u001b[1mSetting up enclosures\u001b[0m\n",
      "\u001b[32m2025-08-15 17:54:05.521\u001b[0m | \u001b[1mINFO    \u001b[0m | \u001b[36mblocksnet.blocks.cutting.processing.core\u001b[0m:\u001b[36m_fill_holes\u001b[0m:\u001b[36m68\u001b[0m - \u001b[1mFilling holes inside the blocks\u001b[0m\n",
      "\u001b[32m2025-08-15 17:54:05.691\u001b[0m | \u001b[1mINFO    \u001b[0m | \u001b[36mblocksnet.blocks.cutting.processing.core\u001b[0m:\u001b[36m_filter_overlapping\u001b[0m:\u001b[36m78\u001b[0m - \u001b[1mFiltering overlapping geometries\u001b[0m\n",
      "\u001b[32m2025-08-15 17:54:06.030\u001b[0m | \u001b[32m\u001b[1mSUCCESS \u001b[0m | \u001b[36mblocksnet.blocks.cutting.processing.core\u001b[0m:\u001b[36mcut_urban_blocks\u001b[0m:\u001b[36m118\u001b[0m - \u001b[32m\u001b[1mBlocks are successfully cut!\u001b[0m\n",
      "\u001b[32m2025-08-15 17:54:19.931\u001b[0m | \u001b[1mINFO    \u001b[0m | \u001b[36mblocksnet.blocks.assignment.core\u001b[0m:\u001b[36massign_land_use\u001b[0m:\u001b[36m44\u001b[0m - \u001b[1mOverlaying geometries\u001b[0m\n",
      "\u001b[32m2025-08-15 17:54:20.537\u001b[0m | \u001b[32m\u001b[1mSUCCESS \u001b[0m | \u001b[36mblocksnet.blocks.assignment.core\u001b[0m:\u001b[36massign_land_use\u001b[0m:\u001b[36m55\u001b[0m - \u001b[32m\u001b[1mShares calculated\u001b[0m\n"
     ]
    },
    {
     "name": "stdout",
     "output_type": "stream",
     "text": [
      "\n",
      "=== Azerbaijan ===\n",
      " -> Baku, Azerbaijan\n"
     ]
    },
    {
     "name": "stderr",
     "output_type": "stream",
     "text": [
      "\u001b[32m2025-08-15 17:57:26.712\u001b[0m | \u001b[1mINFO    \u001b[0m | \u001b[36mblocksnet.blocks.cutting.preprocessing.core\u001b[0m:\u001b[36mpreprocess_urban_objects\u001b[0m:\u001b[36m44\u001b[0m - \u001b[1mChecking roads schema\u001b[0m\n",
      "\u001b[32m2025-08-15 17:57:26.864\u001b[0m | \u001b[1mINFO    \u001b[0m | \u001b[36mblocksnet.blocks.cutting.preprocessing.core\u001b[0m:\u001b[36mpreprocess_urban_objects\u001b[0m:\u001b[36m51\u001b[0m - \u001b[1mChecking railways schema\u001b[0m\n",
      "\u001b[32m2025-08-15 17:57:26.875\u001b[0m | \u001b[1mINFO    \u001b[0m | \u001b[36mblocksnet.blocks.cutting.preprocessing.core\u001b[0m:\u001b[36mpreprocess_urban_objects\u001b[0m:\u001b[36m58\u001b[0m - \u001b[1mChecking water schema\u001b[0m\n",
      "\u001b[32m2025-08-15 17:57:26.937\u001b[0m | \u001b[1mINFO    \u001b[0m | \u001b[36mblocksnet.blocks.cutting.processing.core\u001b[0m:\u001b[36mwrapper\u001b[0m:\u001b[36m21\u001b[0m - \u001b[1mChecking boundaries schema\u001b[0m\n",
      "\u001b[32m2025-08-15 17:57:26.947\u001b[0m | \u001b[1mINFO    \u001b[0m | \u001b[36mblocksnet.blocks.cutting.processing.core\u001b[0m:\u001b[36mwrapper\u001b[0m:\u001b[36m25\u001b[0m - \u001b[1mChecking line objects schema\u001b[0m\n",
      "\u001b[32m2025-08-15 17:57:27.086\u001b[0m | \u001b[1mINFO    \u001b[0m | \u001b[36mblocksnet.blocks.cutting.processing.core\u001b[0m:\u001b[36mwrapper\u001b[0m:\u001b[36m31\u001b[0m - \u001b[1mChecking polygon objects schema\u001b[0m\n",
      "\u001b[32m2025-08-15 17:57:27.109\u001b[0m | \u001b[1mINFO    \u001b[0m | \u001b[36mblocksnet.blocks.cutting.processing.core\u001b[0m:\u001b[36m_exclude_polygons\u001b[0m:\u001b[36m45\u001b[0m - \u001b[1mExcluding polygon objects from blocks\u001b[0m\n",
      "\u001b[32m2025-08-15 17:57:34.100\u001b[0m | \u001b[1mINFO    \u001b[0m | \u001b[36mblocksnet.blocks.cutting.processing.core\u001b[0m:\u001b[36m_get_enclosures\u001b[0m:\u001b[36m51\u001b[0m - \u001b[1mSetting up enclosures\u001b[0m\n",
      "\u001b[32m2025-08-15 17:57:37.543\u001b[0m | \u001b[1mINFO    \u001b[0m | \u001b[36mblocksnet.blocks.cutting.processing.core\u001b[0m:\u001b[36m_fill_holes\u001b[0m:\u001b[36m68\u001b[0m - \u001b[1mFilling holes inside the blocks\u001b[0m\n",
      "\u001b[32m2025-08-15 17:57:39.077\u001b[0m | \u001b[1mINFO    \u001b[0m | \u001b[36mblocksnet.blocks.cutting.processing.core\u001b[0m:\u001b[36m_filter_overlapping\u001b[0m:\u001b[36m78\u001b[0m - \u001b[1mFiltering overlapping geometries\u001b[0m\n",
      "\u001b[32m2025-08-15 17:57:41.788\u001b[0m | \u001b[32m\u001b[1mSUCCESS \u001b[0m | \u001b[36mblocksnet.blocks.cutting.processing.core\u001b[0m:\u001b[36mcut_urban_blocks\u001b[0m:\u001b[36m118\u001b[0m - \u001b[32m\u001b[1mBlocks are successfully cut!\u001b[0m\n",
      "\u001b[32m2025-08-15 17:58:05.111\u001b[0m | \u001b[1mINFO    \u001b[0m | \u001b[36mblocksnet.blocks.assignment.core\u001b[0m:\u001b[36massign_land_use\u001b[0m:\u001b[36m44\u001b[0m - \u001b[1mOverlaying geometries\u001b[0m\n",
      "\u001b[32m2025-08-15 17:58:07.690\u001b[0m | \u001b[32m\u001b[1mSUCCESS \u001b[0m | \u001b[36mblocksnet.blocks.assignment.core\u001b[0m:\u001b[36massign_land_use\u001b[0m:\u001b[36m55\u001b[0m - \u001b[32m\u001b[1mShares calculated\u001b[0m\n"
     ]
    },
    {
     "name": "stdout",
     "output_type": "stream",
     "text": [
      " -> Sumqayıt, Azerbaijan\n"
     ]
    },
    {
     "name": "stderr",
     "output_type": "stream",
     "text": [
      "\u001b[32m2025-08-15 17:58:32.997\u001b[0m | \u001b[1mINFO    \u001b[0m | \u001b[36mblocksnet.blocks.cutting.preprocessing.core\u001b[0m:\u001b[36mpreprocess_urban_objects\u001b[0m:\u001b[36m44\u001b[0m - \u001b[1mChecking roads schema\u001b[0m\n",
      "\u001b[32m2025-08-15 17:58:33.011\u001b[0m | \u001b[1mINFO    \u001b[0m | \u001b[36mblocksnet.blocks.cutting.preprocessing.core\u001b[0m:\u001b[36mpreprocess_urban_objects\u001b[0m:\u001b[36m51\u001b[0m - \u001b[1mChecking railways schema\u001b[0m\n",
      "\u001b[32m2025-08-15 17:58:33.022\u001b[0m | \u001b[1mINFO    \u001b[0m | \u001b[36mblocksnet.blocks.cutting.preprocessing.core\u001b[0m:\u001b[36mpreprocess_urban_objects\u001b[0m:\u001b[36m58\u001b[0m - \u001b[1mChecking water schema\u001b[0m\n",
      "\u001b[32m2025-08-15 17:58:33.039\u001b[0m | \u001b[1mINFO    \u001b[0m | \u001b[36mblocksnet.blocks.cutting.processing.core\u001b[0m:\u001b[36mwrapper\u001b[0m:\u001b[36m21\u001b[0m - \u001b[1mChecking boundaries schema\u001b[0m\n",
      "\u001b[32m2025-08-15 17:58:33.050\u001b[0m | \u001b[1mINFO    \u001b[0m | \u001b[36mblocksnet.blocks.cutting.processing.core\u001b[0m:\u001b[36mwrapper\u001b[0m:\u001b[36m25\u001b[0m - \u001b[1mChecking line objects schema\u001b[0m\n",
      "\u001b[32m2025-08-15 17:58:33.069\u001b[0m | \u001b[1mINFO    \u001b[0m | \u001b[36mblocksnet.blocks.cutting.processing.core\u001b[0m:\u001b[36mwrapper\u001b[0m:\u001b[36m31\u001b[0m - \u001b[1mChecking polygon objects schema\u001b[0m\n",
      "\u001b[32m2025-08-15 17:58:33.085\u001b[0m | \u001b[1mINFO    \u001b[0m | \u001b[36mblocksnet.blocks.cutting.processing.core\u001b[0m:\u001b[36m_exclude_polygons\u001b[0m:\u001b[36m45\u001b[0m - \u001b[1mExcluding polygon objects from blocks\u001b[0m\n",
      "\u001b[32m2025-08-15 17:58:33.107\u001b[0m | \u001b[1mINFO    \u001b[0m | \u001b[36mblocksnet.blocks.cutting.processing.core\u001b[0m:\u001b[36m_get_enclosures\u001b[0m:\u001b[36m51\u001b[0m - \u001b[1mSetting up enclosures\u001b[0m\n",
      "\u001b[32m2025-08-15 17:58:33.212\u001b[0m | \u001b[1mINFO    \u001b[0m | \u001b[36mblocksnet.blocks.cutting.processing.core\u001b[0m:\u001b[36m_fill_holes\u001b[0m:\u001b[36m68\u001b[0m - \u001b[1mFilling holes inside the blocks\u001b[0m\n",
      "\u001b[32m2025-08-15 17:58:33.283\u001b[0m | \u001b[1mINFO    \u001b[0m | \u001b[36mblocksnet.blocks.cutting.processing.core\u001b[0m:\u001b[36m_filter_overlapping\u001b[0m:\u001b[36m78\u001b[0m - \u001b[1mFiltering overlapping geometries\u001b[0m\n",
      "\u001b[32m2025-08-15 17:58:33.383\u001b[0m | \u001b[32m\u001b[1mSUCCESS \u001b[0m | \u001b[36mblocksnet.blocks.cutting.processing.core\u001b[0m:\u001b[36mcut_urban_blocks\u001b[0m:\u001b[36m118\u001b[0m - \u001b[32m\u001b[1mBlocks are successfully cut!\u001b[0m\n",
      "\u001b[32m2025-08-15 17:58:35.618\u001b[0m | \u001b[1mINFO    \u001b[0m | \u001b[36mblocksnet.blocks.assignment.core\u001b[0m:\u001b[36massign_land_use\u001b[0m:\u001b[36m44\u001b[0m - \u001b[1mOverlaying geometries\u001b[0m\n",
      "\u001b[32m2025-08-15 17:58:35.957\u001b[0m | \u001b[32m\u001b[1mSUCCESS \u001b[0m | \u001b[36mblocksnet.blocks.assignment.core\u001b[0m:\u001b[36massign_land_use\u001b[0m:\u001b[36m55\u001b[0m - \u001b[32m\u001b[1mShares calculated\u001b[0m\n"
     ]
    },
    {
     "name": "stdout",
     "output_type": "stream",
     "text": [
      " -> Ganja, Azerbaijan\n"
     ]
    },
    {
     "name": "stderr",
     "output_type": "stream",
     "text": [
      "\u001b[32m2025-08-15 17:59:00.159\u001b[0m | \u001b[1mINFO    \u001b[0m | \u001b[36mblocksnet.blocks.cutting.preprocessing.core\u001b[0m:\u001b[36mpreprocess_urban_objects\u001b[0m:\u001b[36m44\u001b[0m - \u001b[1mChecking roads schema\u001b[0m\n",
      "\u001b[32m2025-08-15 17:59:00.196\u001b[0m | \u001b[1mINFO    \u001b[0m | \u001b[36mblocksnet.blocks.cutting.preprocessing.core\u001b[0m:\u001b[36mpreprocess_urban_objects\u001b[0m:\u001b[36m51\u001b[0m - \u001b[1mChecking railways schema\u001b[0m\n",
      "\u001b[32m2025-08-15 17:59:00.210\u001b[0m | \u001b[1mINFO    \u001b[0m | \u001b[36mblocksnet.blocks.cutting.preprocessing.core\u001b[0m:\u001b[36mpreprocess_urban_objects\u001b[0m:\u001b[36m58\u001b[0m - \u001b[1mChecking water schema\u001b[0m\n",
      "\u001b[32m2025-08-15 17:59:00.239\u001b[0m | \u001b[1mINFO    \u001b[0m | \u001b[36mblocksnet.blocks.cutting.processing.core\u001b[0m:\u001b[36mwrapper\u001b[0m:\u001b[36m21\u001b[0m - \u001b[1mChecking boundaries schema\u001b[0m\n",
      "\u001b[32m2025-08-15 17:59:00.250\u001b[0m | \u001b[1mINFO    \u001b[0m | \u001b[36mblocksnet.blocks.cutting.processing.core\u001b[0m:\u001b[36mwrapper\u001b[0m:\u001b[36m25\u001b[0m - \u001b[1mChecking line objects schema\u001b[0m\n",
      "\u001b[32m2025-08-15 17:59:00.272\u001b[0m | \u001b[1mINFO    \u001b[0m | \u001b[36mblocksnet.blocks.cutting.processing.core\u001b[0m:\u001b[36mwrapper\u001b[0m:\u001b[36m31\u001b[0m - \u001b[1mChecking polygon objects schema\u001b[0m\n",
      "\u001b[32m2025-08-15 17:59:00.287\u001b[0m | \u001b[1mINFO    \u001b[0m | \u001b[36mblocksnet.blocks.cutting.processing.core\u001b[0m:\u001b[36m_exclude_polygons\u001b[0m:\u001b[36m45\u001b[0m - \u001b[1mExcluding polygon objects from blocks\u001b[0m\n",
      "\u001b[32m2025-08-15 17:59:00.301\u001b[0m | \u001b[1mINFO    \u001b[0m | \u001b[36mblocksnet.blocks.cutting.processing.core\u001b[0m:\u001b[36m_get_enclosures\u001b[0m:\u001b[36m51\u001b[0m - \u001b[1mSetting up enclosures\u001b[0m\n",
      "\u001b[32m2025-08-15 17:59:00.533\u001b[0m | \u001b[1mINFO    \u001b[0m | \u001b[36mblocksnet.blocks.cutting.processing.core\u001b[0m:\u001b[36m_fill_holes\u001b[0m:\u001b[36m68\u001b[0m - \u001b[1mFilling holes inside the blocks\u001b[0m\n",
      "\u001b[32m2025-08-15 17:59:00.741\u001b[0m | \u001b[1mINFO    \u001b[0m | \u001b[36mblocksnet.blocks.cutting.processing.core\u001b[0m:\u001b[36m_filter_overlapping\u001b[0m:\u001b[36m78\u001b[0m - \u001b[1mFiltering overlapping geometries\u001b[0m\n",
      "\u001b[32m2025-08-15 17:59:00.972\u001b[0m | \u001b[32m\u001b[1mSUCCESS \u001b[0m | \u001b[36mblocksnet.blocks.cutting.processing.core\u001b[0m:\u001b[36mcut_urban_blocks\u001b[0m:\u001b[36m118\u001b[0m - \u001b[32m\u001b[1mBlocks are successfully cut!\u001b[0m\n",
      "\u001b[32m2025-08-15 17:59:02.627\u001b[0m | \u001b[1mINFO    \u001b[0m | \u001b[36mblocksnet.blocks.assignment.core\u001b[0m:\u001b[36massign_land_use\u001b[0m:\u001b[36m44\u001b[0m - \u001b[1mOverlaying geometries\u001b[0m\n",
      "\u001b[32m2025-08-15 17:59:02.885\u001b[0m | \u001b[32m\u001b[1mSUCCESS \u001b[0m | \u001b[36mblocksnet.blocks.assignment.core\u001b[0m:\u001b[36massign_land_use\u001b[0m:\u001b[36m55\u001b[0m - \u001b[32m\u001b[1mShares calculated\u001b[0m\n"
     ]
    },
    {
     "name": "stdout",
     "output_type": "stream",
     "text": [
      " -> Lankaran, Azerbaijan\n"
     ]
    },
    {
     "name": "stderr",
     "output_type": "stream",
     "text": [
      "\u001b[32m2025-08-15 17:59:13.707\u001b[0m | \u001b[1mINFO    \u001b[0m | \u001b[36mblocksnet.blocks.cutting.preprocessing.core\u001b[0m:\u001b[36mpreprocess_urban_objects\u001b[0m:\u001b[36m44\u001b[0m - \u001b[1mChecking roads schema\u001b[0m\n",
      "\u001b[32m2025-08-15 17:59:13.727\u001b[0m | \u001b[1mINFO    \u001b[0m | \u001b[36mblocksnet.blocks.cutting.preprocessing.core\u001b[0m:\u001b[36mpreprocess_urban_objects\u001b[0m:\u001b[36m51\u001b[0m - \u001b[1mChecking railways schema\u001b[0m\n",
      "\u001b[32m2025-08-15 17:59:13.739\u001b[0m | \u001b[1mINFO    \u001b[0m | \u001b[36mblocksnet.blocks.cutting.preprocessing.core\u001b[0m:\u001b[36mpreprocess_urban_objects\u001b[0m:\u001b[36m58\u001b[0m - \u001b[1mChecking water schema\u001b[0m\n",
      "\u001b[32m2025-08-15 17:59:13.763\u001b[0m | \u001b[1mINFO    \u001b[0m | \u001b[36mblocksnet.blocks.cutting.processing.core\u001b[0m:\u001b[36mwrapper\u001b[0m:\u001b[36m21\u001b[0m - \u001b[1mChecking boundaries schema\u001b[0m\n",
      "\u001b[32m2025-08-15 17:59:13.787\u001b[0m | \u001b[1mINFO    \u001b[0m | \u001b[36mblocksnet.blocks.cutting.processing.core\u001b[0m:\u001b[36mwrapper\u001b[0m:\u001b[36m25\u001b[0m - \u001b[1mChecking line objects schema\u001b[0m\n",
      "\u001b[32m2025-08-15 17:59:13.813\u001b[0m | \u001b[1mINFO    \u001b[0m | \u001b[36mblocksnet.blocks.cutting.processing.core\u001b[0m:\u001b[36mwrapper\u001b[0m:\u001b[36m31\u001b[0m - \u001b[1mChecking polygon objects schema\u001b[0m\n",
      "\u001b[32m2025-08-15 17:59:13.831\u001b[0m | \u001b[1mINFO    \u001b[0m | \u001b[36mblocksnet.blocks.cutting.processing.core\u001b[0m:\u001b[36m_exclude_polygons\u001b[0m:\u001b[36m45\u001b[0m - \u001b[1mExcluding polygon objects from blocks\u001b[0m\n",
      "\u001b[32m2025-08-15 17:59:13.845\u001b[0m | \u001b[1mINFO    \u001b[0m | \u001b[36mblocksnet.blocks.cutting.processing.core\u001b[0m:\u001b[36m_get_enclosures\u001b[0m:\u001b[36m51\u001b[0m - \u001b[1mSetting up enclosures\u001b[0m\n",
      "\u001b[32m2025-08-15 17:59:13.886\u001b[0m | \u001b[1mINFO    \u001b[0m | \u001b[36mblocksnet.blocks.cutting.processing.core\u001b[0m:\u001b[36m_fill_holes\u001b[0m:\u001b[36m68\u001b[0m - \u001b[1mFilling holes inside the blocks\u001b[0m\n",
      "\u001b[32m2025-08-15 17:59:13.931\u001b[0m | \u001b[1mINFO    \u001b[0m | \u001b[36mblocksnet.blocks.cutting.processing.core\u001b[0m:\u001b[36m_filter_overlapping\u001b[0m:\u001b[36m78\u001b[0m - \u001b[1mFiltering overlapping geometries\u001b[0m\n",
      "\u001b[32m2025-08-15 17:59:13.973\u001b[0m | \u001b[32m\u001b[1mSUCCESS \u001b[0m | \u001b[36mblocksnet.blocks.cutting.processing.core\u001b[0m:\u001b[36mcut_urban_blocks\u001b[0m:\u001b[36m118\u001b[0m - \u001b[32m\u001b[1mBlocks are successfully cut!\u001b[0m\n",
      "\u001b[32m2025-08-15 17:59:17.288\u001b[0m | \u001b[1mINFO    \u001b[0m | \u001b[36mblocksnet.blocks.assignment.core\u001b[0m:\u001b[36massign_land_use\u001b[0m:\u001b[36m44\u001b[0m - \u001b[1mOverlaying geometries\u001b[0m\n",
      "\u001b[32m2025-08-15 17:59:17.347\u001b[0m | \u001b[32m\u001b[1mSUCCESS \u001b[0m | \u001b[36mblocksnet.blocks.assignment.core\u001b[0m:\u001b[36massign_land_use\u001b[0m:\u001b[36m55\u001b[0m - \u001b[32m\u001b[1mShares calculated\u001b[0m\n"
     ]
    },
    {
     "name": "stdout",
     "output_type": "stream",
     "text": [
      " -> Tovuz, Azerbaijan\n"
     ]
    },
    {
     "name": "stderr",
     "output_type": "stream",
     "text": [
      "\u001b[32m2025-08-15 17:59:29.463\u001b[0m | \u001b[1mINFO    \u001b[0m | \u001b[36mblocksnet.blocks.cutting.preprocessing.core\u001b[0m:\u001b[36mpreprocess_urban_objects\u001b[0m:\u001b[36m44\u001b[0m - \u001b[1mChecking roads schema\u001b[0m\n",
      "\u001b[32m2025-08-15 17:59:29.477\u001b[0m | \u001b[1mINFO    \u001b[0m | \u001b[36mblocksnet.blocks.cutting.preprocessing.core\u001b[0m:\u001b[36mpreprocess_urban_objects\u001b[0m:\u001b[36m51\u001b[0m - \u001b[1mChecking railways schema\u001b[0m\n",
      "\u001b[32m2025-08-15 17:59:29.487\u001b[0m | \u001b[1mINFO    \u001b[0m | \u001b[36mblocksnet.blocks.cutting.preprocessing.core\u001b[0m:\u001b[36mpreprocess_urban_objects\u001b[0m:\u001b[36m58\u001b[0m - \u001b[1mChecking water schema\u001b[0m\n",
      "\u001b[32m2025-08-15 17:59:29.516\u001b[0m | \u001b[1mINFO    \u001b[0m | \u001b[36mblocksnet.blocks.cutting.processing.core\u001b[0m:\u001b[36mwrapper\u001b[0m:\u001b[36m21\u001b[0m - \u001b[1mChecking boundaries schema\u001b[0m\n",
      "\u001b[32m2025-08-15 17:59:29.527\u001b[0m | \u001b[1mINFO    \u001b[0m | \u001b[36mblocksnet.blocks.cutting.processing.core\u001b[0m:\u001b[36mwrapper\u001b[0m:\u001b[36m25\u001b[0m - \u001b[1mChecking line objects schema\u001b[0m\n",
      "\u001b[32m2025-08-15 17:59:29.558\u001b[0m | \u001b[1mINFO    \u001b[0m | \u001b[36mblocksnet.blocks.cutting.processing.core\u001b[0m:\u001b[36mwrapper\u001b[0m:\u001b[36m31\u001b[0m - \u001b[1mChecking polygon objects schema\u001b[0m\n",
      "\u001b[32m2025-08-15 17:59:29.573\u001b[0m | \u001b[1mINFO    \u001b[0m | \u001b[36mblocksnet.blocks.cutting.processing.core\u001b[0m:\u001b[36m_exclude_polygons\u001b[0m:\u001b[36m45\u001b[0m - \u001b[1mExcluding polygon objects from blocks\u001b[0m\n",
      "\u001b[32m2025-08-15 17:59:29.586\u001b[0m | \u001b[1mINFO    \u001b[0m | \u001b[36mblocksnet.blocks.cutting.processing.core\u001b[0m:\u001b[36m_get_enclosures\u001b[0m:\u001b[36m51\u001b[0m - \u001b[1mSetting up enclosures\u001b[0m\n",
      "\u001b[32m2025-08-15 17:59:29.624\u001b[0m | \u001b[1mINFO    \u001b[0m | \u001b[36mblocksnet.blocks.cutting.processing.core\u001b[0m:\u001b[36m_fill_holes\u001b[0m:\u001b[36m68\u001b[0m - \u001b[1mFilling holes inside the blocks\u001b[0m\n",
      "\u001b[32m2025-08-15 17:59:29.653\u001b[0m | \u001b[1mINFO    \u001b[0m | \u001b[36mblocksnet.blocks.cutting.processing.core\u001b[0m:\u001b[36m_filter_overlapping\u001b[0m:\u001b[36m78\u001b[0m - \u001b[1mFiltering overlapping geometries\u001b[0m\n",
      "\u001b[32m2025-08-15 17:59:29.688\u001b[0m | \u001b[32m\u001b[1mSUCCESS \u001b[0m | \u001b[36mblocksnet.blocks.cutting.processing.core\u001b[0m:\u001b[36mcut_urban_blocks\u001b[0m:\u001b[36m118\u001b[0m - \u001b[32m\u001b[1mBlocks are successfully cut!\u001b[0m\n",
      "\u001b[32m2025-08-15 17:59:31.375\u001b[0m | \u001b[1mINFO    \u001b[0m | \u001b[36mblocksnet.blocks.assignment.core\u001b[0m:\u001b[36massign_land_use\u001b[0m:\u001b[36m44\u001b[0m - \u001b[1mOverlaying geometries\u001b[0m\n",
      "\u001b[32m2025-08-15 17:59:31.439\u001b[0m | \u001b[32m\u001b[1mSUCCESS \u001b[0m | \u001b[36mblocksnet.blocks.assignment.core\u001b[0m:\u001b[36massign_land_use\u001b[0m:\u001b[36m55\u001b[0m - \u001b[32m\u001b[1mShares calculated\u001b[0m\n"
     ]
    },
    {
     "name": "stdout",
     "output_type": "stream",
     "text": [
      " -> Yevlakh, Azerbaijan\n"
     ]
    },
    {
     "name": "stderr",
     "output_type": "stream",
     "text": [
      "\u001b[32m2025-08-15 18:00:03.539\u001b[0m | \u001b[1mINFO    \u001b[0m | \u001b[36mblocksnet.blocks.cutting.preprocessing.core\u001b[0m:\u001b[36mpreprocess_urban_objects\u001b[0m:\u001b[36m44\u001b[0m - \u001b[1mChecking roads schema\u001b[0m\n",
      "\u001b[32m2025-08-15 18:00:03.552\u001b[0m | \u001b[1mINFO    \u001b[0m | \u001b[36mblocksnet.blocks.cutting.preprocessing.core\u001b[0m:\u001b[36mpreprocess_urban_objects\u001b[0m:\u001b[36m51\u001b[0m - \u001b[1mChecking railways schema\u001b[0m\n",
      "\u001b[32m2025-08-15 18:00:03.562\u001b[0m | \u001b[1mINFO    \u001b[0m | \u001b[36mblocksnet.blocks.cutting.preprocessing.core\u001b[0m:\u001b[36mpreprocess_urban_objects\u001b[0m:\u001b[36m58\u001b[0m - \u001b[1mChecking water schema\u001b[0m\n",
      "\u001b[32m2025-08-15 18:00:03.575\u001b[0m | \u001b[1mINFO    \u001b[0m | \u001b[36mblocksnet.blocks.cutting.processing.core\u001b[0m:\u001b[36mwrapper\u001b[0m:\u001b[36m21\u001b[0m - \u001b[1mChecking boundaries schema\u001b[0m\n",
      "\u001b[32m2025-08-15 18:00:03.585\u001b[0m | \u001b[1mINFO    \u001b[0m | \u001b[36mblocksnet.blocks.cutting.processing.core\u001b[0m:\u001b[36mwrapper\u001b[0m:\u001b[36m25\u001b[0m - \u001b[1mChecking line objects schema\u001b[0m\n",
      "\u001b[32m2025-08-15 18:00:03.604\u001b[0m | \u001b[1mINFO    \u001b[0m | \u001b[36mblocksnet.blocks.cutting.processing.core\u001b[0m:\u001b[36mwrapper\u001b[0m:\u001b[36m31\u001b[0m - \u001b[1mChecking polygon objects schema\u001b[0m\n",
      "\u001b[32m2025-08-15 18:00:03.619\u001b[0m | \u001b[1mINFO    \u001b[0m | \u001b[36mblocksnet.blocks.cutting.processing.core\u001b[0m:\u001b[36m_exclude_polygons\u001b[0m:\u001b[36m45\u001b[0m - \u001b[1mExcluding polygon objects from blocks\u001b[0m\n",
      "\u001b[32m2025-08-15 18:00:03.635\u001b[0m | \u001b[1mINFO    \u001b[0m | \u001b[36mblocksnet.blocks.cutting.processing.core\u001b[0m:\u001b[36m_get_enclosures\u001b[0m:\u001b[36m51\u001b[0m - \u001b[1mSetting up enclosures\u001b[0m\n",
      "\u001b[32m2025-08-15 18:00:03.672\u001b[0m | \u001b[1mINFO    \u001b[0m | \u001b[36mblocksnet.blocks.cutting.processing.core\u001b[0m:\u001b[36m_fill_holes\u001b[0m:\u001b[36m68\u001b[0m - \u001b[1mFilling holes inside the blocks\u001b[0m\n",
      "\u001b[32m2025-08-15 18:00:03.727\u001b[0m | \u001b[1mINFO    \u001b[0m | \u001b[36mblocksnet.blocks.cutting.processing.core\u001b[0m:\u001b[36m_filter_overlapping\u001b[0m:\u001b[36m78\u001b[0m - \u001b[1mFiltering overlapping geometries\u001b[0m\n",
      "\u001b[32m2025-08-15 18:00:03.761\u001b[0m | \u001b[32m\u001b[1mSUCCESS \u001b[0m | \u001b[36mblocksnet.blocks.cutting.processing.core\u001b[0m:\u001b[36mcut_urban_blocks\u001b[0m:\u001b[36m118\u001b[0m - \u001b[32m\u001b[1mBlocks are successfully cut!\u001b[0m\n",
      "\u001b[32m2025-08-15 18:00:06.015\u001b[0m | \u001b[1mINFO    \u001b[0m | \u001b[36mblocksnet.blocks.assignment.core\u001b[0m:\u001b[36massign_land_use\u001b[0m:\u001b[36m44\u001b[0m - \u001b[1mOverlaying geometries\u001b[0m\n",
      "\u001b[32m2025-08-15 18:00:06.071\u001b[0m | \u001b[32m\u001b[1mSUCCESS \u001b[0m | \u001b[36mblocksnet.blocks.assignment.core\u001b[0m:\u001b[36massign_land_use\u001b[0m:\u001b[36m55\u001b[0m - \u001b[32m\u001b[1mShares calculated\u001b[0m\n"
     ]
    },
    {
     "name": "stdout",
     "output_type": "stream",
     "text": [
      " -> Mingelchaur, Azerbaijan\n"
     ]
    },
    {
     "name": "stderr",
     "output_type": "stream",
     "text": [
      "\u001b[32m2025-08-15 18:00:16.891\u001b[0m | \u001b[1mINFO    \u001b[0m | \u001b[36mblocksnet.blocks.cutting.preprocessing.core\u001b[0m:\u001b[36mpreprocess_urban_objects\u001b[0m:\u001b[36m44\u001b[0m - \u001b[1mChecking roads schema\u001b[0m\n",
      "\u001b[32m2025-08-15 18:00:16.909\u001b[0m | \u001b[1mINFO    \u001b[0m | \u001b[36mblocksnet.blocks.cutting.preprocessing.core\u001b[0m:\u001b[36mpreprocess_urban_objects\u001b[0m:\u001b[36m51\u001b[0m - \u001b[1mChecking railways schema\u001b[0m\n",
      "\u001b[32m2025-08-15 18:00:16.920\u001b[0m | \u001b[1mINFO    \u001b[0m | \u001b[36mblocksnet.blocks.cutting.preprocessing.core\u001b[0m:\u001b[36mpreprocess_urban_objects\u001b[0m:\u001b[36m58\u001b[0m - \u001b[1mChecking water schema\u001b[0m\n",
      "\u001b[32m2025-08-15 18:00:16.936\u001b[0m | \u001b[1mINFO    \u001b[0m | \u001b[36mblocksnet.blocks.cutting.processing.core\u001b[0m:\u001b[36mwrapper\u001b[0m:\u001b[36m21\u001b[0m - \u001b[1mChecking boundaries schema\u001b[0m\n",
      "\u001b[32m2025-08-15 18:00:16.946\u001b[0m | \u001b[1mINFO    \u001b[0m | \u001b[36mblocksnet.blocks.cutting.processing.core\u001b[0m:\u001b[36mwrapper\u001b[0m:\u001b[36m25\u001b[0m - \u001b[1mChecking line objects schema\u001b[0m\n",
      "\u001b[32m2025-08-15 18:00:16.963\u001b[0m | \u001b[1mINFO    \u001b[0m | \u001b[36mblocksnet.blocks.cutting.processing.core\u001b[0m:\u001b[36mwrapper\u001b[0m:\u001b[36m31\u001b[0m - \u001b[1mChecking polygon objects schema\u001b[0m\n",
      "\u001b[32m2025-08-15 18:00:16.983\u001b[0m | \u001b[1mINFO    \u001b[0m | \u001b[36mblocksnet.blocks.cutting.processing.core\u001b[0m:\u001b[36m_exclude_polygons\u001b[0m:\u001b[36m45\u001b[0m - \u001b[1mExcluding polygon objects from blocks\u001b[0m\n",
      "\u001b[32m2025-08-15 18:00:17.114\u001b[0m | \u001b[1mINFO    \u001b[0m | \u001b[36mblocksnet.blocks.cutting.processing.core\u001b[0m:\u001b[36m_get_enclosures\u001b[0m:\u001b[36m51\u001b[0m - \u001b[1mSetting up enclosures\u001b[0m\n",
      "\u001b[32m2025-08-15 18:00:17.208\u001b[0m | \u001b[1mINFO    \u001b[0m | \u001b[36mblocksnet.blocks.cutting.processing.core\u001b[0m:\u001b[36m_fill_holes\u001b[0m:\u001b[36m68\u001b[0m - \u001b[1mFilling holes inside the blocks\u001b[0m\n",
      "\u001b[32m2025-08-15 18:00:17.274\u001b[0m | \u001b[1mINFO    \u001b[0m | \u001b[36mblocksnet.blocks.cutting.processing.core\u001b[0m:\u001b[36m_filter_overlapping\u001b[0m:\u001b[36m78\u001b[0m - \u001b[1mFiltering overlapping geometries\u001b[0m\n",
      "\u001b[32m2025-08-15 18:00:17.393\u001b[0m | \u001b[32m\u001b[1mSUCCESS \u001b[0m | \u001b[36mblocksnet.blocks.cutting.processing.core\u001b[0m:\u001b[36mcut_urban_blocks\u001b[0m:\u001b[36m118\u001b[0m - \u001b[32m\u001b[1mBlocks are successfully cut!\u001b[0m\n",
      "\u001b[32m2025-08-15 18:00:18.976\u001b[0m | \u001b[1mINFO    \u001b[0m | \u001b[36mblocksnet.blocks.assignment.core\u001b[0m:\u001b[36massign_land_use\u001b[0m:\u001b[36m44\u001b[0m - \u001b[1mOverlaying geometries\u001b[0m\n",
      "\u001b[32m2025-08-15 18:00:19.077\u001b[0m | \u001b[32m\u001b[1mSUCCESS \u001b[0m | \u001b[36mblocksnet.blocks.assignment.core\u001b[0m:\u001b[36massign_land_use\u001b[0m:\u001b[36m55\u001b[0m - \u001b[32m\u001b[1mShares calculated\u001b[0m\n"
     ]
    },
    {
     "name": "stdout",
     "output_type": "stream",
     "text": [
      "\n",
      "=== Bahamas ===\n",
      " -> Nassau, Bahamas\n",
      "    [skip] Nassau, Bahamas: At least one GeoDataFrame must be passed\n",
      "\n",
      "=== Bahrain ===\n",
      " -> Ar Rifā‘, Bahrain\n",
      "    [skip] Ar Rifā‘, Bahrain: At least one GeoDataFrame must be passed\n",
      " -> Manama, Bahrain\n",
      "    [skip] Manama, Bahrain: At least one GeoDataFrame must be passed\n",
      "\n",
      "=== Bangladesh ===\n",
      " -> Dhaka, Bangladesh\n"
     ]
    },
    {
     "name": "stderr",
     "output_type": "stream",
     "text": [
      "d:\\programming\\github\\loading-cities-for-land-use\\.venv\\lib\\site-packages\\osmnx\\_overpass.py:271: UserWarning: This area is 11 times your configured Overpass max query area size. It will automatically be divided up into multiple sub-queries accordingly. This may take a long time.\n",
      "  multi_poly_proj = utils_geo._consolidate_subdivide_geometry(poly_proj)\n",
      "d:\\programming\\github\\loading-cities-for-land-use\\.venv\\lib\\site-packages\\osmnx\\_overpass.py:271: UserWarning: This area is 11 times your configured Overpass max query area size. It will automatically be divided up into multiple sub-queries accordingly. This may take a long time.\n",
      "  multi_poly_proj = utils_geo._consolidate_subdivide_geometry(poly_proj)\n",
      "d:\\programming\\github\\loading-cities-for-land-use\\.venv\\lib\\site-packages\\osmnx\\_overpass.py:271: UserWarning: This area is 11 times your configured Overpass max query area size. It will automatically be divided up into multiple sub-queries accordingly. This may take a long time.\n",
      "  multi_poly_proj = utils_geo._consolidate_subdivide_geometry(poly_proj)\n",
      "\u001b[32m2025-08-15 18:10:20.949\u001b[0m | \u001b[1mINFO    \u001b[0m | \u001b[36mblocksnet.blocks.cutting.preprocessing.core\u001b[0m:\u001b[36mpreprocess_urban_objects\u001b[0m:\u001b[36m44\u001b[0m - \u001b[1mChecking roads schema\u001b[0m\n",
      "\u001b[32m2025-08-15 18:10:21.324\u001b[0m | \u001b[1mINFO    \u001b[0m | \u001b[36mblocksnet.blocks.cutting.preprocessing.core\u001b[0m:\u001b[36mpreprocess_urban_objects\u001b[0m:\u001b[36m51\u001b[0m - \u001b[1mChecking railways schema\u001b[0m\n",
      "\u001b[32m2025-08-15 18:10:21.335\u001b[0m | \u001b[1mINFO    \u001b[0m | \u001b[36mblocksnet.blocks.cutting.preprocessing.core\u001b[0m:\u001b[36mpreprocess_urban_objects\u001b[0m:\u001b[36m58\u001b[0m - \u001b[1mChecking water schema\u001b[0m\n",
      "\u001b[32m2025-08-15 18:10:21.586\u001b[0m | \u001b[1mINFO    \u001b[0m | \u001b[36mblocksnet.blocks.cutting.processing.core\u001b[0m:\u001b[36mwrapper\u001b[0m:\u001b[36m21\u001b[0m - \u001b[1mChecking boundaries schema\u001b[0m\n",
      "\u001b[32m2025-08-15 18:10:21.596\u001b[0m | \u001b[1mINFO    \u001b[0m | \u001b[36mblocksnet.blocks.cutting.processing.core\u001b[0m:\u001b[36mwrapper\u001b[0m:\u001b[36m25\u001b[0m - \u001b[1mChecking line objects schema\u001b[0m\n",
      "\u001b[32m2025-08-15 18:10:21.895\u001b[0m | \u001b[1mINFO    \u001b[0m | \u001b[36mblocksnet.blocks.cutting.processing.core\u001b[0m:\u001b[36mwrapper\u001b[0m:\u001b[36m31\u001b[0m - \u001b[1mChecking polygon objects schema\u001b[0m\n",
      "\u001b[32m2025-08-15 18:10:21.981\u001b[0m | \u001b[1mINFO    \u001b[0m | \u001b[36mblocksnet.blocks.cutting.processing.core\u001b[0m:\u001b[36m_exclude_polygons\u001b[0m:\u001b[36m45\u001b[0m - \u001b[1mExcluding polygon objects from blocks\u001b[0m\n",
      "\u001b[32m2025-08-15 18:10:37.947\u001b[0m | \u001b[1mINFO    \u001b[0m | \u001b[36mblocksnet.blocks.cutting.processing.core\u001b[0m:\u001b[36m_get_enclosures\u001b[0m:\u001b[36m51\u001b[0m - \u001b[1mSetting up enclosures\u001b[0m\n",
      "\u001b[32m2025-08-15 18:10:48.176\u001b[0m | \u001b[1mINFO    \u001b[0m | \u001b[36mblocksnet.blocks.cutting.processing.core\u001b[0m:\u001b[36m_fill_holes\u001b[0m:\u001b[36m68\u001b[0m - \u001b[1mFilling holes inside the blocks\u001b[0m\n",
      "\u001b[32m2025-08-15 18:10:53.018\u001b[0m | \u001b[1mINFO    \u001b[0m | \u001b[36mblocksnet.blocks.cutting.processing.core\u001b[0m:\u001b[36m_filter_overlapping\u001b[0m:\u001b[36m78\u001b[0m - \u001b[1mFiltering overlapping geometries\u001b[0m\n",
      "\u001b[32m2025-08-15 18:11:01.879\u001b[0m | \u001b[32m\u001b[1mSUCCESS \u001b[0m | \u001b[36mblocksnet.blocks.cutting.processing.core\u001b[0m:\u001b[36mcut_urban_blocks\u001b[0m:\u001b[36m118\u001b[0m - \u001b[32m\u001b[1mBlocks are successfully cut!\u001b[0m\n",
      "d:\\programming\\github\\loading-cities-for-land-use\\.venv\\lib\\site-packages\\osmnx\\_overpass.py:271: UserWarning: This area is 11 times your configured Overpass max query area size. It will automatically be divided up into multiple sub-queries accordingly. This may take a long time.\n",
      "  multi_poly_proj = utils_geo._consolidate_subdivide_geometry(poly_proj)\n",
      "\u001b[32m2025-08-15 18:12:04.348\u001b[0m | \u001b[1mINFO    \u001b[0m | \u001b[36mblocksnet.blocks.assignment.core\u001b[0m:\u001b[36massign_land_use\u001b[0m:\u001b[36m44\u001b[0m - \u001b[1mOverlaying geometries\u001b[0m\n",
      "\u001b[32m2025-08-15 18:12:05.754\u001b[0m | \u001b[32m\u001b[1mSUCCESS \u001b[0m | \u001b[36mblocksnet.blocks.assignment.core\u001b[0m:\u001b[36massign_land_use\u001b[0m:\u001b[36m55\u001b[0m - \u001b[32m\u001b[1mShares calculated\u001b[0m\n"
     ]
    },
    {
     "name": "stdout",
     "output_type": "stream",
     "text": [
      " -> Chattogram, Bangladesh\n",
      "    [skip] Chattogram, Bangladesh: At least one GeoDataFrame must be passed\n",
      " -> Gazipur, Bangladesh\n"
     ]
    },
    {
     "name": "stderr",
     "output_type": "stream",
     "text": [
      "\u001b[32m2025-08-15 18:13:10.315\u001b[0m | \u001b[1mINFO    \u001b[0m | \u001b[36mblocksnet.blocks.cutting.preprocessing.core\u001b[0m:\u001b[36mpreprocess_urban_objects\u001b[0m:\u001b[36m44\u001b[0m - \u001b[1mChecking roads schema\u001b[0m\n",
      "\u001b[32m2025-08-15 18:13:10.338\u001b[0m | \u001b[1mINFO    \u001b[0m | \u001b[36mblocksnet.blocks.cutting.preprocessing.core\u001b[0m:\u001b[36mpreprocess_urban_objects\u001b[0m:\u001b[36m51\u001b[0m - \u001b[1mChecking railways schema\u001b[0m\n",
      "\u001b[32m2025-08-15 18:13:10.348\u001b[0m | \u001b[1mINFO    \u001b[0m | \u001b[36mblocksnet.blocks.cutting.preprocessing.core\u001b[0m:\u001b[36mpreprocess_urban_objects\u001b[0m:\u001b[36m58\u001b[0m - \u001b[1mChecking water schema\u001b[0m\n",
      "\u001b[32m2025-08-15 18:13:10.371\u001b[0m | \u001b[1mINFO    \u001b[0m | \u001b[36mblocksnet.blocks.cutting.processing.core\u001b[0m:\u001b[36mwrapper\u001b[0m:\u001b[36m21\u001b[0m - \u001b[1mChecking boundaries schema\u001b[0m\n",
      "\u001b[32m2025-08-15 18:13:10.381\u001b[0m | \u001b[1mINFO    \u001b[0m | \u001b[36mblocksnet.blocks.cutting.processing.core\u001b[0m:\u001b[36mwrapper\u001b[0m:\u001b[36m25\u001b[0m - \u001b[1mChecking line objects schema\u001b[0m\n",
      "\u001b[32m2025-08-15 18:13:10.410\u001b[0m | \u001b[1mINFO    \u001b[0m | \u001b[36mblocksnet.blocks.cutting.processing.core\u001b[0m:\u001b[36mwrapper\u001b[0m:\u001b[36m31\u001b[0m - \u001b[1mChecking polygon objects schema\u001b[0m\n",
      "\u001b[32m2025-08-15 18:13:10.428\u001b[0m | \u001b[1mINFO    \u001b[0m | \u001b[36mblocksnet.blocks.cutting.processing.core\u001b[0m:\u001b[36m_exclude_polygons\u001b[0m:\u001b[36m45\u001b[0m - \u001b[1mExcluding polygon objects from blocks\u001b[0m\n",
      "\u001b[32m2025-08-15 18:13:10.966\u001b[0m | \u001b[1mINFO    \u001b[0m | \u001b[36mblocksnet.blocks.cutting.processing.core\u001b[0m:\u001b[36m_get_enclosures\u001b[0m:\u001b[36m51\u001b[0m - \u001b[1mSetting up enclosures\u001b[0m\n",
      "\u001b[32m2025-08-15 18:13:11.739\u001b[0m | \u001b[1mINFO    \u001b[0m | \u001b[36mblocksnet.blocks.cutting.processing.core\u001b[0m:\u001b[36m_fill_holes\u001b[0m:\u001b[36m68\u001b[0m - \u001b[1mFilling holes inside the blocks\u001b[0m\n",
      "\u001b[32m2025-08-15 18:13:12.123\u001b[0m | \u001b[1mINFO    \u001b[0m | \u001b[36mblocksnet.blocks.cutting.processing.core\u001b[0m:\u001b[36m_filter_overlapping\u001b[0m:\u001b[36m78\u001b[0m - \u001b[1mFiltering overlapping geometries\u001b[0m\n",
      "\u001b[32m2025-08-15 18:13:13.006\u001b[0m | \u001b[32m\u001b[1mSUCCESS \u001b[0m | \u001b[36mblocksnet.blocks.cutting.processing.core\u001b[0m:\u001b[36mcut_urban_blocks\u001b[0m:\u001b[36m118\u001b[0m - \u001b[32m\u001b[1mBlocks are successfully cut!\u001b[0m\n",
      "\u001b[32m2025-08-15 18:13:18.607\u001b[0m | \u001b[1mINFO    \u001b[0m | \u001b[36mblocksnet.blocks.assignment.core\u001b[0m:\u001b[36massign_land_use\u001b[0m:\u001b[36m44\u001b[0m - \u001b[1mOverlaying geometries\u001b[0m\n",
      "\u001b[32m2025-08-15 18:13:18.770\u001b[0m | \u001b[32m\u001b[1mSUCCESS \u001b[0m | \u001b[36mblocksnet.blocks.assignment.core\u001b[0m:\u001b[36massign_land_use\u001b[0m:\u001b[36m55\u001b[0m - \u001b[32m\u001b[1mShares calculated\u001b[0m\n"
     ]
    },
    {
     "name": "stdout",
     "output_type": "stream",
     "text": [
      " -> Khulna, Bangladesh\n"
     ]
    },
    {
     "name": "stderr",
     "output_type": "stream",
     "text": [
      "d:\\programming\\github\\loading-cities-for-land-use\\.venv\\lib\\site-packages\\osmnx\\_overpass.py:271: UserWarning: This area is 12 times your configured Overpass max query area size. It will automatically be divided up into multiple sub-queries accordingly. This may take a long time.\n",
      "  multi_poly_proj = utils_geo._consolidate_subdivide_geometry(poly_proj)\n",
      "d:\\programming\\github\\loading-cities-for-land-use\\.venv\\lib\\site-packages\\osmnx\\_overpass.py:271: UserWarning: This area is 12 times your configured Overpass max query area size. It will automatically be divided up into multiple sub-queries accordingly. This may take a long time.\n",
      "  multi_poly_proj = utils_geo._consolidate_subdivide_geometry(poly_proj)\n",
      "d:\\programming\\github\\loading-cities-for-land-use\\.venv\\lib\\site-packages\\osmnx\\_overpass.py:271: UserWarning: This area is 12 times your configured Overpass max query area size. It will automatically be divided up into multiple sub-queries accordingly. This may take a long time.\n",
      "  multi_poly_proj = utils_geo._consolidate_subdivide_geometry(poly_proj)\n",
      "\u001b[32m2025-08-15 18:23:48.622\u001b[0m | \u001b[1mINFO    \u001b[0m | \u001b[36mblocksnet.blocks.cutting.preprocessing.core\u001b[0m:\u001b[36mpreprocess_urban_objects\u001b[0m:\u001b[36m44\u001b[0m - \u001b[1mChecking roads schema\u001b[0m\n",
      "\u001b[32m2025-08-15 18:23:48.786\u001b[0m | \u001b[1mINFO    \u001b[0m | \u001b[36mblocksnet.blocks.cutting.preprocessing.core\u001b[0m:\u001b[36mpreprocess_urban_objects\u001b[0m:\u001b[36m51\u001b[0m - \u001b[1mChecking railways schema\u001b[0m\n",
      "\u001b[32m2025-08-15 18:23:48.797\u001b[0m | \u001b[1mINFO    \u001b[0m | \u001b[36mblocksnet.blocks.cutting.preprocessing.core\u001b[0m:\u001b[36mpreprocess_urban_objects\u001b[0m:\u001b[36m58\u001b[0m - \u001b[1mChecking water schema\u001b[0m\n",
      "\u001b[32m2025-08-15 18:23:49.463\u001b[0m | \u001b[1mINFO    \u001b[0m | \u001b[36mblocksnet.blocks.cutting.processing.core\u001b[0m:\u001b[36mwrapper\u001b[0m:\u001b[36m21\u001b[0m - \u001b[1mChecking boundaries schema\u001b[0m\n",
      "\u001b[32m2025-08-15 18:23:49.473\u001b[0m | \u001b[1mINFO    \u001b[0m | \u001b[36mblocksnet.blocks.cutting.processing.core\u001b[0m:\u001b[36mwrapper\u001b[0m:\u001b[36m25\u001b[0m - \u001b[1mChecking line objects schema\u001b[0m\n",
      "\u001b[32m2025-08-15 18:23:49.608\u001b[0m | \u001b[1mINFO    \u001b[0m | \u001b[36mblocksnet.blocks.cutting.processing.core\u001b[0m:\u001b[36mwrapper\u001b[0m:\u001b[36m31\u001b[0m - \u001b[1mChecking polygon objects schema\u001b[0m\n",
      "\u001b[32m2025-08-15 18:23:50.010\u001b[0m | \u001b[1mINFO    \u001b[0m | \u001b[36mblocksnet.blocks.cutting.processing.core\u001b[0m:\u001b[36m_exclude_polygons\u001b[0m:\u001b[36m45\u001b[0m - \u001b[1mExcluding polygon objects from blocks\u001b[0m\n",
      "\u001b[32m2025-08-15 18:25:01.551\u001b[0m | \u001b[1mINFO    \u001b[0m | \u001b[36mblocksnet.blocks.cutting.processing.core\u001b[0m:\u001b[36m_get_enclosures\u001b[0m:\u001b[36m51\u001b[0m - \u001b[1mSetting up enclosures\u001b[0m\n",
      "\u001b[32m2025-08-15 18:25:26.801\u001b[0m | \u001b[1mINFO    \u001b[0m | \u001b[36mblocksnet.blocks.cutting.processing.core\u001b[0m:\u001b[36m_fill_holes\u001b[0m:\u001b[36m68\u001b[0m - \u001b[1mFilling holes inside the blocks\u001b[0m\n",
      "\u001b[32m2025-08-15 18:25:35.831\u001b[0m | \u001b[1mINFO    \u001b[0m | \u001b[36mblocksnet.blocks.cutting.processing.core\u001b[0m:\u001b[36m_filter_overlapping\u001b[0m:\u001b[36m78\u001b[0m - \u001b[1mFiltering overlapping geometries\u001b[0m\n",
      "\u001b[32m2025-08-15 18:25:48.108\u001b[0m | \u001b[32m\u001b[1mSUCCESS \u001b[0m | \u001b[36mblocksnet.blocks.cutting.processing.core\u001b[0m:\u001b[36mcut_urban_blocks\u001b[0m:\u001b[36m118\u001b[0m - \u001b[32m\u001b[1mBlocks are successfully cut!\u001b[0m\n",
      "d:\\programming\\github\\loading-cities-for-land-use\\.venv\\lib\\site-packages\\osmnx\\_overpass.py:271: UserWarning: This area is 12 times your configured Overpass max query area size. It will automatically be divided up into multiple sub-queries accordingly. This may take a long time.\n",
      "  multi_poly_proj = utils_geo._consolidate_subdivide_geometry(poly_proj)\n",
      "\u001b[32m2025-08-15 18:28:54.886\u001b[0m | \u001b[1mINFO    \u001b[0m | \u001b[36mblocksnet.blocks.assignment.core\u001b[0m:\u001b[36massign_land_use\u001b[0m:\u001b[36m44\u001b[0m - \u001b[1mOverlaying geometries\u001b[0m\n",
      "\u001b[32m2025-08-15 18:28:56.319\u001b[0m | \u001b[32m\u001b[1mSUCCESS \u001b[0m | \u001b[36mblocksnet.blocks.assignment.core\u001b[0m:\u001b[36massign_land_use\u001b[0m:\u001b[36m55\u001b[0m - \u001b[32m\u001b[1mShares calculated\u001b[0m\n"
     ]
    },
    {
     "name": "stdout",
     "output_type": "stream",
     "text": [
      " -> Rangpur, Bangladesh\n"
     ]
    },
    {
     "name": "stderr",
     "output_type": "stream",
     "text": [
      "\u001b[32m2025-08-15 18:34:29.525\u001b[0m | \u001b[1mINFO    \u001b[0m | \u001b[36mblocksnet.blocks.cutting.preprocessing.core\u001b[0m:\u001b[36mpreprocess_urban_objects\u001b[0m:\u001b[36m44\u001b[0m - \u001b[1mChecking roads schema\u001b[0m\n",
      "\u001b[32m2025-08-15 18:34:29.829\u001b[0m | \u001b[1mINFO    \u001b[0m | \u001b[36mblocksnet.blocks.cutting.preprocessing.core\u001b[0m:\u001b[36mpreprocess_urban_objects\u001b[0m:\u001b[36m51\u001b[0m - \u001b[1mChecking railways schema\u001b[0m\n",
      "\u001b[32m2025-08-15 18:34:29.853\u001b[0m | \u001b[1mINFO    \u001b[0m | \u001b[36mblocksnet.blocks.cutting.preprocessing.core\u001b[0m:\u001b[36mpreprocess_urban_objects\u001b[0m:\u001b[36m58\u001b[0m - \u001b[1mChecking water schema\u001b[0m\n",
      "\u001b[32m2025-08-15 18:34:30.134\u001b[0m | \u001b[1mINFO    \u001b[0m | \u001b[36mblocksnet.blocks.cutting.processing.core\u001b[0m:\u001b[36mwrapper\u001b[0m:\u001b[36m21\u001b[0m - \u001b[1mChecking boundaries schema\u001b[0m\n",
      "\u001b[32m2025-08-15 18:34:30.144\u001b[0m | \u001b[1mINFO    \u001b[0m | \u001b[36mblocksnet.blocks.cutting.processing.core\u001b[0m:\u001b[36mwrapper\u001b[0m:\u001b[36m25\u001b[0m - \u001b[1mChecking line objects schema\u001b[0m\n",
      "\u001b[32m2025-08-15 18:34:30.389\u001b[0m | \u001b[1mINFO    \u001b[0m | \u001b[36mblocksnet.blocks.cutting.processing.core\u001b[0m:\u001b[36mwrapper\u001b[0m:\u001b[36m31\u001b[0m - \u001b[1mChecking polygon objects schema\u001b[0m\n",
      "\u001b[32m2025-08-15 18:34:30.633\u001b[0m | \u001b[1mINFO    \u001b[0m | \u001b[36mblocksnet.blocks.cutting.processing.core\u001b[0m:\u001b[36m_exclude_polygons\u001b[0m:\u001b[36m45\u001b[0m - \u001b[1mExcluding polygon objects from blocks\u001b[0m\n",
      "\u001b[32m2025-08-15 18:34:50.919\u001b[0m | \u001b[1mINFO    \u001b[0m | \u001b[36mblocksnet.blocks.cutting.processing.core\u001b[0m:\u001b[36m_get_enclosures\u001b[0m:\u001b[36m51\u001b[0m - \u001b[1mSetting up enclosures\u001b[0m\n",
      "\u001b[32m2025-08-15 18:35:03.755\u001b[0m | \u001b[1mINFO    \u001b[0m | \u001b[36mblocksnet.blocks.cutting.processing.core\u001b[0m:\u001b[36m_fill_holes\u001b[0m:\u001b[36m68\u001b[0m - \u001b[1mFilling holes inside the blocks\u001b[0m\n",
      "\u001b[32m2025-08-15 18:35:09.388\u001b[0m | \u001b[1mINFO    \u001b[0m | \u001b[36mblocksnet.blocks.cutting.processing.core\u001b[0m:\u001b[36m_filter_overlapping\u001b[0m:\u001b[36m78\u001b[0m - \u001b[1mFiltering overlapping geometries\u001b[0m\n",
      "\u001b[32m2025-08-15 18:35:21.281\u001b[0m | \u001b[32m\u001b[1mSUCCESS \u001b[0m | \u001b[36mblocksnet.blocks.cutting.processing.core\u001b[0m:\u001b[36mcut_urban_blocks\u001b[0m:\u001b[36m118\u001b[0m - \u001b[32m\u001b[1mBlocks are successfully cut!\u001b[0m\n",
      "\u001b[32m2025-08-15 18:36:09.252\u001b[0m | \u001b[1mINFO    \u001b[0m | \u001b[36mblocksnet.blocks.assignment.core\u001b[0m:\u001b[36massign_land_use\u001b[0m:\u001b[36m44\u001b[0m - \u001b[1mOverlaying geometries\u001b[0m\n",
      "\u001b[32m2025-08-15 18:36:15.787\u001b[0m | \u001b[32m\u001b[1mSUCCESS \u001b[0m | \u001b[36mblocksnet.blocks.assignment.core\u001b[0m:\u001b[36massign_land_use\u001b[0m:\u001b[36m55\u001b[0m - \u001b[32m\u001b[1mShares calculated\u001b[0m\n"
     ]
    },
    {
     "name": "stdout",
     "output_type": "stream",
     "text": [
      " -> Comilla, Bangladesh\n"
     ]
    },
    {
     "name": "stderr",
     "output_type": "stream",
     "text": [
      "\u001b[32m2025-08-15 18:38:14.666\u001b[0m | \u001b[1mINFO    \u001b[0m | \u001b[36mblocksnet.blocks.cutting.preprocessing.core\u001b[0m:\u001b[36mpreprocess_urban_objects\u001b[0m:\u001b[36m44\u001b[0m - \u001b[1mChecking roads schema\u001b[0m\n",
      "\u001b[32m2025-08-15 18:38:14.710\u001b[0m | \u001b[1mINFO    \u001b[0m | \u001b[36mblocksnet.blocks.cutting.preprocessing.core\u001b[0m:\u001b[36mpreprocess_urban_objects\u001b[0m:\u001b[36m51\u001b[0m - \u001b[1mChecking railways schema\u001b[0m\n",
      "\u001b[32m2025-08-15 18:38:14.721\u001b[0m | \u001b[1mINFO    \u001b[0m | \u001b[36mblocksnet.blocks.cutting.preprocessing.core\u001b[0m:\u001b[36mpreprocess_urban_objects\u001b[0m:\u001b[36m58\u001b[0m - \u001b[1mChecking water schema\u001b[0m\n",
      "\u001b[32m2025-08-15 18:38:14.925\u001b[0m | \u001b[1mINFO    \u001b[0m | \u001b[36mblocksnet.blocks.cutting.processing.core\u001b[0m:\u001b[36mwrapper\u001b[0m:\u001b[36m21\u001b[0m - \u001b[1mChecking boundaries schema\u001b[0m\n",
      "\u001b[32m2025-08-15 18:38:14.935\u001b[0m | \u001b[1mINFO    \u001b[0m | \u001b[36mblocksnet.blocks.cutting.processing.core\u001b[0m:\u001b[36mwrapper\u001b[0m:\u001b[36m25\u001b[0m - \u001b[1mChecking line objects schema\u001b[0m\n",
      "\u001b[32m2025-08-15 18:38:14.989\u001b[0m | \u001b[1mINFO    \u001b[0m | \u001b[36mblocksnet.blocks.cutting.processing.core\u001b[0m:\u001b[36mwrapper\u001b[0m:\u001b[36m31\u001b[0m - \u001b[1mChecking polygon objects schema\u001b[0m\n",
      "\u001b[32m2025-08-15 18:38:15.143\u001b[0m | \u001b[1mINFO    \u001b[0m | \u001b[36mblocksnet.blocks.cutting.processing.core\u001b[0m:\u001b[36m_exclude_polygons\u001b[0m:\u001b[36m45\u001b[0m - \u001b[1mExcluding polygon objects from blocks\u001b[0m\n",
      "\u001b[32m2025-08-15 18:38:41.606\u001b[0m | \u001b[1mINFO    \u001b[0m | \u001b[36mblocksnet.blocks.cutting.processing.core\u001b[0m:\u001b[36m_get_enclosures\u001b[0m:\u001b[36m51\u001b[0m - \u001b[1mSetting up enclosures\u001b[0m\n",
      "\u001b[32m2025-08-15 18:38:48.557\u001b[0m | \u001b[1mINFO    \u001b[0m | \u001b[36mblocksnet.blocks.cutting.processing.core\u001b[0m:\u001b[36m_fill_holes\u001b[0m:\u001b[36m68\u001b[0m - \u001b[1mFilling holes inside the blocks\u001b[0m\n",
      "\u001b[32m2025-08-15 18:38:53.315\u001b[0m | \u001b[1mINFO    \u001b[0m | \u001b[36mblocksnet.blocks.cutting.processing.core\u001b[0m:\u001b[36m_filter_overlapping\u001b[0m:\u001b[36m78\u001b[0m - \u001b[1mFiltering overlapping geometries\u001b[0m\n",
      "\u001b[32m2025-08-15 18:39:00.045\u001b[0m | \u001b[32m\u001b[1mSUCCESS \u001b[0m | \u001b[36mblocksnet.blocks.cutting.processing.core\u001b[0m:\u001b[36mcut_urban_blocks\u001b[0m:\u001b[36m118\u001b[0m - \u001b[32m\u001b[1mBlocks are successfully cut!\u001b[0m\n",
      "\u001b[32m2025-08-15 18:39:08.234\u001b[0m | \u001b[1mINFO    \u001b[0m | \u001b[36mblocksnet.blocks.assignment.core\u001b[0m:\u001b[36massign_land_use\u001b[0m:\u001b[36m44\u001b[0m - \u001b[1mOverlaying geometries\u001b[0m\n",
      "\u001b[32m2025-08-15 18:39:08.513\u001b[0m | \u001b[32m\u001b[1mSUCCESS \u001b[0m | \u001b[36mblocksnet.blocks.assignment.core\u001b[0m:\u001b[36massign_land_use\u001b[0m:\u001b[36m55\u001b[0m - \u001b[32m\u001b[1mShares calculated\u001b[0m\n"
     ]
    },
    {
     "name": "stdout",
     "output_type": "stream",
     "text": [
      " -> Rajshahi, Bangladesh\n"
     ]
    },
    {
     "name": "stderr",
     "output_type": "stream",
     "text": [
      "\u001b[32m2025-08-15 18:42:33.867\u001b[0m | \u001b[1mINFO    \u001b[0m | \u001b[36mblocksnet.blocks.cutting.preprocessing.core\u001b[0m:\u001b[36mpreprocess_urban_objects\u001b[0m:\u001b[36m44\u001b[0m - \u001b[1mChecking roads schema\u001b[0m\n",
      "\u001b[32m2025-08-15 18:42:33.943\u001b[0m | \u001b[1mINFO    \u001b[0m | \u001b[36mblocksnet.blocks.cutting.preprocessing.core\u001b[0m:\u001b[36mpreprocess_urban_objects\u001b[0m:\u001b[36m51\u001b[0m - \u001b[1mChecking railways schema\u001b[0m\n",
      "\u001b[32m2025-08-15 18:42:33.954\u001b[0m | \u001b[1mINFO    \u001b[0m | \u001b[36mblocksnet.blocks.cutting.preprocessing.core\u001b[0m:\u001b[36mpreprocess_urban_objects\u001b[0m:\u001b[36m58\u001b[0m - \u001b[1mChecking water schema\u001b[0m\n",
      "\u001b[32m2025-08-15 18:42:34.053\u001b[0m | \u001b[1mINFO    \u001b[0m | \u001b[36mblocksnet.blocks.cutting.processing.core\u001b[0m:\u001b[36mwrapper\u001b[0m:\u001b[36m21\u001b[0m - \u001b[1mChecking boundaries schema\u001b[0m\n",
      "\u001b[32m2025-08-15 18:42:34.063\u001b[0m | \u001b[1mINFO    \u001b[0m | \u001b[36mblocksnet.blocks.cutting.processing.core\u001b[0m:\u001b[36mwrapper\u001b[0m:\u001b[36m25\u001b[0m - \u001b[1mChecking line objects schema\u001b[0m\n",
      "\u001b[32m2025-08-15 18:42:34.128\u001b[0m | \u001b[1mINFO    \u001b[0m | \u001b[36mblocksnet.blocks.cutting.processing.core\u001b[0m:\u001b[36mwrapper\u001b[0m:\u001b[36m31\u001b[0m - \u001b[1mChecking polygon objects schema\u001b[0m\n",
      "\u001b[32m2025-08-15 18:42:34.160\u001b[0m | \u001b[1mINFO    \u001b[0m | \u001b[36mblocksnet.blocks.cutting.processing.core\u001b[0m:\u001b[36m_exclude_polygons\u001b[0m:\u001b[36m45\u001b[0m - \u001b[1mExcluding polygon objects from blocks\u001b[0m\n",
      "\u001b[32m2025-08-15 18:42:38.026\u001b[0m | \u001b[1mINFO    \u001b[0m | \u001b[36mblocksnet.blocks.cutting.processing.core\u001b[0m:\u001b[36m_get_enclosures\u001b[0m:\u001b[36m51\u001b[0m - \u001b[1mSetting up enclosures\u001b[0m\n",
      "\u001b[32m2025-08-15 18:42:41.606\u001b[0m | \u001b[1mINFO    \u001b[0m | \u001b[36mblocksnet.blocks.cutting.processing.core\u001b[0m:\u001b[36m_fill_holes\u001b[0m:\u001b[36m68\u001b[0m - \u001b[1mFilling holes inside the blocks\u001b[0m\n",
      "\u001b[32m2025-08-15 18:42:42.941\u001b[0m | \u001b[1mINFO    \u001b[0m | \u001b[36mblocksnet.blocks.cutting.processing.core\u001b[0m:\u001b[36m_filter_overlapping\u001b[0m:\u001b[36m78\u001b[0m - \u001b[1mFiltering overlapping geometries\u001b[0m\n",
      "\u001b[32m2025-08-15 18:42:46.301\u001b[0m | \u001b[32m\u001b[1mSUCCESS \u001b[0m | \u001b[36mblocksnet.blocks.cutting.processing.core\u001b[0m:\u001b[36mcut_urban_blocks\u001b[0m:\u001b[36m118\u001b[0m - \u001b[32m\u001b[1mBlocks are successfully cut!\u001b[0m\n",
      "\u001b[32m2025-08-15 18:43:13.074\u001b[0m | \u001b[1mINFO    \u001b[0m | \u001b[36mblocksnet.blocks.assignment.core\u001b[0m:\u001b[36massign_land_use\u001b[0m:\u001b[36m44\u001b[0m - \u001b[1mOverlaying geometries\u001b[0m\n",
      "\u001b[32m2025-08-15 18:43:13.651\u001b[0m | \u001b[32m\u001b[1mSUCCESS \u001b[0m | \u001b[36mblocksnet.blocks.assignment.core\u001b[0m:\u001b[36massign_land_use\u001b[0m:\u001b[36m55\u001b[0m - \u001b[32m\u001b[1mShares calculated\u001b[0m\n"
     ]
    },
    {
     "name": "stdout",
     "output_type": "stream",
     "text": [
      " -> Mohāmmadpur, Bangladesh\n"
     ]
    },
    {
     "name": "stderr",
     "output_type": "stream",
     "text": [
      "\u001b[32m2025-08-15 18:43:57.884\u001b[0m | \u001b[1mINFO    \u001b[0m | \u001b[36mblocksnet.blocks.cutting.preprocessing.core\u001b[0m:\u001b[36mpreprocess_urban_objects\u001b[0m:\u001b[36m44\u001b[0m - \u001b[1mChecking roads schema\u001b[0m\n",
      "\u001b[32m2025-08-15 18:43:57.911\u001b[0m | \u001b[1mINFO    \u001b[0m | \u001b[36mblocksnet.blocks.cutting.preprocessing.core\u001b[0m:\u001b[36mpreprocess_urban_objects\u001b[0m:\u001b[36m51\u001b[0m - \u001b[1mChecking railways schema\u001b[0m\n",
      "\u001b[32m2025-08-15 18:43:57.913\u001b[0m | \u001b[33m\u001b[1mWARNING \u001b[0m | \u001b[36mblocksnet.blocks.cutting.preprocessing.core\u001b[0m:\u001b[36mpreprocess_urban_objects\u001b[0m:\u001b[36m53\u001b[0m - \u001b[33m\u001b[1mRailways GeoDataFrame is None. Creating empty\u001b[0m\n",
      "\u001b[32m2025-08-15 18:43:57.917\u001b[0m | \u001b[1mINFO    \u001b[0m | \u001b[36mblocksnet.blocks.cutting.preprocessing.core\u001b[0m:\u001b[36mpreprocess_urban_objects\u001b[0m:\u001b[36m58\u001b[0m - \u001b[1mChecking water schema\u001b[0m\n",
      "\u001b[32m2025-08-15 18:43:57.936\u001b[0m | \u001b[1mINFO    \u001b[0m | \u001b[36mblocksnet.blocks.cutting.processing.core\u001b[0m:\u001b[36mwrapper\u001b[0m:\u001b[36m21\u001b[0m - \u001b[1mChecking boundaries schema\u001b[0m\n",
      "\u001b[32m2025-08-15 18:43:57.948\u001b[0m | \u001b[1mINFO    \u001b[0m | \u001b[36mblocksnet.blocks.cutting.processing.core\u001b[0m:\u001b[36mwrapper\u001b[0m:\u001b[36m25\u001b[0m - \u001b[1mChecking line objects schema\u001b[0m\n",
      "\u001b[32m2025-08-15 18:43:57.976\u001b[0m | \u001b[1mINFO    \u001b[0m | \u001b[36mblocksnet.blocks.cutting.processing.core\u001b[0m:\u001b[36mwrapper\u001b[0m:\u001b[36m31\u001b[0m - \u001b[1mChecking polygon objects schema\u001b[0m\n",
      "\u001b[32m2025-08-15 18:43:57.991\u001b[0m | \u001b[1mINFO    \u001b[0m | \u001b[36mblocksnet.blocks.cutting.processing.core\u001b[0m:\u001b[36m_exclude_polygons\u001b[0m:\u001b[36m45\u001b[0m - \u001b[1mExcluding polygon objects from blocks\u001b[0m\n",
      "\u001b[32m2025-08-15 18:43:58.006\u001b[0m | \u001b[1mINFO    \u001b[0m | \u001b[36mblocksnet.blocks.cutting.processing.core\u001b[0m:\u001b[36m_get_enclosures\u001b[0m:\u001b[36m51\u001b[0m - \u001b[1mSetting up enclosures\u001b[0m\n",
      "\u001b[32m2025-08-15 18:43:58.050\u001b[0m | \u001b[1mINFO    \u001b[0m | \u001b[36mblocksnet.blocks.cutting.processing.core\u001b[0m:\u001b[36m_fill_holes\u001b[0m:\u001b[36m68\u001b[0m - \u001b[1mFilling holes inside the blocks\u001b[0m\n",
      "\u001b[32m2025-08-15 18:43:58.095\u001b[0m | \u001b[1mINFO    \u001b[0m | \u001b[36mblocksnet.blocks.cutting.processing.core\u001b[0m:\u001b[36m_filter_overlapping\u001b[0m:\u001b[36m78\u001b[0m - \u001b[1mFiltering overlapping geometries\u001b[0m\n",
      "\u001b[32m2025-08-15 18:43:58.121\u001b[0m | \u001b[32m\u001b[1mSUCCESS \u001b[0m | \u001b[36mblocksnet.blocks.cutting.processing.core\u001b[0m:\u001b[36mcut_urban_blocks\u001b[0m:\u001b[36m118\u001b[0m - \u001b[32m\u001b[1mBlocks are successfully cut!\u001b[0m\n",
      "\u001b[32m2025-08-15 18:44:01.977\u001b[0m | \u001b[1mINFO    \u001b[0m | \u001b[36mblocksnet.blocks.assignment.core\u001b[0m:\u001b[36massign_land_use\u001b[0m:\u001b[36m44\u001b[0m - \u001b[1mOverlaying geometries\u001b[0m\n",
      "\u001b[32m2025-08-15 18:44:02.014\u001b[0m | \u001b[32m\u001b[1mSUCCESS \u001b[0m | \u001b[36mblocksnet.blocks.assignment.core\u001b[0m:\u001b[36massign_land_use\u001b[0m:\u001b[36m55\u001b[0m - \u001b[32m\u001b[1mShares calculated\u001b[0m\n"
     ]
    },
    {
     "name": "stdout",
     "output_type": "stream",
     "text": [
      " -> Hāthazāri, Bangladesh\n"
     ]
    },
    {
     "name": "stderr",
     "output_type": "stream",
     "text": [
      "\u001b[32m2025-08-15 18:44:44.157\u001b[0m | \u001b[1mINFO    \u001b[0m | \u001b[36mblocksnet.blocks.cutting.preprocessing.core\u001b[0m:\u001b[36mpreprocess_urban_objects\u001b[0m:\u001b[36m44\u001b[0m - \u001b[1mChecking roads schema\u001b[0m\n",
      "\u001b[32m2025-08-15 18:44:44.182\u001b[0m | \u001b[1mINFO    \u001b[0m | \u001b[36mblocksnet.blocks.cutting.preprocessing.core\u001b[0m:\u001b[36mpreprocess_urban_objects\u001b[0m:\u001b[36m51\u001b[0m - \u001b[1mChecking railways schema\u001b[0m\n",
      "\u001b[32m2025-08-15 18:44:44.184\u001b[0m | \u001b[33m\u001b[1mWARNING \u001b[0m | \u001b[36mblocksnet.blocks.cutting.preprocessing.core\u001b[0m:\u001b[36mpreprocess_urban_objects\u001b[0m:\u001b[36m53\u001b[0m - \u001b[33m\u001b[1mRailways GeoDataFrame is None. Creating empty\u001b[0m\n",
      "\u001b[32m2025-08-15 18:44:44.190\u001b[0m | \u001b[1mINFO    \u001b[0m | \u001b[36mblocksnet.blocks.cutting.preprocessing.core\u001b[0m:\u001b[36mpreprocess_urban_objects\u001b[0m:\u001b[36m58\u001b[0m - \u001b[1mChecking water schema\u001b[0m\n",
      "\u001b[32m2025-08-15 18:44:44.220\u001b[0m | \u001b[1mINFO    \u001b[0m | \u001b[36mblocksnet.blocks.cutting.processing.core\u001b[0m:\u001b[36mwrapper\u001b[0m:\u001b[36m21\u001b[0m - \u001b[1mChecking boundaries schema\u001b[0m\n",
      "\u001b[32m2025-08-15 18:44:44.235\u001b[0m | \u001b[1mINFO    \u001b[0m | \u001b[36mblocksnet.blocks.cutting.processing.core\u001b[0m:\u001b[36mwrapper\u001b[0m:\u001b[36m25\u001b[0m - \u001b[1mChecking line objects schema\u001b[0m\n",
      "\u001b[32m2025-08-15 18:44:44.255\u001b[0m | \u001b[1mINFO    \u001b[0m | \u001b[36mblocksnet.blocks.cutting.processing.core\u001b[0m:\u001b[36mwrapper\u001b[0m:\u001b[36m31\u001b[0m - \u001b[1mChecking polygon objects schema\u001b[0m\n",
      "\u001b[32m2025-08-15 18:44:44.278\u001b[0m | \u001b[1mINFO    \u001b[0m | \u001b[36mblocksnet.blocks.cutting.processing.core\u001b[0m:\u001b[36m_exclude_polygons\u001b[0m:\u001b[36m45\u001b[0m - \u001b[1mExcluding polygon objects from blocks\u001b[0m\n",
      "\u001b[32m2025-08-15 18:44:45.254\u001b[0m | \u001b[1mINFO    \u001b[0m | \u001b[36mblocksnet.blocks.cutting.processing.core\u001b[0m:\u001b[36m_get_enclosures\u001b[0m:\u001b[36m51\u001b[0m - \u001b[1mSetting up enclosures\u001b[0m\n",
      "\u001b[32m2025-08-15 18:44:45.730\u001b[0m | \u001b[1mINFO    \u001b[0m | \u001b[36mblocksnet.blocks.cutting.processing.core\u001b[0m:\u001b[36m_fill_holes\u001b[0m:\u001b[36m68\u001b[0m - \u001b[1mFilling holes inside the blocks\u001b[0m\n",
      "\u001b[32m2025-08-15 18:44:46.049\u001b[0m | \u001b[1mINFO    \u001b[0m | \u001b[36mblocksnet.blocks.cutting.processing.core\u001b[0m:\u001b[36m_filter_overlapping\u001b[0m:\u001b[36m78\u001b[0m - \u001b[1mFiltering overlapping geometries\u001b[0m\n",
      "\u001b[32m2025-08-15 18:44:46.410\u001b[0m | \u001b[32m\u001b[1mSUCCESS \u001b[0m | \u001b[36mblocksnet.blocks.cutting.processing.core\u001b[0m:\u001b[36mcut_urban_blocks\u001b[0m:\u001b[36m118\u001b[0m - \u001b[32m\u001b[1mBlocks are successfully cut!\u001b[0m\n",
      "\u001b[32m2025-08-15 18:44:50.148\u001b[0m | \u001b[1mINFO    \u001b[0m | \u001b[36mblocksnet.blocks.assignment.core\u001b[0m:\u001b[36massign_land_use\u001b[0m:\u001b[36m44\u001b[0m - \u001b[1mOverlaying geometries\u001b[0m\n",
      "\u001b[32m2025-08-15 18:44:50.209\u001b[0m | \u001b[32m\u001b[1mSUCCESS \u001b[0m | \u001b[36mblocksnet.blocks.assignment.core\u001b[0m:\u001b[36massign_land_use\u001b[0m:\u001b[36m55\u001b[0m - \u001b[32m\u001b[1mShares calculated\u001b[0m\n"
     ]
    },
    {
     "name": "stdout",
     "output_type": "stream",
     "text": [
      " -> Bāndarban, Bangladesh\n"
     ]
    },
    {
     "name": "stderr",
     "output_type": "stream",
     "text": [
      "\u001b[32m2025-08-15 18:46:04.343\u001b[0m | \u001b[1mINFO    \u001b[0m | \u001b[36mblocksnet.blocks.cutting.preprocessing.core\u001b[0m:\u001b[36mpreprocess_urban_objects\u001b[0m:\u001b[36m44\u001b[0m - \u001b[1mChecking roads schema\u001b[0m\n",
      "\u001b[32m2025-08-15 18:46:04.357\u001b[0m | \u001b[1mINFO    \u001b[0m | \u001b[36mblocksnet.blocks.cutting.preprocessing.core\u001b[0m:\u001b[36mpreprocess_urban_objects\u001b[0m:\u001b[36m51\u001b[0m - \u001b[1mChecking railways schema\u001b[0m\n",
      "\u001b[32m2025-08-15 18:46:04.358\u001b[0m | \u001b[33m\u001b[1mWARNING \u001b[0m | \u001b[36mblocksnet.blocks.cutting.preprocessing.core\u001b[0m:\u001b[36mpreprocess_urban_objects\u001b[0m:\u001b[36m53\u001b[0m - \u001b[33m\u001b[1mRailways GeoDataFrame is None. Creating empty\u001b[0m\n",
      "\u001b[32m2025-08-15 18:46:04.361\u001b[0m | \u001b[1mINFO    \u001b[0m | \u001b[36mblocksnet.blocks.cutting.preprocessing.core\u001b[0m:\u001b[36mpreprocess_urban_objects\u001b[0m:\u001b[36m58\u001b[0m - \u001b[1mChecking water schema\u001b[0m\n",
      "\u001b[32m2025-08-15 18:46:04.379\u001b[0m | \u001b[1mINFO    \u001b[0m | \u001b[36mblocksnet.blocks.cutting.processing.core\u001b[0m:\u001b[36mwrapper\u001b[0m:\u001b[36m21\u001b[0m - \u001b[1mChecking boundaries schema\u001b[0m\n",
      "\u001b[32m2025-08-15 18:46:04.398\u001b[0m | \u001b[1mINFO    \u001b[0m | \u001b[36mblocksnet.blocks.cutting.processing.core\u001b[0m:\u001b[36mwrapper\u001b[0m:\u001b[36m25\u001b[0m - \u001b[1mChecking line objects schema\u001b[0m\n",
      "\u001b[32m2025-08-15 18:46:04.418\u001b[0m | \u001b[1mINFO    \u001b[0m | \u001b[36mblocksnet.blocks.cutting.processing.core\u001b[0m:\u001b[36mwrapper\u001b[0m:\u001b[36m31\u001b[0m - \u001b[1mChecking polygon objects schema\u001b[0m\n",
      "\u001b[32m2025-08-15 18:46:04.435\u001b[0m | \u001b[1mINFO    \u001b[0m | \u001b[36mblocksnet.blocks.cutting.processing.core\u001b[0m:\u001b[36m_exclude_polygons\u001b[0m:\u001b[36m45\u001b[0m - \u001b[1mExcluding polygon objects from blocks\u001b[0m\n",
      "\u001b[32m2025-08-15 18:46:04.630\u001b[0m | \u001b[1mINFO    \u001b[0m | \u001b[36mblocksnet.blocks.cutting.processing.core\u001b[0m:\u001b[36m_get_enclosures\u001b[0m:\u001b[36m51\u001b[0m - \u001b[1mSetting up enclosures\u001b[0m\n",
      "\u001b[32m2025-08-15 18:46:05.222\u001b[0m | \u001b[1mINFO    \u001b[0m | \u001b[36mblocksnet.blocks.cutting.processing.core\u001b[0m:\u001b[36m_fill_holes\u001b[0m:\u001b[36m68\u001b[0m - \u001b[1mFilling holes inside the blocks\u001b[0m\n",
      "\u001b[32m2025-08-15 18:46:05.351\u001b[0m | \u001b[1mINFO    \u001b[0m | \u001b[36mblocksnet.blocks.cutting.processing.core\u001b[0m:\u001b[36m_filter_overlapping\u001b[0m:\u001b[36m78\u001b[0m - \u001b[1mFiltering overlapping geometries\u001b[0m\n",
      "\u001b[32m2025-08-15 18:46:05.942\u001b[0m | \u001b[32m\u001b[1mSUCCESS \u001b[0m | \u001b[36mblocksnet.blocks.cutting.processing.core\u001b[0m:\u001b[36mcut_urban_blocks\u001b[0m:\u001b[36m118\u001b[0m - \u001b[32m\u001b[1mBlocks are successfully cut!\u001b[0m\n",
      "\u001b[32m2025-08-15 18:46:17.250\u001b[0m | \u001b[1mINFO    \u001b[0m | \u001b[36mblocksnet.blocks.assignment.core\u001b[0m:\u001b[36massign_land_use\u001b[0m:\u001b[36m44\u001b[0m - \u001b[1mOverlaying geometries\u001b[0m\n",
      "\u001b[32m2025-08-15 18:46:17.818\u001b[0m | \u001b[32m\u001b[1mSUCCESS \u001b[0m | \u001b[36mblocksnet.blocks.assignment.core\u001b[0m:\u001b[36massign_land_use\u001b[0m:\u001b[36m55\u001b[0m - \u001b[32m\u001b[1mShares calculated\u001b[0m\n"
     ]
    },
    {
     "name": "stdout",
     "output_type": "stream",
     "text": [
      " -> Shibganj, Bangladesh\n"
     ]
    },
    {
     "name": "stderr",
     "output_type": "stream",
     "text": [
      "\u001b[32m2025-08-15 18:46:31.214\u001b[0m | \u001b[1mINFO    \u001b[0m | \u001b[36mblocksnet.blocks.cutting.preprocessing.core\u001b[0m:\u001b[36mpreprocess_urban_objects\u001b[0m:\u001b[36m44\u001b[0m - \u001b[1mChecking roads schema\u001b[0m\n",
      "\u001b[32m2025-08-15 18:46:31.238\u001b[0m | \u001b[1mINFO    \u001b[0m | \u001b[36mblocksnet.blocks.cutting.preprocessing.core\u001b[0m:\u001b[36mpreprocess_urban_objects\u001b[0m:\u001b[36m51\u001b[0m - \u001b[1mChecking railways schema\u001b[0m\n",
      "\u001b[32m2025-08-15 18:46:31.239\u001b[0m | \u001b[33m\u001b[1mWARNING \u001b[0m | \u001b[36mblocksnet.blocks.cutting.preprocessing.core\u001b[0m:\u001b[36mpreprocess_urban_objects\u001b[0m:\u001b[36m53\u001b[0m - \u001b[33m\u001b[1mRailways GeoDataFrame is None. Creating empty\u001b[0m\n",
      "\u001b[32m2025-08-15 18:46:31.247\u001b[0m | \u001b[1mINFO    \u001b[0m | \u001b[36mblocksnet.blocks.cutting.preprocessing.core\u001b[0m:\u001b[36mpreprocess_urban_objects\u001b[0m:\u001b[36m58\u001b[0m - \u001b[1mChecking water schema\u001b[0m\n",
      "\u001b[32m2025-08-15 18:46:31.266\u001b[0m | \u001b[1mINFO    \u001b[0m | \u001b[36mblocksnet.blocks.cutting.processing.core\u001b[0m:\u001b[36mwrapper\u001b[0m:\u001b[36m21\u001b[0m - \u001b[1mChecking boundaries schema\u001b[0m\n",
      "\u001b[32m2025-08-15 18:46:31.282\u001b[0m | \u001b[1mINFO    \u001b[0m | \u001b[36mblocksnet.blocks.cutting.processing.core\u001b[0m:\u001b[36mwrapper\u001b[0m:\u001b[36m25\u001b[0m - \u001b[1mChecking line objects schema\u001b[0m\n",
      "\u001b[32m2025-08-15 18:46:31.300\u001b[0m | \u001b[1mINFO    \u001b[0m | \u001b[36mblocksnet.blocks.cutting.processing.core\u001b[0m:\u001b[36mwrapper\u001b[0m:\u001b[36m31\u001b[0m - \u001b[1mChecking polygon objects schema\u001b[0m\n",
      "\u001b[32m2025-08-15 18:46:31.317\u001b[0m | \u001b[1mINFO    \u001b[0m | \u001b[36mblocksnet.blocks.cutting.processing.core\u001b[0m:\u001b[36m_exclude_polygons\u001b[0m:\u001b[36m45\u001b[0m - \u001b[1mExcluding polygon objects from blocks\u001b[0m\n",
      "\u001b[32m2025-08-15 18:46:31.335\u001b[0m | \u001b[1mINFO    \u001b[0m | \u001b[36mblocksnet.blocks.cutting.processing.core\u001b[0m:\u001b[36m_get_enclosures\u001b[0m:\u001b[36m51\u001b[0m - \u001b[1mSetting up enclosures\u001b[0m\n",
      "\u001b[32m2025-08-15 18:46:31.387\u001b[0m | \u001b[1mINFO    \u001b[0m | \u001b[36mblocksnet.blocks.cutting.processing.core\u001b[0m:\u001b[36m_fill_holes\u001b[0m:\u001b[36m68\u001b[0m - \u001b[1mFilling holes inside the blocks\u001b[0m\n",
      "\u001b[32m2025-08-15 18:46:31.410\u001b[0m | \u001b[1mINFO    \u001b[0m | \u001b[36mblocksnet.blocks.cutting.processing.core\u001b[0m:\u001b[36m_filter_overlapping\u001b[0m:\u001b[36m78\u001b[0m - \u001b[1mFiltering overlapping geometries\u001b[0m\n",
      "\u001b[32m2025-08-15 18:46:31.445\u001b[0m | \u001b[32m\u001b[1mSUCCESS \u001b[0m | \u001b[36mblocksnet.blocks.cutting.processing.core\u001b[0m:\u001b[36mcut_urban_blocks\u001b[0m:\u001b[36m118\u001b[0m - \u001b[32m\u001b[1mBlocks are successfully cut!\u001b[0m\n",
      "\u001b[32m2025-08-15 18:46:32.907\u001b[0m | \u001b[1mINFO    \u001b[0m | \u001b[36mblocksnet.blocks.assignment.core\u001b[0m:\u001b[36massign_land_use\u001b[0m:\u001b[36m44\u001b[0m - \u001b[1mOverlaying geometries\u001b[0m\n",
      "\u001b[32m2025-08-15 18:46:32.942\u001b[0m | \u001b[32m\u001b[1mSUCCESS \u001b[0m | \u001b[36mblocksnet.blocks.assignment.core\u001b[0m:\u001b[36massign_land_use\u001b[0m:\u001b[36m55\u001b[0m - \u001b[32m\u001b[1mShares calculated\u001b[0m\n"
     ]
    },
    {
     "name": "stdout",
     "output_type": "stream",
     "text": [
      " -> Natore, Bangladesh\n"
     ]
    },
    {
     "name": "stderr",
     "output_type": "stream",
     "text": [
      "\u001b[32m2025-08-15 18:46:50.933\u001b[0m | \u001b[1mINFO    \u001b[0m | \u001b[36mblocksnet.blocks.cutting.preprocessing.core\u001b[0m:\u001b[36mpreprocess_urban_objects\u001b[0m:\u001b[36m44\u001b[0m - \u001b[1mChecking roads schema\u001b[0m\n",
      "\u001b[32m2025-08-15 18:46:50.959\u001b[0m | \u001b[1mINFO    \u001b[0m | \u001b[36mblocksnet.blocks.cutting.preprocessing.core\u001b[0m:\u001b[36mpreprocess_urban_objects\u001b[0m:\u001b[36m51\u001b[0m - \u001b[1mChecking railways schema\u001b[0m\n",
      "\u001b[32m2025-08-15 18:46:50.972\u001b[0m | \u001b[1mINFO    \u001b[0m | \u001b[36mblocksnet.blocks.cutting.preprocessing.core\u001b[0m:\u001b[36mpreprocess_urban_objects\u001b[0m:\u001b[36m58\u001b[0m - \u001b[1mChecking water schema\u001b[0m\n",
      "\u001b[32m2025-08-15 18:46:50.998\u001b[0m | \u001b[1mINFO    \u001b[0m | \u001b[36mblocksnet.blocks.cutting.processing.core\u001b[0m:\u001b[36mwrapper\u001b[0m:\u001b[36m21\u001b[0m - \u001b[1mChecking boundaries schema\u001b[0m\n",
      "\u001b[32m2025-08-15 18:46:51.009\u001b[0m | \u001b[1mINFO    \u001b[0m | \u001b[36mblocksnet.blocks.cutting.processing.core\u001b[0m:\u001b[36mwrapper\u001b[0m:\u001b[36m25\u001b[0m - \u001b[1mChecking line objects schema\u001b[0m\n",
      "\u001b[32m2025-08-15 18:46:51.027\u001b[0m | \u001b[1mINFO    \u001b[0m | \u001b[36mblocksnet.blocks.cutting.processing.core\u001b[0m:\u001b[36mwrapper\u001b[0m:\u001b[36m31\u001b[0m - \u001b[1mChecking polygon objects schema\u001b[0m\n",
      "\u001b[32m2025-08-15 18:46:51.050\u001b[0m | \u001b[1mINFO    \u001b[0m | \u001b[36mblocksnet.blocks.cutting.processing.core\u001b[0m:\u001b[36m_exclude_polygons\u001b[0m:\u001b[36m45\u001b[0m - \u001b[1mExcluding polygon objects from blocks\u001b[0m\n",
      "\u001b[32m2025-08-15 18:46:51.389\u001b[0m | \u001b[1mINFO    \u001b[0m | \u001b[36mblocksnet.blocks.cutting.processing.core\u001b[0m:\u001b[36m_get_enclosures\u001b[0m:\u001b[36m51\u001b[0m - \u001b[1mSetting up enclosures\u001b[0m\n",
      "\u001b[32m2025-08-15 18:46:51.645\u001b[0m | \u001b[1mINFO    \u001b[0m | \u001b[36mblocksnet.blocks.cutting.processing.core\u001b[0m:\u001b[36m_fill_holes\u001b[0m:\u001b[36m68\u001b[0m - \u001b[1mFilling holes inside the blocks\u001b[0m\n",
      "\u001b[32m2025-08-15 18:46:51.882\u001b[0m | \u001b[1mINFO    \u001b[0m | \u001b[36mblocksnet.blocks.cutting.processing.core\u001b[0m:\u001b[36m_filter_overlapping\u001b[0m:\u001b[36m78\u001b[0m - \u001b[1mFiltering overlapping geometries\u001b[0m\n",
      "\u001b[32m2025-08-15 18:46:52.254\u001b[0m | \u001b[32m\u001b[1mSUCCESS \u001b[0m | \u001b[36mblocksnet.blocks.cutting.processing.core\u001b[0m:\u001b[36mcut_urban_blocks\u001b[0m:\u001b[36m118\u001b[0m - \u001b[32m\u001b[1mBlocks are successfully cut!\u001b[0m\n",
      "\u001b[32m2025-08-15 18:46:54.597\u001b[0m | \u001b[1mINFO    \u001b[0m | \u001b[36mblocksnet.blocks.assignment.core\u001b[0m:\u001b[36massign_land_use\u001b[0m:\u001b[36m44\u001b[0m - \u001b[1mOverlaying geometries\u001b[0m\n",
      "\u001b[32m2025-08-15 18:46:54.659\u001b[0m | \u001b[32m\u001b[1mSUCCESS \u001b[0m | \u001b[36mblocksnet.blocks.assignment.core\u001b[0m:\u001b[36massign_land_use\u001b[0m:\u001b[36m55\u001b[0m - \u001b[32m\u001b[1mShares calculated\u001b[0m\n"
     ]
    },
    {
     "name": "stdout",
     "output_type": "stream",
     "text": [
      " -> Kāfrul, Bangladesh\n",
      "    [skip] Kāfrul, Bangladesh: At least one GeoDataFrame must be passed\n",
      " -> Tungi, Bangladesh\n",
      "    [skip] Tungi, Bangladesh: At least one GeoDataFrame must be passed\n",
      " -> Bhātāra, Bangladesh\n",
      "    [skip] Bhātāra, Bangladesh: At least one GeoDataFrame must be passed\n",
      " -> Savar, Bangladesh\n"
     ]
    },
    {
     "name": "stderr",
     "output_type": "stream",
     "text": [
      "\u001b[32m2025-08-15 18:48:49.004\u001b[0m | \u001b[1mINFO    \u001b[0m | \u001b[36mblocksnet.blocks.cutting.preprocessing.core\u001b[0m:\u001b[36mpreprocess_urban_objects\u001b[0m:\u001b[36m44\u001b[0m - \u001b[1mChecking roads schema\u001b[0m\n",
      "\u001b[32m2025-08-15 18:48:49.043\u001b[0m | \u001b[1mINFO    \u001b[0m | \u001b[36mblocksnet.blocks.cutting.preprocessing.core\u001b[0m:\u001b[36mpreprocess_urban_objects\u001b[0m:\u001b[36m51\u001b[0m - \u001b[1mChecking railways schema\u001b[0m\n",
      "\u001b[32m2025-08-15 18:48:49.044\u001b[0m | \u001b[33m\u001b[1mWARNING \u001b[0m | \u001b[36mblocksnet.blocks.cutting.preprocessing.core\u001b[0m:\u001b[36mpreprocess_urban_objects\u001b[0m:\u001b[36m53\u001b[0m - \u001b[33m\u001b[1mRailways GeoDataFrame is None. Creating empty\u001b[0m\n",
      "\u001b[32m2025-08-15 18:48:49.051\u001b[0m | \u001b[1mINFO    \u001b[0m | \u001b[36mblocksnet.blocks.cutting.preprocessing.core\u001b[0m:\u001b[36mpreprocess_urban_objects\u001b[0m:\u001b[36m58\u001b[0m - \u001b[1mChecking water schema\u001b[0m\n",
      "\u001b[32m2025-08-15 18:48:49.082\u001b[0m | \u001b[1mINFO    \u001b[0m | \u001b[36mblocksnet.blocks.cutting.processing.core\u001b[0m:\u001b[36mwrapper\u001b[0m:\u001b[36m21\u001b[0m - \u001b[1mChecking boundaries schema\u001b[0m\n",
      "\u001b[32m2025-08-15 18:48:49.093\u001b[0m | \u001b[1mINFO    \u001b[0m | \u001b[36mblocksnet.blocks.cutting.processing.core\u001b[0m:\u001b[36mwrapper\u001b[0m:\u001b[36m25\u001b[0m - \u001b[1mChecking line objects schema\u001b[0m\n",
      "\u001b[32m2025-08-15 18:48:49.126\u001b[0m | \u001b[1mINFO    \u001b[0m | \u001b[36mblocksnet.blocks.cutting.processing.core\u001b[0m:\u001b[36mwrapper\u001b[0m:\u001b[36m31\u001b[0m - \u001b[1mChecking polygon objects schema\u001b[0m\n",
      "\u001b[32m2025-08-15 18:48:49.145\u001b[0m | \u001b[1mINFO    \u001b[0m | \u001b[36mblocksnet.blocks.cutting.processing.core\u001b[0m:\u001b[36m_exclude_polygons\u001b[0m:\u001b[36m45\u001b[0m - \u001b[1mExcluding polygon objects from blocks\u001b[0m\n",
      "\u001b[32m2025-08-15 18:48:49.824\u001b[0m | \u001b[1mINFO    \u001b[0m | \u001b[36mblocksnet.blocks.cutting.processing.core\u001b[0m:\u001b[36m_get_enclosures\u001b[0m:\u001b[36m51\u001b[0m - \u001b[1mSetting up enclosures\u001b[0m\n",
      "\u001b[32m2025-08-15 18:48:50.420\u001b[0m | \u001b[1mINFO    \u001b[0m | \u001b[36mblocksnet.blocks.cutting.processing.core\u001b[0m:\u001b[36m_fill_holes\u001b[0m:\u001b[36m68\u001b[0m - \u001b[1mFilling holes inside the blocks\u001b[0m\n",
      "\u001b[32m2025-08-15 18:48:50.937\u001b[0m | \u001b[1mINFO    \u001b[0m | \u001b[36mblocksnet.blocks.cutting.processing.core\u001b[0m:\u001b[36m_filter_overlapping\u001b[0m:\u001b[36m78\u001b[0m - \u001b[1mFiltering overlapping geometries\u001b[0m\n",
      "\u001b[32m2025-08-15 18:48:51.729\u001b[0m | \u001b[32m\u001b[1mSUCCESS \u001b[0m | \u001b[36mblocksnet.blocks.cutting.processing.core\u001b[0m:\u001b[36mcut_urban_blocks\u001b[0m:\u001b[36m118\u001b[0m - \u001b[32m\u001b[1mBlocks are successfully cut!\u001b[0m\n",
      "\u001b[32m2025-08-15 18:49:02.811\u001b[0m | \u001b[1mINFO    \u001b[0m | \u001b[36mblocksnet.blocks.assignment.core\u001b[0m:\u001b[36massign_land_use\u001b[0m:\u001b[36m44\u001b[0m - \u001b[1mOverlaying geometries\u001b[0m\n",
      "\u001b[32m2025-08-15 18:49:02.980\u001b[0m | \u001b[32m\u001b[1mSUCCESS \u001b[0m | \u001b[36mblocksnet.blocks.assignment.core\u001b[0m:\u001b[36massign_land_use\u001b[0m:\u001b[36m55\u001b[0m - \u001b[32m\u001b[1mShares calculated\u001b[0m\n"
     ]
    },
    {
     "name": "stdout",
     "output_type": "stream",
     "text": [
      " -> Narsingdi, Bangladesh\n"
     ]
    },
    {
     "name": "stderr",
     "output_type": "stream",
     "text": [
      "\u001b[32m2025-08-15 18:49:47.223\u001b[0m | \u001b[1mINFO    \u001b[0m | \u001b[36mblocksnet.blocks.cutting.preprocessing.core\u001b[0m:\u001b[36mpreprocess_urban_objects\u001b[0m:\u001b[36m44\u001b[0m - \u001b[1mChecking roads schema\u001b[0m\n",
      "\u001b[32m2025-08-15 18:49:47.240\u001b[0m | \u001b[1mINFO    \u001b[0m | \u001b[36mblocksnet.blocks.cutting.preprocessing.core\u001b[0m:\u001b[36mpreprocess_urban_objects\u001b[0m:\u001b[36m51\u001b[0m - \u001b[1mChecking railways schema\u001b[0m\n",
      "\u001b[32m2025-08-15 18:49:47.249\u001b[0m | \u001b[1mINFO    \u001b[0m | \u001b[36mblocksnet.blocks.cutting.preprocessing.core\u001b[0m:\u001b[36mpreprocess_urban_objects\u001b[0m:\u001b[36m58\u001b[0m - \u001b[1mChecking water schema\u001b[0m\n",
      "\u001b[32m2025-08-15 18:49:47.277\u001b[0m | \u001b[1mINFO    \u001b[0m | \u001b[36mblocksnet.blocks.cutting.processing.core\u001b[0m:\u001b[36mwrapper\u001b[0m:\u001b[36m21\u001b[0m - \u001b[1mChecking boundaries schema\u001b[0m\n",
      "\u001b[32m2025-08-15 18:49:47.287\u001b[0m | \u001b[1mINFO    \u001b[0m | \u001b[36mblocksnet.blocks.cutting.processing.core\u001b[0m:\u001b[36mwrapper\u001b[0m:\u001b[36m25\u001b[0m - \u001b[1mChecking line objects schema\u001b[0m\n",
      "\u001b[32m2025-08-15 18:49:47.313\u001b[0m | \u001b[1mINFO    \u001b[0m | \u001b[36mblocksnet.blocks.cutting.processing.core\u001b[0m:\u001b[36mwrapper\u001b[0m:\u001b[36m31\u001b[0m - \u001b[1mChecking polygon objects schema\u001b[0m\n",
      "\u001b[32m2025-08-15 18:49:47.329\u001b[0m | \u001b[1mINFO    \u001b[0m | \u001b[36mblocksnet.blocks.cutting.processing.core\u001b[0m:\u001b[36m_exclude_polygons\u001b[0m:\u001b[36m45\u001b[0m - \u001b[1mExcluding polygon objects from blocks\u001b[0m\n",
      "\u001b[32m2025-08-15 18:49:47.484\u001b[0m | \u001b[1mINFO    \u001b[0m | \u001b[36mblocksnet.blocks.cutting.processing.core\u001b[0m:\u001b[36m_get_enclosures\u001b[0m:\u001b[36m51\u001b[0m - \u001b[1mSetting up enclosures\u001b[0m\n",
      "\u001b[32m2025-08-15 18:49:47.734\u001b[0m | \u001b[1mINFO    \u001b[0m | \u001b[36mblocksnet.blocks.cutting.processing.core\u001b[0m:\u001b[36m_fill_holes\u001b[0m:\u001b[36m68\u001b[0m - \u001b[1mFilling holes inside the blocks\u001b[0m\n",
      "\u001b[32m2025-08-15 18:49:47.861\u001b[0m | \u001b[1mINFO    \u001b[0m | \u001b[36mblocksnet.blocks.cutting.processing.core\u001b[0m:\u001b[36m_filter_overlapping\u001b[0m:\u001b[36m78\u001b[0m - \u001b[1mFiltering overlapping geometries\u001b[0m\n",
      "\u001b[32m2025-08-15 18:49:48.197\u001b[0m | \u001b[32m\u001b[1mSUCCESS \u001b[0m | \u001b[36mblocksnet.blocks.cutting.processing.core\u001b[0m:\u001b[36mcut_urban_blocks\u001b[0m:\u001b[36m118\u001b[0m - \u001b[32m\u001b[1mBlocks are successfully cut!\u001b[0m\n",
      "\u001b[32m2025-08-15 18:49:50.313\u001b[0m | \u001b[1mINFO    \u001b[0m | \u001b[36mblocksnet.blocks.assignment.core\u001b[0m:\u001b[36massign_land_use\u001b[0m:\u001b[36m44\u001b[0m - \u001b[1mOverlaying geometries\u001b[0m\n",
      "\u001b[32m2025-08-15 18:49:50.494\u001b[0m | \u001b[32m\u001b[1mSUCCESS \u001b[0m | \u001b[36mblocksnet.blocks.assignment.core\u001b[0m:\u001b[36massign_land_use\u001b[0m:\u001b[36m55\u001b[0m - \u001b[32m\u001b[1mShares calculated\u001b[0m\n"
     ]
    },
    {
     "name": "stdout",
     "output_type": "stream",
     "text": [
      " -> Nagar Naluākot, Bangladesh\n",
      "    [skip] Nagar Naluākot, Bangladesh: Не найдены границы: Nagar Naluākot, Bangladesh\n",
      " -> Bagerhat, Bangladesh\n"
     ]
    },
    {
     "name": "stderr",
     "output_type": "stream",
     "text": [
      "\u001b[32m2025-08-15 18:52:19.315\u001b[0m | \u001b[1mINFO    \u001b[0m | \u001b[36mblocksnet.blocks.cutting.preprocessing.core\u001b[0m:\u001b[36mpreprocess_urban_objects\u001b[0m:\u001b[36m44\u001b[0m - \u001b[1mChecking roads schema\u001b[0m\n",
      "\u001b[32m2025-08-15 18:52:19.345\u001b[0m | \u001b[1mINFO    \u001b[0m | \u001b[36mblocksnet.blocks.cutting.preprocessing.core\u001b[0m:\u001b[36mpreprocess_urban_objects\u001b[0m:\u001b[36m51\u001b[0m - \u001b[1mChecking railways schema\u001b[0m\n",
      "\u001b[32m2025-08-15 18:52:19.354\u001b[0m | \u001b[1mINFO    \u001b[0m | \u001b[36mblocksnet.blocks.cutting.preprocessing.core\u001b[0m:\u001b[36mpreprocess_urban_objects\u001b[0m:\u001b[36m58\u001b[0m - \u001b[1mChecking water schema\u001b[0m\n",
      "\u001b[32m2025-08-15 18:52:19.456\u001b[0m | \u001b[1mINFO    \u001b[0m | \u001b[36mblocksnet.blocks.cutting.processing.core\u001b[0m:\u001b[36mwrapper\u001b[0m:\u001b[36m21\u001b[0m - \u001b[1mChecking boundaries schema\u001b[0m\n",
      "\u001b[32m2025-08-15 18:52:19.466\u001b[0m | \u001b[1mINFO    \u001b[0m | \u001b[36mblocksnet.blocks.cutting.processing.core\u001b[0m:\u001b[36mwrapper\u001b[0m:\u001b[36m25\u001b[0m - \u001b[1mChecking line objects schema\u001b[0m\n",
      "\u001b[32m2025-08-15 18:52:19.500\u001b[0m | \u001b[1mINFO    \u001b[0m | \u001b[36mblocksnet.blocks.cutting.processing.core\u001b[0m:\u001b[36mwrapper\u001b[0m:\u001b[36m31\u001b[0m - \u001b[1mChecking polygon objects schema\u001b[0m\n",
      "\u001b[32m2025-08-15 18:52:19.568\u001b[0m | \u001b[1mINFO    \u001b[0m | \u001b[36mblocksnet.blocks.cutting.processing.core\u001b[0m:\u001b[36m_exclude_polygons\u001b[0m:\u001b[36m45\u001b[0m - \u001b[1mExcluding polygon objects from blocks\u001b[0m\n",
      "\u001b[32m2025-08-15 18:52:35.041\u001b[0m | \u001b[1mINFO    \u001b[0m | \u001b[36mblocksnet.blocks.cutting.processing.core\u001b[0m:\u001b[36m_get_enclosures\u001b[0m:\u001b[36m51\u001b[0m - \u001b[1mSetting up enclosures\u001b[0m\n",
      "\u001b[32m2025-08-15 18:52:37.558\u001b[0m | \u001b[1mINFO    \u001b[0m | \u001b[36mblocksnet.blocks.cutting.processing.core\u001b[0m:\u001b[36m_fill_holes\u001b[0m:\u001b[36m68\u001b[0m - \u001b[1mFilling holes inside the blocks\u001b[0m\n",
      "\u001b[32m2025-08-15 18:52:39.197\u001b[0m | \u001b[1mINFO    \u001b[0m | \u001b[36mblocksnet.blocks.cutting.processing.core\u001b[0m:\u001b[36m_filter_overlapping\u001b[0m:\u001b[36m78\u001b[0m - \u001b[1mFiltering overlapping geometries\u001b[0m\n",
      "\u001b[32m2025-08-15 18:52:41.131\u001b[0m | \u001b[32m\u001b[1mSUCCESS \u001b[0m | \u001b[36mblocksnet.blocks.cutting.processing.core\u001b[0m:\u001b[36mcut_urban_blocks\u001b[0m:\u001b[36m118\u001b[0m - \u001b[32m\u001b[1mBlocks are successfully cut!\u001b[0m\n",
      "\u001b[32m2025-08-15 18:52:52.508\u001b[0m | \u001b[1mINFO    \u001b[0m | \u001b[36mblocksnet.blocks.assignment.core\u001b[0m:\u001b[36massign_land_use\u001b[0m:\u001b[36m44\u001b[0m - \u001b[1mOverlaying geometries\u001b[0m\n",
      "\u001b[32m2025-08-15 18:52:52.683\u001b[0m | \u001b[32m\u001b[1mSUCCESS \u001b[0m | \u001b[36mblocksnet.blocks.assignment.core\u001b[0m:\u001b[36massign_land_use\u001b[0m:\u001b[36m55\u001b[0m - \u001b[32m\u001b[1mShares calculated\u001b[0m\n"
     ]
    },
    {
     "name": "stdout",
     "output_type": "stream",
     "text": [
      " -> Brāhmanbāria, Bangladesh\n"
     ]
    },
    {
     "name": "stderr",
     "output_type": "stream",
     "text": [
      "\u001b[32m2025-08-15 18:53:32.228\u001b[0m | \u001b[1mINFO    \u001b[0m | \u001b[36mblocksnet.blocks.cutting.preprocessing.core\u001b[0m:\u001b[36mpreprocess_urban_objects\u001b[0m:\u001b[36m44\u001b[0m - \u001b[1mChecking roads schema\u001b[0m\n",
      "\u001b[32m2025-08-15 18:53:32.263\u001b[0m | \u001b[1mINFO    \u001b[0m | \u001b[36mblocksnet.blocks.cutting.preprocessing.core\u001b[0m:\u001b[36mpreprocess_urban_objects\u001b[0m:\u001b[36m51\u001b[0m - \u001b[1mChecking railways schema\u001b[0m\n",
      "\u001b[32m2025-08-15 18:53:32.275\u001b[0m | \u001b[1mINFO    \u001b[0m | \u001b[36mblocksnet.blocks.cutting.preprocessing.core\u001b[0m:\u001b[36mpreprocess_urban_objects\u001b[0m:\u001b[36m58\u001b[0m - \u001b[1mChecking water schema\u001b[0m\n",
      "\u001b[32m2025-08-15 18:53:32.298\u001b[0m | \u001b[1mINFO    \u001b[0m | \u001b[36mblocksnet.blocks.cutting.processing.core\u001b[0m:\u001b[36mwrapper\u001b[0m:\u001b[36m21\u001b[0m - \u001b[1mChecking boundaries schema\u001b[0m\n",
      "\u001b[32m2025-08-15 18:53:32.308\u001b[0m | \u001b[1mINFO    \u001b[0m | \u001b[36mblocksnet.blocks.cutting.processing.core\u001b[0m:\u001b[36mwrapper\u001b[0m:\u001b[36m25\u001b[0m - \u001b[1mChecking line objects schema\u001b[0m\n",
      "\u001b[32m2025-08-15 18:53:32.332\u001b[0m | \u001b[1mINFO    \u001b[0m | \u001b[36mblocksnet.blocks.cutting.processing.core\u001b[0m:\u001b[36mwrapper\u001b[0m:\u001b[36m31\u001b[0m - \u001b[1mChecking polygon objects schema\u001b[0m\n",
      "\u001b[32m2025-08-15 18:53:32.357\u001b[0m | \u001b[1mINFO    \u001b[0m | \u001b[36mblocksnet.blocks.cutting.processing.core\u001b[0m:\u001b[36m_exclude_polygons\u001b[0m:\u001b[36m45\u001b[0m - \u001b[1mExcluding polygon objects from blocks\u001b[0m\n",
      "\u001b[32m2025-08-15 18:53:32.804\u001b[0m | \u001b[1mINFO    \u001b[0m | \u001b[36mblocksnet.blocks.cutting.processing.core\u001b[0m:\u001b[36m_get_enclosures\u001b[0m:\u001b[36m51\u001b[0m - \u001b[1mSetting up enclosures\u001b[0m\n",
      "\u001b[32m2025-08-15 18:53:33.216\u001b[0m | \u001b[1mINFO    \u001b[0m | \u001b[36mblocksnet.blocks.cutting.processing.core\u001b[0m:\u001b[36m_fill_holes\u001b[0m:\u001b[36m68\u001b[0m - \u001b[1mFilling holes inside the blocks\u001b[0m\n",
      "\u001b[32m2025-08-15 18:53:33.540\u001b[0m | \u001b[1mINFO    \u001b[0m | \u001b[36mblocksnet.blocks.cutting.processing.core\u001b[0m:\u001b[36m_filter_overlapping\u001b[0m:\u001b[36m78\u001b[0m - \u001b[1mFiltering overlapping geometries\u001b[0m\n",
      "\u001b[32m2025-08-15 18:53:34.130\u001b[0m | \u001b[32m\u001b[1mSUCCESS \u001b[0m | \u001b[36mblocksnet.blocks.cutting.processing.core\u001b[0m:\u001b[36mcut_urban_blocks\u001b[0m:\u001b[36m118\u001b[0m - \u001b[32m\u001b[1mBlocks are successfully cut!\u001b[0m\n",
      "\u001b[32m2025-08-15 18:53:37.660\u001b[0m | \u001b[1mINFO    \u001b[0m | \u001b[36mblocksnet.blocks.assignment.core\u001b[0m:\u001b[36massign_land_use\u001b[0m:\u001b[36m44\u001b[0m - \u001b[1mOverlaying geometries\u001b[0m\n",
      "\u001b[32m2025-08-15 18:53:37.771\u001b[0m | \u001b[32m\u001b[1mSUCCESS \u001b[0m | \u001b[36mblocksnet.blocks.assignment.core\u001b[0m:\u001b[36massign_land_use\u001b[0m:\u001b[36m55\u001b[0m - \u001b[32m\u001b[1mShares calculated\u001b[0m\n"
     ]
    },
    {
     "name": "stdout",
     "output_type": "stream",
     "text": [
      " -> Cox’s Bāzār, Bangladesh\n"
     ]
    },
    {
     "name": "stderr",
     "output_type": "stream",
     "text": [
      "\u001b[32m2025-08-15 18:57:51.142\u001b[0m | \u001b[1mINFO    \u001b[0m | \u001b[36mblocksnet.blocks.cutting.preprocessing.core\u001b[0m:\u001b[36mpreprocess_urban_objects\u001b[0m:\u001b[36m44\u001b[0m - \u001b[1mChecking roads schema\u001b[0m\n",
      "\u001b[32m2025-08-15 18:57:51.184\u001b[0m | \u001b[1mINFO    \u001b[0m | \u001b[36mblocksnet.blocks.cutting.preprocessing.core\u001b[0m:\u001b[36mpreprocess_urban_objects\u001b[0m:\u001b[36m51\u001b[0m - \u001b[1mChecking railways schema\u001b[0m\n",
      "\u001b[32m2025-08-15 18:57:51.199\u001b[0m | \u001b[1mINFO    \u001b[0m | \u001b[36mblocksnet.blocks.cutting.preprocessing.core\u001b[0m:\u001b[36mpreprocess_urban_objects\u001b[0m:\u001b[36m58\u001b[0m - \u001b[1mChecking water schema\u001b[0m\n",
      "\u001b[32m2025-08-15 18:57:51.232\u001b[0m | \u001b[1mINFO    \u001b[0m | \u001b[36mblocksnet.blocks.cutting.processing.core\u001b[0m:\u001b[36mwrapper\u001b[0m:\u001b[36m21\u001b[0m - \u001b[1mChecking boundaries schema\u001b[0m\n",
      "\u001b[32m2025-08-15 18:57:51.242\u001b[0m | \u001b[1mINFO    \u001b[0m | \u001b[36mblocksnet.blocks.cutting.processing.core\u001b[0m:\u001b[36mwrapper\u001b[0m:\u001b[36m25\u001b[0m - \u001b[1mChecking line objects schema\u001b[0m\n",
      "\u001b[32m2025-08-15 18:57:51.279\u001b[0m | \u001b[1mINFO    \u001b[0m | \u001b[36mblocksnet.blocks.cutting.processing.core\u001b[0m:\u001b[36mwrapper\u001b[0m:\u001b[36m31\u001b[0m - \u001b[1mChecking polygon objects schema\u001b[0m\n",
      "\u001b[32m2025-08-15 18:57:51.324\u001b[0m | \u001b[1mINFO    \u001b[0m | \u001b[36mblocksnet.blocks.cutting.processing.core\u001b[0m:\u001b[36m_exclude_polygons\u001b[0m:\u001b[36m45\u001b[0m - \u001b[1mExcluding polygon objects from blocks\u001b[0m\n",
      "\u001b[32m2025-08-15 18:58:03.295\u001b[0m | \u001b[1mINFO    \u001b[0m | \u001b[36mblocksnet.blocks.cutting.processing.core\u001b[0m:\u001b[36m_get_enclosures\u001b[0m:\u001b[36m51\u001b[0m - \u001b[1mSetting up enclosures\u001b[0m\n",
      "\u001b[32m2025-08-15 18:58:04.375\u001b[0m | \u001b[1mINFO    \u001b[0m | \u001b[36mblocksnet.blocks.cutting.processing.core\u001b[0m:\u001b[36m_fill_holes\u001b[0m:\u001b[36m68\u001b[0m - \u001b[1mFilling holes inside the blocks\u001b[0m\n",
      "\u001b[32m2025-08-15 18:58:04.796\u001b[0m | \u001b[1mINFO    \u001b[0m | \u001b[36mblocksnet.blocks.cutting.processing.core\u001b[0m:\u001b[36m_filter_overlapping\u001b[0m:\u001b[36m78\u001b[0m - \u001b[1mFiltering overlapping geometries\u001b[0m\n",
      "\u001b[32m2025-08-15 18:58:05.977\u001b[0m | \u001b[32m\u001b[1mSUCCESS \u001b[0m | \u001b[36mblocksnet.blocks.cutting.processing.core\u001b[0m:\u001b[36mcut_urban_blocks\u001b[0m:\u001b[36m118\u001b[0m - \u001b[32m\u001b[1mBlocks are successfully cut!\u001b[0m\n",
      "\u001b[32m2025-08-15 18:58:34.004\u001b[0m | \u001b[1mINFO    \u001b[0m | \u001b[36mblocksnet.blocks.assignment.core\u001b[0m:\u001b[36massign_land_use\u001b[0m:\u001b[36m44\u001b[0m - \u001b[1mOverlaying geometries\u001b[0m\n",
      "\u001b[32m2025-08-15 18:58:34.661\u001b[0m | \u001b[32m\u001b[1mSUCCESS \u001b[0m | \u001b[36mblocksnet.blocks.assignment.core\u001b[0m:\u001b[36massign_land_use\u001b[0m:\u001b[36m55\u001b[0m - \u001b[32m\u001b[1mShares calculated\u001b[0m\n"
     ]
    },
    {
     "name": "stdout",
     "output_type": "stream",
     "text": [
      " -> Jessore, Bangladesh\n"
     ]
    },
    {
     "name": "stderr",
     "output_type": "stream",
     "text": [
      "\u001b[32m2025-08-15 18:59:16.932\u001b[0m | \u001b[1mINFO    \u001b[0m | \u001b[36mblocksnet.blocks.cutting.preprocessing.core\u001b[0m:\u001b[36mpreprocess_urban_objects\u001b[0m:\u001b[36m44\u001b[0m - \u001b[1mChecking roads schema\u001b[0m\n",
      "\u001b[32m2025-08-15 18:59:16.950\u001b[0m | \u001b[1mINFO    \u001b[0m | \u001b[36mblocksnet.blocks.cutting.preprocessing.core\u001b[0m:\u001b[36mpreprocess_urban_objects\u001b[0m:\u001b[36m51\u001b[0m - \u001b[1mChecking railways schema\u001b[0m\n",
      "\u001b[32m2025-08-15 18:59:16.970\u001b[0m | \u001b[1mINFO    \u001b[0m | \u001b[36mblocksnet.blocks.cutting.preprocessing.core\u001b[0m:\u001b[36mpreprocess_urban_objects\u001b[0m:\u001b[36m58\u001b[0m - \u001b[1mChecking water schema\u001b[0m\n",
      "\u001b[32m2025-08-15 18:59:16.997\u001b[0m | \u001b[1mINFO    \u001b[0m | \u001b[36mblocksnet.blocks.cutting.processing.core\u001b[0m:\u001b[36mwrapper\u001b[0m:\u001b[36m21\u001b[0m - \u001b[1mChecking boundaries schema\u001b[0m\n",
      "\u001b[32m2025-08-15 18:59:17.008\u001b[0m | \u001b[1mINFO    \u001b[0m | \u001b[36mblocksnet.blocks.cutting.processing.core\u001b[0m:\u001b[36mwrapper\u001b[0m:\u001b[36m25\u001b[0m - \u001b[1mChecking line objects schema\u001b[0m\n",
      "\u001b[32m2025-08-15 18:59:17.030\u001b[0m | \u001b[1mINFO    \u001b[0m | \u001b[36mblocksnet.blocks.cutting.processing.core\u001b[0m:\u001b[36mwrapper\u001b[0m:\u001b[36m31\u001b[0m - \u001b[1mChecking polygon objects schema\u001b[0m\n",
      "\u001b[32m2025-08-15 18:59:17.052\u001b[0m | \u001b[1mINFO    \u001b[0m | \u001b[36mblocksnet.blocks.cutting.processing.core\u001b[0m:\u001b[36m_exclude_polygons\u001b[0m:\u001b[36m45\u001b[0m - \u001b[1mExcluding polygon objects from blocks\u001b[0m\n",
      "\u001b[32m2025-08-15 18:59:17.790\u001b[0m | \u001b[1mINFO    \u001b[0m | \u001b[36mblocksnet.blocks.cutting.processing.core\u001b[0m:\u001b[36m_get_enclosures\u001b[0m:\u001b[36m51\u001b[0m - \u001b[1mSetting up enclosures\u001b[0m\n",
      "\u001b[32m2025-08-15 18:59:18.278\u001b[0m | \u001b[1mINFO    \u001b[0m | \u001b[36mblocksnet.blocks.cutting.processing.core\u001b[0m:\u001b[36m_fill_holes\u001b[0m:\u001b[36m68\u001b[0m - \u001b[1mFilling holes inside the blocks\u001b[0m\n",
      "\u001b[32m2025-08-15 18:59:18.661\u001b[0m | \u001b[1mINFO    \u001b[0m | \u001b[36mblocksnet.blocks.cutting.processing.core\u001b[0m:\u001b[36m_filter_overlapping\u001b[0m:\u001b[36m78\u001b[0m - \u001b[1mFiltering overlapping geometries\u001b[0m\n",
      "\u001b[32m2025-08-15 18:59:19.240\u001b[0m | \u001b[32m\u001b[1mSUCCESS \u001b[0m | \u001b[36mblocksnet.blocks.cutting.processing.core\u001b[0m:\u001b[36mcut_urban_blocks\u001b[0m:\u001b[36m118\u001b[0m - \u001b[32m\u001b[1mBlocks are successfully cut!\u001b[0m\n",
      "\u001b[32m2025-08-15 18:59:22.506\u001b[0m | \u001b[1mINFO    \u001b[0m | \u001b[36mblocksnet.blocks.assignment.core\u001b[0m:\u001b[36massign_land_use\u001b[0m:\u001b[36m44\u001b[0m - \u001b[1mOverlaying geometries\u001b[0m\n",
      "\u001b[32m2025-08-15 18:59:22.577\u001b[0m | \u001b[32m\u001b[1mSUCCESS \u001b[0m | \u001b[36mblocksnet.blocks.assignment.core\u001b[0m:\u001b[36massign_land_use\u001b[0m:\u001b[36m55\u001b[0m - \u001b[32m\u001b[1mShares calculated\u001b[0m\n"
     ]
    },
    {
     "name": "stdout",
     "output_type": "stream",
     "text": [
      " -> Nāgarpur, Bangladesh\n"
     ]
    },
    {
     "name": "stderr",
     "output_type": "stream",
     "text": [
      "\u001b[32m2025-08-15 18:59:48.120\u001b[0m | \u001b[1mINFO    \u001b[0m | \u001b[36mblocksnet.blocks.cutting.preprocessing.core\u001b[0m:\u001b[36mpreprocess_urban_objects\u001b[0m:\u001b[36m44\u001b[0m - \u001b[1mChecking roads schema\u001b[0m\n",
      "\u001b[32m2025-08-15 18:59:48.144\u001b[0m | \u001b[1mINFO    \u001b[0m | \u001b[36mblocksnet.blocks.cutting.preprocessing.core\u001b[0m:\u001b[36mpreprocess_urban_objects\u001b[0m:\u001b[36m51\u001b[0m - \u001b[1mChecking railways schema\u001b[0m\n",
      "\u001b[32m2025-08-15 18:59:48.147\u001b[0m | \u001b[33m\u001b[1mWARNING \u001b[0m | \u001b[36mblocksnet.blocks.cutting.preprocessing.core\u001b[0m:\u001b[36mpreprocess_urban_objects\u001b[0m:\u001b[36m53\u001b[0m - \u001b[33m\u001b[1mRailways GeoDataFrame is None. Creating empty\u001b[0m\n",
      "\u001b[32m2025-08-15 18:59:48.154\u001b[0m | \u001b[1mINFO    \u001b[0m | \u001b[36mblocksnet.blocks.cutting.preprocessing.core\u001b[0m:\u001b[36mpreprocess_urban_objects\u001b[0m:\u001b[36m58\u001b[0m - \u001b[1mChecking water schema\u001b[0m\n",
      "\u001b[32m2025-08-15 18:59:48.178\u001b[0m | \u001b[1mINFO    \u001b[0m | \u001b[36mblocksnet.blocks.cutting.processing.core\u001b[0m:\u001b[36mwrapper\u001b[0m:\u001b[36m21\u001b[0m - \u001b[1mChecking boundaries schema\u001b[0m\n",
      "\u001b[32m2025-08-15 18:59:48.191\u001b[0m | \u001b[1mINFO    \u001b[0m | \u001b[36mblocksnet.blocks.cutting.processing.core\u001b[0m:\u001b[36mwrapper\u001b[0m:\u001b[36m25\u001b[0m - \u001b[1mChecking line objects schema\u001b[0m\n",
      "\u001b[32m2025-08-15 18:59:48.208\u001b[0m | \u001b[1mINFO    \u001b[0m | \u001b[36mblocksnet.blocks.cutting.processing.core\u001b[0m:\u001b[36mwrapper\u001b[0m:\u001b[36m31\u001b[0m - \u001b[1mChecking polygon objects schema\u001b[0m\n",
      "\u001b[32m2025-08-15 18:59:48.224\u001b[0m | \u001b[1mINFO    \u001b[0m | \u001b[36mblocksnet.blocks.cutting.processing.core\u001b[0m:\u001b[36m_exclude_polygons\u001b[0m:\u001b[36m45\u001b[0m - \u001b[1mExcluding polygon objects from blocks\u001b[0m\n",
      "\u001b[32m2025-08-15 18:59:48.358\u001b[0m | \u001b[1mINFO    \u001b[0m | \u001b[36mblocksnet.blocks.cutting.processing.core\u001b[0m:\u001b[36m_get_enclosures\u001b[0m:\u001b[36m51\u001b[0m - \u001b[1mSetting up enclosures\u001b[0m\n",
      "\u001b[32m2025-08-15 18:59:48.407\u001b[0m | \u001b[1mINFO    \u001b[0m | \u001b[36mblocksnet.blocks.cutting.processing.core\u001b[0m:\u001b[36m_fill_holes\u001b[0m:\u001b[36m68\u001b[0m - \u001b[1mFilling holes inside the blocks\u001b[0m\n",
      "\u001b[32m2025-08-15 18:59:48.477\u001b[0m | \u001b[1mINFO    \u001b[0m | \u001b[36mblocksnet.blocks.cutting.processing.core\u001b[0m:\u001b[36m_filter_overlapping\u001b[0m:\u001b[36m78\u001b[0m - \u001b[1mFiltering overlapping geometries\u001b[0m\n",
      "\u001b[32m2025-08-15 18:59:48.550\u001b[0m | \u001b[32m\u001b[1mSUCCESS \u001b[0m | \u001b[36mblocksnet.blocks.cutting.processing.core\u001b[0m:\u001b[36mcut_urban_blocks\u001b[0m:\u001b[36m118\u001b[0m - \u001b[32m\u001b[1mBlocks are successfully cut!\u001b[0m\n",
      "\u001b[32m2025-08-15 18:59:54.382\u001b[0m | \u001b[1mINFO    \u001b[0m | \u001b[36mblocksnet.blocks.assignment.core\u001b[0m:\u001b[36massign_land_use\u001b[0m:\u001b[36m44\u001b[0m - \u001b[1mOverlaying geometries\u001b[0m\n",
      "\u001b[32m2025-08-15 18:59:54.412\u001b[0m | \u001b[32m\u001b[1mSUCCESS \u001b[0m | \u001b[36mblocksnet.blocks.assignment.core\u001b[0m:\u001b[36massign_land_use\u001b[0m:\u001b[36m55\u001b[0m - \u001b[32m\u001b[1mShares calculated\u001b[0m\n"
     ]
    },
    {
     "name": "stdout",
     "output_type": "stream",
     "text": [
      " -> Sylhet, Bangladesh\n"
     ]
    },
    {
     "name": "stderr",
     "output_type": "stream",
     "text": [
      "\u001b[32m2025-08-15 19:04:33.039\u001b[0m | \u001b[1mINFO    \u001b[0m | \u001b[36mblocksnet.blocks.cutting.preprocessing.core\u001b[0m:\u001b[36mpreprocess_urban_objects\u001b[0m:\u001b[36m44\u001b[0m - \u001b[1mChecking roads schema\u001b[0m\n",
      "\u001b[32m2025-08-15 19:04:33.245\u001b[0m | \u001b[1mINFO    \u001b[0m | \u001b[36mblocksnet.blocks.cutting.preprocessing.core\u001b[0m:\u001b[36mpreprocess_urban_objects\u001b[0m:\u001b[36m51\u001b[0m - \u001b[1mChecking railways schema\u001b[0m\n",
      "\u001b[32m2025-08-15 19:04:33.245\u001b[0m | \u001b[1mINFO    \u001b[0m | \u001b[36mblocksnet.blocks.cutting.preprocessing.core\u001b[0m:\u001b[36mpreprocess_urban_objects\u001b[0m:\u001b[36m58\u001b[0m - \u001b[1mChecking water schema\u001b[0m\n",
      "\u001b[32m2025-08-15 19:04:33.360\u001b[0m | \u001b[1mINFO    \u001b[0m | \u001b[36mblocksnet.blocks.cutting.processing.core\u001b[0m:\u001b[36mwrapper\u001b[0m:\u001b[36m21\u001b[0m - \u001b[1mChecking boundaries schema\u001b[0m\n",
      "\u001b[32m2025-08-15 19:04:33.377\u001b[0m | \u001b[1mINFO    \u001b[0m | \u001b[36mblocksnet.blocks.cutting.processing.core\u001b[0m:\u001b[36mwrapper\u001b[0m:\u001b[36m25\u001b[0m - \u001b[1mChecking line objects schema\u001b[0m\n",
      "\u001b[32m2025-08-15 19:04:33.650\u001b[0m | \u001b[1mINFO    \u001b[0m | \u001b[36mblocksnet.blocks.cutting.processing.core\u001b[0m:\u001b[36mwrapper\u001b[0m:\u001b[36m31\u001b[0m - \u001b[1mChecking polygon objects schema\u001b[0m\n",
      "\u001b[32m2025-08-15 19:04:33.710\u001b[0m | \u001b[1mINFO    \u001b[0m | \u001b[36mblocksnet.blocks.cutting.processing.core\u001b[0m:\u001b[36m_exclude_polygons\u001b[0m:\u001b[36m45\u001b[0m - \u001b[1mExcluding polygon objects from blocks\u001b[0m\n",
      "\u001b[32m2025-08-15 19:04:39.287\u001b[0m | \u001b[1mINFO    \u001b[0m | \u001b[36mblocksnet.blocks.cutting.processing.core\u001b[0m:\u001b[36m_get_enclosures\u001b[0m:\u001b[36m51\u001b[0m - \u001b[1mSetting up enclosures\u001b[0m\n",
      "\u001b[32m2025-08-15 19:04:46.150\u001b[0m | \u001b[1mINFO    \u001b[0m | \u001b[36mblocksnet.blocks.cutting.processing.core\u001b[0m:\u001b[36m_fill_holes\u001b[0m:\u001b[36m68\u001b[0m - \u001b[1mFilling holes inside the blocks\u001b[0m\n",
      "\u001b[32m2025-08-15 19:04:47.264\u001b[0m | \u001b[1mINFO    \u001b[0m | \u001b[36mblocksnet.blocks.cutting.processing.core\u001b[0m:\u001b[36m_filter_overlapping\u001b[0m:\u001b[36m78\u001b[0m - \u001b[1mFiltering overlapping geometries\u001b[0m\n",
      "\u001b[32m2025-08-15 19:04:55.107\u001b[0m | \u001b[32m\u001b[1mSUCCESS \u001b[0m | \u001b[36mblocksnet.blocks.cutting.processing.core\u001b[0m:\u001b[36mcut_urban_blocks\u001b[0m:\u001b[36m118\u001b[0m - \u001b[32m\u001b[1mBlocks are successfully cut!\u001b[0m\n",
      "\u001b[32m2025-08-15 19:05:19.867\u001b[0m | \u001b[1mINFO    \u001b[0m | \u001b[36mblocksnet.blocks.assignment.core\u001b[0m:\u001b[36massign_land_use\u001b[0m:\u001b[36m44\u001b[0m - \u001b[1mOverlaying geometries\u001b[0m\n",
      "\u001b[32m2025-08-15 19:05:21.585\u001b[0m | \u001b[32m\u001b[1mSUCCESS \u001b[0m | \u001b[36mblocksnet.blocks.assignment.core\u001b[0m:\u001b[36massign_land_use\u001b[0m:\u001b[36m55\u001b[0m - \u001b[32m\u001b[1mShares calculated\u001b[0m\n"
     ]
    },
    {
     "name": "stdout",
     "output_type": "stream",
     "text": [
      " -> Mymensingh, Bangladesh\n"
     ]
    },
    {
     "name": "stderr",
     "output_type": "stream",
     "text": [
      "\u001b[32m2025-08-15 19:09:15.824\u001b[0m | \u001b[1mINFO    \u001b[0m | \u001b[36mblocksnet.blocks.cutting.preprocessing.core\u001b[0m:\u001b[36mpreprocess_urban_objects\u001b[0m:\u001b[36m44\u001b[0m - \u001b[1mChecking roads schema\u001b[0m\n",
      "\u001b[32m2025-08-15 19:09:15.937\u001b[0m | \u001b[1mINFO    \u001b[0m | \u001b[36mblocksnet.blocks.cutting.preprocessing.core\u001b[0m:\u001b[36mpreprocess_urban_objects\u001b[0m:\u001b[36m51\u001b[0m - \u001b[1mChecking railways schema\u001b[0m\n",
      "\u001b[32m2025-08-15 19:09:15.941\u001b[0m | \u001b[1mINFO    \u001b[0m | \u001b[36mblocksnet.blocks.cutting.preprocessing.core\u001b[0m:\u001b[36mpreprocess_urban_objects\u001b[0m:\u001b[36m58\u001b[0m - \u001b[1mChecking water schema\u001b[0m\n",
      "\u001b[32m2025-08-15 19:09:16.088\u001b[0m | \u001b[1mINFO    \u001b[0m | \u001b[36mblocksnet.blocks.cutting.processing.core\u001b[0m:\u001b[36mwrapper\u001b[0m:\u001b[36m21\u001b[0m - \u001b[1mChecking boundaries schema\u001b[0m\n",
      "\u001b[32m2025-08-15 19:09:16.104\u001b[0m | \u001b[1mINFO    \u001b[0m | \u001b[36mblocksnet.blocks.cutting.processing.core\u001b[0m:\u001b[36mwrapper\u001b[0m:\u001b[36m25\u001b[0m - \u001b[1mChecking line objects schema\u001b[0m\n",
      "\u001b[32m2025-08-15 19:09:16.297\u001b[0m | \u001b[1mINFO    \u001b[0m | \u001b[36mblocksnet.blocks.cutting.processing.core\u001b[0m:\u001b[36mwrapper\u001b[0m:\u001b[36m31\u001b[0m - \u001b[1mChecking polygon objects schema\u001b[0m\n",
      "\u001b[32m2025-08-15 19:09:16.389\u001b[0m | \u001b[1mINFO    \u001b[0m | \u001b[36mblocksnet.blocks.cutting.processing.core\u001b[0m:\u001b[36m_exclude_polygons\u001b[0m:\u001b[36m45\u001b[0m - \u001b[1mExcluding polygon objects from blocks\u001b[0m\n",
      "\u001b[32m2025-08-15 19:09:34.740\u001b[0m | \u001b[1mINFO    \u001b[0m | \u001b[36mblocksnet.blocks.cutting.processing.core\u001b[0m:\u001b[36m_get_enclosures\u001b[0m:\u001b[36m51\u001b[0m - \u001b[1mSetting up enclosures\u001b[0m\n",
      "\u001b[32m2025-08-15 19:09:41.291\u001b[0m | \u001b[1mINFO    \u001b[0m | \u001b[36mblocksnet.blocks.cutting.processing.core\u001b[0m:\u001b[36m_fill_holes\u001b[0m:\u001b[36m68\u001b[0m - \u001b[1mFilling holes inside the blocks\u001b[0m\n",
      "\u001b[32m2025-08-15 19:09:44.825\u001b[0m | \u001b[1mINFO    \u001b[0m | \u001b[36mblocksnet.blocks.cutting.processing.core\u001b[0m:\u001b[36m_filter_overlapping\u001b[0m:\u001b[36m78\u001b[0m - \u001b[1mFiltering overlapping geometries\u001b[0m\n",
      "\u001b[32m2025-08-15 19:09:51.159\u001b[0m | \u001b[32m\u001b[1mSUCCESS \u001b[0m | \u001b[36mblocksnet.blocks.cutting.processing.core\u001b[0m:\u001b[36mcut_urban_blocks\u001b[0m:\u001b[36m118\u001b[0m - \u001b[32m\u001b[1mBlocks are successfully cut!\u001b[0m\n",
      "\u001b[32m2025-08-15 19:10:15.708\u001b[0m | \u001b[1mINFO    \u001b[0m | \u001b[36mblocksnet.blocks.assignment.core\u001b[0m:\u001b[36massign_land_use\u001b[0m:\u001b[36m44\u001b[0m - \u001b[1mOverlaying geometries\u001b[0m\n",
      "\u001b[32m2025-08-15 19:10:18.294\u001b[0m | \u001b[32m\u001b[1mSUCCESS \u001b[0m | \u001b[36mblocksnet.blocks.assignment.core\u001b[0m:\u001b[36massign_land_use\u001b[0m:\u001b[36m55\u001b[0m - \u001b[32m\u001b[1mShares calculated\u001b[0m\n"
     ]
    },
    {
     "name": "stdout",
     "output_type": "stream",
     "text": [
      " -> Nārāyanganj, Bangladesh\n"
     ]
    },
    {
     "name": "stderr",
     "output_type": "stream",
     "text": [
      "\u001b[32m2025-08-15 19:11:05.491\u001b[0m | \u001b[1mINFO    \u001b[0m | \u001b[36mblocksnet.blocks.cutting.preprocessing.core\u001b[0m:\u001b[36mpreprocess_urban_objects\u001b[0m:\u001b[36m44\u001b[0m - \u001b[1mChecking roads schema\u001b[0m\n",
      "\u001b[32m2025-08-15 19:11:05.546\u001b[0m | \u001b[1mINFO    \u001b[0m | \u001b[36mblocksnet.blocks.cutting.preprocessing.core\u001b[0m:\u001b[36mpreprocess_urban_objects\u001b[0m:\u001b[36m51\u001b[0m - \u001b[1mChecking railways schema\u001b[0m\n",
      "\u001b[32m2025-08-15 19:11:05.568\u001b[0m | \u001b[1mINFO    \u001b[0m | \u001b[36mblocksnet.blocks.cutting.preprocessing.core\u001b[0m:\u001b[36mpreprocess_urban_objects\u001b[0m:\u001b[36m58\u001b[0m - \u001b[1mChecking water schema\u001b[0m\n",
      "\u001b[32m2025-08-15 19:11:05.602\u001b[0m | \u001b[1mINFO    \u001b[0m | \u001b[36mblocksnet.blocks.cutting.processing.core\u001b[0m:\u001b[36mwrapper\u001b[0m:\u001b[36m21\u001b[0m - \u001b[1mChecking boundaries schema\u001b[0m\n",
      "\u001b[32m2025-08-15 19:11:05.612\u001b[0m | \u001b[1mINFO    \u001b[0m | \u001b[36mblocksnet.blocks.cutting.processing.core\u001b[0m:\u001b[36mwrapper\u001b[0m:\u001b[36m25\u001b[0m - \u001b[1mChecking line objects schema\u001b[0m\n",
      "\u001b[32m2025-08-15 19:11:05.644\u001b[0m | \u001b[1mINFO    \u001b[0m | \u001b[36mblocksnet.blocks.cutting.processing.core\u001b[0m:\u001b[36mwrapper\u001b[0m:\u001b[36m31\u001b[0m - \u001b[1mChecking polygon objects schema\u001b[0m\n",
      "\u001b[32m2025-08-15 19:11:05.661\u001b[0m | \u001b[1mINFO    \u001b[0m | \u001b[36mblocksnet.blocks.cutting.processing.core\u001b[0m:\u001b[36m_exclude_polygons\u001b[0m:\u001b[36m45\u001b[0m - \u001b[1mExcluding polygon objects from blocks\u001b[0m\n",
      "\u001b[32m2025-08-15 19:11:07.229\u001b[0m | \u001b[1mINFO    \u001b[0m | \u001b[36mblocksnet.blocks.cutting.processing.core\u001b[0m:\u001b[36m_get_enclosures\u001b[0m:\u001b[36m51\u001b[0m - \u001b[1mSetting up enclosures\u001b[0m\n",
      "\u001b[32m2025-08-15 19:11:08.433\u001b[0m | \u001b[1mINFO    \u001b[0m | \u001b[36mblocksnet.blocks.cutting.processing.core\u001b[0m:\u001b[36m_fill_holes\u001b[0m:\u001b[36m68\u001b[0m - \u001b[1mFilling holes inside the blocks\u001b[0m\n",
      "\u001b[32m2025-08-15 19:11:09.110\u001b[0m | \u001b[1mINFO    \u001b[0m | \u001b[36mblocksnet.blocks.cutting.processing.core\u001b[0m:\u001b[36m_filter_overlapping\u001b[0m:\u001b[36m78\u001b[0m - \u001b[1mFiltering overlapping geometries\u001b[0m\n",
      "\u001b[32m2025-08-15 19:11:10.274\u001b[0m | \u001b[32m\u001b[1mSUCCESS \u001b[0m | \u001b[36mblocksnet.blocks.cutting.processing.core\u001b[0m:\u001b[36mcut_urban_blocks\u001b[0m:\u001b[36m118\u001b[0m - \u001b[32m\u001b[1mBlocks are successfully cut!\u001b[0m\n",
      "\u001b[32m2025-08-15 19:11:15.594\u001b[0m | \u001b[1mINFO    \u001b[0m | \u001b[36mblocksnet.blocks.assignment.core\u001b[0m:\u001b[36massign_land_use\u001b[0m:\u001b[36m44\u001b[0m - \u001b[1mOverlaying geometries\u001b[0m\n",
      "\u001b[32m2025-08-15 19:11:15.708\u001b[0m | \u001b[32m\u001b[1mSUCCESS \u001b[0m | \u001b[36mblocksnet.blocks.assignment.core\u001b[0m:\u001b[36massign_land_use\u001b[0m:\u001b[36m55\u001b[0m - \u001b[32m\u001b[1mShares calculated\u001b[0m\n"
     ]
    },
    {
     "name": "stdout",
     "output_type": "stream",
     "text": [
      " -> Bogra, Bangladesh\n"
     ]
    },
    {
     "name": "stderr",
     "output_type": "stream",
     "text": [
      "\u001b[32m2025-08-15 19:12:16.258\u001b[0m | \u001b[1mINFO    \u001b[0m | \u001b[36mblocksnet.blocks.cutting.preprocessing.core\u001b[0m:\u001b[36mpreprocess_urban_objects\u001b[0m:\u001b[36m44\u001b[0m - \u001b[1mChecking roads schema\u001b[0m\n",
      "\u001b[32m2025-08-15 19:12:16.294\u001b[0m | \u001b[1mINFO    \u001b[0m | \u001b[36mblocksnet.blocks.cutting.preprocessing.core\u001b[0m:\u001b[36mpreprocess_urban_objects\u001b[0m:\u001b[36m51\u001b[0m - \u001b[1mChecking railways schema\u001b[0m\n",
      "\u001b[32m2025-08-15 19:12:16.305\u001b[0m | \u001b[1mINFO    \u001b[0m | \u001b[36mblocksnet.blocks.cutting.preprocessing.core\u001b[0m:\u001b[36mpreprocess_urban_objects\u001b[0m:\u001b[36m58\u001b[0m - \u001b[1mChecking water schema\u001b[0m\n",
      "\u001b[32m2025-08-15 19:12:16.328\u001b[0m | \u001b[1mINFO    \u001b[0m | \u001b[36mblocksnet.blocks.cutting.processing.core\u001b[0m:\u001b[36mwrapper\u001b[0m:\u001b[36m21\u001b[0m - \u001b[1mChecking boundaries schema\u001b[0m\n",
      "\u001b[32m2025-08-15 19:12:16.338\u001b[0m | \u001b[1mINFO    \u001b[0m | \u001b[36mblocksnet.blocks.cutting.processing.core\u001b[0m:\u001b[36mwrapper\u001b[0m:\u001b[36m25\u001b[0m - \u001b[1mChecking line objects schema\u001b[0m\n",
      "\u001b[32m2025-08-15 19:12:16.390\u001b[0m | \u001b[1mINFO    \u001b[0m | \u001b[36mblocksnet.blocks.cutting.processing.core\u001b[0m:\u001b[36mwrapper\u001b[0m:\u001b[36m31\u001b[0m - \u001b[1mChecking polygon objects schema\u001b[0m\n",
      "\u001b[32m2025-08-15 19:12:16.409\u001b[0m | \u001b[1mINFO    \u001b[0m | \u001b[36mblocksnet.blocks.cutting.processing.core\u001b[0m:\u001b[36m_exclude_polygons\u001b[0m:\u001b[36m45\u001b[0m - \u001b[1mExcluding polygon objects from blocks\u001b[0m\n",
      "\u001b[32m2025-08-15 19:12:16.869\u001b[0m | \u001b[1mINFO    \u001b[0m | \u001b[36mblocksnet.blocks.cutting.processing.core\u001b[0m:\u001b[36m_get_enclosures\u001b[0m:\u001b[36m51\u001b[0m - \u001b[1mSetting up enclosures\u001b[0m\n",
      "\u001b[32m2025-08-15 19:12:17.493\u001b[0m | \u001b[1mINFO    \u001b[0m | \u001b[36mblocksnet.blocks.cutting.processing.core\u001b[0m:\u001b[36m_fill_holes\u001b[0m:\u001b[36m68\u001b[0m - \u001b[1mFilling holes inside the blocks\u001b[0m\n",
      "\u001b[32m2025-08-15 19:12:17.677\u001b[0m | \u001b[1mINFO    \u001b[0m | \u001b[36mblocksnet.blocks.cutting.processing.core\u001b[0m:\u001b[36m_filter_overlapping\u001b[0m:\u001b[36m78\u001b[0m - \u001b[1mFiltering overlapping geometries\u001b[0m\n",
      "\u001b[32m2025-08-15 19:12:18.251\u001b[0m | \u001b[32m\u001b[1mSUCCESS \u001b[0m | \u001b[36mblocksnet.blocks.cutting.processing.core\u001b[0m:\u001b[36mcut_urban_blocks\u001b[0m:\u001b[36m118\u001b[0m - \u001b[32m\u001b[1mBlocks are successfully cut!\u001b[0m\n",
      "\u001b[32m2025-08-15 19:12:24.496\u001b[0m | \u001b[1mINFO    \u001b[0m | \u001b[36mblocksnet.blocks.assignment.core\u001b[0m:\u001b[36massign_land_use\u001b[0m:\u001b[36m44\u001b[0m - \u001b[1mOverlaying geometries\u001b[0m\n",
      "\u001b[32m2025-08-15 19:12:24.761\u001b[0m | \u001b[32m\u001b[1mSUCCESS \u001b[0m | \u001b[36mblocksnet.blocks.assignment.core\u001b[0m:\u001b[36massign_land_use\u001b[0m:\u001b[36m55\u001b[0m - \u001b[32m\u001b[1mShares calculated\u001b[0m\n"
     ]
    },
    {
     "name": "stdout",
     "output_type": "stream",
     "text": [
      " -> Dinajpur, Bangladesh\n"
     ]
    },
    {
     "name": "stderr",
     "output_type": "stream",
     "text": [
      "\u001b[32m2025-08-15 19:13:32.692\u001b[0m | \u001b[1mINFO    \u001b[0m | \u001b[36mblocksnet.blocks.cutting.preprocessing.core\u001b[0m:\u001b[36mpreprocess_urban_objects\u001b[0m:\u001b[36m44\u001b[0m - \u001b[1mChecking roads schema\u001b[0m\n",
      "\u001b[32m2025-08-15 19:13:32.781\u001b[0m | \u001b[1mINFO    \u001b[0m | \u001b[36mblocksnet.blocks.cutting.preprocessing.core\u001b[0m:\u001b[36mpreprocess_urban_objects\u001b[0m:\u001b[36m51\u001b[0m - \u001b[1mChecking railways schema\u001b[0m\n",
      "\u001b[32m2025-08-15 19:13:32.807\u001b[0m | \u001b[1mINFO    \u001b[0m | \u001b[36mblocksnet.blocks.cutting.preprocessing.core\u001b[0m:\u001b[36mpreprocess_urban_objects\u001b[0m:\u001b[36m58\u001b[0m - \u001b[1mChecking water schema\u001b[0m\n",
      "\u001b[32m2025-08-15 19:13:32.920\u001b[0m | \u001b[1mINFO    \u001b[0m | \u001b[36mblocksnet.blocks.cutting.processing.core\u001b[0m:\u001b[36mwrapper\u001b[0m:\u001b[36m21\u001b[0m - \u001b[1mChecking boundaries schema\u001b[0m\n",
      "\u001b[32m2025-08-15 19:13:32.920\u001b[0m | \u001b[1mINFO    \u001b[0m | \u001b[36mblocksnet.blocks.cutting.processing.core\u001b[0m:\u001b[36mwrapper\u001b[0m:\u001b[36m25\u001b[0m - \u001b[1mChecking line objects schema\u001b[0m\n",
      "\u001b[32m2025-08-15 19:13:33.028\u001b[0m | \u001b[1mINFO    \u001b[0m | \u001b[36mblocksnet.blocks.cutting.processing.core\u001b[0m:\u001b[36mwrapper\u001b[0m:\u001b[36m31\u001b[0m - \u001b[1mChecking polygon objects schema\u001b[0m\n",
      "\u001b[32m2025-08-15 19:13:33.081\u001b[0m | \u001b[1mINFO    \u001b[0m | \u001b[36mblocksnet.blocks.cutting.processing.core\u001b[0m:\u001b[36m_exclude_polygons\u001b[0m:\u001b[36m45\u001b[0m - \u001b[1mExcluding polygon objects from blocks\u001b[0m\n",
      "\u001b[32m2025-08-15 19:13:37.114\u001b[0m | \u001b[1mINFO    \u001b[0m | \u001b[36mblocksnet.blocks.cutting.processing.core\u001b[0m:\u001b[36m_get_enclosures\u001b[0m:\u001b[36m51\u001b[0m - \u001b[1mSetting up enclosures\u001b[0m\n",
      "\u001b[32m2025-08-15 19:13:40.816\u001b[0m | \u001b[1mINFO    \u001b[0m | \u001b[36mblocksnet.blocks.cutting.processing.core\u001b[0m:\u001b[36m_fill_holes\u001b[0m:\u001b[36m68\u001b[0m - \u001b[1mFilling holes inside the blocks\u001b[0m\n",
      "\u001b[32m2025-08-15 19:13:42.613\u001b[0m | \u001b[1mINFO    \u001b[0m | \u001b[36mblocksnet.blocks.cutting.processing.core\u001b[0m:\u001b[36m_filter_overlapping\u001b[0m:\u001b[36m78\u001b[0m - \u001b[1mFiltering overlapping geometries\u001b[0m\n",
      "\u001b[32m2025-08-15 19:13:46.596\u001b[0m | \u001b[32m\u001b[1mSUCCESS \u001b[0m | \u001b[36mblocksnet.blocks.cutting.processing.core\u001b[0m:\u001b[36mcut_urban_blocks\u001b[0m:\u001b[36m118\u001b[0m - \u001b[32m\u001b[1mBlocks are successfully cut!\u001b[0m\n",
      "\u001b[32m2025-08-15 19:13:59.164\u001b[0m | \u001b[1mINFO    \u001b[0m | \u001b[36mblocksnet.blocks.assignment.core\u001b[0m:\u001b[36massign_land_use\u001b[0m:\u001b[36m44\u001b[0m - \u001b[1mOverlaying geometries\u001b[0m\n",
      "\u001b[32m2025-08-15 19:14:03.488\u001b[0m | \u001b[32m\u001b[1mSUCCESS \u001b[0m | \u001b[36mblocksnet.blocks.assignment.core\u001b[0m:\u001b[36massign_land_use\u001b[0m:\u001b[36m55\u001b[0m - \u001b[32m\u001b[1mShares calculated\u001b[0m\n"
     ]
    },
    {
     "name": "stdout",
     "output_type": "stream",
     "text": [
      " -> Karnaphuli, Bangladesh\n"
     ]
    },
    {
     "name": "stderr",
     "output_type": "stream",
     "text": [
      "\u001b[32m2025-08-15 19:14:57.552\u001b[0m | \u001b[1mINFO    \u001b[0m | \u001b[36mblocksnet.blocks.cutting.preprocessing.core\u001b[0m:\u001b[36mpreprocess_urban_objects\u001b[0m:\u001b[36m44\u001b[0m - \u001b[1mChecking roads schema\u001b[0m\n",
      "\u001b[32m2025-08-15 19:14:57.568\u001b[0m | \u001b[1mINFO    \u001b[0m | \u001b[36mblocksnet.blocks.cutting.preprocessing.core\u001b[0m:\u001b[36mpreprocess_urban_objects\u001b[0m:\u001b[36m51\u001b[0m - \u001b[1mChecking railways schema\u001b[0m\n",
      "\u001b[32m2025-08-15 19:14:57.568\u001b[0m | \u001b[33m\u001b[1mWARNING \u001b[0m | \u001b[36mblocksnet.blocks.cutting.preprocessing.core\u001b[0m:\u001b[36mpreprocess_urban_objects\u001b[0m:\u001b[36m53\u001b[0m - \u001b[33m\u001b[1mRailways GeoDataFrame is None. Creating empty\u001b[0m\n",
      "\u001b[32m2025-08-15 19:14:57.568\u001b[0m | \u001b[1mINFO    \u001b[0m | \u001b[36mblocksnet.blocks.cutting.preprocessing.core\u001b[0m:\u001b[36mpreprocess_urban_objects\u001b[0m:\u001b[36m58\u001b[0m - \u001b[1mChecking water schema\u001b[0m\n",
      "\u001b[32m2025-08-15 19:14:57.591\u001b[0m | \u001b[1mINFO    \u001b[0m | \u001b[36mblocksnet.blocks.cutting.processing.core\u001b[0m:\u001b[36mwrapper\u001b[0m:\u001b[36m21\u001b[0m - \u001b[1mChecking boundaries schema\u001b[0m\n",
      "\u001b[32m2025-08-15 19:14:57.602\u001b[0m | \u001b[1mINFO    \u001b[0m | \u001b[36mblocksnet.blocks.cutting.processing.core\u001b[0m:\u001b[36mwrapper\u001b[0m:\u001b[36m25\u001b[0m - \u001b[1mChecking line objects schema\u001b[0m\n",
      "\u001b[32m2025-08-15 19:14:57.626\u001b[0m | \u001b[1mINFO    \u001b[0m | \u001b[36mblocksnet.blocks.cutting.processing.core\u001b[0m:\u001b[36mwrapper\u001b[0m:\u001b[36m31\u001b[0m - \u001b[1mChecking polygon objects schema\u001b[0m\n",
      "\u001b[32m2025-08-15 19:14:57.650\u001b[0m | \u001b[1mINFO    \u001b[0m | \u001b[36mblocksnet.blocks.cutting.processing.core\u001b[0m:\u001b[36m_exclude_polygons\u001b[0m:\u001b[36m45\u001b[0m - \u001b[1mExcluding polygon objects from blocks\u001b[0m\n",
      "\u001b[32m2025-08-15 19:14:57.692\u001b[0m | \u001b[1mINFO    \u001b[0m | \u001b[36mblocksnet.blocks.cutting.processing.core\u001b[0m:\u001b[36m_get_enclosures\u001b[0m:\u001b[36m51\u001b[0m - \u001b[1mSetting up enclosures\u001b[0m\n",
      "\u001b[32m2025-08-15 19:14:57.699\u001b[0m | \u001b[1mINFO    \u001b[0m | \u001b[36mblocksnet.blocks.cutting.processing.core\u001b[0m:\u001b[36m_fill_holes\u001b[0m:\u001b[36m68\u001b[0m - \u001b[1mFilling holes inside the blocks\u001b[0m\n",
      "\u001b[32m2025-08-15 19:14:57.714\u001b[0m | \u001b[1mINFO    \u001b[0m | \u001b[36mblocksnet.blocks.cutting.processing.core\u001b[0m:\u001b[36m_filter_overlapping\u001b[0m:\u001b[36m78\u001b[0m - \u001b[1mFiltering overlapping geometries\u001b[0m\n",
      "\u001b[32m2025-08-15 19:14:57.715\u001b[0m | \u001b[32m\u001b[1mSUCCESS \u001b[0m | \u001b[36mblocksnet.blocks.cutting.processing.core\u001b[0m:\u001b[36mcut_urban_blocks\u001b[0m:\u001b[36m118\u001b[0m - \u001b[32m\u001b[1mBlocks are successfully cut!\u001b[0m\n"
     ]
    },
    {
     "name": "stdout",
     "output_type": "stream",
     "text": [
      "    [skip] Karnaphuli, Bangladesh: Rows count must be greater than 0\n",
      " -> Chāndpur, Bangladesh\n"
     ]
    },
    {
     "name": "stderr",
     "output_type": "stream",
     "text": [
      "\u001b[32m2025-08-15 19:15:18.751\u001b[0m | \u001b[1mINFO    \u001b[0m | \u001b[36mblocksnet.blocks.cutting.preprocessing.core\u001b[0m:\u001b[36mpreprocess_urban_objects\u001b[0m:\u001b[36m44\u001b[0m - \u001b[1mChecking roads schema\u001b[0m\n",
      "\u001b[32m2025-08-15 19:15:18.774\u001b[0m | \u001b[1mINFO    \u001b[0m | \u001b[36mblocksnet.blocks.cutting.preprocessing.core\u001b[0m:\u001b[36mpreprocess_urban_objects\u001b[0m:\u001b[36m51\u001b[0m - \u001b[1mChecking railways schema\u001b[0m\n",
      "\u001b[32m2025-08-15 19:15:18.776\u001b[0m | \u001b[33m\u001b[1mWARNING \u001b[0m | \u001b[36mblocksnet.blocks.cutting.preprocessing.core\u001b[0m:\u001b[36mpreprocess_urban_objects\u001b[0m:\u001b[36m53\u001b[0m - \u001b[33m\u001b[1mRailways GeoDataFrame is None. Creating empty\u001b[0m\n",
      "\u001b[32m2025-08-15 19:15:18.783\u001b[0m | \u001b[1mINFO    \u001b[0m | \u001b[36mblocksnet.blocks.cutting.preprocessing.core\u001b[0m:\u001b[36mpreprocess_urban_objects\u001b[0m:\u001b[36m58\u001b[0m - \u001b[1mChecking water schema\u001b[0m\n",
      "\u001b[32m2025-08-15 19:15:18.784\u001b[0m | \u001b[33m\u001b[1mWARNING \u001b[0m | \u001b[36mblocksnet.blocks.cutting.preprocessing.core\u001b[0m:\u001b[36mpreprocess_urban_objects\u001b[0m:\u001b[36m60\u001b[0m - \u001b[33m\u001b[1mWater GeoDataFrame is None. Creating empty\u001b[0m\n",
      "\u001b[32m2025-08-15 19:15:18.797\u001b[0m | \u001b[1mINFO    \u001b[0m | \u001b[36mblocksnet.blocks.cutting.processing.core\u001b[0m:\u001b[36mwrapper\u001b[0m:\u001b[36m21\u001b[0m - \u001b[1mChecking boundaries schema\u001b[0m\n",
      "\u001b[32m2025-08-15 19:15:18.811\u001b[0m | \u001b[1mINFO    \u001b[0m | \u001b[36mblocksnet.blocks.cutting.processing.core\u001b[0m:\u001b[36mwrapper\u001b[0m:\u001b[36m25\u001b[0m - \u001b[1mChecking line objects schema\u001b[0m\n",
      "\u001b[32m2025-08-15 19:15:18.831\u001b[0m | \u001b[1mINFO    \u001b[0m | \u001b[36mblocksnet.blocks.cutting.processing.core\u001b[0m:\u001b[36mwrapper\u001b[0m:\u001b[36m31\u001b[0m - \u001b[1mChecking polygon objects schema\u001b[0m\n"
     ]
    },
    {
     "name": "stdout",
     "output_type": "stream",
     "text": [
      "    [skip] Chāndpur, Bangladesh: Rows count must be greater than 0\n",
      " -> Barishal, Bangladesh\n"
     ]
    },
    {
     "name": "stderr",
     "output_type": "stream",
     "text": [
      "\u001b[32m2025-08-15 19:15:33.660\u001b[0m | \u001b[1mINFO    \u001b[0m | \u001b[36mblocksnet.blocks.cutting.preprocessing.core\u001b[0m:\u001b[36mpreprocess_urban_objects\u001b[0m:\u001b[36m44\u001b[0m - \u001b[1mChecking roads schema\u001b[0m\n",
      "\u001b[32m2025-08-15 19:15:33.683\u001b[0m | \u001b[1mINFO    \u001b[0m | \u001b[36mblocksnet.blocks.cutting.preprocessing.core\u001b[0m:\u001b[36mpreprocess_urban_objects\u001b[0m:\u001b[36m51\u001b[0m - \u001b[1mChecking railways schema\u001b[0m\n",
      "\u001b[32m2025-08-15 19:15:33.684\u001b[0m | \u001b[33m\u001b[1mWARNING \u001b[0m | \u001b[36mblocksnet.blocks.cutting.preprocessing.core\u001b[0m:\u001b[36mpreprocess_urban_objects\u001b[0m:\u001b[36m53\u001b[0m - \u001b[33m\u001b[1mRailways GeoDataFrame is None. Creating empty\u001b[0m\n",
      "\u001b[32m2025-08-15 19:15:33.689\u001b[0m | \u001b[1mINFO    \u001b[0m | \u001b[36mblocksnet.blocks.cutting.preprocessing.core\u001b[0m:\u001b[36mpreprocess_urban_objects\u001b[0m:\u001b[36m58\u001b[0m - \u001b[1mChecking water schema\u001b[0m\n",
      "\u001b[32m2025-08-15 19:15:33.707\u001b[0m | \u001b[1mINFO    \u001b[0m | \u001b[36mblocksnet.blocks.cutting.processing.core\u001b[0m:\u001b[36mwrapper\u001b[0m:\u001b[36m21\u001b[0m - \u001b[1mChecking boundaries schema\u001b[0m\n",
      "\u001b[32m2025-08-15 19:15:33.722\u001b[0m | \u001b[1mINFO    \u001b[0m | \u001b[36mblocksnet.blocks.cutting.processing.core\u001b[0m:\u001b[36mwrapper\u001b[0m:\u001b[36m25\u001b[0m - \u001b[1mChecking line objects schema\u001b[0m\n",
      "\u001b[32m2025-08-15 19:15:33.740\u001b[0m | \u001b[1mINFO    \u001b[0m | \u001b[36mblocksnet.blocks.cutting.processing.core\u001b[0m:\u001b[36mwrapper\u001b[0m:\u001b[36m31\u001b[0m - \u001b[1mChecking polygon objects schema\u001b[0m\n",
      "\u001b[32m2025-08-15 19:15:33.755\u001b[0m | \u001b[1mINFO    \u001b[0m | \u001b[36mblocksnet.blocks.cutting.processing.core\u001b[0m:\u001b[36m_exclude_polygons\u001b[0m:\u001b[36m45\u001b[0m - \u001b[1mExcluding polygon objects from blocks\u001b[0m\n",
      "\u001b[32m2025-08-15 19:15:33.769\u001b[0m | \u001b[1mINFO    \u001b[0m | \u001b[36mblocksnet.blocks.cutting.processing.core\u001b[0m:\u001b[36m_get_enclosures\u001b[0m:\u001b[36m51\u001b[0m - \u001b[1mSetting up enclosures\u001b[0m\n",
      "\u001b[32m2025-08-15 19:15:33.777\u001b[0m | \u001b[1mINFO    \u001b[0m | \u001b[36mblocksnet.blocks.cutting.processing.core\u001b[0m:\u001b[36m_fill_holes\u001b[0m:\u001b[36m68\u001b[0m - \u001b[1mFilling holes inside the blocks\u001b[0m\n",
      "\u001b[32m2025-08-15 19:15:33.789\u001b[0m | \u001b[1mINFO    \u001b[0m | \u001b[36mblocksnet.blocks.cutting.processing.core\u001b[0m:\u001b[36m_filter_overlapping\u001b[0m:\u001b[36m78\u001b[0m - \u001b[1mFiltering overlapping geometries\u001b[0m\n",
      "\u001b[32m2025-08-15 19:15:33.792\u001b[0m | \u001b[32m\u001b[1mSUCCESS \u001b[0m | \u001b[36mblocksnet.blocks.cutting.processing.core\u001b[0m:\u001b[36mcut_urban_blocks\u001b[0m:\u001b[36m118\u001b[0m - \u001b[32m\u001b[1mBlocks are successfully cut!\u001b[0m\n",
      "\u001b[32m2025-08-15 19:15:38.635\u001b[0m | \u001b[1mINFO    \u001b[0m | \u001b[36mblocksnet.blocks.assignment.core\u001b[0m:\u001b[36massign_land_use\u001b[0m:\u001b[36m44\u001b[0m - \u001b[1mOverlaying geometries\u001b[0m\n",
      "\u001b[32m2025-08-15 19:15:38.666\u001b[0m | \u001b[32m\u001b[1mSUCCESS \u001b[0m | \u001b[36mblocksnet.blocks.assignment.core\u001b[0m:\u001b[36massign_land_use\u001b[0m:\u001b[36m55\u001b[0m - \u001b[32m\u001b[1mShares calculated\u001b[0m\n"
     ]
    },
    {
     "name": "stdout",
     "output_type": "stream",
     "text": [
      " -> Saidpur, Bangladesh\n"
     ]
    },
    {
     "name": "stderr",
     "output_type": "stream",
     "text": [
      "\u001b[32m2025-08-15 19:16:02.169\u001b[0m | \u001b[1mINFO    \u001b[0m | \u001b[36mblocksnet.blocks.cutting.preprocessing.core\u001b[0m:\u001b[36mpreprocess_urban_objects\u001b[0m:\u001b[36m44\u001b[0m - \u001b[1mChecking roads schema\u001b[0m\n",
      "\u001b[32m2025-08-15 19:16:02.185\u001b[0m | \u001b[1mINFO    \u001b[0m | \u001b[36mblocksnet.blocks.cutting.preprocessing.core\u001b[0m:\u001b[36mpreprocess_urban_objects\u001b[0m:\u001b[36m51\u001b[0m - \u001b[1mChecking railways schema\u001b[0m\n",
      "\u001b[32m2025-08-15 19:16:02.185\u001b[0m | \u001b[1mINFO    \u001b[0m | \u001b[36mblocksnet.blocks.cutting.preprocessing.core\u001b[0m:\u001b[36mpreprocess_urban_objects\u001b[0m:\u001b[36m58\u001b[0m - \u001b[1mChecking water schema\u001b[0m\n",
      "\u001b[32m2025-08-15 19:16:02.216\u001b[0m | \u001b[1mINFO    \u001b[0m | \u001b[36mblocksnet.blocks.cutting.processing.core\u001b[0m:\u001b[36mwrapper\u001b[0m:\u001b[36m21\u001b[0m - \u001b[1mChecking boundaries schema\u001b[0m\n",
      "\u001b[32m2025-08-15 19:16:02.227\u001b[0m | \u001b[1mINFO    \u001b[0m | \u001b[36mblocksnet.blocks.cutting.processing.core\u001b[0m:\u001b[36mwrapper\u001b[0m:\u001b[36m25\u001b[0m - \u001b[1mChecking line objects schema\u001b[0m\n",
      "\u001b[32m2025-08-15 19:16:02.245\u001b[0m | \u001b[1mINFO    \u001b[0m | \u001b[36mblocksnet.blocks.cutting.processing.core\u001b[0m:\u001b[36mwrapper\u001b[0m:\u001b[36m31\u001b[0m - \u001b[1mChecking polygon objects schema\u001b[0m\n",
      "\u001b[32m2025-08-15 19:16:02.259\u001b[0m | \u001b[1mINFO    \u001b[0m | \u001b[36mblocksnet.blocks.cutting.processing.core\u001b[0m:\u001b[36m_exclude_polygons\u001b[0m:\u001b[36m45\u001b[0m - \u001b[1mExcluding polygon objects from blocks\u001b[0m\n",
      "\u001b[32m2025-08-15 19:16:02.302\u001b[0m | \u001b[1mINFO    \u001b[0m | \u001b[36mblocksnet.blocks.cutting.processing.core\u001b[0m:\u001b[36m_get_enclosures\u001b[0m:\u001b[36m51\u001b[0m - \u001b[1mSetting up enclosures\u001b[0m\n",
      "\u001b[32m2025-08-15 19:16:02.439\u001b[0m | \u001b[1mINFO    \u001b[0m | \u001b[36mblocksnet.blocks.cutting.processing.core\u001b[0m:\u001b[36m_fill_holes\u001b[0m:\u001b[36m68\u001b[0m - \u001b[1mFilling holes inside the blocks\u001b[0m\n",
      "\u001b[32m2025-08-15 19:16:02.502\u001b[0m | \u001b[1mINFO    \u001b[0m | \u001b[36mblocksnet.blocks.cutting.processing.core\u001b[0m:\u001b[36m_filter_overlapping\u001b[0m:\u001b[36m78\u001b[0m - \u001b[1mFiltering overlapping geometries\u001b[0m\n",
      "\u001b[32m2025-08-15 19:16:02.622\u001b[0m | \u001b[32m\u001b[1mSUCCESS \u001b[0m | \u001b[36mblocksnet.blocks.cutting.processing.core\u001b[0m:\u001b[36mcut_urban_blocks\u001b[0m:\u001b[36m118\u001b[0m - \u001b[32m\u001b[1mBlocks are successfully cut!\u001b[0m\n",
      "\u001b[32m2025-08-15 19:16:04.176\u001b[0m | \u001b[1mINFO    \u001b[0m | \u001b[36mblocksnet.blocks.assignment.core\u001b[0m:\u001b[36massign_land_use\u001b[0m:\u001b[36m44\u001b[0m - \u001b[1mOverlaying geometries\u001b[0m\n",
      "\u001b[32m2025-08-15 19:16:04.266\u001b[0m | \u001b[32m\u001b[1mSUCCESS \u001b[0m | \u001b[36mblocksnet.blocks.assignment.core\u001b[0m:\u001b[36massign_land_use\u001b[0m:\u001b[36m55\u001b[0m - \u001b[32m\u001b[1mShares calculated\u001b[0m\n"
     ]
    },
    {
     "name": "stdout",
     "output_type": "stream",
     "text": [
      " -> Pār Naogaon, Bangladesh\n",
      "    [skip] Pār Naogaon, Bangladesh: At least one GeoDataFrame must be passed\n",
      " -> Pābna, Bangladesh\n"
     ]
    },
    {
     "name": "stderr",
     "output_type": "stream",
     "text": [
      "\u001b[32m2025-08-15 19:16:39.379\u001b[0m | \u001b[1mINFO    \u001b[0m | \u001b[36mblocksnet.blocks.cutting.preprocessing.core\u001b[0m:\u001b[36mpreprocess_urban_objects\u001b[0m:\u001b[36m44\u001b[0m - \u001b[1mChecking roads schema\u001b[0m\n",
      "\u001b[32m2025-08-15 19:16:39.397\u001b[0m | \u001b[1mINFO    \u001b[0m | \u001b[36mblocksnet.blocks.cutting.preprocessing.core\u001b[0m:\u001b[36mpreprocess_urban_objects\u001b[0m:\u001b[36m51\u001b[0m - \u001b[1mChecking railways schema\u001b[0m\n",
      "\u001b[32m2025-08-15 19:16:39.403\u001b[0m | \u001b[1mINFO    \u001b[0m | \u001b[36mblocksnet.blocks.cutting.preprocessing.core\u001b[0m:\u001b[36mpreprocess_urban_objects\u001b[0m:\u001b[36m58\u001b[0m - \u001b[1mChecking water schema\u001b[0m\n",
      "\u001b[32m2025-08-15 19:16:39.431\u001b[0m | \u001b[1mINFO    \u001b[0m | \u001b[36mblocksnet.blocks.cutting.processing.core\u001b[0m:\u001b[36mwrapper\u001b[0m:\u001b[36m21\u001b[0m - \u001b[1mChecking boundaries schema\u001b[0m\n",
      "\u001b[32m2025-08-15 19:16:39.441\u001b[0m | \u001b[1mINFO    \u001b[0m | \u001b[36mblocksnet.blocks.cutting.processing.core\u001b[0m:\u001b[36mwrapper\u001b[0m:\u001b[36m25\u001b[0m - \u001b[1mChecking line objects schema\u001b[0m\n",
      "\u001b[32m2025-08-15 19:16:39.465\u001b[0m | \u001b[1mINFO    \u001b[0m | \u001b[36mblocksnet.blocks.cutting.processing.core\u001b[0m:\u001b[36mwrapper\u001b[0m:\u001b[36m31\u001b[0m - \u001b[1mChecking polygon objects schema\u001b[0m\n",
      "\u001b[32m2025-08-15 19:16:39.495\u001b[0m | \u001b[1mINFO    \u001b[0m | \u001b[36mblocksnet.blocks.cutting.processing.core\u001b[0m:\u001b[36m_exclude_polygons\u001b[0m:\u001b[36m45\u001b[0m - \u001b[1mExcluding polygon objects from blocks\u001b[0m\n",
      "\u001b[32m2025-08-15 19:16:39.769\u001b[0m | \u001b[1mINFO    \u001b[0m | \u001b[36mblocksnet.blocks.cutting.processing.core\u001b[0m:\u001b[36m_get_enclosures\u001b[0m:\u001b[36m51\u001b[0m - \u001b[1mSetting up enclosures\u001b[0m\n",
      "\u001b[32m2025-08-15 19:16:40.076\u001b[0m | \u001b[1mINFO    \u001b[0m | \u001b[36mblocksnet.blocks.cutting.processing.core\u001b[0m:\u001b[36m_fill_holes\u001b[0m:\u001b[36m68\u001b[0m - \u001b[1mFilling holes inside the blocks\u001b[0m\n",
      "\u001b[32m2025-08-15 19:16:40.235\u001b[0m | \u001b[1mINFO    \u001b[0m | \u001b[36mblocksnet.blocks.cutting.processing.core\u001b[0m:\u001b[36m_filter_overlapping\u001b[0m:\u001b[36m78\u001b[0m - \u001b[1mFiltering overlapping geometries\u001b[0m\n",
      "\u001b[32m2025-08-15 19:16:40.736\u001b[0m | \u001b[32m\u001b[1mSUCCESS \u001b[0m | \u001b[36mblocksnet.blocks.cutting.processing.core\u001b[0m:\u001b[36mcut_urban_blocks\u001b[0m:\u001b[36m118\u001b[0m - \u001b[32m\u001b[1mBlocks are successfully cut!\u001b[0m\n",
      "\u001b[32m2025-08-15 19:16:42.935\u001b[0m | \u001b[1mINFO    \u001b[0m | \u001b[36mblocksnet.blocks.assignment.core\u001b[0m:\u001b[36massign_land_use\u001b[0m:\u001b[36m44\u001b[0m - \u001b[1mOverlaying geometries\u001b[0m\n",
      "\u001b[32m2025-08-15 19:16:43.017\u001b[0m | \u001b[32m\u001b[1mSUCCESS \u001b[0m | \u001b[36mblocksnet.blocks.assignment.core\u001b[0m:\u001b[36massign_land_use\u001b[0m:\u001b[36m55\u001b[0m - \u001b[32m\u001b[1mShares calculated\u001b[0m\n"
     ]
    },
    {
     "name": "stdout",
     "output_type": "stream",
     "text": [
      " -> Paltan, Bangladesh\n",
      "    [skip] Paltan, Bangladesh: At least one GeoDataFrame must be passed\n",
      " -> Āshuganj City, Bangladesh\n",
      "    [skip] Āshuganj City, Bangladesh: Не найдены границы: Āshuganj City, Bangladesh\n",
      " -> Tāngāil, Bangladesh\n"
     ]
    },
    {
     "name": "stderr",
     "output_type": "stream",
     "text": [
      "\u001b[32m2025-08-15 19:17:53.904\u001b[0m | \u001b[1mINFO    \u001b[0m | \u001b[36mblocksnet.blocks.cutting.preprocessing.core\u001b[0m:\u001b[36mpreprocess_urban_objects\u001b[0m:\u001b[36m44\u001b[0m - \u001b[1mChecking roads schema\u001b[0m\n",
      "\u001b[32m2025-08-15 19:17:53.935\u001b[0m | \u001b[1mINFO    \u001b[0m | \u001b[36mblocksnet.blocks.cutting.preprocessing.core\u001b[0m:\u001b[36mpreprocess_urban_objects\u001b[0m:\u001b[36m51\u001b[0m - \u001b[1mChecking railways schema\u001b[0m\n",
      "\u001b[32m2025-08-15 19:17:53.935\u001b[0m | \u001b[1mINFO    \u001b[0m | \u001b[36mblocksnet.blocks.cutting.preprocessing.core\u001b[0m:\u001b[36mpreprocess_urban_objects\u001b[0m:\u001b[36m58\u001b[0m - \u001b[1mChecking water schema\u001b[0m\n",
      "\u001b[32m2025-08-15 19:17:53.974\u001b[0m | \u001b[1mINFO    \u001b[0m | \u001b[36mblocksnet.blocks.cutting.processing.core\u001b[0m:\u001b[36mwrapper\u001b[0m:\u001b[36m21\u001b[0m - \u001b[1mChecking boundaries schema\u001b[0m\n",
      "\u001b[32m2025-08-15 19:17:53.984\u001b[0m | \u001b[1mINFO    \u001b[0m | \u001b[36mblocksnet.blocks.cutting.processing.core\u001b[0m:\u001b[36mwrapper\u001b[0m:\u001b[36m25\u001b[0m - \u001b[1mChecking line objects schema\u001b[0m\n",
      "\u001b[32m2025-08-15 19:17:54.011\u001b[0m | \u001b[1mINFO    \u001b[0m | \u001b[36mblocksnet.blocks.cutting.processing.core\u001b[0m:\u001b[36mwrapper\u001b[0m:\u001b[36m31\u001b[0m - \u001b[1mChecking polygon objects schema\u001b[0m\n",
      "\u001b[32m2025-08-15 19:17:54.033\u001b[0m | \u001b[1mINFO    \u001b[0m | \u001b[36mblocksnet.blocks.cutting.processing.core\u001b[0m:\u001b[36m_exclude_polygons\u001b[0m:\u001b[36m45\u001b[0m - \u001b[1mExcluding polygon objects from blocks\u001b[0m\n",
      "\u001b[32m2025-08-15 19:17:55.436\u001b[0m | \u001b[1mINFO    \u001b[0m | \u001b[36mblocksnet.blocks.cutting.processing.core\u001b[0m:\u001b[36m_get_enclosures\u001b[0m:\u001b[36m51\u001b[0m - \u001b[1mSetting up enclosures\u001b[0m\n",
      "\u001b[32m2025-08-15 19:17:56.306\u001b[0m | \u001b[1mINFO    \u001b[0m | \u001b[36mblocksnet.blocks.cutting.processing.core\u001b[0m:\u001b[36m_fill_holes\u001b[0m:\u001b[36m68\u001b[0m - \u001b[1mFilling holes inside the blocks\u001b[0m\n",
      "\u001b[32m2025-08-15 19:17:56.687\u001b[0m | \u001b[1mINFO    \u001b[0m | \u001b[36mblocksnet.blocks.cutting.processing.core\u001b[0m:\u001b[36m_filter_overlapping\u001b[0m:\u001b[36m78\u001b[0m - \u001b[1mFiltering overlapping geometries\u001b[0m\n",
      "\u001b[32m2025-08-15 19:17:57.588\u001b[0m | \u001b[32m\u001b[1mSUCCESS \u001b[0m | \u001b[36mblocksnet.blocks.cutting.processing.core\u001b[0m:\u001b[36mcut_urban_blocks\u001b[0m:\u001b[36m118\u001b[0m - \u001b[32m\u001b[1mBlocks are successfully cut!\u001b[0m\n",
      "\u001b[32m2025-08-15 19:18:04.256\u001b[0m | \u001b[1mINFO    \u001b[0m | \u001b[36mblocksnet.blocks.assignment.core\u001b[0m:\u001b[36massign_land_use\u001b[0m:\u001b[36m44\u001b[0m - \u001b[1mOverlaying geometries\u001b[0m\n",
      "\u001b[32m2025-08-15 19:18:04.382\u001b[0m | \u001b[32m\u001b[1mSUCCESS \u001b[0m | \u001b[36mblocksnet.blocks.assignment.core\u001b[0m:\u001b[36massign_land_use\u001b[0m:\u001b[36m55\u001b[0m - \u001b[32m\u001b[1mShares calculated\u001b[0m\n"
     ]
    },
    {
     "name": "stdout",
     "output_type": "stream",
     "text": [
      " -> Jamālpur, Bangladesh\n"
     ]
    },
    {
     "name": "stderr",
     "output_type": "stream",
     "text": [
      "\u001b[32m2025-08-15 19:18:28.660\u001b[0m | \u001b[1mINFO    \u001b[0m | \u001b[36mblocksnet.blocks.cutting.preprocessing.core\u001b[0m:\u001b[36mpreprocess_urban_objects\u001b[0m:\u001b[36m44\u001b[0m - \u001b[1mChecking roads schema\u001b[0m\n",
      "\u001b[32m2025-08-15 19:18:28.710\u001b[0m | \u001b[1mINFO    \u001b[0m | \u001b[36mblocksnet.blocks.cutting.preprocessing.core\u001b[0m:\u001b[36mpreprocess_urban_objects\u001b[0m:\u001b[36m51\u001b[0m - \u001b[1mChecking railways schema\u001b[0m\n",
      "\u001b[32m2025-08-15 19:18:28.723\u001b[0m | \u001b[1mINFO    \u001b[0m | \u001b[36mblocksnet.blocks.cutting.preprocessing.core\u001b[0m:\u001b[36mpreprocess_urban_objects\u001b[0m:\u001b[36m58\u001b[0m - \u001b[1mChecking water schema\u001b[0m\n",
      "\u001b[32m2025-08-15 19:18:28.754\u001b[0m | \u001b[1mINFO    \u001b[0m | \u001b[36mblocksnet.blocks.cutting.processing.core\u001b[0m:\u001b[36mwrapper\u001b[0m:\u001b[36m21\u001b[0m - \u001b[1mChecking boundaries schema\u001b[0m\n",
      "\u001b[32m2025-08-15 19:18:28.765\u001b[0m | \u001b[1mINFO    \u001b[0m | \u001b[36mblocksnet.blocks.cutting.processing.core\u001b[0m:\u001b[36mwrapper\u001b[0m:\u001b[36m25\u001b[0m - \u001b[1mChecking line objects schema\u001b[0m\n",
      "\u001b[32m2025-08-15 19:18:28.795\u001b[0m | \u001b[1mINFO    \u001b[0m | \u001b[36mblocksnet.blocks.cutting.processing.core\u001b[0m:\u001b[36mwrapper\u001b[0m:\u001b[36m31\u001b[0m - \u001b[1mChecking polygon objects schema\u001b[0m\n",
      "\u001b[32m2025-08-15 19:18:28.930\u001b[0m | \u001b[1mINFO    \u001b[0m | \u001b[36mblocksnet.blocks.cutting.processing.core\u001b[0m:\u001b[36m_exclude_polygons\u001b[0m:\u001b[36m45\u001b[0m - \u001b[1mExcluding polygon objects from blocks\u001b[0m\n",
      "\u001b[32m2025-08-15 19:18:30.305\u001b[0m | \u001b[1mINFO    \u001b[0m | \u001b[36mblocksnet.blocks.cutting.processing.core\u001b[0m:\u001b[36m_get_enclosures\u001b[0m:\u001b[36m51\u001b[0m - \u001b[1mSetting up enclosures\u001b[0m\n",
      "\u001b[32m2025-08-15 19:18:31.140\u001b[0m | \u001b[1mINFO    \u001b[0m | \u001b[36mblocksnet.blocks.cutting.processing.core\u001b[0m:\u001b[36m_fill_holes\u001b[0m:\u001b[36m68\u001b[0m - \u001b[1mFilling holes inside the blocks\u001b[0m\n",
      "\u001b[32m2025-08-15 19:18:31.685\u001b[0m | \u001b[1mINFO    \u001b[0m | \u001b[36mblocksnet.blocks.cutting.processing.core\u001b[0m:\u001b[36m_filter_overlapping\u001b[0m:\u001b[36m78\u001b[0m - \u001b[1mFiltering overlapping geometries\u001b[0m\n",
      "\u001b[32m2025-08-15 19:18:32.724\u001b[0m | \u001b[32m\u001b[1mSUCCESS \u001b[0m | \u001b[36mblocksnet.blocks.cutting.processing.core\u001b[0m:\u001b[36mcut_urban_blocks\u001b[0m:\u001b[36m118\u001b[0m - \u001b[32m\u001b[1mBlocks are successfully cut!\u001b[0m\n",
      "\u001b[32m2025-08-15 19:18:39.639\u001b[0m | \u001b[1mINFO    \u001b[0m | \u001b[36mblocksnet.blocks.assignment.core\u001b[0m:\u001b[36massign_land_use\u001b[0m:\u001b[36m44\u001b[0m - \u001b[1mOverlaying geometries\u001b[0m\n",
      "\u001b[32m2025-08-15 19:18:40.872\u001b[0m | \u001b[32m\u001b[1mSUCCESS \u001b[0m | \u001b[36mblocksnet.blocks.assignment.core\u001b[0m:\u001b[36massign_land_use\u001b[0m:\u001b[36m55\u001b[0m - \u001b[32m\u001b[1mShares calculated\u001b[0m\n"
     ]
    },
    {
     "name": "stdout",
     "output_type": "stream",
     "text": [
      " -> Puthia, Bangladesh\n"
     ]
    },
    {
     "name": "stderr",
     "output_type": "stream",
     "text": [
      "\u001b[32m2025-08-15 19:18:54.310\u001b[0m | \u001b[1mINFO    \u001b[0m | \u001b[36mblocksnet.blocks.cutting.preprocessing.core\u001b[0m:\u001b[36mpreprocess_urban_objects\u001b[0m:\u001b[36m44\u001b[0m - \u001b[1mChecking roads schema\u001b[0m\n",
      "\u001b[32m2025-08-15 19:18:54.341\u001b[0m | \u001b[1mINFO    \u001b[0m | \u001b[36mblocksnet.blocks.cutting.preprocessing.core\u001b[0m:\u001b[36mpreprocess_urban_objects\u001b[0m:\u001b[36m51\u001b[0m - \u001b[1mChecking railways schema\u001b[0m\n",
      "\u001b[32m2025-08-15 19:18:54.355\u001b[0m | \u001b[1mINFO    \u001b[0m | \u001b[36mblocksnet.blocks.cutting.preprocessing.core\u001b[0m:\u001b[36mpreprocess_urban_objects\u001b[0m:\u001b[36m58\u001b[0m - \u001b[1mChecking water schema\u001b[0m\n",
      "\u001b[32m2025-08-15 19:18:54.369\u001b[0m | \u001b[1mINFO    \u001b[0m | \u001b[36mblocksnet.blocks.cutting.processing.core\u001b[0m:\u001b[36mwrapper\u001b[0m:\u001b[36m21\u001b[0m - \u001b[1mChecking boundaries schema\u001b[0m\n",
      "\u001b[32m2025-08-15 19:18:54.380\u001b[0m | \u001b[1mINFO    \u001b[0m | \u001b[36mblocksnet.blocks.cutting.processing.core\u001b[0m:\u001b[36mwrapper\u001b[0m:\u001b[36m25\u001b[0m - \u001b[1mChecking line objects schema\u001b[0m\n",
      "\u001b[32m2025-08-15 19:18:54.395\u001b[0m | \u001b[1mINFO    \u001b[0m | \u001b[36mblocksnet.blocks.cutting.processing.core\u001b[0m:\u001b[36mwrapper\u001b[0m:\u001b[36m31\u001b[0m - \u001b[1mChecking polygon objects schema\u001b[0m\n",
      "\u001b[32m2025-08-15 19:18:54.409\u001b[0m | \u001b[1mINFO    \u001b[0m | \u001b[36mblocksnet.blocks.cutting.processing.core\u001b[0m:\u001b[36m_exclude_polygons\u001b[0m:\u001b[36m45\u001b[0m - \u001b[1mExcluding polygon objects from blocks\u001b[0m\n",
      "\u001b[32m2025-08-15 19:18:54.427\u001b[0m | \u001b[1mINFO    \u001b[0m | \u001b[36mblocksnet.blocks.cutting.processing.core\u001b[0m:\u001b[36m_get_enclosures\u001b[0m:\u001b[36m51\u001b[0m - \u001b[1mSetting up enclosures\u001b[0m\n",
      "\u001b[32m2025-08-15 19:18:54.464\u001b[0m | \u001b[1mINFO    \u001b[0m | \u001b[36mblocksnet.blocks.cutting.processing.core\u001b[0m:\u001b[36m_fill_holes\u001b[0m:\u001b[36m68\u001b[0m - \u001b[1mFilling holes inside the blocks\u001b[0m\n",
      "\u001b[32m2025-08-15 19:18:54.497\u001b[0m | \u001b[1mINFO    \u001b[0m | \u001b[36mblocksnet.blocks.cutting.processing.core\u001b[0m:\u001b[36m_filter_overlapping\u001b[0m:\u001b[36m78\u001b[0m - \u001b[1mFiltering overlapping geometries\u001b[0m\n",
      "\u001b[32m2025-08-15 19:18:54.526\u001b[0m | \u001b[32m\u001b[1mSUCCESS \u001b[0m | \u001b[36mblocksnet.blocks.cutting.processing.core\u001b[0m:\u001b[36mcut_urban_blocks\u001b[0m:\u001b[36m118\u001b[0m - \u001b[32m\u001b[1mBlocks are successfully cut!\u001b[0m\n",
      "\u001b[32m2025-08-15 19:18:59.555\u001b[0m | \u001b[1mINFO    \u001b[0m | \u001b[36mblocksnet.blocks.assignment.core\u001b[0m:\u001b[36massign_land_use\u001b[0m:\u001b[36m44\u001b[0m - \u001b[1mOverlaying geometries\u001b[0m\n",
      "\u001b[32m2025-08-15 19:18:59.598\u001b[0m | \u001b[32m\u001b[1mSUCCESS \u001b[0m | \u001b[36mblocksnet.blocks.assignment.core\u001b[0m:\u001b[36massign_land_use\u001b[0m:\u001b[36m55\u001b[0m - \u001b[32m\u001b[1mShares calculated\u001b[0m\n"
     ]
    },
    {
     "name": "stdout",
     "output_type": "stream",
     "text": [
      " -> Nawābganj, Bangladesh\n"
     ]
    },
    {
     "name": "stderr",
     "output_type": "stream",
     "text": [
      "\u001b[32m2025-08-15 19:19:14.874\u001b[0m | \u001b[1mINFO    \u001b[0m | \u001b[36mblocksnet.blocks.cutting.preprocessing.core\u001b[0m:\u001b[36mpreprocess_urban_objects\u001b[0m:\u001b[36m44\u001b[0m - \u001b[1mChecking roads schema\u001b[0m\n",
      "\u001b[32m2025-08-15 19:19:14.902\u001b[0m | \u001b[1mINFO    \u001b[0m | \u001b[36mblocksnet.blocks.cutting.preprocessing.core\u001b[0m:\u001b[36mpreprocess_urban_objects\u001b[0m:\u001b[36m51\u001b[0m - \u001b[1mChecking railways schema\u001b[0m\n",
      "\u001b[32m2025-08-15 19:19:14.925\u001b[0m | \u001b[1mINFO    \u001b[0m | \u001b[36mblocksnet.blocks.cutting.preprocessing.core\u001b[0m:\u001b[36mpreprocess_urban_objects\u001b[0m:\u001b[36m58\u001b[0m - \u001b[1mChecking water schema\u001b[0m\n",
      "\u001b[32m2025-08-15 19:19:14.957\u001b[0m | \u001b[1mINFO    \u001b[0m | \u001b[36mblocksnet.blocks.cutting.processing.core\u001b[0m:\u001b[36mwrapper\u001b[0m:\u001b[36m21\u001b[0m - \u001b[1mChecking boundaries schema\u001b[0m\n",
      "\u001b[32m2025-08-15 19:19:14.970\u001b[0m | \u001b[1mINFO    \u001b[0m | \u001b[36mblocksnet.blocks.cutting.processing.core\u001b[0m:\u001b[36mwrapper\u001b[0m:\u001b[36m25\u001b[0m - \u001b[1mChecking line objects schema\u001b[0m\n",
      "\u001b[32m2025-08-15 19:19:14.987\u001b[0m | \u001b[1mINFO    \u001b[0m | \u001b[36mblocksnet.blocks.cutting.processing.core\u001b[0m:\u001b[36mwrapper\u001b[0m:\u001b[36m31\u001b[0m - \u001b[1mChecking polygon objects schema\u001b[0m\n",
      "\u001b[32m2025-08-15 19:19:15.003\u001b[0m | \u001b[1mINFO    \u001b[0m | \u001b[36mblocksnet.blocks.cutting.processing.core\u001b[0m:\u001b[36m_exclude_polygons\u001b[0m:\u001b[36m45\u001b[0m - \u001b[1mExcluding polygon objects from blocks\u001b[0m\n",
      "\u001b[32m2025-08-15 19:19:15.047\u001b[0m | \u001b[1mINFO    \u001b[0m | \u001b[36mblocksnet.blocks.cutting.processing.core\u001b[0m:\u001b[36m_get_enclosures\u001b[0m:\u001b[36m51\u001b[0m - \u001b[1mSetting up enclosures\u001b[0m\n",
      "\u001b[32m2025-08-15 19:19:15.189\u001b[0m | \u001b[1mINFO    \u001b[0m | \u001b[36mblocksnet.blocks.cutting.processing.core\u001b[0m:\u001b[36m_fill_holes\u001b[0m:\u001b[36m68\u001b[0m - \u001b[1mFilling holes inside the blocks\u001b[0m\n",
      "\u001b[32m2025-08-15 19:19:15.257\u001b[0m | \u001b[1mINFO    \u001b[0m | \u001b[36mblocksnet.blocks.cutting.processing.core\u001b[0m:\u001b[36m_filter_overlapping\u001b[0m:\u001b[36m78\u001b[0m - \u001b[1mFiltering overlapping geometries\u001b[0m\n",
      "\u001b[32m2025-08-15 19:19:15.529\u001b[0m | \u001b[32m\u001b[1mSUCCESS \u001b[0m | \u001b[36mblocksnet.blocks.cutting.processing.core\u001b[0m:\u001b[36mcut_urban_blocks\u001b[0m:\u001b[36m118\u001b[0m - \u001b[32m\u001b[1mBlocks are successfully cut!\u001b[0m\n",
      "\u001b[32m2025-08-15 19:19:18.268\u001b[0m | \u001b[1mINFO    \u001b[0m | \u001b[36mblocksnet.blocks.assignment.core\u001b[0m:\u001b[36massign_land_use\u001b[0m:\u001b[36m44\u001b[0m - \u001b[1mOverlaying geometries\u001b[0m\n",
      "\u001b[32m2025-08-15 19:19:18.323\u001b[0m | \u001b[32m\u001b[1mSUCCESS \u001b[0m | \u001b[36mblocksnet.blocks.assignment.core\u001b[0m:\u001b[36massign_land_use\u001b[0m:\u001b[36m55\u001b[0m - \u001b[32m\u001b[1mShares calculated\u001b[0m\n"
     ]
    },
    {
     "name": "stdout",
     "output_type": "stream",
     "text": [
      " -> Kushtia, Bangladesh\n"
     ]
    },
    {
     "name": "stderr",
     "output_type": "stream",
     "text": [
      "\u001b[32m2025-08-15 19:19:42.859\u001b[0m | \u001b[1mINFO    \u001b[0m | \u001b[36mblocksnet.blocks.cutting.preprocessing.core\u001b[0m:\u001b[36mpreprocess_urban_objects\u001b[0m:\u001b[36m44\u001b[0m - \u001b[1mChecking roads schema\u001b[0m\n",
      "\u001b[32m2025-08-15 19:19:42.874\u001b[0m | \u001b[1mINFO    \u001b[0m | \u001b[36mblocksnet.blocks.cutting.preprocessing.core\u001b[0m:\u001b[36mpreprocess_urban_objects\u001b[0m:\u001b[36m51\u001b[0m - \u001b[1mChecking railways schema\u001b[0m\n",
      "\u001b[32m2025-08-15 19:19:42.890\u001b[0m | \u001b[1mINFO    \u001b[0m | \u001b[36mblocksnet.blocks.cutting.preprocessing.core\u001b[0m:\u001b[36mpreprocess_urban_objects\u001b[0m:\u001b[36m58\u001b[0m - \u001b[1mChecking water schema\u001b[0m\n",
      "\u001b[32m2025-08-15 19:19:42.906\u001b[0m | \u001b[1mINFO    \u001b[0m | \u001b[36mblocksnet.blocks.cutting.processing.core\u001b[0m:\u001b[36mwrapper\u001b[0m:\u001b[36m21\u001b[0m - \u001b[1mChecking boundaries schema\u001b[0m\n",
      "\u001b[32m2025-08-15 19:19:42.916\u001b[0m | \u001b[1mINFO    \u001b[0m | \u001b[36mblocksnet.blocks.cutting.processing.core\u001b[0m:\u001b[36mwrapper\u001b[0m:\u001b[36m25\u001b[0m - \u001b[1mChecking line objects schema\u001b[0m\n",
      "\u001b[32m2025-08-15 19:19:42.953\u001b[0m | \u001b[1mINFO    \u001b[0m | \u001b[36mblocksnet.blocks.cutting.processing.core\u001b[0m:\u001b[36mwrapper\u001b[0m:\u001b[36m31\u001b[0m - \u001b[1mChecking polygon objects schema\u001b[0m\n",
      "\u001b[32m2025-08-15 19:19:42.968\u001b[0m | \u001b[1mINFO    \u001b[0m | \u001b[36mblocksnet.blocks.cutting.processing.core\u001b[0m:\u001b[36m_exclude_polygons\u001b[0m:\u001b[36m45\u001b[0m - \u001b[1mExcluding polygon objects from blocks\u001b[0m\n",
      "\u001b[32m2025-08-15 19:19:43.057\u001b[0m | \u001b[1mINFO    \u001b[0m | \u001b[36mblocksnet.blocks.cutting.processing.core\u001b[0m:\u001b[36m_get_enclosures\u001b[0m:\u001b[36m51\u001b[0m - \u001b[1mSetting up enclosures\u001b[0m\n",
      "\u001b[32m2025-08-15 19:19:43.459\u001b[0m | \u001b[1mINFO    \u001b[0m | \u001b[36mblocksnet.blocks.cutting.processing.core\u001b[0m:\u001b[36m_fill_holes\u001b[0m:\u001b[36m68\u001b[0m - \u001b[1mFilling holes inside the blocks\u001b[0m\n",
      "\u001b[32m2025-08-15 19:19:43.746\u001b[0m | \u001b[1mINFO    \u001b[0m | \u001b[36mblocksnet.blocks.cutting.processing.core\u001b[0m:\u001b[36m_filter_overlapping\u001b[0m:\u001b[36m78\u001b[0m - \u001b[1mFiltering overlapping geometries\u001b[0m\n",
      "\u001b[32m2025-08-15 19:19:44.103\u001b[0m | \u001b[32m\u001b[1mSUCCESS \u001b[0m | \u001b[36mblocksnet.blocks.cutting.processing.core\u001b[0m:\u001b[36mcut_urban_blocks\u001b[0m:\u001b[36m118\u001b[0m - \u001b[32m\u001b[1mBlocks are successfully cut!\u001b[0m\n",
      "\u001b[32m2025-08-15 19:19:47.106\u001b[0m | \u001b[1mINFO    \u001b[0m | \u001b[36mblocksnet.blocks.assignment.core\u001b[0m:\u001b[36massign_land_use\u001b[0m:\u001b[36m44\u001b[0m - \u001b[1mOverlaying geometries\u001b[0m\n",
      "\u001b[32m2025-08-15 19:19:47.175\u001b[0m | \u001b[32m\u001b[1mSUCCESS \u001b[0m | \u001b[36mblocksnet.blocks.assignment.core\u001b[0m:\u001b[36massign_land_use\u001b[0m:\u001b[36m55\u001b[0m - \u001b[32m\u001b[1mShares calculated\u001b[0m\n"
     ]
    },
    {
     "name": "stdout",
     "output_type": "stream",
     "text": [
      " -> Maijdi, Bangladesh\n",
      "    [skip] Maijdi, Bangladesh: At least one GeoDataFrame must be passed\n",
      " -> Sonārgaon, Bangladesh\n"
     ]
    },
    {
     "name": "stderr",
     "output_type": "stream",
     "text": [
      "\u001b[32m2025-08-15 19:20:20.493\u001b[0m | \u001b[1mINFO    \u001b[0m | \u001b[36mblocksnet.blocks.cutting.preprocessing.core\u001b[0m:\u001b[36mpreprocess_urban_objects\u001b[0m:\u001b[36m44\u001b[0m - \u001b[1mChecking roads schema\u001b[0m\n",
      "\u001b[32m2025-08-15 19:20:20.521\u001b[0m | \u001b[1mINFO    \u001b[0m | \u001b[36mblocksnet.blocks.cutting.preprocessing.core\u001b[0m:\u001b[36mpreprocess_urban_objects\u001b[0m:\u001b[36m51\u001b[0m - \u001b[1mChecking railways schema\u001b[0m\n",
      "\u001b[32m2025-08-15 19:20:20.523\u001b[0m | \u001b[33m\u001b[1mWARNING \u001b[0m | \u001b[36mblocksnet.blocks.cutting.preprocessing.core\u001b[0m:\u001b[36mpreprocess_urban_objects\u001b[0m:\u001b[36m53\u001b[0m - \u001b[33m\u001b[1mRailways GeoDataFrame is None. Creating empty\u001b[0m\n",
      "\u001b[32m2025-08-15 19:20:20.531\u001b[0m | \u001b[1mINFO    \u001b[0m | \u001b[36mblocksnet.blocks.cutting.preprocessing.core\u001b[0m:\u001b[36mpreprocess_urban_objects\u001b[0m:\u001b[36m58\u001b[0m - \u001b[1mChecking water schema\u001b[0m\n",
      "\u001b[32m2025-08-15 19:20:20.568\u001b[0m | \u001b[1mINFO    \u001b[0m | \u001b[36mblocksnet.blocks.cutting.processing.core\u001b[0m:\u001b[36mwrapper\u001b[0m:\u001b[36m21\u001b[0m - \u001b[1mChecking boundaries schema\u001b[0m\n",
      "\u001b[32m2025-08-15 19:20:20.584\u001b[0m | \u001b[1mINFO    \u001b[0m | \u001b[36mblocksnet.blocks.cutting.processing.core\u001b[0m:\u001b[36mwrapper\u001b[0m:\u001b[36m25\u001b[0m - \u001b[1mChecking line objects schema\u001b[0m\n",
      "\u001b[32m2025-08-15 19:20:20.606\u001b[0m | \u001b[1mINFO    \u001b[0m | \u001b[36mblocksnet.blocks.cutting.processing.core\u001b[0m:\u001b[36mwrapper\u001b[0m:\u001b[36m31\u001b[0m - \u001b[1mChecking polygon objects schema\u001b[0m\n",
      "\u001b[32m2025-08-15 19:20:20.625\u001b[0m | \u001b[1mINFO    \u001b[0m | \u001b[36mblocksnet.blocks.cutting.processing.core\u001b[0m:\u001b[36m_exclude_polygons\u001b[0m:\u001b[36m45\u001b[0m - \u001b[1mExcluding polygon objects from blocks\u001b[0m\n",
      "\u001b[32m2025-08-15 19:20:21.055\u001b[0m | \u001b[1mINFO    \u001b[0m | \u001b[36mblocksnet.blocks.cutting.processing.core\u001b[0m:\u001b[36m_get_enclosures\u001b[0m:\u001b[36m51\u001b[0m - \u001b[1mSetting up enclosures\u001b[0m\n",
      "\u001b[32m2025-08-15 19:20:21.257\u001b[0m | \u001b[1mINFO    \u001b[0m | \u001b[36mblocksnet.blocks.cutting.processing.core\u001b[0m:\u001b[36m_fill_holes\u001b[0m:\u001b[36m68\u001b[0m - \u001b[1mFilling holes inside the blocks\u001b[0m\n",
      "\u001b[32m2025-08-15 19:20:21.413\u001b[0m | \u001b[1mINFO    \u001b[0m | \u001b[36mblocksnet.blocks.cutting.processing.core\u001b[0m:\u001b[36m_filter_overlapping\u001b[0m:\u001b[36m78\u001b[0m - \u001b[1mFiltering overlapping geometries\u001b[0m\n",
      "\u001b[32m2025-08-15 19:20:21.660\u001b[0m | \u001b[32m\u001b[1mSUCCESS \u001b[0m | \u001b[36mblocksnet.blocks.cutting.processing.core\u001b[0m:\u001b[36mcut_urban_blocks\u001b[0m:\u001b[36m118\u001b[0m - \u001b[32m\u001b[1mBlocks are successfully cut!\u001b[0m\n",
      "\u001b[32m2025-08-15 19:20:24.242\u001b[0m | \u001b[1mINFO    \u001b[0m | \u001b[36mblocksnet.blocks.assignment.core\u001b[0m:\u001b[36massign_land_use\u001b[0m:\u001b[36m44\u001b[0m - \u001b[1mOverlaying geometries\u001b[0m\n",
      "\u001b[32m2025-08-15 19:20:24.290\u001b[0m | \u001b[32m\u001b[1mSUCCESS \u001b[0m | \u001b[36mblocksnet.blocks.assignment.core\u001b[0m:\u001b[36massign_land_use\u001b[0m:\u001b[36m55\u001b[0m - \u001b[32m\u001b[1mShares calculated\u001b[0m\n"
     ]
    },
    {
     "name": "stdout",
     "output_type": "stream",
     "text": [
      " -> Sātkhira, Bangladesh\n"
     ]
    },
    {
     "name": "stderr",
     "output_type": "stream",
     "text": [
      "\u001b[32m2025-08-15 19:24:33.316\u001b[0m | \u001b[1mINFO    \u001b[0m | \u001b[36mblocksnet.blocks.cutting.preprocessing.core\u001b[0m:\u001b[36mpreprocess_urban_objects\u001b[0m:\u001b[36m44\u001b[0m - \u001b[1mChecking roads schema\u001b[0m\n",
      "\u001b[32m2025-08-15 19:24:33.332\u001b[0m | \u001b[1mINFO    \u001b[0m | \u001b[36mblocksnet.blocks.cutting.preprocessing.core\u001b[0m:\u001b[36mpreprocess_urban_objects\u001b[0m:\u001b[36m51\u001b[0m - \u001b[1mChecking railways schema\u001b[0m\n",
      "\u001b[32m2025-08-15 19:24:33.332\u001b[0m | \u001b[33m\u001b[1mWARNING \u001b[0m | \u001b[36mblocksnet.blocks.cutting.preprocessing.core\u001b[0m:\u001b[36mpreprocess_urban_objects\u001b[0m:\u001b[36m53\u001b[0m - \u001b[33m\u001b[1mRailways GeoDataFrame is None. Creating empty\u001b[0m\n",
      "\u001b[32m2025-08-15 19:24:33.348\u001b[0m | \u001b[1mINFO    \u001b[0m | \u001b[36mblocksnet.blocks.cutting.preprocessing.core\u001b[0m:\u001b[36mpreprocess_urban_objects\u001b[0m:\u001b[36m58\u001b[0m - \u001b[1mChecking water schema\u001b[0m\n",
      "\u001b[32m2025-08-15 19:24:33.522\u001b[0m | \u001b[1mINFO    \u001b[0m | \u001b[36mblocksnet.blocks.cutting.processing.core\u001b[0m:\u001b[36mwrapper\u001b[0m:\u001b[36m21\u001b[0m - \u001b[1mChecking boundaries schema\u001b[0m\n",
      "\u001b[32m2025-08-15 19:24:33.532\u001b[0m | \u001b[1mINFO    \u001b[0m | \u001b[36mblocksnet.blocks.cutting.processing.core\u001b[0m:\u001b[36mwrapper\u001b[0m:\u001b[36m25\u001b[0m - \u001b[1mChecking line objects schema\u001b[0m\n",
      "\u001b[32m2025-08-15 19:24:33.564\u001b[0m | \u001b[1mINFO    \u001b[0m | \u001b[36mblocksnet.blocks.cutting.processing.core\u001b[0m:\u001b[36mwrapper\u001b[0m:\u001b[36m31\u001b[0m - \u001b[1mChecking polygon objects schema\u001b[0m\n",
      "\u001b[32m2025-08-15 19:24:33.648\u001b[0m | \u001b[1mINFO    \u001b[0m | \u001b[36mblocksnet.blocks.cutting.processing.core\u001b[0m:\u001b[36m_exclude_polygons\u001b[0m:\u001b[36m45\u001b[0m - \u001b[1mExcluding polygon objects from blocks\u001b[0m\n",
      "\u001b[32m2025-08-15 19:24:55.473\u001b[0m | \u001b[1mINFO    \u001b[0m | \u001b[36mblocksnet.blocks.cutting.processing.core\u001b[0m:\u001b[36m_get_enclosures\u001b[0m:\u001b[36m51\u001b[0m - \u001b[1mSetting up enclosures\u001b[0m\n",
      "\u001b[32m2025-08-15 19:24:59.233\u001b[0m | \u001b[1mINFO    \u001b[0m | \u001b[36mblocksnet.blocks.cutting.processing.core\u001b[0m:\u001b[36m_fill_holes\u001b[0m:\u001b[36m68\u001b[0m - \u001b[1mFilling holes inside the blocks\u001b[0m\n",
      "\u001b[32m2025-08-15 19:25:01.912\u001b[0m | \u001b[1mINFO    \u001b[0m | \u001b[36mblocksnet.blocks.cutting.processing.core\u001b[0m:\u001b[36m_filter_overlapping\u001b[0m:\u001b[36m78\u001b[0m - \u001b[1mFiltering overlapping geometries\u001b[0m\n",
      "\u001b[32m2025-08-15 19:25:04.754\u001b[0m | \u001b[32m\u001b[1mSUCCESS \u001b[0m | \u001b[36mblocksnet.blocks.cutting.processing.core\u001b[0m:\u001b[36mcut_urban_blocks\u001b[0m:\u001b[36m118\u001b[0m - \u001b[32m\u001b[1mBlocks are successfully cut!\u001b[0m\n",
      "\u001b[32m2025-08-15 19:25:18.185\u001b[0m | \u001b[1mINFO    \u001b[0m | \u001b[36mblocksnet.blocks.assignment.core\u001b[0m:\u001b[36massign_land_use\u001b[0m:\u001b[36m44\u001b[0m - \u001b[1mOverlaying geometries\u001b[0m\n",
      "\u001b[32m2025-08-15 19:25:18.369\u001b[0m | \u001b[32m\u001b[1mSUCCESS \u001b[0m | \u001b[36mblocksnet.blocks.assignment.core\u001b[0m:\u001b[36massign_land_use\u001b[0m:\u001b[36m55\u001b[0m - \u001b[32m\u001b[1mShares calculated\u001b[0m\n"
     ]
    },
    {
     "name": "stdout",
     "output_type": "stream",
     "text": [
      " -> Sirajganj, Bangladesh\n"
     ]
    },
    {
     "name": "stderr",
     "output_type": "stream",
     "text": [
      "\u001b[32m2025-08-15 19:26:20.667\u001b[0m | \u001b[1mINFO    \u001b[0m | \u001b[36mblocksnet.blocks.cutting.preprocessing.core\u001b[0m:\u001b[36mpreprocess_urban_objects\u001b[0m:\u001b[36m44\u001b[0m - \u001b[1mChecking roads schema\u001b[0m\n",
      "\u001b[32m2025-08-15 19:26:20.685\u001b[0m | \u001b[1mINFO    \u001b[0m | \u001b[36mblocksnet.blocks.cutting.preprocessing.core\u001b[0m:\u001b[36mpreprocess_urban_objects\u001b[0m:\u001b[36m51\u001b[0m - \u001b[1mChecking railways schema\u001b[0m\n",
      "\u001b[32m2025-08-15 19:26:20.699\u001b[0m | \u001b[1mINFO    \u001b[0m | \u001b[36mblocksnet.blocks.cutting.preprocessing.core\u001b[0m:\u001b[36mpreprocess_urban_objects\u001b[0m:\u001b[36m58\u001b[0m - \u001b[1mChecking water schema\u001b[0m\n",
      "\u001b[32m2025-08-15 19:26:20.721\u001b[0m | \u001b[1mINFO    \u001b[0m | \u001b[36mblocksnet.blocks.cutting.processing.core\u001b[0m:\u001b[36mwrapper\u001b[0m:\u001b[36m21\u001b[0m - \u001b[1mChecking boundaries schema\u001b[0m\n",
      "\u001b[32m2025-08-15 19:26:20.730\u001b[0m | \u001b[1mINFO    \u001b[0m | \u001b[36mblocksnet.blocks.cutting.processing.core\u001b[0m:\u001b[36mwrapper\u001b[0m:\u001b[36m25\u001b[0m - \u001b[1mChecking line objects schema\u001b[0m\n",
      "\u001b[32m2025-08-15 19:26:20.753\u001b[0m | \u001b[1mINFO    \u001b[0m | \u001b[36mblocksnet.blocks.cutting.processing.core\u001b[0m:\u001b[36mwrapper\u001b[0m:\u001b[36m31\u001b[0m - \u001b[1mChecking polygon objects schema\u001b[0m\n",
      "\u001b[32m2025-08-15 19:26:20.770\u001b[0m | \u001b[1mINFO    \u001b[0m | \u001b[36mblocksnet.blocks.cutting.processing.core\u001b[0m:\u001b[36m_exclude_polygons\u001b[0m:\u001b[36m45\u001b[0m - \u001b[1mExcluding polygon objects from blocks\u001b[0m\n",
      "\u001b[32m2025-08-15 19:26:21.500\u001b[0m | \u001b[1mINFO    \u001b[0m | \u001b[36mblocksnet.blocks.cutting.processing.core\u001b[0m:\u001b[36m_get_enclosures\u001b[0m:\u001b[36m51\u001b[0m - \u001b[1mSetting up enclosures\u001b[0m\n",
      "\u001b[32m2025-08-15 19:26:22.050\u001b[0m | \u001b[1mINFO    \u001b[0m | \u001b[36mblocksnet.blocks.cutting.processing.core\u001b[0m:\u001b[36m_fill_holes\u001b[0m:\u001b[36m68\u001b[0m - \u001b[1mFilling holes inside the blocks\u001b[0m\n",
      "\u001b[32m2025-08-15 19:26:22.307\u001b[0m | \u001b[1mINFO    \u001b[0m | \u001b[36mblocksnet.blocks.cutting.processing.core\u001b[0m:\u001b[36m_filter_overlapping\u001b[0m:\u001b[36m78\u001b[0m - \u001b[1mFiltering overlapping geometries\u001b[0m\n",
      "\u001b[32m2025-08-15 19:26:22.811\u001b[0m | \u001b[32m\u001b[1mSUCCESS \u001b[0m | \u001b[36mblocksnet.blocks.cutting.processing.core\u001b[0m:\u001b[36mcut_urban_blocks\u001b[0m:\u001b[36m118\u001b[0m - \u001b[32m\u001b[1mBlocks are successfully cut!\u001b[0m\n",
      "\u001b[32m2025-08-15 19:26:28.548\u001b[0m | \u001b[1mINFO    \u001b[0m | \u001b[36mblocksnet.blocks.assignment.core\u001b[0m:\u001b[36massign_land_use\u001b[0m:\u001b[36m44\u001b[0m - \u001b[1mOverlaying geometries\u001b[0m\n",
      "\u001b[32m2025-08-15 19:26:28.685\u001b[0m | \u001b[32m\u001b[1mSUCCESS \u001b[0m | \u001b[36mblocksnet.blocks.assignment.core\u001b[0m:\u001b[36massign_land_use\u001b[0m:\u001b[36m55\u001b[0m - \u001b[32m\u001b[1mShares calculated\u001b[0m\n"
     ]
    },
    {
     "name": "stdout",
     "output_type": "stream",
     "text": [
      " -> Farīdpur, Bangladesh\n"
     ]
    },
    {
     "name": "stderr",
     "output_type": "stream",
     "text": [
      "\u001b[32m2025-08-15 19:26:57.728\u001b[0m | \u001b[1mINFO    \u001b[0m | \u001b[36mblocksnet.blocks.cutting.preprocessing.core\u001b[0m:\u001b[36mpreprocess_urban_objects\u001b[0m:\u001b[36m44\u001b[0m - \u001b[1mChecking roads schema\u001b[0m\n",
      "\u001b[32m2025-08-15 19:26:57.744\u001b[0m | \u001b[1mINFO    \u001b[0m | \u001b[36mblocksnet.blocks.cutting.preprocessing.core\u001b[0m:\u001b[36mpreprocess_urban_objects\u001b[0m:\u001b[36m51\u001b[0m - \u001b[1mChecking railways schema\u001b[0m\n",
      "\u001b[32m2025-08-15 19:26:57.764\u001b[0m | \u001b[1mINFO    \u001b[0m | \u001b[36mblocksnet.blocks.cutting.preprocessing.core\u001b[0m:\u001b[36mpreprocess_urban_objects\u001b[0m:\u001b[36m58\u001b[0m - \u001b[1mChecking water schema\u001b[0m\n",
      "\u001b[32m2025-08-15 19:26:57.788\u001b[0m | \u001b[1mINFO    \u001b[0m | \u001b[36mblocksnet.blocks.cutting.processing.core\u001b[0m:\u001b[36mwrapper\u001b[0m:\u001b[36m21\u001b[0m - \u001b[1mChecking boundaries schema\u001b[0m\n",
      "\u001b[32m2025-08-15 19:26:57.799\u001b[0m | \u001b[1mINFO    \u001b[0m | \u001b[36mblocksnet.blocks.cutting.processing.core\u001b[0m:\u001b[36mwrapper\u001b[0m:\u001b[36m25\u001b[0m - \u001b[1mChecking line objects schema\u001b[0m\n",
      "\u001b[32m2025-08-15 19:26:57.818\u001b[0m | \u001b[1mINFO    \u001b[0m | \u001b[36mblocksnet.blocks.cutting.processing.core\u001b[0m:\u001b[36mwrapper\u001b[0m:\u001b[36m31\u001b[0m - \u001b[1mChecking polygon objects schema\u001b[0m\n",
      "\u001b[32m2025-08-15 19:26:57.835\u001b[0m | \u001b[1mINFO    \u001b[0m | \u001b[36mblocksnet.blocks.cutting.processing.core\u001b[0m:\u001b[36m_exclude_polygons\u001b[0m:\u001b[36m45\u001b[0m - \u001b[1mExcluding polygon objects from blocks\u001b[0m\n",
      "\u001b[32m2025-08-15 19:26:58.287\u001b[0m | \u001b[1mINFO    \u001b[0m | \u001b[36mblocksnet.blocks.cutting.processing.core\u001b[0m:\u001b[36m_get_enclosures\u001b[0m:\u001b[36m51\u001b[0m - \u001b[1mSetting up enclosures\u001b[0m\n",
      "\u001b[32m2025-08-15 19:26:58.566\u001b[0m | \u001b[1mINFO    \u001b[0m | \u001b[36mblocksnet.blocks.cutting.processing.core\u001b[0m:\u001b[36m_fill_holes\u001b[0m:\u001b[36m68\u001b[0m - \u001b[1mFilling holes inside the blocks\u001b[0m\n",
      "\u001b[32m2025-08-15 19:26:58.735\u001b[0m | \u001b[1mINFO    \u001b[0m | \u001b[36mblocksnet.blocks.cutting.processing.core\u001b[0m:\u001b[36m_filter_overlapping\u001b[0m:\u001b[36m78\u001b[0m - \u001b[1mFiltering overlapping geometries\u001b[0m\n",
      "\u001b[32m2025-08-15 19:26:59.137\u001b[0m | \u001b[32m\u001b[1mSUCCESS \u001b[0m | \u001b[36mblocksnet.blocks.cutting.processing.core\u001b[0m:\u001b[36mcut_urban_blocks\u001b[0m:\u001b[36m118\u001b[0m - \u001b[32m\u001b[1mBlocks are successfully cut!\u001b[0m\n",
      "\u001b[32m2025-08-15 19:27:01.944\u001b[0m | \u001b[1mINFO    \u001b[0m | \u001b[36mblocksnet.blocks.assignment.core\u001b[0m:\u001b[36massign_land_use\u001b[0m:\u001b[36m44\u001b[0m - \u001b[1mOverlaying geometries\u001b[0m\n",
      "\u001b[32m2025-08-15 19:27:01.990\u001b[0m | \u001b[32m\u001b[1mSUCCESS \u001b[0m | \u001b[36mblocksnet.blocks.assignment.core\u001b[0m:\u001b[36massign_land_use\u001b[0m:\u001b[36m55\u001b[0m - \u001b[32m\u001b[1mShares calculated\u001b[0m\n"
     ]
    },
    {
     "name": "stdout",
     "output_type": "stream",
     "text": [
      " -> Sherpur, Bangladesh\n"
     ]
    },
    {
     "name": "stderr",
     "output_type": "stream",
     "text": [
      "\u001b[32m2025-08-15 19:27:16.898\u001b[0m | \u001b[1mINFO    \u001b[0m | \u001b[36mblocksnet.blocks.cutting.preprocessing.core\u001b[0m:\u001b[36mpreprocess_urban_objects\u001b[0m:\u001b[36m44\u001b[0m - \u001b[1mChecking roads schema\u001b[0m\n",
      "\u001b[32m2025-08-15 19:27:16.925\u001b[0m | \u001b[1mINFO    \u001b[0m | \u001b[36mblocksnet.blocks.cutting.preprocessing.core\u001b[0m:\u001b[36mpreprocess_urban_objects\u001b[0m:\u001b[36m51\u001b[0m - \u001b[1mChecking railways schema\u001b[0m\n",
      "\u001b[32m2025-08-15 19:27:16.927\u001b[0m | \u001b[33m\u001b[1mWARNING \u001b[0m | \u001b[36mblocksnet.blocks.cutting.preprocessing.core\u001b[0m:\u001b[36mpreprocess_urban_objects\u001b[0m:\u001b[36m53\u001b[0m - \u001b[33m\u001b[1mRailways GeoDataFrame is None. Creating empty\u001b[0m\n",
      "\u001b[32m2025-08-15 19:27:16.935\u001b[0m | \u001b[1mINFO    \u001b[0m | \u001b[36mblocksnet.blocks.cutting.preprocessing.core\u001b[0m:\u001b[36mpreprocess_urban_objects\u001b[0m:\u001b[36m58\u001b[0m - \u001b[1mChecking water schema\u001b[0m\n",
      "\u001b[32m2025-08-15 19:27:16.967\u001b[0m | \u001b[1mINFO    \u001b[0m | \u001b[36mblocksnet.blocks.cutting.processing.core\u001b[0m:\u001b[36mwrapper\u001b[0m:\u001b[36m21\u001b[0m - \u001b[1mChecking boundaries schema\u001b[0m\n",
      "\u001b[32m2025-08-15 19:27:16.983\u001b[0m | \u001b[1mINFO    \u001b[0m | \u001b[36mblocksnet.blocks.cutting.processing.core\u001b[0m:\u001b[36mwrapper\u001b[0m:\u001b[36m25\u001b[0m - \u001b[1mChecking line objects schema\u001b[0m\n",
      "\u001b[32m2025-08-15 19:27:17.007\u001b[0m | \u001b[1mINFO    \u001b[0m | \u001b[36mblocksnet.blocks.cutting.processing.core\u001b[0m:\u001b[36mwrapper\u001b[0m:\u001b[36m31\u001b[0m - \u001b[1mChecking polygon objects schema\u001b[0m\n",
      "\u001b[32m2025-08-15 19:27:17.022\u001b[0m | \u001b[1mINFO    \u001b[0m | \u001b[36mblocksnet.blocks.cutting.processing.core\u001b[0m:\u001b[36m_exclude_polygons\u001b[0m:\u001b[36m45\u001b[0m - \u001b[1mExcluding polygon objects from blocks\u001b[0m\n",
      "\u001b[32m2025-08-15 19:27:17.069\u001b[0m | \u001b[1mINFO    \u001b[0m | \u001b[36mblocksnet.blocks.cutting.processing.core\u001b[0m:\u001b[36m_get_enclosures\u001b[0m:\u001b[36m51\u001b[0m - \u001b[1mSetting up enclosures\u001b[0m\n",
      "\u001b[32m2025-08-15 19:27:17.151\u001b[0m | \u001b[1mINFO    \u001b[0m | \u001b[36mblocksnet.blocks.cutting.processing.core\u001b[0m:\u001b[36m_fill_holes\u001b[0m:\u001b[36m68\u001b[0m - \u001b[1mFilling holes inside the blocks\u001b[0m\n",
      "\u001b[32m2025-08-15 19:27:17.197\u001b[0m | \u001b[1mINFO    \u001b[0m | \u001b[36mblocksnet.blocks.cutting.processing.core\u001b[0m:\u001b[36m_filter_overlapping\u001b[0m:\u001b[36m78\u001b[0m - \u001b[1mFiltering overlapping geometries\u001b[0m\n",
      "\u001b[32m2025-08-15 19:27:17.331\u001b[0m | \u001b[32m\u001b[1mSUCCESS \u001b[0m | \u001b[36mblocksnet.blocks.cutting.processing.core\u001b[0m:\u001b[36mcut_urban_blocks\u001b[0m:\u001b[36m118\u001b[0m - \u001b[32m\u001b[1mBlocks are successfully cut!\u001b[0m\n",
      "\u001b[32m2025-08-15 19:27:21.187\u001b[0m | \u001b[1mINFO    \u001b[0m | \u001b[36mblocksnet.blocks.assignment.core\u001b[0m:\u001b[36massign_land_use\u001b[0m:\u001b[36m44\u001b[0m - \u001b[1mOverlaying geometries\u001b[0m\n",
      "\u001b[32m2025-08-15 19:27:21.304\u001b[0m | \u001b[32m\u001b[1mSUCCESS \u001b[0m | \u001b[36mblocksnet.blocks.assignment.core\u001b[0m:\u001b[36massign_land_use\u001b[0m:\u001b[36m55\u001b[0m - \u001b[32m\u001b[1mShares calculated\u001b[0m\n"
     ]
    },
    {
     "name": "stdout",
     "output_type": "stream",
     "text": [
      " -> Rāngāmāti, Bangladesh\n"
     ]
    },
    {
     "name": "stderr",
     "output_type": "stream",
     "text": [
      "\u001b[32m2025-08-15 19:27:49.157\u001b[0m | \u001b[1mINFO    \u001b[0m | \u001b[36mblocksnet.blocks.cutting.preprocessing.core\u001b[0m:\u001b[36mpreprocess_urban_objects\u001b[0m:\u001b[36m44\u001b[0m - \u001b[1mChecking roads schema\u001b[0m\n",
      "\u001b[32m2025-08-15 19:27:49.181\u001b[0m | \u001b[1mINFO    \u001b[0m | \u001b[36mblocksnet.blocks.cutting.preprocessing.core\u001b[0m:\u001b[36mpreprocess_urban_objects\u001b[0m:\u001b[36m51\u001b[0m - \u001b[1mChecking railways schema\u001b[0m\n",
      "\u001b[32m2025-08-15 19:27:49.183\u001b[0m | \u001b[33m\u001b[1mWARNING \u001b[0m | \u001b[36mblocksnet.blocks.cutting.preprocessing.core\u001b[0m:\u001b[36mpreprocess_urban_objects\u001b[0m:\u001b[36m53\u001b[0m - \u001b[33m\u001b[1mRailways GeoDataFrame is None. Creating empty\u001b[0m\n",
      "\u001b[32m2025-08-15 19:27:49.188\u001b[0m | \u001b[1mINFO    \u001b[0m | \u001b[36mblocksnet.blocks.cutting.preprocessing.core\u001b[0m:\u001b[36mpreprocess_urban_objects\u001b[0m:\u001b[36m58\u001b[0m - \u001b[1mChecking water schema\u001b[0m\n",
      "\u001b[32m2025-08-15 19:27:49.205\u001b[0m | \u001b[1mINFO    \u001b[0m | \u001b[36mblocksnet.blocks.cutting.processing.core\u001b[0m:\u001b[36mwrapper\u001b[0m:\u001b[36m21\u001b[0m - \u001b[1mChecking boundaries schema\u001b[0m\n",
      "\u001b[32m2025-08-15 19:27:49.219\u001b[0m | \u001b[1mINFO    \u001b[0m | \u001b[36mblocksnet.blocks.cutting.processing.core\u001b[0m:\u001b[36mwrapper\u001b[0m:\u001b[36m25\u001b[0m - \u001b[1mChecking line objects schema\u001b[0m\n",
      "\u001b[32m2025-08-15 19:27:49.235\u001b[0m | \u001b[1mINFO    \u001b[0m | \u001b[36mblocksnet.blocks.cutting.processing.core\u001b[0m:\u001b[36mwrapper\u001b[0m:\u001b[36m31\u001b[0m - \u001b[1mChecking polygon objects schema\u001b[0m\n",
      "\u001b[32m2025-08-15 19:27:49.254\u001b[0m | \u001b[1mINFO    \u001b[0m | \u001b[36mblocksnet.blocks.cutting.processing.core\u001b[0m:\u001b[36m_exclude_polygons\u001b[0m:\u001b[36m45\u001b[0m - \u001b[1mExcluding polygon objects from blocks\u001b[0m\n",
      "\u001b[32m2025-08-15 19:27:55.220\u001b[0m | \u001b[1mINFO    \u001b[0m | \u001b[36mblocksnet.blocks.cutting.processing.core\u001b[0m:\u001b[36m_get_enclosures\u001b[0m:\u001b[36m51\u001b[0m - \u001b[1mSetting up enclosures\u001b[0m\n",
      "\u001b[32m2025-08-15 19:27:55.553\u001b[0m | \u001b[1mINFO    \u001b[0m | \u001b[36mblocksnet.blocks.cutting.processing.core\u001b[0m:\u001b[36m_fill_holes\u001b[0m:\u001b[36m68\u001b[0m - \u001b[1mFilling holes inside the blocks\u001b[0m\n",
      "\u001b[32m2025-08-15 19:27:55.637\u001b[0m | \u001b[1mINFO    \u001b[0m | \u001b[36mblocksnet.blocks.cutting.processing.core\u001b[0m:\u001b[36m_filter_overlapping\u001b[0m:\u001b[36m78\u001b[0m - \u001b[1mFiltering overlapping geometries\u001b[0m\n",
      "\u001b[32m2025-08-15 19:27:56.371\u001b[0m | \u001b[32m\u001b[1mSUCCESS \u001b[0m | \u001b[36mblocksnet.blocks.cutting.processing.core\u001b[0m:\u001b[36mcut_urban_blocks\u001b[0m:\u001b[36m118\u001b[0m - \u001b[32m\u001b[1mBlocks are successfully cut!\u001b[0m\n",
      "\u001b[32m2025-08-15 19:27:58.066\u001b[0m | \u001b[1mINFO    \u001b[0m | \u001b[36mblocksnet.blocks.assignment.core\u001b[0m:\u001b[36massign_land_use\u001b[0m:\u001b[36m44\u001b[0m - \u001b[1mOverlaying geometries\u001b[0m\n",
      "\u001b[32m2025-08-15 19:27:58.147\u001b[0m | \u001b[32m\u001b[1mSUCCESS \u001b[0m | \u001b[36mblocksnet.blocks.assignment.core\u001b[0m:\u001b[36massign_land_use\u001b[0m:\u001b[36m55\u001b[0m - \u001b[32m\u001b[1mShares calculated\u001b[0m\n"
     ]
    },
    {
     "name": "stdout",
     "output_type": "stream",
     "text": [
      " -> Bhairab Bāzār, Bangladesh\n",
      "    [skip] Bhairab Bāzār, Bangladesh: At least one GeoDataFrame must be passed\n",
      " -> Shāhzādpur, Bangladesh\n",
      "    [skip] Shāhzādpur, Bangladesh: At least one GeoDataFrame must be passed\n",
      "\n",
      "=== Barbados ===\n",
      "[Barbados] нет городов в диапазоне 100000-100000000\n",
      "\n",
      "=== Belarus ===\n",
      " -> Minsk, Belarus\n"
     ]
    },
    {
     "name": "stderr",
     "output_type": "stream",
     "text": [
      "\u001b[32m2025-08-15 19:28:45.948\u001b[0m | \u001b[1mINFO    \u001b[0m | \u001b[36mblocksnet.blocks.cutting.preprocessing.core\u001b[0m:\u001b[36mpreprocess_urban_objects\u001b[0m:\u001b[36m44\u001b[0m - \u001b[1mChecking roads schema\u001b[0m\n",
      "\u001b[32m2025-08-15 19:28:46.070\u001b[0m | \u001b[1mINFO    \u001b[0m | \u001b[36mblocksnet.blocks.cutting.preprocessing.core\u001b[0m:\u001b[36mpreprocess_urban_objects\u001b[0m:\u001b[36m51\u001b[0m - \u001b[1mChecking railways schema\u001b[0m\n",
      "\u001b[32m2025-08-15 19:28:46.086\u001b[0m | \u001b[1mINFO    \u001b[0m | \u001b[36mblocksnet.blocks.cutting.preprocessing.core\u001b[0m:\u001b[36mpreprocess_urban_objects\u001b[0m:\u001b[36m58\u001b[0m - \u001b[1mChecking water schema\u001b[0m\n",
      "\u001b[32m2025-08-15 19:28:46.121\u001b[0m | \u001b[1mINFO    \u001b[0m | \u001b[36mblocksnet.blocks.cutting.processing.core\u001b[0m:\u001b[36mwrapper\u001b[0m:\u001b[36m21\u001b[0m - \u001b[1mChecking boundaries schema\u001b[0m\n",
      "\u001b[32m2025-08-15 19:28:46.131\u001b[0m | \u001b[1mINFO    \u001b[0m | \u001b[36mblocksnet.blocks.cutting.processing.core\u001b[0m:\u001b[36mwrapper\u001b[0m:\u001b[36m25\u001b[0m - \u001b[1mChecking line objects schema\u001b[0m\n",
      "\u001b[32m2025-08-15 19:28:46.175\u001b[0m | \u001b[1mINFO    \u001b[0m | \u001b[36mblocksnet.blocks.cutting.processing.core\u001b[0m:\u001b[36mwrapper\u001b[0m:\u001b[36m31\u001b[0m - \u001b[1mChecking polygon objects schema\u001b[0m\n",
      "\u001b[32m2025-08-15 19:28:46.195\u001b[0m | \u001b[1mINFO    \u001b[0m | \u001b[36mblocksnet.blocks.cutting.processing.core\u001b[0m:\u001b[36m_exclude_polygons\u001b[0m:\u001b[36m45\u001b[0m - \u001b[1mExcluding polygon objects from blocks\u001b[0m\n",
      "\u001b[32m2025-08-15 19:28:46.374\u001b[0m | \u001b[1mINFO    \u001b[0m | \u001b[36mblocksnet.blocks.cutting.processing.core\u001b[0m:\u001b[36m_get_enclosures\u001b[0m:\u001b[36m51\u001b[0m - \u001b[1mSetting up enclosures\u001b[0m\n",
      "\u001b[32m2025-08-15 19:28:47.052\u001b[0m | \u001b[1mINFO    \u001b[0m | \u001b[36mblocksnet.blocks.cutting.processing.core\u001b[0m:\u001b[36m_fill_holes\u001b[0m:\u001b[36m68\u001b[0m - \u001b[1mFilling holes inside the blocks\u001b[0m\n",
      "\u001b[32m2025-08-15 19:28:47.571\u001b[0m | \u001b[1mINFO    \u001b[0m | \u001b[36mblocksnet.blocks.cutting.processing.core\u001b[0m:\u001b[36m_filter_overlapping\u001b[0m:\u001b[36m78\u001b[0m - \u001b[1mFiltering overlapping geometries\u001b[0m\n",
      "\u001b[32m2025-08-15 19:28:48.383\u001b[0m | \u001b[32m\u001b[1mSUCCESS \u001b[0m | \u001b[36mblocksnet.blocks.cutting.processing.core\u001b[0m:\u001b[36mcut_urban_blocks\u001b[0m:\u001b[36m118\u001b[0m - \u001b[32m\u001b[1mBlocks are successfully cut!\u001b[0m\n",
      "\u001b[32m2025-08-15 19:28:59.241\u001b[0m | \u001b[1mINFO    \u001b[0m | \u001b[36mblocksnet.blocks.assignment.core\u001b[0m:\u001b[36massign_land_use\u001b[0m:\u001b[36m44\u001b[0m - \u001b[1mOverlaying geometries\u001b[0m\n",
      "\u001b[32m2025-08-15 19:29:01.125\u001b[0m | \u001b[32m\u001b[1mSUCCESS \u001b[0m | \u001b[36mblocksnet.blocks.assignment.core\u001b[0m:\u001b[36massign_land_use\u001b[0m:\u001b[36m55\u001b[0m - \u001b[32m\u001b[1mShares calculated\u001b[0m\n"
     ]
    },
    {
     "name": "stdout",
     "output_type": "stream",
     "text": [
      " -> Homyel', Belarus\n"
     ]
    },
    {
     "name": "stderr",
     "output_type": "stream",
     "text": [
      "\u001b[32m2025-08-15 19:29:18.672\u001b[0m | \u001b[1mINFO    \u001b[0m | \u001b[36mblocksnet.blocks.cutting.preprocessing.core\u001b[0m:\u001b[36mpreprocess_urban_objects\u001b[0m:\u001b[36m44\u001b[0m - \u001b[1mChecking roads schema\u001b[0m\n",
      "\u001b[32m2025-08-15 19:29:18.712\u001b[0m | \u001b[1mINFO    \u001b[0m | \u001b[36mblocksnet.blocks.cutting.preprocessing.core\u001b[0m:\u001b[36mpreprocess_urban_objects\u001b[0m:\u001b[36m51\u001b[0m - \u001b[1mChecking railways schema\u001b[0m\n",
      "\u001b[32m2025-08-15 19:29:18.748\u001b[0m | \u001b[1mINFO    \u001b[0m | \u001b[36mblocksnet.blocks.cutting.preprocessing.core\u001b[0m:\u001b[36mpreprocess_urban_objects\u001b[0m:\u001b[36m58\u001b[0m - \u001b[1mChecking water schema\u001b[0m\n",
      "\u001b[32m2025-08-15 19:29:18.771\u001b[0m | \u001b[1mINFO    \u001b[0m | \u001b[36mblocksnet.blocks.cutting.processing.core\u001b[0m:\u001b[36mwrapper\u001b[0m:\u001b[36m21\u001b[0m - \u001b[1mChecking boundaries schema\u001b[0m\n",
      "\u001b[32m2025-08-15 19:29:18.773\u001b[0m | \u001b[1mINFO    \u001b[0m | \u001b[36mblocksnet.blocks.cutting.processing.core\u001b[0m:\u001b[36mwrapper\u001b[0m:\u001b[36m25\u001b[0m - \u001b[1mChecking line objects schema\u001b[0m\n",
      "\u001b[32m2025-08-15 19:29:18.807\u001b[0m | \u001b[1mINFO    \u001b[0m | \u001b[36mblocksnet.blocks.cutting.processing.core\u001b[0m:\u001b[36mwrapper\u001b[0m:\u001b[36m31\u001b[0m - \u001b[1mChecking polygon objects schema\u001b[0m\n",
      "\u001b[32m2025-08-15 19:29:18.822\u001b[0m | \u001b[1mINFO    \u001b[0m | \u001b[36mblocksnet.blocks.cutting.processing.core\u001b[0m:\u001b[36m_exclude_polygons\u001b[0m:\u001b[36m45\u001b[0m - \u001b[1mExcluding polygon objects from blocks\u001b[0m\n",
      "\u001b[32m2025-08-15 19:29:19.057\u001b[0m | \u001b[1mINFO    \u001b[0m | \u001b[36mblocksnet.blocks.cutting.processing.core\u001b[0m:\u001b[36m_get_enclosures\u001b[0m:\u001b[36m51\u001b[0m - \u001b[1mSetting up enclosures\u001b[0m\n",
      "\u001b[32m2025-08-15 19:29:19.393\u001b[0m | \u001b[1mINFO    \u001b[0m | \u001b[36mblocksnet.blocks.cutting.processing.core\u001b[0m:\u001b[36m_fill_holes\u001b[0m:\u001b[36m68\u001b[0m - \u001b[1mFilling holes inside the blocks\u001b[0m\n",
      "\u001b[32m2025-08-15 19:29:19.631\u001b[0m | \u001b[1mINFO    \u001b[0m | \u001b[36mblocksnet.blocks.cutting.processing.core\u001b[0m:\u001b[36m_filter_overlapping\u001b[0m:\u001b[36m78\u001b[0m - \u001b[1mFiltering overlapping geometries\u001b[0m\n",
      "\u001b[32m2025-08-15 19:29:20.002\u001b[0m | \u001b[32m\u001b[1mSUCCESS \u001b[0m | \u001b[36mblocksnet.blocks.cutting.processing.core\u001b[0m:\u001b[36mcut_urban_blocks\u001b[0m:\u001b[36m118\u001b[0m - \u001b[32m\u001b[1mBlocks are successfully cut!\u001b[0m\n",
      "\u001b[32m2025-08-15 19:29:22.640\u001b[0m | \u001b[1mINFO    \u001b[0m | \u001b[36mblocksnet.blocks.assignment.core\u001b[0m:\u001b[36massign_land_use\u001b[0m:\u001b[36m44\u001b[0m - \u001b[1mOverlaying geometries\u001b[0m\n",
      "\u001b[32m2025-08-15 19:29:22.942\u001b[0m | \u001b[32m\u001b[1mSUCCESS \u001b[0m | \u001b[36mblocksnet.blocks.assignment.core\u001b[0m:\u001b[36massign_land_use\u001b[0m:\u001b[36m55\u001b[0m - \u001b[32m\u001b[1mShares calculated\u001b[0m\n"
     ]
    },
    {
     "name": "stdout",
     "output_type": "stream",
     "text": [
      " -> Hrodna, Belarus\n"
     ]
    },
    {
     "name": "stderr",
     "output_type": "stream",
     "text": [
      "\u001b[32m2025-08-15 19:29:52.278\u001b[0m | \u001b[1mINFO    \u001b[0m | \u001b[36mblocksnet.blocks.cutting.preprocessing.core\u001b[0m:\u001b[36mpreprocess_urban_objects\u001b[0m:\u001b[36m44\u001b[0m - \u001b[1mChecking roads schema\u001b[0m\n",
      "\u001b[32m2025-08-15 19:29:52.326\u001b[0m | \u001b[1mINFO    \u001b[0m | \u001b[36mblocksnet.blocks.cutting.preprocessing.core\u001b[0m:\u001b[36mpreprocess_urban_objects\u001b[0m:\u001b[36m51\u001b[0m - \u001b[1mChecking railways schema\u001b[0m\n",
      "\u001b[32m2025-08-15 19:29:52.347\u001b[0m | \u001b[1mINFO    \u001b[0m | \u001b[36mblocksnet.blocks.cutting.preprocessing.core\u001b[0m:\u001b[36mpreprocess_urban_objects\u001b[0m:\u001b[36m58\u001b[0m - \u001b[1mChecking water schema\u001b[0m\n",
      "\u001b[32m2025-08-15 19:29:52.369\u001b[0m | \u001b[1mINFO    \u001b[0m | \u001b[36mblocksnet.blocks.cutting.processing.core\u001b[0m:\u001b[36mwrapper\u001b[0m:\u001b[36m21\u001b[0m - \u001b[1mChecking boundaries schema\u001b[0m\n",
      "\u001b[32m2025-08-15 19:29:52.379\u001b[0m | \u001b[1mINFO    \u001b[0m | \u001b[36mblocksnet.blocks.cutting.processing.core\u001b[0m:\u001b[36mwrapper\u001b[0m:\u001b[36m25\u001b[0m - \u001b[1mChecking line objects schema\u001b[0m\n",
      "\u001b[32m2025-08-15 19:29:52.403\u001b[0m | \u001b[1mINFO    \u001b[0m | \u001b[36mblocksnet.blocks.cutting.processing.core\u001b[0m:\u001b[36mwrapper\u001b[0m:\u001b[36m31\u001b[0m - \u001b[1mChecking polygon objects schema\u001b[0m\n",
      "\u001b[32m2025-08-15 19:29:52.416\u001b[0m | \u001b[1mINFO    \u001b[0m | \u001b[36mblocksnet.blocks.cutting.processing.core\u001b[0m:\u001b[36m_exclude_polygons\u001b[0m:\u001b[36m45\u001b[0m - \u001b[1mExcluding polygon objects from blocks\u001b[0m\n",
      "\u001b[32m2025-08-15 19:29:52.491\u001b[0m | \u001b[1mINFO    \u001b[0m | \u001b[36mblocksnet.blocks.cutting.processing.core\u001b[0m:\u001b[36m_get_enclosures\u001b[0m:\u001b[36m51\u001b[0m - \u001b[1mSetting up enclosures\u001b[0m\n",
      "\u001b[32m2025-08-15 19:29:52.767\u001b[0m | \u001b[1mINFO    \u001b[0m | \u001b[36mblocksnet.blocks.cutting.processing.core\u001b[0m:\u001b[36m_fill_holes\u001b[0m:\u001b[36m68\u001b[0m - \u001b[1mFilling holes inside the blocks\u001b[0m\n",
      "\u001b[32m2025-08-15 19:29:52.930\u001b[0m | \u001b[1mINFO    \u001b[0m | \u001b[36mblocksnet.blocks.cutting.processing.core\u001b[0m:\u001b[36m_filter_overlapping\u001b[0m:\u001b[36m78\u001b[0m - \u001b[1mFiltering overlapping geometries\u001b[0m\n",
      "\u001b[32m2025-08-15 19:29:53.198\u001b[0m | \u001b[32m\u001b[1mSUCCESS \u001b[0m | \u001b[36mblocksnet.blocks.cutting.processing.core\u001b[0m:\u001b[36mcut_urban_blocks\u001b[0m:\u001b[36m118\u001b[0m - \u001b[32m\u001b[1mBlocks are successfully cut!\u001b[0m\n",
      "\u001b[32m2025-08-15 19:29:56.891\u001b[0m | \u001b[1mINFO    \u001b[0m | \u001b[36mblocksnet.blocks.assignment.core\u001b[0m:\u001b[36massign_land_use\u001b[0m:\u001b[36m44\u001b[0m - \u001b[1mOverlaying geometries\u001b[0m\n",
      "\u001b[32m2025-08-15 19:29:57.395\u001b[0m | \u001b[32m\u001b[1mSUCCESS \u001b[0m | \u001b[36mblocksnet.blocks.assignment.core\u001b[0m:\u001b[36massign_land_use\u001b[0m:\u001b[36m55\u001b[0m - \u001b[32m\u001b[1mShares calculated\u001b[0m\n"
     ]
    },
    {
     "name": "stdout",
     "output_type": "stream",
     "text": [
      " -> Vitebsk, Belarus\n"
     ]
    },
    {
     "name": "stderr",
     "output_type": "stream",
     "text": [
      "\u001b[32m2025-08-15 19:30:16.258\u001b[0m | \u001b[1mINFO    \u001b[0m | \u001b[36mblocksnet.blocks.cutting.preprocessing.core\u001b[0m:\u001b[36mpreprocess_urban_objects\u001b[0m:\u001b[36m44\u001b[0m - \u001b[1mChecking roads schema\u001b[0m\n",
      "\u001b[32m2025-08-15 19:30:16.290\u001b[0m | \u001b[1mINFO    \u001b[0m | \u001b[36mblocksnet.blocks.cutting.preprocessing.core\u001b[0m:\u001b[36mpreprocess_urban_objects\u001b[0m:\u001b[36m51\u001b[0m - \u001b[1mChecking railways schema\u001b[0m\n",
      "\u001b[32m2025-08-15 19:30:16.302\u001b[0m | \u001b[1mINFO    \u001b[0m | \u001b[36mblocksnet.blocks.cutting.preprocessing.core\u001b[0m:\u001b[36mpreprocess_urban_objects\u001b[0m:\u001b[36m58\u001b[0m - \u001b[1mChecking water schema\u001b[0m\n",
      "\u001b[32m2025-08-15 19:30:16.322\u001b[0m | \u001b[1mINFO    \u001b[0m | \u001b[36mblocksnet.blocks.cutting.processing.core\u001b[0m:\u001b[36mwrapper\u001b[0m:\u001b[36m21\u001b[0m - \u001b[1mChecking boundaries schema\u001b[0m\n",
      "\u001b[32m2025-08-15 19:30:16.333\u001b[0m | \u001b[1mINFO    \u001b[0m | \u001b[36mblocksnet.blocks.cutting.processing.core\u001b[0m:\u001b[36mwrapper\u001b[0m:\u001b[36m25\u001b[0m - \u001b[1mChecking line objects schema\u001b[0m\n",
      "\u001b[32m2025-08-15 19:30:16.360\u001b[0m | \u001b[1mINFO    \u001b[0m | \u001b[36mblocksnet.blocks.cutting.processing.core\u001b[0m:\u001b[36mwrapper\u001b[0m:\u001b[36m31\u001b[0m - \u001b[1mChecking polygon objects schema\u001b[0m\n",
      "\u001b[32m2025-08-15 19:30:16.375\u001b[0m | \u001b[1mINFO    \u001b[0m | \u001b[36mblocksnet.blocks.cutting.processing.core\u001b[0m:\u001b[36m_exclude_polygons\u001b[0m:\u001b[36m45\u001b[0m - \u001b[1mExcluding polygon objects from blocks\u001b[0m\n",
      "\u001b[32m2025-08-15 19:30:16.545\u001b[0m | \u001b[1mINFO    \u001b[0m | \u001b[36mblocksnet.blocks.cutting.processing.core\u001b[0m:\u001b[36m_get_enclosures\u001b[0m:\u001b[36m51\u001b[0m - \u001b[1mSetting up enclosures\u001b[0m\n",
      "\u001b[32m2025-08-15 19:30:16.816\u001b[0m | \u001b[1mINFO    \u001b[0m | \u001b[36mblocksnet.blocks.cutting.processing.core\u001b[0m:\u001b[36m_fill_holes\u001b[0m:\u001b[36m68\u001b[0m - \u001b[1mFilling holes inside the blocks\u001b[0m\n",
      "\u001b[32m2025-08-15 19:30:17.048\u001b[0m | \u001b[1mINFO    \u001b[0m | \u001b[36mblocksnet.blocks.cutting.processing.core\u001b[0m:\u001b[36m_filter_overlapping\u001b[0m:\u001b[36m78\u001b[0m - \u001b[1mFiltering overlapping geometries\u001b[0m\n",
      "\u001b[32m2025-08-15 19:30:17.359\u001b[0m | \u001b[32m\u001b[1mSUCCESS \u001b[0m | \u001b[36mblocksnet.blocks.cutting.processing.core\u001b[0m:\u001b[36mcut_urban_blocks\u001b[0m:\u001b[36m118\u001b[0m - \u001b[32m\u001b[1mBlocks are successfully cut!\u001b[0m\n",
      "\u001b[32m2025-08-15 19:30:22.308\u001b[0m | \u001b[1mINFO    \u001b[0m | \u001b[36mblocksnet.blocks.assignment.core\u001b[0m:\u001b[36massign_land_use\u001b[0m:\u001b[36m44\u001b[0m - \u001b[1mOverlaying geometries\u001b[0m\n",
      "\u001b[32m2025-08-15 19:30:22.639\u001b[0m | \u001b[32m\u001b[1mSUCCESS \u001b[0m | \u001b[36mblocksnet.blocks.assignment.core\u001b[0m:\u001b[36massign_land_use\u001b[0m:\u001b[36m55\u001b[0m - \u001b[32m\u001b[1mShares calculated\u001b[0m\n"
     ]
    },
    {
     "name": "stdout",
     "output_type": "stream",
     "text": [
      " -> Mahilyow, Belarus\n"
     ]
    },
    {
     "name": "stderr",
     "output_type": "stream",
     "text": [
      "\u001b[32m2025-08-15 19:30:54.007\u001b[0m | \u001b[1mINFO    \u001b[0m | \u001b[36mblocksnet.blocks.cutting.preprocessing.core\u001b[0m:\u001b[36mpreprocess_urban_objects\u001b[0m:\u001b[36m44\u001b[0m - \u001b[1mChecking roads schema\u001b[0m\n",
      "\u001b[32m2025-08-15 19:30:54.050\u001b[0m | \u001b[1mINFO    \u001b[0m | \u001b[36mblocksnet.blocks.cutting.preprocessing.core\u001b[0m:\u001b[36mpreprocess_urban_objects\u001b[0m:\u001b[36m51\u001b[0m - \u001b[1mChecking railways schema\u001b[0m\n",
      "\u001b[32m2025-08-15 19:30:54.061\u001b[0m | \u001b[1mINFO    \u001b[0m | \u001b[36mblocksnet.blocks.cutting.preprocessing.core\u001b[0m:\u001b[36mpreprocess_urban_objects\u001b[0m:\u001b[36m58\u001b[0m - \u001b[1mChecking water schema\u001b[0m\n",
      "\u001b[32m2025-08-15 19:30:54.081\u001b[0m | \u001b[1mINFO    \u001b[0m | \u001b[36mblocksnet.blocks.cutting.processing.core\u001b[0m:\u001b[36mwrapper\u001b[0m:\u001b[36m21\u001b[0m - \u001b[1mChecking boundaries schema\u001b[0m\n",
      "\u001b[32m2025-08-15 19:30:54.091\u001b[0m | \u001b[1mINFO    \u001b[0m | \u001b[36mblocksnet.blocks.cutting.processing.core\u001b[0m:\u001b[36mwrapper\u001b[0m:\u001b[36m25\u001b[0m - \u001b[1mChecking line objects schema\u001b[0m\n",
      "\u001b[32m2025-08-15 19:30:54.111\u001b[0m | \u001b[1mINFO    \u001b[0m | \u001b[36mblocksnet.blocks.cutting.processing.core\u001b[0m:\u001b[36mwrapper\u001b[0m:\u001b[36m31\u001b[0m - \u001b[1mChecking polygon objects schema\u001b[0m\n",
      "\u001b[32m2025-08-15 19:30:54.130\u001b[0m | \u001b[1mINFO    \u001b[0m | \u001b[36mblocksnet.blocks.cutting.processing.core\u001b[0m:\u001b[36m_exclude_polygons\u001b[0m:\u001b[36m45\u001b[0m - \u001b[1mExcluding polygon objects from blocks\u001b[0m\n",
      "\u001b[32m2025-08-15 19:30:54.193\u001b[0m | \u001b[1mINFO    \u001b[0m | \u001b[36mblocksnet.blocks.cutting.processing.core\u001b[0m:\u001b[36m_get_enclosures\u001b[0m:\u001b[36m51\u001b[0m - \u001b[1mSetting up enclosures\u001b[0m\n",
      "\u001b[32m2025-08-15 19:30:54.420\u001b[0m | \u001b[1mINFO    \u001b[0m | \u001b[36mblocksnet.blocks.cutting.processing.core\u001b[0m:\u001b[36m_fill_holes\u001b[0m:\u001b[36m68\u001b[0m - \u001b[1mFilling holes inside the blocks\u001b[0m\n",
      "\u001b[32m2025-08-15 19:30:54.582\u001b[0m | \u001b[1mINFO    \u001b[0m | \u001b[36mblocksnet.blocks.cutting.processing.core\u001b[0m:\u001b[36m_filter_overlapping\u001b[0m:\u001b[36m78\u001b[0m - \u001b[1mFiltering overlapping geometries\u001b[0m\n",
      "\u001b[32m2025-08-15 19:30:54.790\u001b[0m | \u001b[32m\u001b[1mSUCCESS \u001b[0m | \u001b[36mblocksnet.blocks.cutting.processing.core\u001b[0m:\u001b[36mcut_urban_blocks\u001b[0m:\u001b[36m118\u001b[0m - \u001b[32m\u001b[1mBlocks are successfully cut!\u001b[0m\n",
      "\u001b[32m2025-08-15 19:30:56.858\u001b[0m | \u001b[1mINFO    \u001b[0m | \u001b[36mblocksnet.blocks.assignment.core\u001b[0m:\u001b[36massign_land_use\u001b[0m:\u001b[36m44\u001b[0m - \u001b[1mOverlaying geometries\u001b[0m\n",
      "\u001b[32m2025-08-15 19:30:57.117\u001b[0m | \u001b[32m\u001b[1mSUCCESS \u001b[0m | \u001b[36mblocksnet.blocks.assignment.core\u001b[0m:\u001b[36massign_land_use\u001b[0m:\u001b[36m55\u001b[0m - \u001b[32m\u001b[1mShares calculated\u001b[0m\n"
     ]
    },
    {
     "name": "stdout",
     "output_type": "stream",
     "text": [
      " -> Brest, Belarus\n"
     ]
    },
    {
     "name": "stderr",
     "output_type": "stream",
     "text": [
      "\u001b[32m2025-08-15 19:31:43.360\u001b[0m | \u001b[1mINFO    \u001b[0m | \u001b[36mblocksnet.blocks.cutting.preprocessing.core\u001b[0m:\u001b[36mpreprocess_urban_objects\u001b[0m:\u001b[36m44\u001b[0m - \u001b[1mChecking roads schema\u001b[0m\n",
      "\u001b[32m2025-08-15 19:31:43.418\u001b[0m | \u001b[1mINFO    \u001b[0m | \u001b[36mblocksnet.blocks.cutting.preprocessing.core\u001b[0m:\u001b[36mpreprocess_urban_objects\u001b[0m:\u001b[36m51\u001b[0m - \u001b[1mChecking railways schema\u001b[0m\n",
      "\u001b[32m2025-08-15 19:31:43.430\u001b[0m | \u001b[1mINFO    \u001b[0m | \u001b[36mblocksnet.blocks.cutting.preprocessing.core\u001b[0m:\u001b[36mpreprocess_urban_objects\u001b[0m:\u001b[36m58\u001b[0m - \u001b[1mChecking water schema\u001b[0m\n",
      "\u001b[32m2025-08-15 19:31:43.450\u001b[0m | \u001b[1mINFO    \u001b[0m | \u001b[36mblocksnet.blocks.cutting.processing.core\u001b[0m:\u001b[36mwrapper\u001b[0m:\u001b[36m21\u001b[0m - \u001b[1mChecking boundaries schema\u001b[0m\n",
      "\u001b[32m2025-08-15 19:31:43.462\u001b[0m | \u001b[1mINFO    \u001b[0m | \u001b[36mblocksnet.blocks.cutting.processing.core\u001b[0m:\u001b[36mwrapper\u001b[0m:\u001b[36m25\u001b[0m - \u001b[1mChecking line objects schema\u001b[0m\n",
      "\u001b[32m2025-08-15 19:31:43.483\u001b[0m | \u001b[1mINFO    \u001b[0m | \u001b[36mblocksnet.blocks.cutting.processing.core\u001b[0m:\u001b[36mwrapper\u001b[0m:\u001b[36m31\u001b[0m - \u001b[1mChecking polygon objects schema\u001b[0m\n",
      "\u001b[32m2025-08-15 19:31:43.499\u001b[0m | \u001b[1mINFO    \u001b[0m | \u001b[36mblocksnet.blocks.cutting.processing.core\u001b[0m:\u001b[36m_exclude_polygons\u001b[0m:\u001b[36m45\u001b[0m - \u001b[1mExcluding polygon objects from blocks\u001b[0m\n",
      "\u001b[32m2025-08-15 19:31:43.825\u001b[0m | \u001b[1mINFO    \u001b[0m | \u001b[36mblocksnet.blocks.cutting.processing.core\u001b[0m:\u001b[36m_get_enclosures\u001b[0m:\u001b[36m51\u001b[0m - \u001b[1mSetting up enclosures\u001b[0m\n",
      "\u001b[32m2025-08-15 19:31:44.199\u001b[0m | \u001b[1mINFO    \u001b[0m | \u001b[36mblocksnet.blocks.cutting.processing.core\u001b[0m:\u001b[36m_fill_holes\u001b[0m:\u001b[36m68\u001b[0m - \u001b[1mFilling holes inside the blocks\u001b[0m\n",
      "\u001b[32m2025-08-15 19:31:44.426\u001b[0m | \u001b[1mINFO    \u001b[0m | \u001b[36mblocksnet.blocks.cutting.processing.core\u001b[0m:\u001b[36m_filter_overlapping\u001b[0m:\u001b[36m78\u001b[0m - \u001b[1mFiltering overlapping geometries\u001b[0m\n",
      "\u001b[32m2025-08-15 19:31:44.872\u001b[0m | \u001b[32m\u001b[1mSUCCESS \u001b[0m | \u001b[36mblocksnet.blocks.cutting.processing.core\u001b[0m:\u001b[36mcut_urban_blocks\u001b[0m:\u001b[36m118\u001b[0m - \u001b[32m\u001b[1mBlocks are successfully cut!\u001b[0m\n",
      "\u001b[32m2025-08-15 19:31:50.894\u001b[0m | \u001b[1mINFO    \u001b[0m | \u001b[36mblocksnet.blocks.assignment.core\u001b[0m:\u001b[36massign_land_use\u001b[0m:\u001b[36m44\u001b[0m - \u001b[1mOverlaying geometries\u001b[0m\n",
      "\u001b[32m2025-08-15 19:31:51.455\u001b[0m | \u001b[32m\u001b[1mSUCCESS \u001b[0m | \u001b[36mblocksnet.blocks.assignment.core\u001b[0m:\u001b[36massign_land_use\u001b[0m:\u001b[36m55\u001b[0m - \u001b[32m\u001b[1mShares calculated\u001b[0m\n"
     ]
    },
    {
     "name": "stdout",
     "output_type": "stream",
     "text": [
      " -> Bobruysk, Belarus\n"
     ]
    },
    {
     "name": "stderr",
     "output_type": "stream",
     "text": [
      "\u001b[32m2025-08-15 19:32:17.936\u001b[0m | \u001b[1mINFO    \u001b[0m | \u001b[36mblocksnet.blocks.cutting.preprocessing.core\u001b[0m:\u001b[36mpreprocess_urban_objects\u001b[0m:\u001b[36m44\u001b[0m - \u001b[1mChecking roads schema\u001b[0m\n",
      "\u001b[32m2025-08-15 19:32:17.963\u001b[0m | \u001b[1mINFO    \u001b[0m | \u001b[36mblocksnet.blocks.cutting.preprocessing.core\u001b[0m:\u001b[36mpreprocess_urban_objects\u001b[0m:\u001b[36m51\u001b[0m - \u001b[1mChecking railways schema\u001b[0m\n",
      "\u001b[32m2025-08-15 19:32:17.973\u001b[0m | \u001b[1mINFO    \u001b[0m | \u001b[36mblocksnet.blocks.cutting.preprocessing.core\u001b[0m:\u001b[36mpreprocess_urban_objects\u001b[0m:\u001b[36m58\u001b[0m - \u001b[1mChecking water schema\u001b[0m\n",
      "\u001b[32m2025-08-15 19:32:17.989\u001b[0m | \u001b[1mINFO    \u001b[0m | \u001b[36mblocksnet.blocks.cutting.processing.core\u001b[0m:\u001b[36mwrapper\u001b[0m:\u001b[36m21\u001b[0m - \u001b[1mChecking boundaries schema\u001b[0m\n",
      "\u001b[32m2025-08-15 19:32:17.999\u001b[0m | \u001b[1mINFO    \u001b[0m | \u001b[36mblocksnet.blocks.cutting.processing.core\u001b[0m:\u001b[36mwrapper\u001b[0m:\u001b[36m25\u001b[0m - \u001b[1mChecking line objects schema\u001b[0m\n",
      "\u001b[32m2025-08-15 19:32:18.021\u001b[0m | \u001b[1mINFO    \u001b[0m | \u001b[36mblocksnet.blocks.cutting.processing.core\u001b[0m:\u001b[36mwrapper\u001b[0m:\u001b[36m31\u001b[0m - \u001b[1mChecking polygon objects schema\u001b[0m\n",
      "\u001b[32m2025-08-15 19:32:18.035\u001b[0m | \u001b[1mINFO    \u001b[0m | \u001b[36mblocksnet.blocks.cutting.processing.core\u001b[0m:\u001b[36m_exclude_polygons\u001b[0m:\u001b[36m45\u001b[0m - \u001b[1mExcluding polygon objects from blocks\u001b[0m\n",
      "\u001b[32m2025-08-15 19:32:18.095\u001b[0m | \u001b[1mINFO    \u001b[0m | \u001b[36mblocksnet.blocks.cutting.processing.core\u001b[0m:\u001b[36m_get_enclosures\u001b[0m:\u001b[36m51\u001b[0m - \u001b[1mSetting up enclosures\u001b[0m\n",
      "\u001b[32m2025-08-15 19:32:18.245\u001b[0m | \u001b[1mINFO    \u001b[0m | \u001b[36mblocksnet.blocks.cutting.processing.core\u001b[0m:\u001b[36m_fill_holes\u001b[0m:\u001b[36m68\u001b[0m - \u001b[1mFilling holes inside the blocks\u001b[0m\n",
      "\u001b[32m2025-08-15 19:32:18.358\u001b[0m | \u001b[1mINFO    \u001b[0m | \u001b[36mblocksnet.blocks.cutting.processing.core\u001b[0m:\u001b[36m_filter_overlapping\u001b[0m:\u001b[36m78\u001b[0m - \u001b[1mFiltering overlapping geometries\u001b[0m\n",
      "\u001b[32m2025-08-15 19:32:18.522\u001b[0m | \u001b[32m\u001b[1mSUCCESS \u001b[0m | \u001b[36mblocksnet.blocks.cutting.processing.core\u001b[0m:\u001b[36mcut_urban_blocks\u001b[0m:\u001b[36m118\u001b[0m - \u001b[32m\u001b[1mBlocks are successfully cut!\u001b[0m\n",
      "\u001b[32m2025-08-15 19:32:22.477\u001b[0m | \u001b[1mINFO    \u001b[0m | \u001b[36mblocksnet.blocks.assignment.core\u001b[0m:\u001b[36massign_land_use\u001b[0m:\u001b[36m44\u001b[0m - \u001b[1mOverlaying geometries\u001b[0m\n",
      "\u001b[32m2025-08-15 19:32:22.645\u001b[0m | \u001b[32m\u001b[1mSUCCESS \u001b[0m | \u001b[36mblocksnet.blocks.assignment.core\u001b[0m:\u001b[36massign_land_use\u001b[0m:\u001b[36m55\u001b[0m - \u001b[32m\u001b[1mShares calculated\u001b[0m\n"
     ]
    },
    {
     "name": "stdout",
     "output_type": "stream",
     "text": [
      " -> Baranovichi, Belarus\n"
     ]
    },
    {
     "name": "stderr",
     "output_type": "stream",
     "text": [
      "\u001b[32m2025-08-15 19:32:38.252\u001b[0m | \u001b[1mINFO    \u001b[0m | \u001b[36mblocksnet.blocks.cutting.preprocessing.core\u001b[0m:\u001b[36mpreprocess_urban_objects\u001b[0m:\u001b[36m44\u001b[0m - \u001b[1mChecking roads schema\u001b[0m\n",
      "\u001b[32m2025-08-15 19:32:38.266\u001b[0m | \u001b[1mINFO    \u001b[0m | \u001b[36mblocksnet.blocks.cutting.preprocessing.core\u001b[0m:\u001b[36mpreprocess_urban_objects\u001b[0m:\u001b[36m51\u001b[0m - \u001b[1mChecking railways schema\u001b[0m\n",
      "\u001b[32m2025-08-15 19:32:38.281\u001b[0m | \u001b[1mINFO    \u001b[0m | \u001b[36mblocksnet.blocks.cutting.preprocessing.core\u001b[0m:\u001b[36mpreprocess_urban_objects\u001b[0m:\u001b[36m58\u001b[0m - \u001b[1mChecking water schema\u001b[0m\n",
      "\u001b[32m2025-08-15 19:32:38.297\u001b[0m | \u001b[1mINFO    \u001b[0m | \u001b[36mblocksnet.blocks.cutting.processing.core\u001b[0m:\u001b[36mwrapper\u001b[0m:\u001b[36m21\u001b[0m - \u001b[1mChecking boundaries schema\u001b[0m\n",
      "\u001b[32m2025-08-15 19:32:38.307\u001b[0m | \u001b[1mINFO    \u001b[0m | \u001b[36mblocksnet.blocks.cutting.processing.core\u001b[0m:\u001b[36mwrapper\u001b[0m:\u001b[36m25\u001b[0m - \u001b[1mChecking line objects schema\u001b[0m\n",
      "\u001b[32m2025-08-15 19:32:38.334\u001b[0m | \u001b[1mINFO    \u001b[0m | \u001b[36mblocksnet.blocks.cutting.processing.core\u001b[0m:\u001b[36mwrapper\u001b[0m:\u001b[36m31\u001b[0m - \u001b[1mChecking polygon objects schema\u001b[0m\n",
      "\u001b[32m2025-08-15 19:32:38.350\u001b[0m | \u001b[1mINFO    \u001b[0m | \u001b[36mblocksnet.blocks.cutting.processing.core\u001b[0m:\u001b[36m_exclude_polygons\u001b[0m:\u001b[36m45\u001b[0m - \u001b[1mExcluding polygon objects from blocks\u001b[0m\n",
      "\u001b[32m2025-08-15 19:32:38.387\u001b[0m | \u001b[1mINFO    \u001b[0m | \u001b[36mblocksnet.blocks.cutting.processing.core\u001b[0m:\u001b[36m_get_enclosures\u001b[0m:\u001b[36m51\u001b[0m - \u001b[1mSetting up enclosures\u001b[0m\n",
      "\u001b[32m2025-08-15 19:32:38.561\u001b[0m | \u001b[1mINFO    \u001b[0m | \u001b[36mblocksnet.blocks.cutting.processing.core\u001b[0m:\u001b[36m_fill_holes\u001b[0m:\u001b[36m68\u001b[0m - \u001b[1mFilling holes inside the blocks\u001b[0m\n",
      "\u001b[32m2025-08-15 19:32:38.708\u001b[0m | \u001b[1mINFO    \u001b[0m | \u001b[36mblocksnet.blocks.cutting.processing.core\u001b[0m:\u001b[36m_filter_overlapping\u001b[0m:\u001b[36m78\u001b[0m - \u001b[1mFiltering overlapping geometries\u001b[0m\n",
      "\u001b[32m2025-08-15 19:32:38.877\u001b[0m | \u001b[32m\u001b[1mSUCCESS \u001b[0m | \u001b[36mblocksnet.blocks.cutting.processing.core\u001b[0m:\u001b[36mcut_urban_blocks\u001b[0m:\u001b[36m118\u001b[0m - \u001b[32m\u001b[1mBlocks are successfully cut!\u001b[0m\n",
      "\u001b[32m2025-08-15 19:32:41.158\u001b[0m | \u001b[1mINFO    \u001b[0m | \u001b[36mblocksnet.blocks.assignment.core\u001b[0m:\u001b[36massign_land_use\u001b[0m:\u001b[36m44\u001b[0m - \u001b[1mOverlaying geometries\u001b[0m\n",
      "\u001b[32m2025-08-15 19:32:41.416\u001b[0m | \u001b[32m\u001b[1mSUCCESS \u001b[0m | \u001b[36mblocksnet.blocks.assignment.core\u001b[0m:\u001b[36massign_land_use\u001b[0m:\u001b[36m55\u001b[0m - \u001b[32m\u001b[1mShares calculated\u001b[0m\n"
     ]
    },
    {
     "name": "stdout",
     "output_type": "stream",
     "text": [
      " -> Barysaw, Belarus\n"
     ]
    },
    {
     "name": "stderr",
     "output_type": "stream",
     "text": [
      "\u001b[32m2025-08-15 19:33:08.904\u001b[0m | \u001b[1mINFO    \u001b[0m | \u001b[36mblocksnet.blocks.cutting.preprocessing.core\u001b[0m:\u001b[36mpreprocess_urban_objects\u001b[0m:\u001b[36m44\u001b[0m - \u001b[1mChecking roads schema\u001b[0m\n",
      "\u001b[32m2025-08-15 19:33:08.931\u001b[0m | \u001b[1mINFO    \u001b[0m | \u001b[36mblocksnet.blocks.cutting.preprocessing.core\u001b[0m:\u001b[36mpreprocess_urban_objects\u001b[0m:\u001b[36m51\u001b[0m - \u001b[1mChecking railways schema\u001b[0m\n",
      "\u001b[32m2025-08-15 19:33:08.943\u001b[0m | \u001b[1mINFO    \u001b[0m | \u001b[36mblocksnet.blocks.cutting.preprocessing.core\u001b[0m:\u001b[36mpreprocess_urban_objects\u001b[0m:\u001b[36m58\u001b[0m - \u001b[1mChecking water schema\u001b[0m\n",
      "\u001b[32m2025-08-15 19:33:08.964\u001b[0m | \u001b[1mINFO    \u001b[0m | \u001b[36mblocksnet.blocks.cutting.processing.core\u001b[0m:\u001b[36mwrapper\u001b[0m:\u001b[36m21\u001b[0m - \u001b[1mChecking boundaries schema\u001b[0m\n",
      "\u001b[32m2025-08-15 19:33:08.974\u001b[0m | \u001b[1mINFO    \u001b[0m | \u001b[36mblocksnet.blocks.cutting.processing.core\u001b[0m:\u001b[36mwrapper\u001b[0m:\u001b[36m25\u001b[0m - \u001b[1mChecking line objects schema\u001b[0m\n",
      "\u001b[32m2025-08-15 19:33:08.992\u001b[0m | \u001b[1mINFO    \u001b[0m | \u001b[36mblocksnet.blocks.cutting.processing.core\u001b[0m:\u001b[36mwrapper\u001b[0m:\u001b[36m31\u001b[0m - \u001b[1mChecking polygon objects schema\u001b[0m\n",
      "\u001b[32m2025-08-15 19:33:09.005\u001b[0m | \u001b[1mINFO    \u001b[0m | \u001b[36mblocksnet.blocks.cutting.processing.core\u001b[0m:\u001b[36m_exclude_polygons\u001b[0m:\u001b[36m45\u001b[0m - \u001b[1mExcluding polygon objects from blocks\u001b[0m\n",
      "\u001b[32m2025-08-15 19:33:09.045\u001b[0m | \u001b[1mINFO    \u001b[0m | \u001b[36mblocksnet.blocks.cutting.processing.core\u001b[0m:\u001b[36m_get_enclosures\u001b[0m:\u001b[36m51\u001b[0m - \u001b[1mSetting up enclosures\u001b[0m\n",
      "\u001b[32m2025-08-15 19:33:09.175\u001b[0m | \u001b[1mINFO    \u001b[0m | \u001b[36mblocksnet.blocks.cutting.processing.core\u001b[0m:\u001b[36m_fill_holes\u001b[0m:\u001b[36m68\u001b[0m - \u001b[1mFilling holes inside the blocks\u001b[0m\n",
      "\u001b[32m2025-08-15 19:33:09.278\u001b[0m | \u001b[1mINFO    \u001b[0m | \u001b[36mblocksnet.blocks.cutting.processing.core\u001b[0m:\u001b[36m_filter_overlapping\u001b[0m:\u001b[36m78\u001b[0m - \u001b[1mFiltering overlapping geometries\u001b[0m\n",
      "\u001b[32m2025-08-15 19:33:09.380\u001b[0m | \u001b[32m\u001b[1mSUCCESS \u001b[0m | \u001b[36mblocksnet.blocks.cutting.processing.core\u001b[0m:\u001b[36mcut_urban_blocks\u001b[0m:\u001b[36m118\u001b[0m - \u001b[32m\u001b[1mBlocks are successfully cut!\u001b[0m\n",
      "\u001b[32m2025-08-15 19:33:12.472\u001b[0m | \u001b[1mINFO    \u001b[0m | \u001b[36mblocksnet.blocks.assignment.core\u001b[0m:\u001b[36massign_land_use\u001b[0m:\u001b[36m44\u001b[0m - \u001b[1mOverlaying geometries\u001b[0m\n",
      "\u001b[32m2025-08-15 19:33:12.615\u001b[0m | \u001b[32m\u001b[1mSUCCESS \u001b[0m | \u001b[36mblocksnet.blocks.assignment.core\u001b[0m:\u001b[36massign_land_use\u001b[0m:\u001b[36m55\u001b[0m - \u001b[32m\u001b[1mShares calculated\u001b[0m\n"
     ]
    },
    {
     "name": "stdout",
     "output_type": "stream",
     "text": [
      " -> Pinsk, Belarus\n"
     ]
    },
    {
     "name": "stderr",
     "output_type": "stream",
     "text": [
      "\u001b[32m2025-08-15 19:33:28.861\u001b[0m | \u001b[1mINFO    \u001b[0m | \u001b[36mblocksnet.blocks.cutting.preprocessing.core\u001b[0m:\u001b[36mpreprocess_urban_objects\u001b[0m:\u001b[36m44\u001b[0m - \u001b[1mChecking roads schema\u001b[0m\n",
      "\u001b[32m2025-08-15 19:33:28.886\u001b[0m | \u001b[1mINFO    \u001b[0m | \u001b[36mblocksnet.blocks.cutting.preprocessing.core\u001b[0m:\u001b[36mpreprocess_urban_objects\u001b[0m:\u001b[36m51\u001b[0m - \u001b[1mChecking railways schema\u001b[0m\n",
      "\u001b[32m2025-08-15 19:33:28.901\u001b[0m | \u001b[1mINFO    \u001b[0m | \u001b[36mblocksnet.blocks.cutting.preprocessing.core\u001b[0m:\u001b[36mpreprocess_urban_objects\u001b[0m:\u001b[36m58\u001b[0m - \u001b[1mChecking water schema\u001b[0m\n",
      "\u001b[32m2025-08-15 19:33:28.919\u001b[0m | \u001b[1mINFO    \u001b[0m | \u001b[36mblocksnet.blocks.cutting.processing.core\u001b[0m:\u001b[36mwrapper\u001b[0m:\u001b[36m21\u001b[0m - \u001b[1mChecking boundaries schema\u001b[0m\n",
      "\u001b[32m2025-08-15 19:33:28.930\u001b[0m | \u001b[1mINFO    \u001b[0m | \u001b[36mblocksnet.blocks.cutting.processing.core\u001b[0m:\u001b[36mwrapper\u001b[0m:\u001b[36m25\u001b[0m - \u001b[1mChecking line objects schema\u001b[0m\n",
      "\u001b[32m2025-08-15 19:33:28.948\u001b[0m | \u001b[1mINFO    \u001b[0m | \u001b[36mblocksnet.blocks.cutting.processing.core\u001b[0m:\u001b[36mwrapper\u001b[0m:\u001b[36m31\u001b[0m - \u001b[1mChecking polygon objects schema\u001b[0m\n",
      "\u001b[32m2025-08-15 19:33:28.962\u001b[0m | \u001b[1mINFO    \u001b[0m | \u001b[36mblocksnet.blocks.cutting.processing.core\u001b[0m:\u001b[36m_exclude_polygons\u001b[0m:\u001b[36m45\u001b[0m - \u001b[1mExcluding polygon objects from blocks\u001b[0m\n",
      "\u001b[32m2025-08-15 19:33:29.016\u001b[0m | \u001b[1mINFO    \u001b[0m | \u001b[36mblocksnet.blocks.cutting.processing.core\u001b[0m:\u001b[36m_get_enclosures\u001b[0m:\u001b[36m51\u001b[0m - \u001b[1mSetting up enclosures\u001b[0m\n",
      "\u001b[32m2025-08-15 19:33:29.096\u001b[0m | \u001b[1mINFO    \u001b[0m | \u001b[36mblocksnet.blocks.cutting.processing.core\u001b[0m:\u001b[36m_fill_holes\u001b[0m:\u001b[36m68\u001b[0m - \u001b[1mFilling holes inside the blocks\u001b[0m\n",
      "\u001b[32m2025-08-15 19:33:29.164\u001b[0m | \u001b[1mINFO    \u001b[0m | \u001b[36mblocksnet.blocks.cutting.processing.core\u001b[0m:\u001b[36m_filter_overlapping\u001b[0m:\u001b[36m78\u001b[0m - \u001b[1mFiltering overlapping geometries\u001b[0m\n",
      "\u001b[32m2025-08-15 19:33:29.262\u001b[0m | \u001b[32m\u001b[1mSUCCESS \u001b[0m | \u001b[36mblocksnet.blocks.cutting.processing.core\u001b[0m:\u001b[36mcut_urban_blocks\u001b[0m:\u001b[36m118\u001b[0m - \u001b[32m\u001b[1mBlocks are successfully cut!\u001b[0m\n",
      "\u001b[32m2025-08-15 19:33:36.780\u001b[0m | \u001b[1mINFO    \u001b[0m | \u001b[36mblocksnet.blocks.assignment.core\u001b[0m:\u001b[36massign_land_use\u001b[0m:\u001b[36m44\u001b[0m - \u001b[1mOverlaying geometries\u001b[0m\n",
      "\u001b[32m2025-08-15 19:33:36.967\u001b[0m | \u001b[32m\u001b[1mSUCCESS \u001b[0m | \u001b[36mblocksnet.blocks.assignment.core\u001b[0m:\u001b[36massign_land_use\u001b[0m:\u001b[36m55\u001b[0m - \u001b[32m\u001b[1mShares calculated\u001b[0m\n"
     ]
    },
    {
     "name": "stdout",
     "output_type": "stream",
     "text": [
      " -> Mazyr, Belarus\n"
     ]
    },
    {
     "name": "stderr",
     "output_type": "stream",
     "text": [
      "\u001b[32m2025-08-15 19:33:58.598\u001b[0m | \u001b[1mINFO    \u001b[0m | \u001b[36mblocksnet.blocks.cutting.preprocessing.core\u001b[0m:\u001b[36mpreprocess_urban_objects\u001b[0m:\u001b[36m44\u001b[0m - \u001b[1mChecking roads schema\u001b[0m\n",
      "\u001b[32m2025-08-15 19:33:58.613\u001b[0m | \u001b[1mINFO    \u001b[0m | \u001b[36mblocksnet.blocks.cutting.preprocessing.core\u001b[0m:\u001b[36mpreprocess_urban_objects\u001b[0m:\u001b[36m51\u001b[0m - \u001b[1mChecking railways schema\u001b[0m\n",
      "\u001b[32m2025-08-15 19:33:58.613\u001b[0m | \u001b[1mINFO    \u001b[0m | \u001b[36mblocksnet.blocks.cutting.preprocessing.core\u001b[0m:\u001b[36mpreprocess_urban_objects\u001b[0m:\u001b[36m58\u001b[0m - \u001b[1mChecking water schema\u001b[0m\n",
      "\u001b[32m2025-08-15 19:33:58.641\u001b[0m | \u001b[1mINFO    \u001b[0m | \u001b[36mblocksnet.blocks.cutting.processing.core\u001b[0m:\u001b[36mwrapper\u001b[0m:\u001b[36m21\u001b[0m - \u001b[1mChecking boundaries schema\u001b[0m\n",
      "\u001b[32m2025-08-15 19:33:58.652\u001b[0m | \u001b[1mINFO    \u001b[0m | \u001b[36mblocksnet.blocks.cutting.processing.core\u001b[0m:\u001b[36mwrapper\u001b[0m:\u001b[36m25\u001b[0m - \u001b[1mChecking line objects schema\u001b[0m\n",
      "\u001b[32m2025-08-15 19:33:58.676\u001b[0m | \u001b[1mINFO    \u001b[0m | \u001b[36mblocksnet.blocks.cutting.processing.core\u001b[0m:\u001b[36mwrapper\u001b[0m:\u001b[36m31\u001b[0m - \u001b[1mChecking polygon objects schema\u001b[0m\n",
      "\u001b[32m2025-08-15 19:33:58.691\u001b[0m | \u001b[1mINFO    \u001b[0m | \u001b[36mblocksnet.blocks.cutting.processing.core\u001b[0m:\u001b[36m_exclude_polygons\u001b[0m:\u001b[36m45\u001b[0m - \u001b[1mExcluding polygon objects from blocks\u001b[0m\n",
      "\u001b[32m2025-08-15 19:33:58.781\u001b[0m | \u001b[1mINFO    \u001b[0m | \u001b[36mblocksnet.blocks.cutting.processing.core\u001b[0m:\u001b[36m_get_enclosures\u001b[0m:\u001b[36m51\u001b[0m - \u001b[1mSetting up enclosures\u001b[0m\n",
      "\u001b[32m2025-08-15 19:33:58.881\u001b[0m | \u001b[1mINFO    \u001b[0m | \u001b[36mblocksnet.blocks.cutting.processing.core\u001b[0m:\u001b[36m_fill_holes\u001b[0m:\u001b[36m68\u001b[0m - \u001b[1mFilling holes inside the blocks\u001b[0m\n",
      "\u001b[32m2025-08-15 19:33:58.930\u001b[0m | \u001b[1mINFO    \u001b[0m | \u001b[36mblocksnet.blocks.cutting.processing.core\u001b[0m:\u001b[36m_filter_overlapping\u001b[0m:\u001b[36m78\u001b[0m - \u001b[1mFiltering overlapping geometries\u001b[0m\n",
      "\u001b[32m2025-08-15 19:33:59.003\u001b[0m | \u001b[32m\u001b[1mSUCCESS \u001b[0m | \u001b[36mblocksnet.blocks.cutting.processing.core\u001b[0m:\u001b[36mcut_urban_blocks\u001b[0m:\u001b[36m118\u001b[0m - \u001b[32m\u001b[1mBlocks are successfully cut!\u001b[0m\n",
      "\u001b[32m2025-08-15 19:34:03.229\u001b[0m | \u001b[1mINFO    \u001b[0m | \u001b[36mblocksnet.blocks.assignment.core\u001b[0m:\u001b[36massign_land_use\u001b[0m:\u001b[36m44\u001b[0m - \u001b[1mOverlaying geometries\u001b[0m\n",
      "\u001b[32m2025-08-15 19:34:03.345\u001b[0m | \u001b[32m\u001b[1mSUCCESS \u001b[0m | \u001b[36mblocksnet.blocks.assignment.core\u001b[0m:\u001b[36massign_land_use\u001b[0m:\u001b[36m55\u001b[0m - \u001b[32m\u001b[1mShares calculated\u001b[0m\n"
     ]
    },
    {
     "name": "stdout",
     "output_type": "stream",
     "text": [
      " -> Lida, Belarus\n"
     ]
    },
    {
     "name": "stderr",
     "output_type": "stream",
     "text": [
      "\u001b[32m2025-08-15 19:34:19.032\u001b[0m | \u001b[1mINFO    \u001b[0m | \u001b[36mblocksnet.blocks.cutting.preprocessing.core\u001b[0m:\u001b[36mpreprocess_urban_objects\u001b[0m:\u001b[36m44\u001b[0m - \u001b[1mChecking roads schema\u001b[0m\n",
      "\u001b[32m2025-08-15 19:34:19.072\u001b[0m | \u001b[1mINFO    \u001b[0m | \u001b[36mblocksnet.blocks.cutting.preprocessing.core\u001b[0m:\u001b[36mpreprocess_urban_objects\u001b[0m:\u001b[36m51\u001b[0m - \u001b[1mChecking railways schema\u001b[0m\n",
      "\u001b[32m2025-08-15 19:34:19.088\u001b[0m | \u001b[1mINFO    \u001b[0m | \u001b[36mblocksnet.blocks.cutting.preprocessing.core\u001b[0m:\u001b[36mpreprocess_urban_objects\u001b[0m:\u001b[36m58\u001b[0m - \u001b[1mChecking water schema\u001b[0m\n",
      "\u001b[32m2025-08-15 19:34:19.102\u001b[0m | \u001b[1mINFO    \u001b[0m | \u001b[36mblocksnet.blocks.cutting.processing.core\u001b[0m:\u001b[36mwrapper\u001b[0m:\u001b[36m21\u001b[0m - \u001b[1mChecking boundaries schema\u001b[0m\n",
      "\u001b[32m2025-08-15 19:34:19.111\u001b[0m | \u001b[1mINFO    \u001b[0m | \u001b[36mblocksnet.blocks.cutting.processing.core\u001b[0m:\u001b[36mwrapper\u001b[0m:\u001b[36m25\u001b[0m - \u001b[1mChecking line objects schema\u001b[0m\n",
      "\u001b[32m2025-08-15 19:34:19.129\u001b[0m | \u001b[1mINFO    \u001b[0m | \u001b[36mblocksnet.blocks.cutting.processing.core\u001b[0m:\u001b[36mwrapper\u001b[0m:\u001b[36m31\u001b[0m - \u001b[1mChecking polygon objects schema\u001b[0m\n",
      "\u001b[32m2025-08-15 19:34:19.143\u001b[0m | \u001b[1mINFO    \u001b[0m | \u001b[36mblocksnet.blocks.cutting.processing.core\u001b[0m:\u001b[36m_exclude_polygons\u001b[0m:\u001b[36m45\u001b[0m - \u001b[1mExcluding polygon objects from blocks\u001b[0m\n",
      "\u001b[32m2025-08-15 19:34:19.181\u001b[0m | \u001b[1mINFO    \u001b[0m | \u001b[36mblocksnet.blocks.cutting.processing.core\u001b[0m:\u001b[36m_get_enclosures\u001b[0m:\u001b[36m51\u001b[0m - \u001b[1mSetting up enclosures\u001b[0m\n",
      "\u001b[32m2025-08-15 19:34:19.279\u001b[0m | \u001b[1mINFO    \u001b[0m | \u001b[36mblocksnet.blocks.cutting.processing.core\u001b[0m:\u001b[36m_fill_holes\u001b[0m:\u001b[36m68\u001b[0m - \u001b[1mFilling holes inside the blocks\u001b[0m\n",
      "\u001b[32m2025-08-15 19:34:19.348\u001b[0m | \u001b[1mINFO    \u001b[0m | \u001b[36mblocksnet.blocks.cutting.processing.core\u001b[0m:\u001b[36m_filter_overlapping\u001b[0m:\u001b[36m78\u001b[0m - \u001b[1mFiltering overlapping geometries\u001b[0m\n",
      "\u001b[32m2025-08-15 19:34:19.429\u001b[0m | \u001b[32m\u001b[1mSUCCESS \u001b[0m | \u001b[36mblocksnet.blocks.cutting.processing.core\u001b[0m:\u001b[36mcut_urban_blocks\u001b[0m:\u001b[36m118\u001b[0m - \u001b[32m\u001b[1mBlocks are successfully cut!\u001b[0m\n",
      "\u001b[32m2025-08-15 19:34:21.944\u001b[0m | \u001b[1mINFO    \u001b[0m | \u001b[36mblocksnet.blocks.assignment.core\u001b[0m:\u001b[36massign_land_use\u001b[0m:\u001b[36m44\u001b[0m - \u001b[1mOverlaying geometries\u001b[0m\n",
      "\u001b[32m2025-08-15 19:34:22.114\u001b[0m | \u001b[32m\u001b[1mSUCCESS \u001b[0m | \u001b[36mblocksnet.blocks.assignment.core\u001b[0m:\u001b[36massign_land_use\u001b[0m:\u001b[36m55\u001b[0m - \u001b[32m\u001b[1mShares calculated\u001b[0m\n"
     ]
    },
    {
     "name": "stdout",
     "output_type": "stream",
     "text": [
      " -> Orsha, Belarus\n"
     ]
    },
    {
     "name": "stderr",
     "output_type": "stream",
     "text": [
      "\u001b[32m2025-08-15 19:34:40.766\u001b[0m | \u001b[1mINFO    \u001b[0m | \u001b[36mblocksnet.blocks.cutting.preprocessing.core\u001b[0m:\u001b[36mpreprocess_urban_objects\u001b[0m:\u001b[36m44\u001b[0m - \u001b[1mChecking roads schema\u001b[0m\n",
      "\u001b[32m2025-08-15 19:34:40.766\u001b[0m | \u001b[1mINFO    \u001b[0m | \u001b[36mblocksnet.blocks.cutting.preprocessing.core\u001b[0m:\u001b[36mpreprocess_urban_objects\u001b[0m:\u001b[36m51\u001b[0m - \u001b[1mChecking railways schema\u001b[0m\n",
      "\u001b[32m2025-08-15 19:34:40.794\u001b[0m | \u001b[1mINFO    \u001b[0m | \u001b[36mblocksnet.blocks.cutting.preprocessing.core\u001b[0m:\u001b[36mpreprocess_urban_objects\u001b[0m:\u001b[36m58\u001b[0m - \u001b[1mChecking water schema\u001b[0m\n",
      "\u001b[32m2025-08-15 19:34:40.808\u001b[0m | \u001b[1mINFO    \u001b[0m | \u001b[36mblocksnet.blocks.cutting.processing.core\u001b[0m:\u001b[36mwrapper\u001b[0m:\u001b[36m21\u001b[0m - \u001b[1mChecking boundaries schema\u001b[0m\n",
      "\u001b[32m2025-08-15 19:34:40.819\u001b[0m | \u001b[1mINFO    \u001b[0m | \u001b[36mblocksnet.blocks.cutting.processing.core\u001b[0m:\u001b[36mwrapper\u001b[0m:\u001b[36m25\u001b[0m - \u001b[1mChecking line objects schema\u001b[0m\n",
      "\u001b[32m2025-08-15 19:34:40.836\u001b[0m | \u001b[1mINFO    \u001b[0m | \u001b[36mblocksnet.blocks.cutting.processing.core\u001b[0m:\u001b[36mwrapper\u001b[0m:\u001b[36m31\u001b[0m - \u001b[1mChecking polygon objects schema\u001b[0m\n",
      "\u001b[32m2025-08-15 19:34:40.850\u001b[0m | \u001b[1mINFO    \u001b[0m | \u001b[36mblocksnet.blocks.cutting.processing.core\u001b[0m:\u001b[36m_exclude_polygons\u001b[0m:\u001b[36m45\u001b[0m - \u001b[1mExcluding polygon objects from blocks\u001b[0m\n",
      "\u001b[32m2025-08-15 19:34:40.885\u001b[0m | \u001b[1mINFO    \u001b[0m | \u001b[36mblocksnet.blocks.cutting.processing.core\u001b[0m:\u001b[36m_get_enclosures\u001b[0m:\u001b[36m51\u001b[0m - \u001b[1mSetting up enclosures\u001b[0m\n",
      "\u001b[32m2025-08-15 19:34:40.981\u001b[0m | \u001b[1mINFO    \u001b[0m | \u001b[36mblocksnet.blocks.cutting.processing.core\u001b[0m:\u001b[36m_fill_holes\u001b[0m:\u001b[36m68\u001b[0m - \u001b[1mFilling holes inside the blocks\u001b[0m\n",
      "\u001b[32m2025-08-15 19:34:41.064\u001b[0m | \u001b[1mINFO    \u001b[0m | \u001b[36mblocksnet.blocks.cutting.processing.core\u001b[0m:\u001b[36m_filter_overlapping\u001b[0m:\u001b[36m78\u001b[0m - \u001b[1mFiltering overlapping geometries\u001b[0m\n",
      "\u001b[32m2025-08-15 19:34:41.180\u001b[0m | \u001b[32m\u001b[1mSUCCESS \u001b[0m | \u001b[36mblocksnet.blocks.cutting.processing.core\u001b[0m:\u001b[36mcut_urban_blocks\u001b[0m:\u001b[36m118\u001b[0m - \u001b[32m\u001b[1mBlocks are successfully cut!\u001b[0m\n",
      "\u001b[32m2025-08-15 19:34:42.998\u001b[0m | \u001b[1mINFO    \u001b[0m | \u001b[36mblocksnet.blocks.assignment.core\u001b[0m:\u001b[36massign_land_use\u001b[0m:\u001b[36m44\u001b[0m - \u001b[1mOverlaying geometries\u001b[0m\n",
      "\u001b[32m2025-08-15 19:34:43.145\u001b[0m | \u001b[32m\u001b[1mSUCCESS \u001b[0m | \u001b[36mblocksnet.blocks.assignment.core\u001b[0m:\u001b[36massign_land_use\u001b[0m:\u001b[36m55\u001b[0m - \u001b[32m\u001b[1mShares calculated\u001b[0m\n"
     ]
    },
    {
     "name": "stdout",
     "output_type": "stream",
     "text": [
      "\n",
      "=== Belgium ===\n",
      " -> Brussels, Belgium\n"
     ]
    },
    {
     "name": "stderr",
     "output_type": "stream",
     "text": [
      "\u001b[32m2025-08-15 19:38:15.588\u001b[0m | \u001b[1mINFO    \u001b[0m | \u001b[36mblocksnet.blocks.cutting.preprocessing.core\u001b[0m:\u001b[36mpreprocess_urban_objects\u001b[0m:\u001b[36m44\u001b[0m - \u001b[1mChecking roads schema\u001b[0m\n",
      "\u001b[32m2025-08-15 19:38:15.646\u001b[0m | \u001b[1mINFO    \u001b[0m | \u001b[36mblocksnet.blocks.cutting.preprocessing.core\u001b[0m:\u001b[36mpreprocess_urban_objects\u001b[0m:\u001b[36m51\u001b[0m - \u001b[1mChecking railways schema\u001b[0m\n",
      "\u001b[32m2025-08-15 19:38:15.659\u001b[0m | \u001b[1mINFO    \u001b[0m | \u001b[36mblocksnet.blocks.cutting.preprocessing.core\u001b[0m:\u001b[36mpreprocess_urban_objects\u001b[0m:\u001b[36m58\u001b[0m - \u001b[1mChecking water schema\u001b[0m\n",
      "\u001b[32m2025-08-15 19:38:15.671\u001b[0m | \u001b[1mINFO    \u001b[0m | \u001b[36mblocksnet.blocks.cutting.processing.core\u001b[0m:\u001b[36mwrapper\u001b[0m:\u001b[36m21\u001b[0m - \u001b[1mChecking boundaries schema\u001b[0m\n",
      "\u001b[32m2025-08-15 19:38:15.692\u001b[0m | \u001b[1mINFO    \u001b[0m | \u001b[36mblocksnet.blocks.cutting.processing.core\u001b[0m:\u001b[36mwrapper\u001b[0m:\u001b[36m25\u001b[0m - \u001b[1mChecking line objects schema\u001b[0m\n",
      "\u001b[32m2025-08-15 19:38:15.719\u001b[0m | \u001b[1mINFO    \u001b[0m | \u001b[36mblocksnet.blocks.cutting.processing.core\u001b[0m:\u001b[36mwrapper\u001b[0m:\u001b[36m31\u001b[0m - \u001b[1mChecking polygon objects schema\u001b[0m\n",
      "\u001b[32m2025-08-15 19:38:15.733\u001b[0m | \u001b[1mINFO    \u001b[0m | \u001b[36mblocksnet.blocks.cutting.processing.core\u001b[0m:\u001b[36m_exclude_polygons\u001b[0m:\u001b[36m45\u001b[0m - \u001b[1mExcluding polygon objects from blocks\u001b[0m\n",
      "\u001b[32m2025-08-15 19:38:15.803\u001b[0m | \u001b[1mINFO    \u001b[0m | \u001b[36mblocksnet.blocks.cutting.processing.core\u001b[0m:\u001b[36m_get_enclosures\u001b[0m:\u001b[36m51\u001b[0m - \u001b[1mSetting up enclosures\u001b[0m\n",
      "\u001b[32m2025-08-15 19:38:16.146\u001b[0m | \u001b[1mINFO    \u001b[0m | \u001b[36mblocksnet.blocks.cutting.processing.core\u001b[0m:\u001b[36m_fill_holes\u001b[0m:\u001b[36m68\u001b[0m - \u001b[1mFilling holes inside the blocks\u001b[0m\n",
      "\u001b[32m2025-08-15 19:38:16.387\u001b[0m | \u001b[1mINFO    \u001b[0m | \u001b[36mblocksnet.blocks.cutting.processing.core\u001b[0m:\u001b[36m_filter_overlapping\u001b[0m:\u001b[36m78\u001b[0m - \u001b[1mFiltering overlapping geometries\u001b[0m\n",
      "\u001b[32m2025-08-15 19:38:16.781\u001b[0m | \u001b[32m\u001b[1mSUCCESS \u001b[0m | \u001b[36mblocksnet.blocks.cutting.processing.core\u001b[0m:\u001b[36mcut_urban_blocks\u001b[0m:\u001b[36m118\u001b[0m - \u001b[32m\u001b[1mBlocks are successfully cut!\u001b[0m\n",
      "\u001b[32m2025-08-15 19:38:49.055\u001b[0m | \u001b[1mINFO    \u001b[0m | \u001b[36mblocksnet.blocks.assignment.core\u001b[0m:\u001b[36massign_land_use\u001b[0m:\u001b[36m44\u001b[0m - \u001b[1mOverlaying geometries\u001b[0m\n",
      "\u001b[32m2025-08-15 19:38:49.636\u001b[0m | \u001b[32m\u001b[1mSUCCESS \u001b[0m | \u001b[36mblocksnet.blocks.assignment.core\u001b[0m:\u001b[36massign_land_use\u001b[0m:\u001b[36m55\u001b[0m - \u001b[32m\u001b[1mShares calculated\u001b[0m\n"
     ]
    },
    {
     "name": "stdout",
     "output_type": "stream",
     "text": [
      " -> Antwerpen, Belgium\n"
     ]
    },
    {
     "name": "stderr",
     "output_type": "stream",
     "text": [
      "\u001b[32m2025-08-15 19:42:54.588\u001b[0m | \u001b[1mINFO    \u001b[0m | \u001b[36mblocksnet.blocks.cutting.preprocessing.core\u001b[0m:\u001b[36mpreprocess_urban_objects\u001b[0m:\u001b[36m44\u001b[0m - \u001b[1mChecking roads schema\u001b[0m\n",
      "\u001b[32m2025-08-15 19:42:54.730\u001b[0m | \u001b[1mINFO    \u001b[0m | \u001b[36mblocksnet.blocks.cutting.preprocessing.core\u001b[0m:\u001b[36mpreprocess_urban_objects\u001b[0m:\u001b[36m51\u001b[0m - \u001b[1mChecking railways schema\u001b[0m\n",
      "\u001b[32m2025-08-15 19:42:54.748\u001b[0m | \u001b[1mINFO    \u001b[0m | \u001b[36mblocksnet.blocks.cutting.preprocessing.core\u001b[0m:\u001b[36mpreprocess_urban_objects\u001b[0m:\u001b[36m58\u001b[0m - \u001b[1mChecking water schema\u001b[0m\n",
      "\u001b[32m2025-08-15 19:42:54.794\u001b[0m | \u001b[1mINFO    \u001b[0m | \u001b[36mblocksnet.blocks.cutting.processing.core\u001b[0m:\u001b[36mwrapper\u001b[0m:\u001b[36m21\u001b[0m - \u001b[1mChecking boundaries schema\u001b[0m\n",
      "\u001b[32m2025-08-15 19:42:54.804\u001b[0m | \u001b[1mINFO    \u001b[0m | \u001b[36mblocksnet.blocks.cutting.processing.core\u001b[0m:\u001b[36mwrapper\u001b[0m:\u001b[36m25\u001b[0m - \u001b[1mChecking line objects schema\u001b[0m\n",
      "\u001b[32m2025-08-15 19:42:54.952\u001b[0m | \u001b[1mINFO    \u001b[0m | \u001b[36mblocksnet.blocks.cutting.processing.core\u001b[0m:\u001b[36mwrapper\u001b[0m:\u001b[36m31\u001b[0m - \u001b[1mChecking polygon objects schema\u001b[0m\n",
      "\u001b[32m2025-08-15 19:42:54.970\u001b[0m | \u001b[1mINFO    \u001b[0m | \u001b[36mblocksnet.blocks.cutting.processing.core\u001b[0m:\u001b[36m_exclude_polygons\u001b[0m:\u001b[36m45\u001b[0m - \u001b[1mExcluding polygon objects from blocks\u001b[0m\n",
      "\u001b[32m2025-08-15 19:42:55.528\u001b[0m | \u001b[1mINFO    \u001b[0m | \u001b[36mblocksnet.blocks.cutting.processing.core\u001b[0m:\u001b[36m_get_enclosures\u001b[0m:\u001b[36m51\u001b[0m - \u001b[1mSetting up enclosures\u001b[0m\n",
      "\u001b[32m2025-08-15 19:42:56.477\u001b[0m | \u001b[1mINFO    \u001b[0m | \u001b[36mblocksnet.blocks.cutting.processing.core\u001b[0m:\u001b[36m_fill_holes\u001b[0m:\u001b[36m68\u001b[0m - \u001b[1mFilling holes inside the blocks\u001b[0m\n",
      "\u001b[32m2025-08-15 19:42:57.193\u001b[0m | \u001b[1mINFO    \u001b[0m | \u001b[36mblocksnet.blocks.cutting.processing.core\u001b[0m:\u001b[36m_filter_overlapping\u001b[0m:\u001b[36m78\u001b[0m - \u001b[1mFiltering overlapping geometries\u001b[0m\n",
      "\u001b[32m2025-08-15 19:42:58.444\u001b[0m | \u001b[32m\u001b[1mSUCCESS \u001b[0m | \u001b[36mblocksnet.blocks.cutting.processing.core\u001b[0m:\u001b[36mcut_urban_blocks\u001b[0m:\u001b[36m118\u001b[0m - \u001b[32m\u001b[1mBlocks are successfully cut!\u001b[0m\n",
      "\u001b[32m2025-08-15 19:43:31.408\u001b[0m | \u001b[1mINFO    \u001b[0m | \u001b[36mblocksnet.blocks.assignment.core\u001b[0m:\u001b[36massign_land_use\u001b[0m:\u001b[36m44\u001b[0m - \u001b[1mOverlaying geometries\u001b[0m\n",
      "\u001b[32m2025-08-15 19:43:32.586\u001b[0m | \u001b[32m\u001b[1mSUCCESS \u001b[0m | \u001b[36mblocksnet.blocks.assignment.core\u001b[0m:\u001b[36massign_land_use\u001b[0m:\u001b[36m55\u001b[0m - \u001b[32m\u001b[1mShares calculated\u001b[0m\n"
     ]
    },
    {
     "name": "stdout",
     "output_type": "stream",
     "text": [
      " -> Gent, Belgium\n"
     ]
    },
    {
     "name": "stderr",
     "output_type": "stream",
     "text": [
      "\u001b[32m2025-08-15 19:46:42.748\u001b[0m | \u001b[1mINFO    \u001b[0m | \u001b[36mblocksnet.blocks.cutting.preprocessing.core\u001b[0m:\u001b[36mpreprocess_urban_objects\u001b[0m:\u001b[36m44\u001b[0m - \u001b[1mChecking roads schema\u001b[0m\n",
      "\u001b[32m2025-08-15 19:46:42.834\u001b[0m | \u001b[1mINFO    \u001b[0m | \u001b[36mblocksnet.blocks.cutting.preprocessing.core\u001b[0m:\u001b[36mpreprocess_urban_objects\u001b[0m:\u001b[36m51\u001b[0m - \u001b[1mChecking railways schema\u001b[0m\n",
      "\u001b[32m2025-08-15 19:46:42.865\u001b[0m | \u001b[1mINFO    \u001b[0m | \u001b[36mblocksnet.blocks.cutting.preprocessing.core\u001b[0m:\u001b[36mpreprocess_urban_objects\u001b[0m:\u001b[36m58\u001b[0m - \u001b[1mChecking water schema\u001b[0m\n",
      "\u001b[32m2025-08-15 19:46:42.910\u001b[0m | \u001b[1mINFO    \u001b[0m | \u001b[36mblocksnet.blocks.cutting.processing.core\u001b[0m:\u001b[36mwrapper\u001b[0m:\u001b[36m21\u001b[0m - \u001b[1mChecking boundaries schema\u001b[0m\n",
      "\u001b[32m2025-08-15 19:46:42.927\u001b[0m | \u001b[1mINFO    \u001b[0m | \u001b[36mblocksnet.blocks.cutting.processing.core\u001b[0m:\u001b[36mwrapper\u001b[0m:\u001b[36m25\u001b[0m - \u001b[1mChecking line objects schema\u001b[0m\n",
      "\u001b[32m2025-08-15 19:46:42.972\u001b[0m | \u001b[1mINFO    \u001b[0m | \u001b[36mblocksnet.blocks.cutting.processing.core\u001b[0m:\u001b[36mwrapper\u001b[0m:\u001b[36m31\u001b[0m - \u001b[1mChecking polygon objects schema\u001b[0m\n",
      "\u001b[32m2025-08-15 19:46:42.985\u001b[0m | \u001b[1mINFO    \u001b[0m | \u001b[36mblocksnet.blocks.cutting.processing.core\u001b[0m:\u001b[36m_exclude_polygons\u001b[0m:\u001b[36m45\u001b[0m - \u001b[1mExcluding polygon objects from blocks\u001b[0m\n",
      "\u001b[32m2025-08-15 19:46:43.296\u001b[0m | \u001b[1mINFO    \u001b[0m | \u001b[36mblocksnet.blocks.cutting.processing.core\u001b[0m:\u001b[36m_get_enclosures\u001b[0m:\u001b[36m51\u001b[0m - \u001b[1mSetting up enclosures\u001b[0m\n",
      "\u001b[32m2025-08-15 19:46:44.135\u001b[0m | \u001b[1mINFO    \u001b[0m | \u001b[36mblocksnet.blocks.cutting.processing.core\u001b[0m:\u001b[36m_fill_holes\u001b[0m:\u001b[36m68\u001b[0m - \u001b[1mFilling holes inside the blocks\u001b[0m\n",
      "\u001b[32m2025-08-15 19:46:44.578\u001b[0m | \u001b[1mINFO    \u001b[0m | \u001b[36mblocksnet.blocks.cutting.processing.core\u001b[0m:\u001b[36m_filter_overlapping\u001b[0m:\u001b[36m78\u001b[0m - \u001b[1mFiltering overlapping geometries\u001b[0m\n",
      "\u001b[32m2025-08-15 19:46:45.398\u001b[0m | \u001b[32m\u001b[1mSUCCESS \u001b[0m | \u001b[36mblocksnet.blocks.cutting.processing.core\u001b[0m:\u001b[36mcut_urban_blocks\u001b[0m:\u001b[36m118\u001b[0m - \u001b[32m\u001b[1mBlocks are successfully cut!\u001b[0m\n",
      "\u001b[32m2025-08-15 19:47:22.633\u001b[0m | \u001b[1mINFO    \u001b[0m | \u001b[36mblocksnet.blocks.assignment.core\u001b[0m:\u001b[36massign_land_use\u001b[0m:\u001b[36m44\u001b[0m - \u001b[1mOverlaying geometries\u001b[0m\n",
      "\u001b[32m2025-08-15 19:47:23.801\u001b[0m | \u001b[32m\u001b[1mSUCCESS \u001b[0m | \u001b[36mblocksnet.blocks.assignment.core\u001b[0m:\u001b[36massign_land_use\u001b[0m:\u001b[36m55\u001b[0m - \u001b[32m\u001b[1mShares calculated\u001b[0m\n"
     ]
    },
    {
     "name": "stdout",
     "output_type": "stream",
     "text": [
      " -> Charleroi, Belgium\n"
     ]
    },
    {
     "name": "stderr",
     "output_type": "stream",
     "text": [
      "\u001b[32m2025-08-15 19:50:16.040\u001b[0m | \u001b[1mINFO    \u001b[0m | \u001b[36mblocksnet.blocks.cutting.preprocessing.core\u001b[0m:\u001b[36mpreprocess_urban_objects\u001b[0m:\u001b[36m44\u001b[0m - \u001b[1mChecking roads schema\u001b[0m\n",
      "\u001b[32m2025-08-15 19:50:16.088\u001b[0m | \u001b[1mINFO    \u001b[0m | \u001b[36mblocksnet.blocks.cutting.preprocessing.core\u001b[0m:\u001b[36mpreprocess_urban_objects\u001b[0m:\u001b[36m51\u001b[0m - \u001b[1mChecking railways schema\u001b[0m\n",
      "\u001b[32m2025-08-15 19:50:16.098\u001b[0m | \u001b[1mINFO    \u001b[0m | \u001b[36mblocksnet.blocks.cutting.preprocessing.core\u001b[0m:\u001b[36mpreprocess_urban_objects\u001b[0m:\u001b[36m58\u001b[0m - \u001b[1mChecking water schema\u001b[0m\n",
      "\u001b[32m2025-08-15 19:50:16.118\u001b[0m | \u001b[1mINFO    \u001b[0m | \u001b[36mblocksnet.blocks.cutting.processing.core\u001b[0m:\u001b[36mwrapper\u001b[0m:\u001b[36m21\u001b[0m - \u001b[1mChecking boundaries schema\u001b[0m\n",
      "\u001b[32m2025-08-15 19:50:16.129\u001b[0m | \u001b[1mINFO    \u001b[0m | \u001b[36mblocksnet.blocks.cutting.processing.core\u001b[0m:\u001b[36mwrapper\u001b[0m:\u001b[36m25\u001b[0m - \u001b[1mChecking line objects schema\u001b[0m\n",
      "\u001b[32m2025-08-15 19:50:16.156\u001b[0m | \u001b[1mINFO    \u001b[0m | \u001b[36mblocksnet.blocks.cutting.processing.core\u001b[0m:\u001b[36mwrapper\u001b[0m:\u001b[36m31\u001b[0m - \u001b[1mChecking polygon objects schema\u001b[0m\n",
      "\u001b[32m2025-08-15 19:50:16.170\u001b[0m | \u001b[1mINFO    \u001b[0m | \u001b[36mblocksnet.blocks.cutting.processing.core\u001b[0m:\u001b[36m_exclude_polygons\u001b[0m:\u001b[36m45\u001b[0m - \u001b[1mExcluding polygon objects from blocks\u001b[0m\n",
      "\u001b[32m2025-08-15 19:50:16.218\u001b[0m | \u001b[1mINFO    \u001b[0m | \u001b[36mblocksnet.blocks.cutting.processing.core\u001b[0m:\u001b[36m_get_enclosures\u001b[0m:\u001b[36m51\u001b[0m - \u001b[1mSetting up enclosures\u001b[0m\n",
      "\u001b[32m2025-08-15 19:50:16.656\u001b[0m | \u001b[1mINFO    \u001b[0m | \u001b[36mblocksnet.blocks.cutting.processing.core\u001b[0m:\u001b[36m_fill_holes\u001b[0m:\u001b[36m68\u001b[0m - \u001b[1mFilling holes inside the blocks\u001b[0m\n",
      "\u001b[32m2025-08-15 19:50:16.905\u001b[0m | \u001b[1mINFO    \u001b[0m | \u001b[36mblocksnet.blocks.cutting.processing.core\u001b[0m:\u001b[36m_filter_overlapping\u001b[0m:\u001b[36m78\u001b[0m - \u001b[1mFiltering overlapping geometries\u001b[0m\n",
      "\u001b[32m2025-08-15 19:50:17.348\u001b[0m | \u001b[32m\u001b[1mSUCCESS \u001b[0m | \u001b[36mblocksnet.blocks.cutting.processing.core\u001b[0m:\u001b[36mcut_urban_blocks\u001b[0m:\u001b[36m118\u001b[0m - \u001b[32m\u001b[1mBlocks are successfully cut!\u001b[0m\n",
      "\u001b[32m2025-08-15 19:50:40.148\u001b[0m | \u001b[1mINFO    \u001b[0m | \u001b[36mblocksnet.blocks.assignment.core\u001b[0m:\u001b[36massign_land_use\u001b[0m:\u001b[36m44\u001b[0m - \u001b[1mOverlaying geometries\u001b[0m\n",
      "\u001b[32m2025-08-15 19:50:40.913\u001b[0m | \u001b[32m\u001b[1mSUCCESS \u001b[0m | \u001b[36mblocksnet.blocks.assignment.core\u001b[0m:\u001b[36massign_land_use\u001b[0m:\u001b[36m55\u001b[0m - \u001b[32m\u001b[1mShares calculated\u001b[0m\n"
     ]
    },
    {
     "name": "stdout",
     "output_type": "stream",
     "text": [
      " -> Liège, Belgium\n"
     ]
    },
    {
     "name": "stderr",
     "output_type": "stream",
     "text": [
      "\u001b[32m2025-08-15 19:52:29.300\u001b[0m | \u001b[1mINFO    \u001b[0m | \u001b[36mblocksnet.blocks.cutting.preprocessing.core\u001b[0m:\u001b[36mpreprocess_urban_objects\u001b[0m:\u001b[36m44\u001b[0m - \u001b[1mChecking roads schema\u001b[0m\n",
      "\u001b[32m2025-08-15 19:52:29.349\u001b[0m | \u001b[1mINFO    \u001b[0m | \u001b[36mblocksnet.blocks.cutting.preprocessing.core\u001b[0m:\u001b[36mpreprocess_urban_objects\u001b[0m:\u001b[36m51\u001b[0m - \u001b[1mChecking railways schema\u001b[0m\n",
      "\u001b[32m2025-08-15 19:52:29.363\u001b[0m | \u001b[1mINFO    \u001b[0m | \u001b[36mblocksnet.blocks.cutting.preprocessing.core\u001b[0m:\u001b[36mpreprocess_urban_objects\u001b[0m:\u001b[36m58\u001b[0m - \u001b[1mChecking water schema\u001b[0m\n",
      "\u001b[32m2025-08-15 19:52:29.389\u001b[0m | \u001b[1mINFO    \u001b[0m | \u001b[36mblocksnet.blocks.cutting.processing.core\u001b[0m:\u001b[36mwrapper\u001b[0m:\u001b[36m21\u001b[0m - \u001b[1mChecking boundaries schema\u001b[0m\n",
      "\u001b[32m2025-08-15 19:52:29.399\u001b[0m | \u001b[1mINFO    \u001b[0m | \u001b[36mblocksnet.blocks.cutting.processing.core\u001b[0m:\u001b[36mwrapper\u001b[0m:\u001b[36m25\u001b[0m - \u001b[1mChecking line objects schema\u001b[0m\n",
      "\u001b[32m2025-08-15 19:52:29.427\u001b[0m | \u001b[1mINFO    \u001b[0m | \u001b[36mblocksnet.blocks.cutting.processing.core\u001b[0m:\u001b[36mwrapper\u001b[0m:\u001b[36m31\u001b[0m - \u001b[1mChecking polygon objects schema\u001b[0m\n",
      "\u001b[32m2025-08-15 19:52:29.440\u001b[0m | \u001b[1mINFO    \u001b[0m | \u001b[36mblocksnet.blocks.cutting.processing.core\u001b[0m:\u001b[36m_exclude_polygons\u001b[0m:\u001b[36m45\u001b[0m - \u001b[1mExcluding polygon objects from blocks\u001b[0m\n",
      "\u001b[32m2025-08-15 19:52:29.583\u001b[0m | \u001b[1mINFO    \u001b[0m | \u001b[36mblocksnet.blocks.cutting.processing.core\u001b[0m:\u001b[36m_get_enclosures\u001b[0m:\u001b[36m51\u001b[0m - \u001b[1mSetting up enclosures\u001b[0m\n",
      "\u001b[32m2025-08-15 19:52:30.027\u001b[0m | \u001b[1mINFO    \u001b[0m | \u001b[36mblocksnet.blocks.cutting.processing.core\u001b[0m:\u001b[36m_fill_holes\u001b[0m:\u001b[36m68\u001b[0m - \u001b[1mFilling holes inside the blocks\u001b[0m\n",
      "\u001b[32m2025-08-15 19:52:30.275\u001b[0m | \u001b[1mINFO    \u001b[0m | \u001b[36mblocksnet.blocks.cutting.processing.core\u001b[0m:\u001b[36m_filter_overlapping\u001b[0m:\u001b[36m78\u001b[0m - \u001b[1mFiltering overlapping geometries\u001b[0m\n",
      "\u001b[32m2025-08-15 19:52:30.661\u001b[0m | \u001b[32m\u001b[1mSUCCESS \u001b[0m | \u001b[36mblocksnet.blocks.cutting.processing.core\u001b[0m:\u001b[36mcut_urban_blocks\u001b[0m:\u001b[36m118\u001b[0m - \u001b[32m\u001b[1mBlocks are successfully cut!\u001b[0m\n",
      "\u001b[32m2025-08-15 19:52:46.205\u001b[0m | \u001b[1mINFO    \u001b[0m | \u001b[36mblocksnet.blocks.assignment.core\u001b[0m:\u001b[36massign_land_use\u001b[0m:\u001b[36m44\u001b[0m - \u001b[1mOverlaying geometries\u001b[0m\n",
      "\u001b[32m2025-08-15 19:52:46.807\u001b[0m | \u001b[32m\u001b[1mSUCCESS \u001b[0m | \u001b[36mblocksnet.blocks.assignment.core\u001b[0m:\u001b[36massign_land_use\u001b[0m:\u001b[36m55\u001b[0m - \u001b[32m\u001b[1mShares calculated\u001b[0m\n"
     ]
    },
    {
     "name": "stdout",
     "output_type": "stream",
     "text": [
      " -> Anderlecht, Belgium\n"
     ]
    },
    {
     "name": "stderr",
     "output_type": "stream",
     "text": [
      "\u001b[32m2025-08-15 19:55:53.890\u001b[0m | \u001b[1mINFO    \u001b[0m | \u001b[36mblocksnet.blocks.cutting.preprocessing.core\u001b[0m:\u001b[36mpreprocess_urban_objects\u001b[0m:\u001b[36m44\u001b[0m - \u001b[1mChecking roads schema\u001b[0m\n",
      "\u001b[32m2025-08-15 19:55:53.916\u001b[0m | \u001b[1mINFO    \u001b[0m | \u001b[36mblocksnet.blocks.cutting.preprocessing.core\u001b[0m:\u001b[36mpreprocess_urban_objects\u001b[0m:\u001b[36m51\u001b[0m - \u001b[1mChecking railways schema\u001b[0m\n",
      "\u001b[32m2025-08-15 19:55:53.935\u001b[0m | \u001b[1mINFO    \u001b[0m | \u001b[36mblocksnet.blocks.cutting.preprocessing.core\u001b[0m:\u001b[36mpreprocess_urban_objects\u001b[0m:\u001b[36m58\u001b[0m - \u001b[1mChecking water schema\u001b[0m\n",
      "\u001b[32m2025-08-15 19:55:53.952\u001b[0m | \u001b[1mINFO    \u001b[0m | \u001b[36mblocksnet.blocks.cutting.processing.core\u001b[0m:\u001b[36mwrapper\u001b[0m:\u001b[36m21\u001b[0m - \u001b[1mChecking boundaries schema\u001b[0m\n",
      "\u001b[32m2025-08-15 19:55:53.962\u001b[0m | \u001b[1mINFO    \u001b[0m | \u001b[36mblocksnet.blocks.cutting.processing.core\u001b[0m:\u001b[36mwrapper\u001b[0m:\u001b[36m25\u001b[0m - \u001b[1mChecking line objects schema\u001b[0m\n",
      "\u001b[32m2025-08-15 19:55:53.981\u001b[0m | \u001b[1mINFO    \u001b[0m | \u001b[36mblocksnet.blocks.cutting.processing.core\u001b[0m:\u001b[36mwrapper\u001b[0m:\u001b[36m31\u001b[0m - \u001b[1mChecking polygon objects schema\u001b[0m\n",
      "\u001b[32m2025-08-15 19:55:53.995\u001b[0m | \u001b[1mINFO    \u001b[0m | \u001b[36mblocksnet.blocks.cutting.processing.core\u001b[0m:\u001b[36m_exclude_polygons\u001b[0m:\u001b[36m45\u001b[0m - \u001b[1mExcluding polygon objects from blocks\u001b[0m\n",
      "\u001b[32m2025-08-15 19:55:54.034\u001b[0m | \u001b[1mINFO    \u001b[0m | \u001b[36mblocksnet.blocks.cutting.processing.core\u001b[0m:\u001b[36m_get_enclosures\u001b[0m:\u001b[36m51\u001b[0m - \u001b[1mSetting up enclosures\u001b[0m\n",
      "\u001b[32m2025-08-15 19:55:54.178\u001b[0m | \u001b[1mINFO    \u001b[0m | \u001b[36mblocksnet.blocks.cutting.processing.core\u001b[0m:\u001b[36m_fill_holes\u001b[0m:\u001b[36m68\u001b[0m - \u001b[1mFilling holes inside the blocks\u001b[0m\n",
      "\u001b[32m2025-08-15 19:55:54.315\u001b[0m | \u001b[1mINFO    \u001b[0m | \u001b[36mblocksnet.blocks.cutting.processing.core\u001b[0m:\u001b[36m_filter_overlapping\u001b[0m:\u001b[36m78\u001b[0m - \u001b[1mFiltering overlapping geometries\u001b[0m\n",
      "\u001b[32m2025-08-15 19:55:54.459\u001b[0m | \u001b[32m\u001b[1mSUCCESS \u001b[0m | \u001b[36mblocksnet.blocks.cutting.processing.core\u001b[0m:\u001b[36mcut_urban_blocks\u001b[0m:\u001b[36m118\u001b[0m - \u001b[32m\u001b[1mBlocks are successfully cut!\u001b[0m\n",
      "\u001b[32m2025-08-15 19:56:23.185\u001b[0m | \u001b[1mINFO    \u001b[0m | \u001b[36mblocksnet.blocks.assignment.core\u001b[0m:\u001b[36massign_land_use\u001b[0m:\u001b[36m44\u001b[0m - \u001b[1mOverlaying geometries\u001b[0m\n",
      "\u001b[32m2025-08-15 19:56:23.346\u001b[0m | \u001b[32m\u001b[1mSUCCESS \u001b[0m | \u001b[36mblocksnet.blocks.assignment.core\u001b[0m:\u001b[36massign_land_use\u001b[0m:\u001b[36m55\u001b[0m - \u001b[32m\u001b[1mShares calculated\u001b[0m\n"
     ]
    },
    {
     "name": "stdout",
     "output_type": "stream",
     "text": [
      " -> Schaerbeek, Belgium\n"
     ]
    },
    {
     "name": "stderr",
     "output_type": "stream",
     "text": [
      "\u001b[32m2025-08-15 19:57:29.534\u001b[0m | \u001b[1mINFO    \u001b[0m | \u001b[36mblocksnet.blocks.cutting.preprocessing.core\u001b[0m:\u001b[36mpreprocess_urban_objects\u001b[0m:\u001b[36m44\u001b[0m - \u001b[1mChecking roads schema\u001b[0m\n",
      "\u001b[32m2025-08-15 19:57:29.559\u001b[0m | \u001b[1mINFO    \u001b[0m | \u001b[36mblocksnet.blocks.cutting.preprocessing.core\u001b[0m:\u001b[36mpreprocess_urban_objects\u001b[0m:\u001b[36m51\u001b[0m - \u001b[1mChecking railways schema\u001b[0m\n",
      "\u001b[32m2025-08-15 19:57:29.570\u001b[0m | \u001b[1mINFO    \u001b[0m | \u001b[36mblocksnet.blocks.cutting.preprocessing.core\u001b[0m:\u001b[36mpreprocess_urban_objects\u001b[0m:\u001b[36m58\u001b[0m - \u001b[1mChecking water schema\u001b[0m\n",
      "\u001b[32m2025-08-15 19:57:29.587\u001b[0m | \u001b[1mINFO    \u001b[0m | \u001b[36mblocksnet.blocks.cutting.processing.core\u001b[0m:\u001b[36mwrapper\u001b[0m:\u001b[36m21\u001b[0m - \u001b[1mChecking boundaries schema\u001b[0m\n",
      "\u001b[32m2025-08-15 19:57:29.610\u001b[0m | \u001b[1mINFO    \u001b[0m | \u001b[36mblocksnet.blocks.cutting.processing.core\u001b[0m:\u001b[36mwrapper\u001b[0m:\u001b[36m25\u001b[0m - \u001b[1mChecking line objects schema\u001b[0m\n",
      "\u001b[32m2025-08-15 19:57:29.630\u001b[0m | \u001b[1mINFO    \u001b[0m | \u001b[36mblocksnet.blocks.cutting.processing.core\u001b[0m:\u001b[36mwrapper\u001b[0m:\u001b[36m31\u001b[0m - \u001b[1mChecking polygon objects schema\u001b[0m\n",
      "\u001b[32m2025-08-15 19:57:29.644\u001b[0m | \u001b[1mINFO    \u001b[0m | \u001b[36mblocksnet.blocks.cutting.processing.core\u001b[0m:\u001b[36m_exclude_polygons\u001b[0m:\u001b[36m45\u001b[0m - \u001b[1mExcluding polygon objects from blocks\u001b[0m\n",
      "\u001b[32m2025-08-15 19:57:29.661\u001b[0m | \u001b[1mINFO    \u001b[0m | \u001b[36mblocksnet.blocks.cutting.processing.core\u001b[0m:\u001b[36m_get_enclosures\u001b[0m:\u001b[36m51\u001b[0m - \u001b[1mSetting up enclosures\u001b[0m\n",
      "\u001b[32m2025-08-15 19:57:29.754\u001b[0m | \u001b[1mINFO    \u001b[0m | \u001b[36mblocksnet.blocks.cutting.processing.core\u001b[0m:\u001b[36m_fill_holes\u001b[0m:\u001b[36m68\u001b[0m - \u001b[1mFilling holes inside the blocks\u001b[0m\n",
      "\u001b[32m2025-08-15 19:57:29.836\u001b[0m | \u001b[1mINFO    \u001b[0m | \u001b[36mblocksnet.blocks.cutting.processing.core\u001b[0m:\u001b[36m_filter_overlapping\u001b[0m:\u001b[36m78\u001b[0m - \u001b[1mFiltering overlapping geometries\u001b[0m\n",
      "\u001b[32m2025-08-15 19:57:29.934\u001b[0m | \u001b[32m\u001b[1mSUCCESS \u001b[0m | \u001b[36mblocksnet.blocks.cutting.processing.core\u001b[0m:\u001b[36mcut_urban_blocks\u001b[0m:\u001b[36m118\u001b[0m - \u001b[32m\u001b[1mBlocks are successfully cut!\u001b[0m\n",
      "\u001b[32m2025-08-15 19:57:40.298\u001b[0m | \u001b[1mINFO    \u001b[0m | \u001b[36mblocksnet.blocks.assignment.core\u001b[0m:\u001b[36massign_land_use\u001b[0m:\u001b[36m44\u001b[0m - \u001b[1mOverlaying geometries\u001b[0m\n",
      "\u001b[32m2025-08-15 19:57:40.467\u001b[0m | \u001b[32m\u001b[1mSUCCESS \u001b[0m | \u001b[36mblocksnet.blocks.assignment.core\u001b[0m:\u001b[36massign_land_use\u001b[0m:\u001b[36m55\u001b[0m - \u001b[32m\u001b[1mShares calculated\u001b[0m\n"
     ]
    },
    {
     "name": "stdout",
     "output_type": "stream",
     "text": [
      " -> Brugge, Belgium\n"
     ]
    },
    {
     "name": "stderr",
     "output_type": "stream",
     "text": [
      "\u001b[32m2025-08-15 19:59:23.301\u001b[0m | \u001b[1mINFO    \u001b[0m | \u001b[36mblocksnet.blocks.cutting.preprocessing.core\u001b[0m:\u001b[36mpreprocess_urban_objects\u001b[0m:\u001b[36m44\u001b[0m - \u001b[1mChecking roads schema\u001b[0m\n",
      "\u001b[32m2025-08-15 19:59:23.367\u001b[0m | \u001b[1mINFO    \u001b[0m | \u001b[36mblocksnet.blocks.cutting.preprocessing.core\u001b[0m:\u001b[36mpreprocess_urban_objects\u001b[0m:\u001b[36m51\u001b[0m - \u001b[1mChecking railways schema\u001b[0m\n",
      "\u001b[32m2025-08-15 19:59:23.379\u001b[0m | \u001b[1mINFO    \u001b[0m | \u001b[36mblocksnet.blocks.cutting.preprocessing.core\u001b[0m:\u001b[36mpreprocess_urban_objects\u001b[0m:\u001b[36m58\u001b[0m - \u001b[1mChecking water schema\u001b[0m\n",
      "\u001b[32m2025-08-15 19:59:23.409\u001b[0m | \u001b[1mINFO    \u001b[0m | \u001b[36mblocksnet.blocks.cutting.processing.core\u001b[0m:\u001b[36mwrapper\u001b[0m:\u001b[36m21\u001b[0m - \u001b[1mChecking boundaries schema\u001b[0m\n",
      "\u001b[32m2025-08-15 19:59:23.418\u001b[0m | \u001b[1mINFO    \u001b[0m | \u001b[36mblocksnet.blocks.cutting.processing.core\u001b[0m:\u001b[36mwrapper\u001b[0m:\u001b[36m25\u001b[0m - \u001b[1mChecking line objects schema\u001b[0m\n",
      "\u001b[32m2025-08-15 19:59:23.452\u001b[0m | \u001b[1mINFO    \u001b[0m | \u001b[36mblocksnet.blocks.cutting.processing.core\u001b[0m:\u001b[36mwrapper\u001b[0m:\u001b[36m31\u001b[0m - \u001b[1mChecking polygon objects schema\u001b[0m\n",
      "\u001b[32m2025-08-15 19:59:23.469\u001b[0m | \u001b[1mINFO    \u001b[0m | \u001b[36mblocksnet.blocks.cutting.processing.core\u001b[0m:\u001b[36m_exclude_polygons\u001b[0m:\u001b[36m45\u001b[0m - \u001b[1mExcluding polygon objects from blocks\u001b[0m\n",
      "\u001b[32m2025-08-15 19:59:23.793\u001b[0m | \u001b[1mINFO    \u001b[0m | \u001b[36mblocksnet.blocks.cutting.processing.core\u001b[0m:\u001b[36m_get_enclosures\u001b[0m:\u001b[36m51\u001b[0m - \u001b[1mSetting up enclosures\u001b[0m\n",
      "\u001b[32m2025-08-15 19:59:24.246\u001b[0m | \u001b[1mINFO    \u001b[0m | \u001b[36mblocksnet.blocks.cutting.processing.core\u001b[0m:\u001b[36m_fill_holes\u001b[0m:\u001b[36m68\u001b[0m - \u001b[1mFilling holes inside the blocks\u001b[0m\n",
      "\u001b[32m2025-08-15 19:59:24.504\u001b[0m | \u001b[1mINFO    \u001b[0m | \u001b[36mblocksnet.blocks.cutting.processing.core\u001b[0m:\u001b[36m_filter_overlapping\u001b[0m:\u001b[36m78\u001b[0m - \u001b[1mFiltering overlapping geometries\u001b[0m\n",
      "\u001b[32m2025-08-15 19:59:25.037\u001b[0m | \u001b[32m\u001b[1mSUCCESS \u001b[0m | \u001b[36mblocksnet.blocks.cutting.processing.core\u001b[0m:\u001b[36mcut_urban_blocks\u001b[0m:\u001b[36m118\u001b[0m - \u001b[32m\u001b[1mBlocks are successfully cut!\u001b[0m\n",
      "\u001b[32m2025-08-15 19:59:43.773\u001b[0m | \u001b[1mINFO    \u001b[0m | \u001b[36mblocksnet.blocks.assignment.core\u001b[0m:\u001b[36massign_land_use\u001b[0m:\u001b[36m44\u001b[0m - \u001b[1mOverlaying geometries\u001b[0m\n",
      "\u001b[32m2025-08-15 19:59:44.415\u001b[0m | \u001b[32m\u001b[1mSUCCESS \u001b[0m | \u001b[36mblocksnet.blocks.assignment.core\u001b[0m:\u001b[36massign_land_use\u001b[0m:\u001b[36m55\u001b[0m - \u001b[32m\u001b[1mShares calculated\u001b[0m\n"
     ]
    },
    {
     "name": "stdout",
     "output_type": "stream",
     "text": [
      " -> Namur, Belgium\n"
     ]
    },
    {
     "name": "stderr",
     "output_type": "stream",
     "text": [
      "\u001b[32m2025-08-15 20:00:27.930\u001b[0m | \u001b[1mINFO    \u001b[0m | \u001b[36mblocksnet.blocks.cutting.preprocessing.core\u001b[0m:\u001b[36mpreprocess_urban_objects\u001b[0m:\u001b[36m44\u001b[0m - \u001b[1mChecking roads schema\u001b[0m\n",
      "\u001b[32m2025-08-15 20:00:27.982\u001b[0m | \u001b[1mINFO    \u001b[0m | \u001b[36mblocksnet.blocks.cutting.preprocessing.core\u001b[0m:\u001b[36mpreprocess_urban_objects\u001b[0m:\u001b[36m51\u001b[0m - \u001b[1mChecking railways schema\u001b[0m\n",
      "\u001b[32m2025-08-15 20:00:27.996\u001b[0m | \u001b[1mINFO    \u001b[0m | \u001b[36mblocksnet.blocks.cutting.preprocessing.core\u001b[0m:\u001b[36mpreprocess_urban_objects\u001b[0m:\u001b[36m58\u001b[0m - \u001b[1mChecking water schema\u001b[0m\n",
      "\u001b[32m2025-08-15 20:00:28.020\u001b[0m | \u001b[1mINFO    \u001b[0m | \u001b[36mblocksnet.blocks.cutting.processing.core\u001b[0m:\u001b[36mwrapper\u001b[0m:\u001b[36m21\u001b[0m - \u001b[1mChecking boundaries schema\u001b[0m\n",
      "\u001b[32m2025-08-15 20:00:28.032\u001b[0m | \u001b[1mINFO    \u001b[0m | \u001b[36mblocksnet.blocks.cutting.processing.core\u001b[0m:\u001b[36mwrapper\u001b[0m:\u001b[36m25\u001b[0m - \u001b[1mChecking line objects schema\u001b[0m\n",
      "\u001b[32m2025-08-15 20:00:28.065\u001b[0m | \u001b[1mINFO    \u001b[0m | \u001b[36mblocksnet.blocks.cutting.processing.core\u001b[0m:\u001b[36mwrapper\u001b[0m:\u001b[36m31\u001b[0m - \u001b[1mChecking polygon objects schema\u001b[0m\n",
      "\u001b[32m2025-08-15 20:00:28.081\u001b[0m | \u001b[1mINFO    \u001b[0m | \u001b[36mblocksnet.blocks.cutting.processing.core\u001b[0m:\u001b[36m_exclude_polygons\u001b[0m:\u001b[36m45\u001b[0m - \u001b[1mExcluding polygon objects from blocks\u001b[0m\n",
      "\u001b[32m2025-08-15 20:00:28.222\u001b[0m | \u001b[1mINFO    \u001b[0m | \u001b[36mblocksnet.blocks.cutting.processing.core\u001b[0m:\u001b[36m_get_enclosures\u001b[0m:\u001b[36m51\u001b[0m - \u001b[1mSetting up enclosures\u001b[0m\n",
      "\u001b[32m2025-08-15 20:00:28.580\u001b[0m | \u001b[1mINFO    \u001b[0m | \u001b[36mblocksnet.blocks.cutting.processing.core\u001b[0m:\u001b[36m_fill_holes\u001b[0m:\u001b[36m68\u001b[0m - \u001b[1mFilling holes inside the blocks\u001b[0m\n",
      "\u001b[32m2025-08-15 20:00:28.835\u001b[0m | \u001b[1mINFO    \u001b[0m | \u001b[36mblocksnet.blocks.cutting.processing.core\u001b[0m:\u001b[36m_filter_overlapping\u001b[0m:\u001b[36m78\u001b[0m - \u001b[1mFiltering overlapping geometries\u001b[0m\n",
      "\u001b[32m2025-08-15 20:00:29.241\u001b[0m | \u001b[32m\u001b[1mSUCCESS \u001b[0m | \u001b[36mblocksnet.blocks.cutting.processing.core\u001b[0m:\u001b[36mcut_urban_blocks\u001b[0m:\u001b[36m118\u001b[0m - \u001b[32m\u001b[1mBlocks are successfully cut!\u001b[0m\n",
      "\u001b[32m2025-08-15 20:00:43.302\u001b[0m | \u001b[1mINFO    \u001b[0m | \u001b[36mblocksnet.blocks.assignment.core\u001b[0m:\u001b[36massign_land_use\u001b[0m:\u001b[36m44\u001b[0m - \u001b[1mOverlaying geometries\u001b[0m\n",
      "\u001b[32m2025-08-15 20:00:44.124\u001b[0m | \u001b[32m\u001b[1mSUCCESS \u001b[0m | \u001b[36mblocksnet.blocks.assignment.core\u001b[0m:\u001b[36massign_land_use\u001b[0m:\u001b[36m55\u001b[0m - \u001b[32m\u001b[1mShares calculated\u001b[0m\n"
     ]
    },
    {
     "name": "stdout",
     "output_type": "stream",
     "text": [
      " -> Leuven, Belgium\n"
     ]
    },
    {
     "name": "stderr",
     "output_type": "stream",
     "text": [
      "\u001b[32m2025-08-15 20:01:57.340\u001b[0m | \u001b[1mINFO    \u001b[0m | \u001b[36mblocksnet.blocks.cutting.preprocessing.core\u001b[0m:\u001b[36mpreprocess_urban_objects\u001b[0m:\u001b[36m44\u001b[0m - \u001b[1mChecking roads schema\u001b[0m\n",
      "\u001b[32m2025-08-15 20:01:57.372\u001b[0m | \u001b[1mINFO    \u001b[0m | \u001b[36mblocksnet.blocks.cutting.preprocessing.core\u001b[0m:\u001b[36mpreprocess_urban_objects\u001b[0m:\u001b[36m51\u001b[0m - \u001b[1mChecking railways schema\u001b[0m\n",
      "\u001b[32m2025-08-15 20:01:57.391\u001b[0m | \u001b[1mINFO    \u001b[0m | \u001b[36mblocksnet.blocks.cutting.preprocessing.core\u001b[0m:\u001b[36mpreprocess_urban_objects\u001b[0m:\u001b[36m58\u001b[0m - \u001b[1mChecking water schema\u001b[0m\n",
      "\u001b[32m2025-08-15 20:01:57.421\u001b[0m | \u001b[1mINFO    \u001b[0m | \u001b[36mblocksnet.blocks.cutting.processing.core\u001b[0m:\u001b[36mwrapper\u001b[0m:\u001b[36m21\u001b[0m - \u001b[1mChecking boundaries schema\u001b[0m\n",
      "\u001b[32m2025-08-15 20:01:57.431\u001b[0m | \u001b[1mINFO    \u001b[0m | \u001b[36mblocksnet.blocks.cutting.processing.core\u001b[0m:\u001b[36mwrapper\u001b[0m:\u001b[36m25\u001b[0m - \u001b[1mChecking line objects schema\u001b[0m\n",
      "\u001b[32m2025-08-15 20:01:57.457\u001b[0m | \u001b[1mINFO    \u001b[0m | \u001b[36mblocksnet.blocks.cutting.processing.core\u001b[0m:\u001b[36mwrapper\u001b[0m:\u001b[36m31\u001b[0m - \u001b[1mChecking polygon objects schema\u001b[0m\n",
      "\u001b[32m2025-08-15 20:01:57.470\u001b[0m | \u001b[1mINFO    \u001b[0m | \u001b[36mblocksnet.blocks.cutting.processing.core\u001b[0m:\u001b[36m_exclude_polygons\u001b[0m:\u001b[36m45\u001b[0m - \u001b[1mExcluding polygon objects from blocks\u001b[0m\n",
      "\u001b[32m2025-08-15 20:01:57.542\u001b[0m | \u001b[1mINFO    \u001b[0m | \u001b[36mblocksnet.blocks.cutting.processing.core\u001b[0m:\u001b[36m_get_enclosures\u001b[0m:\u001b[36m51\u001b[0m - \u001b[1mSetting up enclosures\u001b[0m\n",
      "\u001b[32m2025-08-15 20:01:57.784\u001b[0m | \u001b[1mINFO    \u001b[0m | \u001b[36mblocksnet.blocks.cutting.processing.core\u001b[0m:\u001b[36m_fill_holes\u001b[0m:\u001b[36m68\u001b[0m - \u001b[1mFilling holes inside the blocks\u001b[0m\n",
      "\u001b[32m2025-08-15 20:01:58.038\u001b[0m | \u001b[1mINFO    \u001b[0m | \u001b[36mblocksnet.blocks.cutting.processing.core\u001b[0m:\u001b[36m_filter_overlapping\u001b[0m:\u001b[36m78\u001b[0m - \u001b[1mFiltering overlapping geometries\u001b[0m\n",
      "\u001b[32m2025-08-15 20:01:58.291\u001b[0m | \u001b[32m\u001b[1mSUCCESS \u001b[0m | \u001b[36mblocksnet.blocks.cutting.processing.core\u001b[0m:\u001b[36mcut_urban_blocks\u001b[0m:\u001b[36m118\u001b[0m - \u001b[32m\u001b[1mBlocks are successfully cut!\u001b[0m\n",
      "\u001b[32m2025-08-15 20:02:11.543\u001b[0m | \u001b[1mINFO    \u001b[0m | \u001b[36mblocksnet.blocks.assignment.core\u001b[0m:\u001b[36massign_land_use\u001b[0m:\u001b[36m44\u001b[0m - \u001b[1mOverlaying geometries\u001b[0m\n",
      "\u001b[32m2025-08-15 20:02:11.980\u001b[0m | \u001b[32m\u001b[1mSUCCESS \u001b[0m | \u001b[36mblocksnet.blocks.assignment.core\u001b[0m:\u001b[36massign_land_use\u001b[0m:\u001b[36m55\u001b[0m - \u001b[32m\u001b[1mShares calculated\u001b[0m\n"
     ]
    },
    {
     "name": "stdout",
     "output_type": "stream",
     "text": [
      "\n",
      "=== Belize ===\n",
      "[Belize] нет городов в диапазоне 100000-100000000\n",
      "\n",
      "=== Benin ===\n",
      " -> Cotonou, Benin\n"
     ]
    },
    {
     "name": "stderr",
     "output_type": "stream",
     "text": [
      "\u001b[32m2025-08-15 20:03:59.483\u001b[0m | \u001b[1mINFO    \u001b[0m | \u001b[36mblocksnet.blocks.cutting.preprocessing.core\u001b[0m:\u001b[36mpreprocess_urban_objects\u001b[0m:\u001b[36m44\u001b[0m - \u001b[1mChecking roads schema\u001b[0m\n",
      "\u001b[32m2025-08-15 20:03:59.496\u001b[0m | \u001b[1mINFO    \u001b[0m | \u001b[36mblocksnet.blocks.cutting.preprocessing.core\u001b[0m:\u001b[36mpreprocess_urban_objects\u001b[0m:\u001b[36m51\u001b[0m - \u001b[1mChecking railways schema\u001b[0m\n",
      "\u001b[32m2025-08-15 20:03:59.511\u001b[0m | \u001b[1mINFO    \u001b[0m | \u001b[36mblocksnet.blocks.cutting.preprocessing.core\u001b[0m:\u001b[36mpreprocess_urban_objects\u001b[0m:\u001b[36m58\u001b[0m - \u001b[1mChecking water schema\u001b[0m\n",
      "\u001b[32m2025-08-15 20:03:59.533\u001b[0m | \u001b[1mINFO    \u001b[0m | \u001b[36mblocksnet.blocks.cutting.processing.core\u001b[0m:\u001b[36mwrapper\u001b[0m:\u001b[36m21\u001b[0m - \u001b[1mChecking boundaries schema\u001b[0m\n",
      "\u001b[32m2025-08-15 20:03:59.543\u001b[0m | \u001b[1mINFO    \u001b[0m | \u001b[36mblocksnet.blocks.cutting.processing.core\u001b[0m:\u001b[36mwrapper\u001b[0m:\u001b[36m25\u001b[0m - \u001b[1mChecking line objects schema\u001b[0m\n",
      "\u001b[32m2025-08-15 20:03:59.566\u001b[0m | \u001b[1mINFO    \u001b[0m | \u001b[36mblocksnet.blocks.cutting.processing.core\u001b[0m:\u001b[36mwrapper\u001b[0m:\u001b[36m31\u001b[0m - \u001b[1mChecking polygon objects schema\u001b[0m\n",
      "\u001b[32m2025-08-15 20:03:59.580\u001b[0m | \u001b[1mINFO    \u001b[0m | \u001b[36mblocksnet.blocks.cutting.processing.core\u001b[0m:\u001b[36m_exclude_polygons\u001b[0m:\u001b[36m45\u001b[0m - \u001b[1mExcluding polygon objects from blocks\u001b[0m\n",
      "\u001b[32m2025-08-15 20:03:59.694\u001b[0m | \u001b[1mINFO    \u001b[0m | \u001b[36mblocksnet.blocks.cutting.processing.core\u001b[0m:\u001b[36m_get_enclosures\u001b[0m:\u001b[36m51\u001b[0m - \u001b[1mSetting up enclosures\u001b[0m\n",
      "\u001b[32m2025-08-15 20:04:00.000\u001b[0m | \u001b[1mINFO    \u001b[0m | \u001b[36mblocksnet.blocks.cutting.processing.core\u001b[0m:\u001b[36m_fill_holes\u001b[0m:\u001b[36m68\u001b[0m - \u001b[1mFilling holes inside the blocks\u001b[0m\n",
      "\u001b[32m2025-08-15 20:04:00.452\u001b[0m | \u001b[1mINFO    \u001b[0m | \u001b[36mblocksnet.blocks.cutting.processing.core\u001b[0m:\u001b[36m_filter_overlapping\u001b[0m:\u001b[36m78\u001b[0m - \u001b[1mFiltering overlapping geometries\u001b[0m\n",
      "\u001b[32m2025-08-15 20:04:00.725\u001b[0m | \u001b[32m\u001b[1mSUCCESS \u001b[0m | \u001b[36mblocksnet.blocks.cutting.processing.core\u001b[0m:\u001b[36mcut_urban_blocks\u001b[0m:\u001b[36m118\u001b[0m - \u001b[32m\u001b[1mBlocks are successfully cut!\u001b[0m\n",
      "\u001b[32m2025-08-15 20:04:15.111\u001b[0m | \u001b[1mINFO    \u001b[0m | \u001b[36mblocksnet.blocks.assignment.core\u001b[0m:\u001b[36massign_land_use\u001b[0m:\u001b[36m44\u001b[0m - \u001b[1mOverlaying geometries\u001b[0m\n",
      "\u001b[32m2025-08-15 20:04:15.329\u001b[0m | \u001b[32m\u001b[1mSUCCESS \u001b[0m | \u001b[36mblocksnet.blocks.assignment.core\u001b[0m:\u001b[36massign_land_use\u001b[0m:\u001b[36m55\u001b[0m - \u001b[32m\u001b[1mShares calculated\u001b[0m\n"
     ]
    },
    {
     "name": "stdout",
     "output_type": "stream",
     "text": [
      " -> Abomey-Calavi, Benin\n"
     ]
    },
    {
     "name": "stderr",
     "output_type": "stream",
     "text": [
      "\u001b[32m2025-08-15 20:04:57.695\u001b[0m | \u001b[1mINFO    \u001b[0m | \u001b[36mblocksnet.blocks.cutting.preprocessing.core\u001b[0m:\u001b[36mpreprocess_urban_objects\u001b[0m:\u001b[36m44\u001b[0m - \u001b[1mChecking roads schema\u001b[0m\n",
      "\u001b[32m2025-08-15 20:04:57.761\u001b[0m | \u001b[1mINFO    \u001b[0m | \u001b[36mblocksnet.blocks.cutting.preprocessing.core\u001b[0m:\u001b[36mpreprocess_urban_objects\u001b[0m:\u001b[36m51\u001b[0m - \u001b[1mChecking railways schema\u001b[0m\n",
      "\u001b[32m2025-08-15 20:04:57.771\u001b[0m | \u001b[1mINFO    \u001b[0m | \u001b[36mblocksnet.blocks.cutting.preprocessing.core\u001b[0m:\u001b[36mpreprocess_urban_objects\u001b[0m:\u001b[36m58\u001b[0m - \u001b[1mChecking water schema\u001b[0m\n",
      "\u001b[32m2025-08-15 20:04:57.797\u001b[0m | \u001b[1mINFO    \u001b[0m | \u001b[36mblocksnet.blocks.cutting.processing.core\u001b[0m:\u001b[36mwrapper\u001b[0m:\u001b[36m21\u001b[0m - \u001b[1mChecking boundaries schema\u001b[0m\n",
      "\u001b[32m2025-08-15 20:04:57.806\u001b[0m | \u001b[1mINFO    \u001b[0m | \u001b[36mblocksnet.blocks.cutting.processing.core\u001b[0m:\u001b[36mwrapper\u001b[0m:\u001b[36m25\u001b[0m - \u001b[1mChecking line objects schema\u001b[0m\n",
      "\u001b[32m2025-08-15 20:04:57.855\u001b[0m | \u001b[1mINFO    \u001b[0m | \u001b[36mblocksnet.blocks.cutting.processing.core\u001b[0m:\u001b[36mwrapper\u001b[0m:\u001b[36m31\u001b[0m - \u001b[1mChecking polygon objects schema\u001b[0m\n",
      "\u001b[32m2025-08-15 20:04:57.871\u001b[0m | \u001b[1mINFO    \u001b[0m | \u001b[36mblocksnet.blocks.cutting.processing.core\u001b[0m:\u001b[36m_exclude_polygons\u001b[0m:\u001b[36m45\u001b[0m - \u001b[1mExcluding polygon objects from blocks\u001b[0m\n",
      "\u001b[32m2025-08-15 20:04:58.087\u001b[0m | \u001b[1mINFO    \u001b[0m | \u001b[36mblocksnet.blocks.cutting.processing.core\u001b[0m:\u001b[36m_get_enclosures\u001b[0m:\u001b[36m51\u001b[0m - \u001b[1mSetting up enclosures\u001b[0m\n",
      "\u001b[32m2025-08-15 20:04:59.264\u001b[0m | \u001b[1mINFO    \u001b[0m | \u001b[36mblocksnet.blocks.cutting.processing.core\u001b[0m:\u001b[36m_fill_holes\u001b[0m:\u001b[36m68\u001b[0m - \u001b[1mFilling holes inside the blocks\u001b[0m\n",
      "\u001b[32m2025-08-15 20:05:00.129\u001b[0m | \u001b[1mINFO    \u001b[0m | \u001b[36mblocksnet.blocks.cutting.processing.core\u001b[0m:\u001b[36m_filter_overlapping\u001b[0m:\u001b[36m78\u001b[0m - \u001b[1mFiltering overlapping geometries\u001b[0m\n",
      "\u001b[32m2025-08-15 20:05:01.190\u001b[0m | \u001b[32m\u001b[1mSUCCESS \u001b[0m | \u001b[36mblocksnet.blocks.cutting.processing.core\u001b[0m:\u001b[36mcut_urban_blocks\u001b[0m:\u001b[36m118\u001b[0m - \u001b[32m\u001b[1mBlocks are successfully cut!\u001b[0m\n",
      "\u001b[32m2025-08-15 20:05:07.146\u001b[0m | \u001b[1mINFO    \u001b[0m | \u001b[36mblocksnet.blocks.assignment.core\u001b[0m:\u001b[36massign_land_use\u001b[0m:\u001b[36m44\u001b[0m - \u001b[1mOverlaying geometries\u001b[0m\n",
      "\u001b[32m2025-08-15 20:05:07.379\u001b[0m | \u001b[32m\u001b[1mSUCCESS \u001b[0m | \u001b[36mblocksnet.blocks.assignment.core\u001b[0m:\u001b[36massign_land_use\u001b[0m:\u001b[36m55\u001b[0m - \u001b[32m\u001b[1mShares calculated\u001b[0m\n"
     ]
    },
    {
     "name": "stdout",
     "output_type": "stream",
     "text": [
      " -> Porto-Novo, Benin\n"
     ]
    },
    {
     "name": "stderr",
     "output_type": "stream",
     "text": [
      "\u001b[32m2025-08-15 20:05:38.642\u001b[0m | \u001b[1mINFO    \u001b[0m | \u001b[36mblocksnet.blocks.cutting.preprocessing.core\u001b[0m:\u001b[36mpreprocess_urban_objects\u001b[0m:\u001b[36m44\u001b[0m - \u001b[1mChecking roads schema\u001b[0m\n",
      "\u001b[32m2025-08-15 20:05:38.679\u001b[0m | \u001b[1mINFO    \u001b[0m | \u001b[36mblocksnet.blocks.cutting.preprocessing.core\u001b[0m:\u001b[36mpreprocess_urban_objects\u001b[0m:\u001b[36m51\u001b[0m - \u001b[1mChecking railways schema\u001b[0m\n",
      "\u001b[32m2025-08-15 20:05:38.681\u001b[0m | \u001b[33m\u001b[1mWARNING \u001b[0m | \u001b[36mblocksnet.blocks.cutting.preprocessing.core\u001b[0m:\u001b[36mpreprocess_urban_objects\u001b[0m:\u001b[36m53\u001b[0m - \u001b[33m\u001b[1mRailways GeoDataFrame is None. Creating empty\u001b[0m\n",
      "\u001b[32m2025-08-15 20:05:38.687\u001b[0m | \u001b[1mINFO    \u001b[0m | \u001b[36mblocksnet.blocks.cutting.preprocessing.core\u001b[0m:\u001b[36mpreprocess_urban_objects\u001b[0m:\u001b[36m58\u001b[0m - \u001b[1mChecking water schema\u001b[0m\n",
      "\u001b[32m2025-08-15 20:05:38.708\u001b[0m | \u001b[1mINFO    \u001b[0m | \u001b[36mblocksnet.blocks.cutting.processing.core\u001b[0m:\u001b[36mwrapper\u001b[0m:\u001b[36m21\u001b[0m - \u001b[1mChecking boundaries schema\u001b[0m\n",
      "\u001b[32m2025-08-15 20:05:38.718\u001b[0m | \u001b[1mINFO    \u001b[0m | \u001b[36mblocksnet.blocks.cutting.processing.core\u001b[0m:\u001b[36mwrapper\u001b[0m:\u001b[36m25\u001b[0m - \u001b[1mChecking line objects schema\u001b[0m\n",
      "\u001b[32m2025-08-15 20:05:38.744\u001b[0m | \u001b[1mINFO    \u001b[0m | \u001b[36mblocksnet.blocks.cutting.processing.core\u001b[0m:\u001b[36mwrapper\u001b[0m:\u001b[36m31\u001b[0m - \u001b[1mChecking polygon objects schema\u001b[0m\n",
      "\u001b[32m2025-08-15 20:05:38.759\u001b[0m | \u001b[1mINFO    \u001b[0m | \u001b[36mblocksnet.blocks.cutting.processing.core\u001b[0m:\u001b[36m_exclude_polygons\u001b[0m:\u001b[36m45\u001b[0m - \u001b[1mExcluding polygon objects from blocks\u001b[0m\n",
      "\u001b[32m2025-08-15 20:05:38.832\u001b[0m | \u001b[1mINFO    \u001b[0m | \u001b[36mblocksnet.blocks.cutting.processing.core\u001b[0m:\u001b[36m_get_enclosures\u001b[0m:\u001b[36m51\u001b[0m - \u001b[1mSetting up enclosures\u001b[0m\n",
      "\u001b[32m2025-08-15 20:05:39.196\u001b[0m | \u001b[1mINFO    \u001b[0m | \u001b[36mblocksnet.blocks.cutting.processing.core\u001b[0m:\u001b[36m_fill_holes\u001b[0m:\u001b[36m68\u001b[0m - \u001b[1mFilling holes inside the blocks\u001b[0m\n",
      "\u001b[32m2025-08-15 20:05:39.512\u001b[0m | \u001b[1mINFO    \u001b[0m | \u001b[36mblocksnet.blocks.cutting.processing.core\u001b[0m:\u001b[36m_filter_overlapping\u001b[0m:\u001b[36m78\u001b[0m - \u001b[1mFiltering overlapping geometries\u001b[0m\n",
      "\u001b[32m2025-08-15 20:05:39.781\u001b[0m | \u001b[32m\u001b[1mSUCCESS \u001b[0m | \u001b[36mblocksnet.blocks.cutting.processing.core\u001b[0m:\u001b[36mcut_urban_blocks\u001b[0m:\u001b[36m118\u001b[0m - \u001b[32m\u001b[1mBlocks are successfully cut!\u001b[0m\n",
      "\u001b[32m2025-08-15 20:05:41.508\u001b[0m | \u001b[1mINFO    \u001b[0m | \u001b[36mblocksnet.blocks.assignment.core\u001b[0m:\u001b[36massign_land_use\u001b[0m:\u001b[36m44\u001b[0m - \u001b[1mOverlaying geometries\u001b[0m\n",
      "\u001b[32m2025-08-15 20:05:41.680\u001b[0m | \u001b[32m\u001b[1mSUCCESS \u001b[0m | \u001b[36mblocksnet.blocks.assignment.core\u001b[0m:\u001b[36massign_land_use\u001b[0m:\u001b[36m55\u001b[0m - \u001b[32m\u001b[1mShares calculated\u001b[0m\n"
     ]
    },
    {
     "name": "stdout",
     "output_type": "stream",
     "text": [
      " -> Parakou, Benin\n"
     ]
    },
    {
     "name": "stderr",
     "output_type": "stream",
     "text": [
      "\u001b[32m2025-08-15 20:05:58.695\u001b[0m | \u001b[1mINFO    \u001b[0m | \u001b[36mblocksnet.blocks.cutting.preprocessing.core\u001b[0m:\u001b[36mpreprocess_urban_objects\u001b[0m:\u001b[36m44\u001b[0m - \u001b[1mChecking roads schema\u001b[0m\n",
      "\u001b[32m2025-08-15 20:05:58.710\u001b[0m | \u001b[1mINFO    \u001b[0m | \u001b[36mblocksnet.blocks.cutting.preprocessing.core\u001b[0m:\u001b[36mpreprocess_urban_objects\u001b[0m:\u001b[36m51\u001b[0m - \u001b[1mChecking railways schema\u001b[0m\n",
      "\u001b[32m2025-08-15 20:05:58.732\u001b[0m | \u001b[1mINFO    \u001b[0m | \u001b[36mblocksnet.blocks.cutting.preprocessing.core\u001b[0m:\u001b[36mpreprocess_urban_objects\u001b[0m:\u001b[36m58\u001b[0m - \u001b[1mChecking water schema\u001b[0m\n",
      "\u001b[32m2025-08-15 20:05:58.754\u001b[0m | \u001b[1mINFO    \u001b[0m | \u001b[36mblocksnet.blocks.cutting.processing.core\u001b[0m:\u001b[36mwrapper\u001b[0m:\u001b[36m21\u001b[0m - \u001b[1mChecking boundaries schema\u001b[0m\n",
      "\u001b[32m2025-08-15 20:05:58.769\u001b[0m | \u001b[1mINFO    \u001b[0m | \u001b[36mblocksnet.blocks.cutting.processing.core\u001b[0m:\u001b[36mwrapper\u001b[0m:\u001b[36m25\u001b[0m - \u001b[1mChecking line objects schema\u001b[0m\n",
      "\u001b[32m2025-08-15 20:05:58.794\u001b[0m | \u001b[1mINFO    \u001b[0m | \u001b[36mblocksnet.blocks.cutting.processing.core\u001b[0m:\u001b[36mwrapper\u001b[0m:\u001b[36m31\u001b[0m - \u001b[1mChecking polygon objects schema\u001b[0m\n",
      "\u001b[32m2025-08-15 20:05:58.821\u001b[0m | \u001b[1mINFO    \u001b[0m | \u001b[36mblocksnet.blocks.cutting.processing.core\u001b[0m:\u001b[36m_exclude_polygons\u001b[0m:\u001b[36m45\u001b[0m - \u001b[1mExcluding polygon objects from blocks\u001b[0m\n",
      "\u001b[32m2025-08-15 20:05:58.866\u001b[0m | \u001b[1mINFO    \u001b[0m | \u001b[36mblocksnet.blocks.cutting.processing.core\u001b[0m:\u001b[36m_get_enclosures\u001b[0m:\u001b[36m51\u001b[0m - \u001b[1mSetting up enclosures\u001b[0m\n",
      "\u001b[32m2025-08-15 20:05:59.249\u001b[0m | \u001b[1mINFO    \u001b[0m | \u001b[36mblocksnet.blocks.cutting.processing.core\u001b[0m:\u001b[36m_fill_holes\u001b[0m:\u001b[36m68\u001b[0m - \u001b[1mFilling holes inside the blocks\u001b[0m\n",
      "\u001b[32m2025-08-15 20:05:59.564\u001b[0m | \u001b[1mINFO    \u001b[0m | \u001b[36mblocksnet.blocks.cutting.processing.core\u001b[0m:\u001b[36m_filter_overlapping\u001b[0m:\u001b[36m78\u001b[0m - \u001b[1mFiltering overlapping geometries\u001b[0m\n",
      "\u001b[32m2025-08-15 20:05:59.981\u001b[0m | \u001b[32m\u001b[1mSUCCESS \u001b[0m | \u001b[36mblocksnet.blocks.cutting.processing.core\u001b[0m:\u001b[36mcut_urban_blocks\u001b[0m:\u001b[36m118\u001b[0m - \u001b[32m\u001b[1mBlocks are successfully cut!\u001b[0m\n",
      "\u001b[32m2025-08-15 20:07:03.131\u001b[0m | \u001b[1mINFO    \u001b[0m | \u001b[36mblocksnet.blocks.assignment.core\u001b[0m:\u001b[36massign_land_use\u001b[0m:\u001b[36m44\u001b[0m - \u001b[1mOverlaying geometries\u001b[0m\n",
      "\u001b[32m2025-08-15 20:07:03.564\u001b[0m | \u001b[32m\u001b[1mSUCCESS \u001b[0m | \u001b[36mblocksnet.blocks.assignment.core\u001b[0m:\u001b[36massign_land_use\u001b[0m:\u001b[36m55\u001b[0m - \u001b[32m\u001b[1mShares calculated\u001b[0m\n"
     ]
    },
    {
     "name": "stdout",
     "output_type": "stream",
     "text": [
      " -> Godomè, Benin\n",
      "    [skip] Godomè, Benin: Не найдены границы: Godomè, Benin\n",
      " -> Abomey, Benin\n"
     ]
    },
    {
     "name": "stderr",
     "output_type": "stream",
     "text": [
      "\u001b[32m2025-08-15 20:08:32.702\u001b[0m | \u001b[1mINFO    \u001b[0m | \u001b[36mblocksnet.blocks.cutting.preprocessing.core\u001b[0m:\u001b[36mpreprocess_urban_objects\u001b[0m:\u001b[36m44\u001b[0m - \u001b[1mChecking roads schema\u001b[0m\n",
      "\u001b[32m2025-08-15 20:08:32.718\u001b[0m | \u001b[1mINFO    \u001b[0m | \u001b[36mblocksnet.blocks.cutting.preprocessing.core\u001b[0m:\u001b[36mpreprocess_urban_objects\u001b[0m:\u001b[36m51\u001b[0m - \u001b[1mChecking railways schema\u001b[0m\n",
      "\u001b[32m2025-08-15 20:08:32.733\u001b[0m | \u001b[1mINFO    \u001b[0m | \u001b[36mblocksnet.blocks.cutting.preprocessing.core\u001b[0m:\u001b[36mpreprocess_urban_objects\u001b[0m:\u001b[36m58\u001b[0m - \u001b[1mChecking water schema\u001b[0m\n",
      "\u001b[32m2025-08-15 20:08:32.760\u001b[0m | \u001b[1mINFO    \u001b[0m | \u001b[36mblocksnet.blocks.cutting.processing.core\u001b[0m:\u001b[36mwrapper\u001b[0m:\u001b[36m21\u001b[0m - \u001b[1mChecking boundaries schema\u001b[0m\n",
      "\u001b[32m2025-08-15 20:08:32.772\u001b[0m | \u001b[1mINFO    \u001b[0m | \u001b[36mblocksnet.blocks.cutting.processing.core\u001b[0m:\u001b[36mwrapper\u001b[0m:\u001b[36m25\u001b[0m - \u001b[1mChecking line objects schema\u001b[0m\n",
      "\u001b[32m2025-08-15 20:08:32.792\u001b[0m | \u001b[1mINFO    \u001b[0m | \u001b[36mblocksnet.blocks.cutting.processing.core\u001b[0m:\u001b[36mwrapper\u001b[0m:\u001b[36m31\u001b[0m - \u001b[1mChecking polygon objects schema\u001b[0m\n",
      "\u001b[32m2025-08-15 20:08:32.806\u001b[0m | \u001b[1mINFO    \u001b[0m | \u001b[36mblocksnet.blocks.cutting.processing.core\u001b[0m:\u001b[36m_exclude_polygons\u001b[0m:\u001b[36m45\u001b[0m - \u001b[1mExcluding polygon objects from blocks\u001b[0m\n",
      "\u001b[32m2025-08-15 20:08:32.817\u001b[0m | \u001b[1mINFO    \u001b[0m | \u001b[36mblocksnet.blocks.cutting.processing.core\u001b[0m:\u001b[36m_get_enclosures\u001b[0m:\u001b[36m51\u001b[0m - \u001b[1mSetting up enclosures\u001b[0m\n",
      "\u001b[32m2025-08-15 20:08:32.949\u001b[0m | \u001b[1mINFO    \u001b[0m | \u001b[36mblocksnet.blocks.cutting.processing.core\u001b[0m:\u001b[36m_fill_holes\u001b[0m:\u001b[36m68\u001b[0m - \u001b[1mFilling holes inside the blocks\u001b[0m\n",
      "\u001b[32m2025-08-15 20:08:33.075\u001b[0m | \u001b[1mINFO    \u001b[0m | \u001b[36mblocksnet.blocks.cutting.processing.core\u001b[0m:\u001b[36m_filter_overlapping\u001b[0m:\u001b[36m78\u001b[0m - \u001b[1mFiltering overlapping geometries\u001b[0m\n",
      "\u001b[32m2025-08-15 20:08:33.280\u001b[0m | \u001b[32m\u001b[1mSUCCESS \u001b[0m | \u001b[36mblocksnet.blocks.cutting.processing.core\u001b[0m:\u001b[36mcut_urban_blocks\u001b[0m:\u001b[36m118\u001b[0m - \u001b[32m\u001b[1mBlocks are successfully cut!\u001b[0m\n",
      "\u001b[32m2025-08-15 20:08:34.677\u001b[0m | \u001b[1mINFO    \u001b[0m | \u001b[36mblocksnet.blocks.assignment.core\u001b[0m:\u001b[36massign_land_use\u001b[0m:\u001b[36m44\u001b[0m - \u001b[1mOverlaying geometries\u001b[0m\n",
      "\u001b[32m2025-08-15 20:08:34.820\u001b[0m | \u001b[32m\u001b[1mSUCCESS \u001b[0m | \u001b[36mblocksnet.blocks.assignment.core\u001b[0m:\u001b[36massign_land_use\u001b[0m:\u001b[36m55\u001b[0m - \u001b[32m\u001b[1mShares calculated\u001b[0m\n"
     ]
    },
    {
     "name": "stdout",
     "output_type": "stream",
     "text": [
      "\n",
      "=== Bermuda ===\n",
      "[Bermuda] нет городов в диапазоне 100000-100000000\n",
      "\n",
      "=== Bhutan ===\n",
      "[Bhutan] нет городов в диапазоне 100000-100000000\n",
      "\n",
      "=== Bolivia ===\n",
      " -> La Paz, Bolivia\n"
     ]
    },
    {
     "name": "stderr",
     "output_type": "stream",
     "text": [
      "\u001b[32m2025-08-15 20:09:08.288\u001b[0m | \u001b[1mINFO    \u001b[0m | \u001b[36mblocksnet.blocks.cutting.preprocessing.core\u001b[0m:\u001b[36mpreprocess_urban_objects\u001b[0m:\u001b[36m44\u001b[0m - \u001b[1mChecking roads schema\u001b[0m\n",
      "\u001b[32m2025-08-15 20:09:08.399\u001b[0m | \u001b[1mINFO    \u001b[0m | \u001b[36mblocksnet.blocks.cutting.preprocessing.core\u001b[0m:\u001b[36mpreprocess_urban_objects\u001b[0m:\u001b[36m51\u001b[0m - \u001b[1mChecking railways schema\u001b[0m\n",
      "\u001b[32m2025-08-15 20:09:08.400\u001b[0m | \u001b[33m\u001b[1mWARNING \u001b[0m | \u001b[36mblocksnet.blocks.cutting.preprocessing.core\u001b[0m:\u001b[36mpreprocess_urban_objects\u001b[0m:\u001b[36m53\u001b[0m - \u001b[33m\u001b[1mRailways GeoDataFrame is None. Creating empty\u001b[0m\n",
      "\u001b[32m2025-08-15 20:09:08.400\u001b[0m | \u001b[1mINFO    \u001b[0m | \u001b[36mblocksnet.blocks.cutting.preprocessing.core\u001b[0m:\u001b[36mpreprocess_urban_objects\u001b[0m:\u001b[36m58\u001b[0m - \u001b[1mChecking water schema\u001b[0m\n",
      "\u001b[32m2025-08-15 20:09:08.451\u001b[0m | \u001b[1mINFO    \u001b[0m | \u001b[36mblocksnet.blocks.cutting.processing.core\u001b[0m:\u001b[36mwrapper\u001b[0m:\u001b[36m21\u001b[0m - \u001b[1mChecking boundaries schema\u001b[0m\n",
      "\u001b[32m2025-08-15 20:09:08.454\u001b[0m | \u001b[1mINFO    \u001b[0m | \u001b[36mblocksnet.blocks.cutting.processing.core\u001b[0m:\u001b[36mwrapper\u001b[0m:\u001b[36m25\u001b[0m - \u001b[1mChecking line objects schema\u001b[0m\n",
      "\u001b[32m2025-08-15 20:09:08.511\u001b[0m | \u001b[1mINFO    \u001b[0m | \u001b[36mblocksnet.blocks.cutting.processing.core\u001b[0m:\u001b[36mwrapper\u001b[0m:\u001b[36m31\u001b[0m - \u001b[1mChecking polygon objects schema\u001b[0m\n",
      "\u001b[32m2025-08-15 20:09:08.545\u001b[0m | \u001b[1mINFO    \u001b[0m | \u001b[36mblocksnet.blocks.cutting.processing.core\u001b[0m:\u001b[36m_exclude_polygons\u001b[0m:\u001b[36m45\u001b[0m - \u001b[1mExcluding polygon objects from blocks\u001b[0m\n",
      "\u001b[32m2025-08-15 20:09:08.737\u001b[0m | \u001b[1mINFO    \u001b[0m | \u001b[36mblocksnet.blocks.cutting.processing.core\u001b[0m:\u001b[36m_get_enclosures\u001b[0m:\u001b[36m51\u001b[0m - \u001b[1mSetting up enclosures\u001b[0m\n",
      "\u001b[32m2025-08-15 20:09:09.752\u001b[0m | \u001b[1mINFO    \u001b[0m | \u001b[36mblocksnet.blocks.cutting.processing.core\u001b[0m:\u001b[36m_fill_holes\u001b[0m:\u001b[36m68\u001b[0m - \u001b[1mFilling holes inside the blocks\u001b[0m\n",
      "\u001b[32m2025-08-15 20:09:10.369\u001b[0m | \u001b[1mINFO    \u001b[0m | \u001b[36mblocksnet.blocks.cutting.processing.core\u001b[0m:\u001b[36m_filter_overlapping\u001b[0m:\u001b[36m78\u001b[0m - \u001b[1mFiltering overlapping geometries\u001b[0m\n",
      "\u001b[32m2025-08-15 20:09:11.619\u001b[0m | \u001b[32m\u001b[1mSUCCESS \u001b[0m | \u001b[36mblocksnet.blocks.cutting.processing.core\u001b[0m:\u001b[36mcut_urban_blocks\u001b[0m:\u001b[36m118\u001b[0m - \u001b[32m\u001b[1mBlocks are successfully cut!\u001b[0m\n",
      "\u001b[32m2025-08-15 20:09:15.337\u001b[0m | \u001b[1mINFO    \u001b[0m | \u001b[36mblocksnet.blocks.assignment.core\u001b[0m:\u001b[36massign_land_use\u001b[0m:\u001b[36m44\u001b[0m - \u001b[1mOverlaying geometries\u001b[0m\n",
      "\u001b[32m2025-08-15 20:09:15.657\u001b[0m | \u001b[32m\u001b[1mSUCCESS \u001b[0m | \u001b[36mblocksnet.blocks.assignment.core\u001b[0m:\u001b[36massign_land_use\u001b[0m:\u001b[36m55\u001b[0m - \u001b[32m\u001b[1mShares calculated\u001b[0m\n"
     ]
    },
    {
     "name": "stdout",
     "output_type": "stream",
     "text": [
      " -> Santa Cruz de la Sierra, Bolivia\n"
     ]
    },
    {
     "name": "stderr",
     "output_type": "stream",
     "text": [
      "\u001b[32m2025-08-15 20:09:39.738\u001b[0m | \u001b[1mINFO    \u001b[0m | \u001b[36mblocksnet.blocks.cutting.preprocessing.core\u001b[0m:\u001b[36mpreprocess_urban_objects\u001b[0m:\u001b[36m44\u001b[0m - \u001b[1mChecking roads schema\u001b[0m\n",
      "\u001b[32m2025-08-15 20:09:39.838\u001b[0m | \u001b[1mINFO    \u001b[0m | \u001b[36mblocksnet.blocks.cutting.preprocessing.core\u001b[0m:\u001b[36mpreprocess_urban_objects\u001b[0m:\u001b[36m51\u001b[0m - \u001b[1mChecking railways schema\u001b[0m\n",
      "\u001b[32m2025-08-15 20:09:39.848\u001b[0m | \u001b[1mINFO    \u001b[0m | \u001b[36mblocksnet.blocks.cutting.preprocessing.core\u001b[0m:\u001b[36mpreprocess_urban_objects\u001b[0m:\u001b[36m58\u001b[0m - \u001b[1mChecking water schema\u001b[0m\n",
      "\u001b[32m2025-08-15 20:09:39.888\u001b[0m | \u001b[1mINFO    \u001b[0m | \u001b[36mblocksnet.blocks.cutting.processing.core\u001b[0m:\u001b[36mwrapper\u001b[0m:\u001b[36m21\u001b[0m - \u001b[1mChecking boundaries schema\u001b[0m\n",
      "\u001b[32m2025-08-15 20:09:39.898\u001b[0m | \u001b[1mINFO    \u001b[0m | \u001b[36mblocksnet.blocks.cutting.processing.core\u001b[0m:\u001b[36mwrapper\u001b[0m:\u001b[36m25\u001b[0m - \u001b[1mChecking line objects schema\u001b[0m\n",
      "\u001b[32m2025-08-15 20:09:39.968\u001b[0m | \u001b[1mINFO    \u001b[0m | \u001b[36mblocksnet.blocks.cutting.processing.core\u001b[0m:\u001b[36mwrapper\u001b[0m:\u001b[36m31\u001b[0m - \u001b[1mChecking polygon objects schema\u001b[0m\n",
      "\u001b[32m2025-08-15 20:09:39.972\u001b[0m | \u001b[1mINFO    \u001b[0m | \u001b[36mblocksnet.blocks.cutting.processing.core\u001b[0m:\u001b[36m_exclude_polygons\u001b[0m:\u001b[36m45\u001b[0m - \u001b[1mExcluding polygon objects from blocks\u001b[0m\n",
      "\u001b[32m2025-08-15 20:09:40.055\u001b[0m | \u001b[1mINFO    \u001b[0m | \u001b[36mblocksnet.blocks.cutting.processing.core\u001b[0m:\u001b[36m_get_enclosures\u001b[0m:\u001b[36m51\u001b[0m - \u001b[1mSetting up enclosures\u001b[0m\n",
      "\u001b[32m2025-08-15 20:09:42.389\u001b[0m | \u001b[1mINFO    \u001b[0m | \u001b[36mblocksnet.blocks.cutting.processing.core\u001b[0m:\u001b[36m_fill_holes\u001b[0m:\u001b[36m68\u001b[0m - \u001b[1mFilling holes inside the blocks\u001b[0m\n",
      "\u001b[32m2025-08-15 20:09:44.505\u001b[0m | \u001b[1mINFO    \u001b[0m | \u001b[36mblocksnet.blocks.cutting.processing.core\u001b[0m:\u001b[36m_filter_overlapping\u001b[0m:\u001b[36m78\u001b[0m - \u001b[1mFiltering overlapping geometries\u001b[0m\n",
      "\u001b[32m2025-08-15 20:09:46.121\u001b[0m | \u001b[32m\u001b[1mSUCCESS \u001b[0m | \u001b[36mblocksnet.blocks.cutting.processing.core\u001b[0m:\u001b[36mcut_urban_blocks\u001b[0m:\u001b[36m118\u001b[0m - \u001b[32m\u001b[1mBlocks are successfully cut!\u001b[0m\n",
      "\u001b[32m2025-08-15 20:09:48.956\u001b[0m | \u001b[1mINFO    \u001b[0m | \u001b[36mblocksnet.blocks.assignment.core\u001b[0m:\u001b[36massign_land_use\u001b[0m:\u001b[36m44\u001b[0m - \u001b[1mOverlaying geometries\u001b[0m\n",
      "\u001b[32m2025-08-15 20:09:49.431\u001b[0m | \u001b[32m\u001b[1mSUCCESS \u001b[0m | \u001b[36mblocksnet.blocks.assignment.core\u001b[0m:\u001b[36massign_land_use\u001b[0m:\u001b[36m55\u001b[0m - \u001b[32m\u001b[1mShares calculated\u001b[0m\n"
     ]
    },
    {
     "name": "stdout",
     "output_type": "stream",
     "text": [
      " -> Cochabamba, Bolivia\n"
     ]
    },
    {
     "name": "stderr",
     "output_type": "stream",
     "text": [
      "\u001b[32m2025-08-15 20:10:50.220\u001b[0m | \u001b[1mINFO    \u001b[0m | \u001b[36mblocksnet.blocks.cutting.preprocessing.core\u001b[0m:\u001b[36mpreprocess_urban_objects\u001b[0m:\u001b[36m44\u001b[0m - \u001b[1mChecking roads schema\u001b[0m\n",
      "\u001b[32m2025-08-15 20:10:50.369\u001b[0m | \u001b[1mINFO    \u001b[0m | \u001b[36mblocksnet.blocks.cutting.preprocessing.core\u001b[0m:\u001b[36mpreprocess_urban_objects\u001b[0m:\u001b[36m51\u001b[0m - \u001b[1mChecking railways schema\u001b[0m\n",
      "\u001b[32m2025-08-15 20:10:50.389\u001b[0m | \u001b[1mINFO    \u001b[0m | \u001b[36mblocksnet.blocks.cutting.preprocessing.core\u001b[0m:\u001b[36mpreprocess_urban_objects\u001b[0m:\u001b[36m58\u001b[0m - \u001b[1mChecking water schema\u001b[0m\n",
      "\u001b[32m2025-08-15 20:10:50.434\u001b[0m | \u001b[1mINFO    \u001b[0m | \u001b[36mblocksnet.blocks.cutting.processing.core\u001b[0m:\u001b[36mwrapper\u001b[0m:\u001b[36m21\u001b[0m - \u001b[1mChecking boundaries schema\u001b[0m\n",
      "\u001b[32m2025-08-15 20:10:50.446\u001b[0m | \u001b[1mINFO    \u001b[0m | \u001b[36mblocksnet.blocks.cutting.processing.core\u001b[0m:\u001b[36mwrapper\u001b[0m:\u001b[36m25\u001b[0m - \u001b[1mChecking line objects schema\u001b[0m\n",
      "\u001b[32m2025-08-15 20:10:50.507\u001b[0m | \u001b[1mINFO    \u001b[0m | \u001b[36mblocksnet.blocks.cutting.processing.core\u001b[0m:\u001b[36mwrapper\u001b[0m:\u001b[36m31\u001b[0m - \u001b[1mChecking polygon objects schema\u001b[0m\n",
      "\u001b[32m2025-08-15 20:10:50.537\u001b[0m | \u001b[1mINFO    \u001b[0m | \u001b[36mblocksnet.blocks.cutting.processing.core\u001b[0m:\u001b[36m_exclude_polygons\u001b[0m:\u001b[36m45\u001b[0m - \u001b[1mExcluding polygon objects from blocks\u001b[0m\n",
      "\u001b[32m2025-08-15 20:10:50.607\u001b[0m | \u001b[1mINFO    \u001b[0m | \u001b[36mblocksnet.blocks.cutting.processing.core\u001b[0m:\u001b[36m_get_enclosures\u001b[0m:\u001b[36m51\u001b[0m - \u001b[1mSetting up enclosures\u001b[0m\n",
      "\u001b[32m2025-08-15 20:10:52.078\u001b[0m | \u001b[1mINFO    \u001b[0m | \u001b[36mblocksnet.blocks.cutting.processing.core\u001b[0m:\u001b[36m_fill_holes\u001b[0m:\u001b[36m68\u001b[0m - \u001b[1mFilling holes inside the blocks\u001b[0m\n",
      "\u001b[32m2025-08-15 20:10:53.253\u001b[0m | \u001b[1mINFO    \u001b[0m | \u001b[36mblocksnet.blocks.cutting.processing.core\u001b[0m:\u001b[36m_filter_overlapping\u001b[0m:\u001b[36m78\u001b[0m - \u001b[1mFiltering overlapping geometries\u001b[0m\n",
      "\u001b[32m2025-08-15 20:10:54.486\u001b[0m | \u001b[32m\u001b[1mSUCCESS \u001b[0m | \u001b[36mblocksnet.blocks.cutting.processing.core\u001b[0m:\u001b[36mcut_urban_blocks\u001b[0m:\u001b[36m118\u001b[0m - \u001b[32m\u001b[1mBlocks are successfully cut!\u001b[0m\n",
      "\u001b[32m2025-08-15 20:11:04.855\u001b[0m | \u001b[1mINFO    \u001b[0m | \u001b[36mblocksnet.blocks.assignment.core\u001b[0m:\u001b[36massign_land_use\u001b[0m:\u001b[36m44\u001b[0m - \u001b[1mOverlaying geometries\u001b[0m\n",
      "\u001b[32m2025-08-15 20:11:05.759\u001b[0m | \u001b[32m\u001b[1mSUCCESS \u001b[0m | \u001b[36mblocksnet.blocks.assignment.core\u001b[0m:\u001b[36massign_land_use\u001b[0m:\u001b[36m55\u001b[0m - \u001b[32m\u001b[1mShares calculated\u001b[0m\n"
     ]
    },
    {
     "name": "stdout",
     "output_type": "stream",
     "text": [
      " -> Sucre, Bolivia\n",
      "    [skip] Sucre, Bolivia: At least one GeoDataFrame must be passed\n",
      " -> Oruro, Bolivia\n"
     ]
    },
    {
     "name": "stderr",
     "output_type": "stream",
     "text": [
      "d:\\programming\\github\\loading-cities-for-land-use\\.venv\\lib\\site-packages\\osmnx\\_overpass.py:271: UserWarning: This area is 24 times your configured Overpass max query area size. It will automatically be divided up into multiple sub-queries accordingly. This may take a long time.\n",
      "  multi_poly_proj = utils_geo._consolidate_subdivide_geometry(poly_proj)\n",
      "d:\\programming\\github\\loading-cities-for-land-use\\.venv\\lib\\site-packages\\osmnx\\_overpass.py:271: UserWarning: This area is 24 times your configured Overpass max query area size. It will automatically be divided up into multiple sub-queries accordingly. This may take a long time.\n",
      "  multi_poly_proj = utils_geo._consolidate_subdivide_geometry(poly_proj)\n",
      "d:\\programming\\github\\loading-cities-for-land-use\\.venv\\lib\\site-packages\\osmnx\\_overpass.py:271: UserWarning: This area is 24 times your configured Overpass max query area size. It will automatically be divided up into multiple sub-queries accordingly. This may take a long time.\n",
      "  multi_poly_proj = utils_geo._consolidate_subdivide_geometry(poly_proj)\n",
      "\u001b[32m2025-08-15 20:21:53.700\u001b[0m | \u001b[1mINFO    \u001b[0m | \u001b[36mblocksnet.blocks.cutting.preprocessing.core\u001b[0m:\u001b[36mpreprocess_urban_objects\u001b[0m:\u001b[36m44\u001b[0m - \u001b[1mChecking roads schema\u001b[0m\n",
      "\u001b[32m2025-08-15 20:21:53.804\u001b[0m | \u001b[1mINFO    \u001b[0m | \u001b[36mblocksnet.blocks.cutting.preprocessing.core\u001b[0m:\u001b[36mpreprocess_urban_objects\u001b[0m:\u001b[36m51\u001b[0m - \u001b[1mChecking railways schema\u001b[0m\n",
      "\u001b[32m2025-08-15 20:21:53.816\u001b[0m | \u001b[1mINFO    \u001b[0m | \u001b[36mblocksnet.blocks.cutting.preprocessing.core\u001b[0m:\u001b[36mpreprocess_urban_objects\u001b[0m:\u001b[36m58\u001b[0m - \u001b[1mChecking water schema\u001b[0m\n",
      "\u001b[32m2025-08-15 20:21:53.869\u001b[0m | \u001b[1mINFO    \u001b[0m | \u001b[36mblocksnet.blocks.cutting.processing.core\u001b[0m:\u001b[36mwrapper\u001b[0m:\u001b[36m21\u001b[0m - \u001b[1mChecking boundaries schema\u001b[0m\n",
      "\u001b[32m2025-08-15 20:21:53.880\u001b[0m | \u001b[1mINFO    \u001b[0m | \u001b[36mblocksnet.blocks.cutting.processing.core\u001b[0m:\u001b[36mwrapper\u001b[0m:\u001b[36m25\u001b[0m - \u001b[1mChecking line objects schema\u001b[0m\n",
      "\u001b[32m2025-08-15 20:21:53.967\u001b[0m | \u001b[1mINFO    \u001b[0m | \u001b[36mblocksnet.blocks.cutting.processing.core\u001b[0m:\u001b[36mwrapper\u001b[0m:\u001b[36m31\u001b[0m - \u001b[1mChecking polygon objects schema\u001b[0m\n",
      "\u001b[32m2025-08-15 20:21:53.986\u001b[0m | \u001b[1mINFO    \u001b[0m | \u001b[36mblocksnet.blocks.cutting.processing.core\u001b[0m:\u001b[36m_exclude_polygons\u001b[0m:\u001b[36m45\u001b[0m - \u001b[1mExcluding polygon objects from blocks\u001b[0m\n",
      "\u001b[32m2025-08-15 20:21:54.586\u001b[0m | \u001b[1mINFO    \u001b[0m | \u001b[36mblocksnet.blocks.cutting.processing.core\u001b[0m:\u001b[36m_get_enclosures\u001b[0m:\u001b[36m51\u001b[0m - \u001b[1mSetting up enclosures\u001b[0m\n",
      "\u001b[32m2025-08-15 20:21:59.639\u001b[0m | \u001b[1mINFO    \u001b[0m | \u001b[36mblocksnet.blocks.cutting.processing.core\u001b[0m:\u001b[36m_fill_holes\u001b[0m:\u001b[36m68\u001b[0m - \u001b[1mFilling holes inside the blocks\u001b[0m\n",
      "\u001b[32m2025-08-15 20:22:01.841\u001b[0m | \u001b[1mINFO    \u001b[0m | \u001b[36mblocksnet.blocks.cutting.processing.core\u001b[0m:\u001b[36m_filter_overlapping\u001b[0m:\u001b[36m78\u001b[0m - \u001b[1mFiltering overlapping geometries\u001b[0m\n",
      "\u001b[32m2025-08-15 20:22:07.173\u001b[0m | \u001b[32m\u001b[1mSUCCESS \u001b[0m | \u001b[36mblocksnet.blocks.cutting.processing.core\u001b[0m:\u001b[36mcut_urban_blocks\u001b[0m:\u001b[36m118\u001b[0m - \u001b[32m\u001b[1mBlocks are successfully cut!\u001b[0m\n",
      "d:\\programming\\github\\loading-cities-for-land-use\\.venv\\lib\\site-packages\\osmnx\\_overpass.py:271: UserWarning: This area is 24 times your configured Overpass max query area size. It will automatically be divided up into multiple sub-queries accordingly. This may take a long time.\n",
      "  multi_poly_proj = utils_geo._consolidate_subdivide_geometry(poly_proj)\n",
      "\u001b[32m2025-08-15 20:24:06.058\u001b[0m | \u001b[1mINFO    \u001b[0m | \u001b[36mblocksnet.blocks.assignment.core\u001b[0m:\u001b[36massign_land_use\u001b[0m:\u001b[36m44\u001b[0m - \u001b[1mOverlaying geometries\u001b[0m\n",
      "\u001b[32m2025-08-15 20:24:07.025\u001b[0m | \u001b[32m\u001b[1mSUCCESS \u001b[0m | \u001b[36mblocksnet.blocks.assignment.core\u001b[0m:\u001b[36massign_land_use\u001b[0m:\u001b[36m55\u001b[0m - \u001b[32m\u001b[1mShares calculated\u001b[0m\n"
     ]
    },
    {
     "name": "stdout",
     "output_type": "stream",
     "text": [
      " -> Sacaba, Bolivia\n"
     ]
    },
    {
     "name": "stderr",
     "output_type": "stream",
     "text": [
      "\u001b[32m2025-08-15 20:24:47.073\u001b[0m | \u001b[1mINFO    \u001b[0m | \u001b[36mblocksnet.blocks.cutting.preprocessing.core\u001b[0m:\u001b[36mpreprocess_urban_objects\u001b[0m:\u001b[36m44\u001b[0m - \u001b[1mChecking roads schema\u001b[0m\n",
      "\u001b[32m2025-08-15 20:24:47.117\u001b[0m | \u001b[1mINFO    \u001b[0m | \u001b[36mblocksnet.blocks.cutting.preprocessing.core\u001b[0m:\u001b[36mpreprocess_urban_objects\u001b[0m:\u001b[36m51\u001b[0m - \u001b[1mChecking railways schema\u001b[0m\n",
      "\u001b[32m2025-08-15 20:24:47.119\u001b[0m | \u001b[33m\u001b[1mWARNING \u001b[0m | \u001b[36mblocksnet.blocks.cutting.preprocessing.core\u001b[0m:\u001b[36mpreprocess_urban_objects\u001b[0m:\u001b[36m53\u001b[0m - \u001b[33m\u001b[1mRailways GeoDataFrame is None. Creating empty\u001b[0m\n",
      "\u001b[32m2025-08-15 20:24:47.123\u001b[0m | \u001b[1mINFO    \u001b[0m | \u001b[36mblocksnet.blocks.cutting.preprocessing.core\u001b[0m:\u001b[36mpreprocess_urban_objects\u001b[0m:\u001b[36m58\u001b[0m - \u001b[1mChecking water schema\u001b[0m\n",
      "\u001b[32m2025-08-15 20:24:47.167\u001b[0m | \u001b[1mINFO    \u001b[0m | \u001b[36mblocksnet.blocks.cutting.processing.core\u001b[0m:\u001b[36mwrapper\u001b[0m:\u001b[36m21\u001b[0m - \u001b[1mChecking boundaries schema\u001b[0m\n",
      "\u001b[32m2025-08-15 20:24:47.177\u001b[0m | \u001b[1mINFO    \u001b[0m | \u001b[36mblocksnet.blocks.cutting.processing.core\u001b[0m:\u001b[36mwrapper\u001b[0m:\u001b[36m25\u001b[0m - \u001b[1mChecking line objects schema\u001b[0m\n",
      "\u001b[32m2025-08-15 20:24:47.212\u001b[0m | \u001b[1mINFO    \u001b[0m | \u001b[36mblocksnet.blocks.cutting.processing.core\u001b[0m:\u001b[36mwrapper\u001b[0m:\u001b[36m31\u001b[0m - \u001b[1mChecking polygon objects schema\u001b[0m\n",
      "\u001b[32m2025-08-15 20:24:47.229\u001b[0m | \u001b[1mINFO    \u001b[0m | \u001b[36mblocksnet.blocks.cutting.processing.core\u001b[0m:\u001b[36m_exclude_polygons\u001b[0m:\u001b[36m45\u001b[0m - \u001b[1mExcluding polygon objects from blocks\u001b[0m\n",
      "\u001b[32m2025-08-15 20:24:47.494\u001b[0m | \u001b[1mINFO    \u001b[0m | \u001b[36mblocksnet.blocks.cutting.processing.core\u001b[0m:\u001b[36m_get_enclosures\u001b[0m:\u001b[36m51\u001b[0m - \u001b[1mSetting up enclosures\u001b[0m\n",
      "\u001b[32m2025-08-15 20:24:48.231\u001b[0m | \u001b[1mINFO    \u001b[0m | \u001b[36mblocksnet.blocks.cutting.processing.core\u001b[0m:\u001b[36m_fill_holes\u001b[0m:\u001b[36m68\u001b[0m - \u001b[1mFilling holes inside the blocks\u001b[0m\n",
      "\u001b[32m2025-08-15 20:24:48.740\u001b[0m | \u001b[1mINFO    \u001b[0m | \u001b[36mblocksnet.blocks.cutting.processing.core\u001b[0m:\u001b[36m_filter_overlapping\u001b[0m:\u001b[36m78\u001b[0m - \u001b[1mFiltering overlapping geometries\u001b[0m\n",
      "\u001b[32m2025-08-15 20:24:49.992\u001b[0m | \u001b[32m\u001b[1mSUCCESS \u001b[0m | \u001b[36mblocksnet.blocks.cutting.processing.core\u001b[0m:\u001b[36mcut_urban_blocks\u001b[0m:\u001b[36m118\u001b[0m - \u001b[32m\u001b[1mBlocks are successfully cut!\u001b[0m\n",
      "\u001b[32m2025-08-15 20:24:54.387\u001b[0m | \u001b[1mINFO    \u001b[0m | \u001b[36mblocksnet.blocks.assignment.core\u001b[0m:\u001b[36massign_land_use\u001b[0m:\u001b[36m44\u001b[0m - \u001b[1mOverlaying geometries\u001b[0m\n",
      "\u001b[32m2025-08-15 20:24:54.737\u001b[0m | \u001b[32m\u001b[1mSUCCESS \u001b[0m | \u001b[36mblocksnet.blocks.assignment.core\u001b[0m:\u001b[36massign_land_use\u001b[0m:\u001b[36m55\u001b[0m - \u001b[32m\u001b[1mShares calculated\u001b[0m\n"
     ]
    },
    {
     "name": "stdout",
     "output_type": "stream",
     "text": [
      " -> Quillacollo, Bolivia\n"
     ]
    },
    {
     "name": "stderr",
     "output_type": "stream",
     "text": [
      "\u001b[32m2025-08-15 20:25:25.624\u001b[0m | \u001b[1mINFO    \u001b[0m | \u001b[36mblocksnet.blocks.cutting.preprocessing.core\u001b[0m:\u001b[36mpreprocess_urban_objects\u001b[0m:\u001b[36m44\u001b[0m - \u001b[1mChecking roads schema\u001b[0m\n",
      "\u001b[32m2025-08-15 20:25:25.656\u001b[0m | \u001b[1mINFO    \u001b[0m | \u001b[36mblocksnet.blocks.cutting.preprocessing.core\u001b[0m:\u001b[36mpreprocess_urban_objects\u001b[0m:\u001b[36m51\u001b[0m - \u001b[1mChecking railways schema\u001b[0m\n",
      "\u001b[32m2025-08-15 20:25:25.658\u001b[0m | \u001b[33m\u001b[1mWARNING \u001b[0m | \u001b[36mblocksnet.blocks.cutting.preprocessing.core\u001b[0m:\u001b[36mpreprocess_urban_objects\u001b[0m:\u001b[36m53\u001b[0m - \u001b[33m\u001b[1mRailways GeoDataFrame is None. Creating empty\u001b[0m\n",
      "\u001b[32m2025-08-15 20:25:25.665\u001b[0m | \u001b[1mINFO    \u001b[0m | \u001b[36mblocksnet.blocks.cutting.preprocessing.core\u001b[0m:\u001b[36mpreprocess_urban_objects\u001b[0m:\u001b[36m58\u001b[0m - \u001b[1mChecking water schema\u001b[0m\n",
      "\u001b[32m2025-08-15 20:25:25.691\u001b[0m | \u001b[1mINFO    \u001b[0m | \u001b[36mblocksnet.blocks.cutting.processing.core\u001b[0m:\u001b[36mwrapper\u001b[0m:\u001b[36m21\u001b[0m - \u001b[1mChecking boundaries schema\u001b[0m\n",
      "\u001b[32m2025-08-15 20:25:25.703\u001b[0m | \u001b[1mINFO    \u001b[0m | \u001b[36mblocksnet.blocks.cutting.processing.core\u001b[0m:\u001b[36mwrapper\u001b[0m:\u001b[36m25\u001b[0m - \u001b[1mChecking line objects schema\u001b[0m\n",
      "\u001b[32m2025-08-15 20:25:25.725\u001b[0m | \u001b[1mINFO    \u001b[0m | \u001b[36mblocksnet.blocks.cutting.processing.core\u001b[0m:\u001b[36mwrapper\u001b[0m:\u001b[36m31\u001b[0m - \u001b[1mChecking polygon objects schema\u001b[0m\n",
      "\u001b[32m2025-08-15 20:25:25.741\u001b[0m | \u001b[1mINFO    \u001b[0m | \u001b[36mblocksnet.blocks.cutting.processing.core\u001b[0m:\u001b[36m_exclude_polygons\u001b[0m:\u001b[36m45\u001b[0m - \u001b[1mExcluding polygon objects from blocks\u001b[0m\n",
      "\u001b[32m2025-08-15 20:25:25.892\u001b[0m | \u001b[1mINFO    \u001b[0m | \u001b[36mblocksnet.blocks.cutting.processing.core\u001b[0m:\u001b[36m_get_enclosures\u001b[0m:\u001b[36m51\u001b[0m - \u001b[1mSetting up enclosures\u001b[0m\n",
      "\u001b[32m2025-08-15 20:25:26.177\u001b[0m | \u001b[1mINFO    \u001b[0m | \u001b[36mblocksnet.blocks.cutting.processing.core\u001b[0m:\u001b[36m_fill_holes\u001b[0m:\u001b[36m68\u001b[0m - \u001b[1mFilling holes inside the blocks\u001b[0m\n",
      "\u001b[32m2025-08-15 20:25:26.416\u001b[0m | \u001b[1mINFO    \u001b[0m | \u001b[36mblocksnet.blocks.cutting.processing.core\u001b[0m:\u001b[36m_filter_overlapping\u001b[0m:\u001b[36m78\u001b[0m - \u001b[1mFiltering overlapping geometries\u001b[0m\n",
      "\u001b[32m2025-08-15 20:25:26.857\u001b[0m | \u001b[32m\u001b[1mSUCCESS \u001b[0m | \u001b[36mblocksnet.blocks.cutting.processing.core\u001b[0m:\u001b[36mcut_urban_blocks\u001b[0m:\u001b[36m118\u001b[0m - \u001b[32m\u001b[1mBlocks are successfully cut!\u001b[0m\n",
      "\u001b[32m2025-08-15 20:25:39.356\u001b[0m | \u001b[1mINFO    \u001b[0m | \u001b[36mblocksnet.blocks.assignment.core\u001b[0m:\u001b[36massign_land_use\u001b[0m:\u001b[36m44\u001b[0m - \u001b[1mOverlaying geometries\u001b[0m\n",
      "\u001b[32m2025-08-15 20:25:39.653\u001b[0m | \u001b[32m\u001b[1mSUCCESS \u001b[0m | \u001b[36mblocksnet.blocks.assignment.core\u001b[0m:\u001b[36massign_land_use\u001b[0m:\u001b[36m55\u001b[0m - \u001b[32m\u001b[1mShares calculated\u001b[0m\n"
     ]
    },
    {
     "name": "stdout",
     "output_type": "stream",
     "text": [
      " -> Tarija, Bolivia\n"
     ]
    },
    {
     "name": "stderr",
     "output_type": "stream",
     "text": [
      "\u001b[32m2025-08-15 20:26:00.878\u001b[0m | \u001b[1mINFO    \u001b[0m | \u001b[36mblocksnet.blocks.cutting.preprocessing.core\u001b[0m:\u001b[36mpreprocess_urban_objects\u001b[0m:\u001b[36m44\u001b[0m - \u001b[1mChecking roads schema\u001b[0m\n",
      "\u001b[32m2025-08-15 20:26:00.928\u001b[0m | \u001b[1mINFO    \u001b[0m | \u001b[36mblocksnet.blocks.cutting.preprocessing.core\u001b[0m:\u001b[36mpreprocess_urban_objects\u001b[0m:\u001b[36m51\u001b[0m - \u001b[1mChecking railways schema\u001b[0m\n",
      "\u001b[32m2025-08-15 20:26:00.929\u001b[0m | \u001b[33m\u001b[1mWARNING \u001b[0m | \u001b[36mblocksnet.blocks.cutting.preprocessing.core\u001b[0m:\u001b[36mpreprocess_urban_objects\u001b[0m:\u001b[36m53\u001b[0m - \u001b[33m\u001b[1mRailways GeoDataFrame is None. Creating empty\u001b[0m\n",
      "\u001b[32m2025-08-15 20:26:00.934\u001b[0m | \u001b[1mINFO    \u001b[0m | \u001b[36mblocksnet.blocks.cutting.preprocessing.core\u001b[0m:\u001b[36mpreprocess_urban_objects\u001b[0m:\u001b[36m58\u001b[0m - \u001b[1mChecking water schema\u001b[0m\n",
      "\u001b[32m2025-08-15 20:26:00.970\u001b[0m | \u001b[1mINFO    \u001b[0m | \u001b[36mblocksnet.blocks.cutting.processing.core\u001b[0m:\u001b[36mwrapper\u001b[0m:\u001b[36m21\u001b[0m - \u001b[1mChecking boundaries schema\u001b[0m\n",
      "\u001b[32m2025-08-15 20:26:00.981\u001b[0m | \u001b[1mINFO    \u001b[0m | \u001b[36mblocksnet.blocks.cutting.processing.core\u001b[0m:\u001b[36mwrapper\u001b[0m:\u001b[36m25\u001b[0m - \u001b[1mChecking line objects schema\u001b[0m\n",
      "\u001b[32m2025-08-15 20:26:01.022\u001b[0m | \u001b[1mINFO    \u001b[0m | \u001b[36mblocksnet.blocks.cutting.processing.core\u001b[0m:\u001b[36mwrapper\u001b[0m:\u001b[36m31\u001b[0m - \u001b[1mChecking polygon objects schema\u001b[0m\n",
      "\u001b[32m2025-08-15 20:26:01.037\u001b[0m | \u001b[1mINFO    \u001b[0m | \u001b[36mblocksnet.blocks.cutting.processing.core\u001b[0m:\u001b[36m_exclude_polygons\u001b[0m:\u001b[36m45\u001b[0m - \u001b[1mExcluding polygon objects from blocks\u001b[0m\n",
      "\u001b[32m2025-08-15 20:26:01.164\u001b[0m | \u001b[1mINFO    \u001b[0m | \u001b[36mblocksnet.blocks.cutting.processing.core\u001b[0m:\u001b[36m_get_enclosures\u001b[0m:\u001b[36m51\u001b[0m - \u001b[1mSetting up enclosures\u001b[0m\n",
      "\u001b[32m2025-08-15 20:26:01.713\u001b[0m | \u001b[1mINFO    \u001b[0m | \u001b[36mblocksnet.blocks.cutting.processing.core\u001b[0m:\u001b[36m_fill_holes\u001b[0m:\u001b[36m68\u001b[0m - \u001b[1mFilling holes inside the blocks\u001b[0m\n",
      "\u001b[32m2025-08-15 20:26:02.280\u001b[0m | \u001b[1mINFO    \u001b[0m | \u001b[36mblocksnet.blocks.cutting.processing.core\u001b[0m:\u001b[36m_filter_overlapping\u001b[0m:\u001b[36m78\u001b[0m - \u001b[1mFiltering overlapping geometries\u001b[0m\n",
      "\u001b[32m2025-08-15 20:26:03.065\u001b[0m | \u001b[32m\u001b[1mSUCCESS \u001b[0m | \u001b[36mblocksnet.blocks.cutting.processing.core\u001b[0m:\u001b[36mcut_urban_blocks\u001b[0m:\u001b[36m118\u001b[0m - \u001b[32m\u001b[1mBlocks are successfully cut!\u001b[0m\n",
      "\u001b[32m2025-08-15 20:26:05.725\u001b[0m | \u001b[1mINFO    \u001b[0m | \u001b[36mblocksnet.blocks.assignment.core\u001b[0m:\u001b[36massign_land_use\u001b[0m:\u001b[36m44\u001b[0m - \u001b[1mOverlaying geometries\u001b[0m\n",
      "\u001b[32m2025-08-15 20:26:05.846\u001b[0m | \u001b[32m\u001b[1mSUCCESS \u001b[0m | \u001b[36mblocksnet.blocks.assignment.core\u001b[0m:\u001b[36massign_land_use\u001b[0m:\u001b[36m55\u001b[0m - \u001b[32m\u001b[1mShares calculated\u001b[0m\n"
     ]
    },
    {
     "name": "stdout",
     "output_type": "stream",
     "text": [
      " -> Potosí, Bolivia\n"
     ]
    },
    {
     "name": "stderr",
     "output_type": "stream",
     "text": [
      "\u001b[32m2025-08-15 20:26:28.171\u001b[0m | \u001b[1mINFO    \u001b[0m | \u001b[36mblocksnet.blocks.cutting.preprocessing.core\u001b[0m:\u001b[36mpreprocess_urban_objects\u001b[0m:\u001b[36m44\u001b[0m - \u001b[1mChecking roads schema\u001b[0m\n",
      "\u001b[32m2025-08-15 20:26:28.191\u001b[0m | \u001b[1mINFO    \u001b[0m | \u001b[36mblocksnet.blocks.cutting.preprocessing.core\u001b[0m:\u001b[36mpreprocess_urban_objects\u001b[0m:\u001b[36m51\u001b[0m - \u001b[1mChecking railways schema\u001b[0m\n",
      "\u001b[32m2025-08-15 20:26:28.198\u001b[0m | \u001b[1mINFO    \u001b[0m | \u001b[36mblocksnet.blocks.cutting.preprocessing.core\u001b[0m:\u001b[36mpreprocess_urban_objects\u001b[0m:\u001b[36m58\u001b[0m - \u001b[1mChecking water schema\u001b[0m\n",
      "\u001b[32m2025-08-15 20:26:28.220\u001b[0m | \u001b[1mINFO    \u001b[0m | \u001b[36mblocksnet.blocks.cutting.processing.core\u001b[0m:\u001b[36mwrapper\u001b[0m:\u001b[36m21\u001b[0m - \u001b[1mChecking boundaries schema\u001b[0m\n",
      "\u001b[32m2025-08-15 20:26:28.229\u001b[0m | \u001b[1mINFO    \u001b[0m | \u001b[36mblocksnet.blocks.cutting.processing.core\u001b[0m:\u001b[36mwrapper\u001b[0m:\u001b[36m25\u001b[0m - \u001b[1mChecking line objects schema\u001b[0m\n",
      "\u001b[32m2025-08-15 20:26:28.253\u001b[0m | \u001b[1mINFO    \u001b[0m | \u001b[36mblocksnet.blocks.cutting.processing.core\u001b[0m:\u001b[36mwrapper\u001b[0m:\u001b[36m31\u001b[0m - \u001b[1mChecking polygon objects schema\u001b[0m\n",
      "\u001b[32m2025-08-15 20:26:28.266\u001b[0m | \u001b[1mINFO    \u001b[0m | \u001b[36mblocksnet.blocks.cutting.processing.core\u001b[0m:\u001b[36m_exclude_polygons\u001b[0m:\u001b[36m45\u001b[0m - \u001b[1mExcluding polygon objects from blocks\u001b[0m\n",
      "\u001b[32m2025-08-15 20:26:28.338\u001b[0m | \u001b[1mINFO    \u001b[0m | \u001b[36mblocksnet.blocks.cutting.processing.core\u001b[0m:\u001b[36m_get_enclosures\u001b[0m:\u001b[36m51\u001b[0m - \u001b[1mSetting up enclosures\u001b[0m\n",
      "\u001b[32m2025-08-15 20:26:28.743\u001b[0m | \u001b[1mINFO    \u001b[0m | \u001b[36mblocksnet.blocks.cutting.processing.core\u001b[0m:\u001b[36m_fill_holes\u001b[0m:\u001b[36m68\u001b[0m - \u001b[1mFilling holes inside the blocks\u001b[0m\n",
      "\u001b[32m2025-08-15 20:26:29.082\u001b[0m | \u001b[1mINFO    \u001b[0m | \u001b[36mblocksnet.blocks.cutting.processing.core\u001b[0m:\u001b[36m_filter_overlapping\u001b[0m:\u001b[36m78\u001b[0m - \u001b[1mFiltering overlapping geometries\u001b[0m\n",
      "\u001b[32m2025-08-15 20:26:29.716\u001b[0m | \u001b[32m\u001b[1mSUCCESS \u001b[0m | \u001b[36mblocksnet.blocks.cutting.processing.core\u001b[0m:\u001b[36mcut_urban_blocks\u001b[0m:\u001b[36m118\u001b[0m - \u001b[32m\u001b[1mBlocks are successfully cut!\u001b[0m\n",
      "\u001b[32m2025-08-15 20:26:31.299\u001b[0m | \u001b[1mINFO    \u001b[0m | \u001b[36mblocksnet.blocks.assignment.core\u001b[0m:\u001b[36massign_land_use\u001b[0m:\u001b[36m44\u001b[0m - \u001b[1mOverlaying geometries\u001b[0m\n",
      "\u001b[32m2025-08-15 20:26:31.475\u001b[0m | \u001b[32m\u001b[1mSUCCESS \u001b[0m | \u001b[36mblocksnet.blocks.assignment.core\u001b[0m:\u001b[36massign_land_use\u001b[0m:\u001b[36m55\u001b[0m - \u001b[32m\u001b[1mShares calculated\u001b[0m\n"
     ]
    },
    {
     "name": "stdout",
     "output_type": "stream",
     "text": [
      "\n",
      "=== Bonaire Saint Eustatius and Saba ===\n",
      "[Bonaire Saint Eustatius and Saba] нет городов в диапазоне 100000-100000000\n",
      "\n",
      "=== Bosnia and Herzegovina ===\n",
      " -> Sarajevo, Bosnia and Herzegovina\n"
     ]
    },
    {
     "name": "stderr",
     "output_type": "stream",
     "text": [
      "\u001b[32m2025-08-15 20:27:31.666\u001b[0m | \u001b[1mINFO    \u001b[0m | \u001b[36mblocksnet.blocks.cutting.preprocessing.core\u001b[0m:\u001b[36mpreprocess_urban_objects\u001b[0m:\u001b[36m44\u001b[0m - \u001b[1mChecking roads schema\u001b[0m\n",
      "\u001b[32m2025-08-15 20:27:31.681\u001b[0m | \u001b[1mINFO    \u001b[0m | \u001b[36mblocksnet.blocks.cutting.preprocessing.core\u001b[0m:\u001b[36mpreprocess_urban_objects\u001b[0m:\u001b[36m51\u001b[0m - \u001b[1mChecking railways schema\u001b[0m\n",
      "\u001b[32m2025-08-15 20:27:31.705\u001b[0m | \u001b[1mINFO    \u001b[0m | \u001b[36mblocksnet.blocks.cutting.preprocessing.core\u001b[0m:\u001b[36mpreprocess_urban_objects\u001b[0m:\u001b[36m58\u001b[0m - \u001b[1mChecking water schema\u001b[0m\n",
      "\u001b[32m2025-08-15 20:27:31.736\u001b[0m | \u001b[1mINFO    \u001b[0m | \u001b[36mblocksnet.blocks.cutting.processing.core\u001b[0m:\u001b[36mwrapper\u001b[0m:\u001b[36m21\u001b[0m - \u001b[1mChecking boundaries schema\u001b[0m\n",
      "\u001b[32m2025-08-15 20:27:31.746\u001b[0m | \u001b[1mINFO    \u001b[0m | \u001b[36mblocksnet.blocks.cutting.processing.core\u001b[0m:\u001b[36mwrapper\u001b[0m:\u001b[36m25\u001b[0m - \u001b[1mChecking line objects schema\u001b[0m\n",
      "\u001b[32m2025-08-15 20:27:31.770\u001b[0m | \u001b[1mINFO    \u001b[0m | \u001b[36mblocksnet.blocks.cutting.processing.core\u001b[0m:\u001b[36mwrapper\u001b[0m:\u001b[36m31\u001b[0m - \u001b[1mChecking polygon objects schema\u001b[0m\n",
      "\u001b[32m2025-08-15 20:27:31.783\u001b[0m | \u001b[1mINFO    \u001b[0m | \u001b[36mblocksnet.blocks.cutting.processing.core\u001b[0m:\u001b[36m_exclude_polygons\u001b[0m:\u001b[36m45\u001b[0m - \u001b[1mExcluding polygon objects from blocks\u001b[0m\n",
      "\u001b[32m2025-08-15 20:27:31.833\u001b[0m | \u001b[1mINFO    \u001b[0m | \u001b[36mblocksnet.blocks.cutting.processing.core\u001b[0m:\u001b[36m_get_enclosures\u001b[0m:\u001b[36m51\u001b[0m - \u001b[1mSetting up enclosures\u001b[0m\n",
      "\u001b[32m2025-08-15 20:27:32.098\u001b[0m | \u001b[1mINFO    \u001b[0m | \u001b[36mblocksnet.blocks.cutting.processing.core\u001b[0m:\u001b[36m_fill_holes\u001b[0m:\u001b[36m68\u001b[0m - \u001b[1mFilling holes inside the blocks\u001b[0m\n",
      "\u001b[32m2025-08-15 20:27:32.235\u001b[0m | \u001b[1mINFO    \u001b[0m | \u001b[36mblocksnet.blocks.cutting.processing.core\u001b[0m:\u001b[36m_filter_overlapping\u001b[0m:\u001b[36m78\u001b[0m - \u001b[1mFiltering overlapping geometries\u001b[0m\n",
      "\u001b[32m2025-08-15 20:27:32.545\u001b[0m | \u001b[32m\u001b[1mSUCCESS \u001b[0m | \u001b[36mblocksnet.blocks.cutting.processing.core\u001b[0m:\u001b[36mcut_urban_blocks\u001b[0m:\u001b[36m118\u001b[0m - \u001b[32m\u001b[1mBlocks are successfully cut!\u001b[0m\n",
      "\u001b[32m2025-08-15 20:27:43.103\u001b[0m | \u001b[1mINFO    \u001b[0m | \u001b[36mblocksnet.blocks.assignment.core\u001b[0m:\u001b[36massign_land_use\u001b[0m:\u001b[36m44\u001b[0m - \u001b[1mOverlaying geometries\u001b[0m\n",
      "\u001b[32m2025-08-15 20:27:43.567\u001b[0m | \u001b[32m\u001b[1mSUCCESS \u001b[0m | \u001b[36mblocksnet.blocks.assignment.core\u001b[0m:\u001b[36massign_land_use\u001b[0m:\u001b[36m55\u001b[0m - \u001b[32m\u001b[1mShares calculated\u001b[0m\n"
     ]
    },
    {
     "name": "stdout",
     "output_type": "stream",
     "text": [
      " -> Banja Luka, Bosnia and Herzegovina\n"
     ]
    },
    {
     "name": "stderr",
     "output_type": "stream",
     "text": [
      "\u001b[32m2025-08-15 20:28:58.851\u001b[0m | \u001b[1mINFO    \u001b[0m | \u001b[36mblocksnet.blocks.cutting.preprocessing.core\u001b[0m:\u001b[36mpreprocess_urban_objects\u001b[0m:\u001b[36m44\u001b[0m - \u001b[1mChecking roads schema\u001b[0m\n",
      "\u001b[32m2025-08-15 20:28:58.883\u001b[0m | \u001b[1mINFO    \u001b[0m | \u001b[36mblocksnet.blocks.cutting.preprocessing.core\u001b[0m:\u001b[36mpreprocess_urban_objects\u001b[0m:\u001b[36m51\u001b[0m - \u001b[1mChecking railways schema\u001b[0m\n",
      "\u001b[32m2025-08-15 20:28:58.883\u001b[0m | \u001b[1mINFO    \u001b[0m | \u001b[36mblocksnet.blocks.cutting.preprocessing.core\u001b[0m:\u001b[36mpreprocess_urban_objects\u001b[0m:\u001b[36m58\u001b[0m - \u001b[1mChecking water schema\u001b[0m\n",
      "\u001b[32m2025-08-15 20:28:58.920\u001b[0m | \u001b[1mINFO    \u001b[0m | \u001b[36mblocksnet.blocks.cutting.processing.core\u001b[0m:\u001b[36mwrapper\u001b[0m:\u001b[36m21\u001b[0m - \u001b[1mChecking boundaries schema\u001b[0m\n",
      "\u001b[32m2025-08-15 20:28:58.930\u001b[0m | \u001b[1mINFO    \u001b[0m | \u001b[36mblocksnet.blocks.cutting.processing.core\u001b[0m:\u001b[36mwrapper\u001b[0m:\u001b[36m25\u001b[0m - \u001b[1mChecking line objects schema\u001b[0m\n",
      "\u001b[32m2025-08-15 20:28:58.952\u001b[0m | \u001b[1mINFO    \u001b[0m | \u001b[36mblocksnet.blocks.cutting.processing.core\u001b[0m:\u001b[36mwrapper\u001b[0m:\u001b[36m31\u001b[0m - \u001b[1mChecking polygon objects schema\u001b[0m\n",
      "\u001b[32m2025-08-15 20:28:58.966\u001b[0m | \u001b[1mINFO    \u001b[0m | \u001b[36mblocksnet.blocks.cutting.processing.core\u001b[0m:\u001b[36m_exclude_polygons\u001b[0m:\u001b[36m45\u001b[0m - \u001b[1mExcluding polygon objects from blocks\u001b[0m\n",
      "\u001b[32m2025-08-15 20:28:59.002\u001b[0m | \u001b[1mINFO    \u001b[0m | \u001b[36mblocksnet.blocks.cutting.processing.core\u001b[0m:\u001b[36m_get_enclosures\u001b[0m:\u001b[36m51\u001b[0m - \u001b[1mSetting up enclosures\u001b[0m\n",
      "\u001b[32m2025-08-15 20:28:59.152\u001b[0m | \u001b[1mINFO    \u001b[0m | \u001b[36mblocksnet.blocks.cutting.processing.core\u001b[0m:\u001b[36m_fill_holes\u001b[0m:\u001b[36m68\u001b[0m - \u001b[1mFilling holes inside the blocks\u001b[0m\n",
      "\u001b[32m2025-08-15 20:28:59.285\u001b[0m | \u001b[1mINFO    \u001b[0m | \u001b[36mblocksnet.blocks.cutting.processing.core\u001b[0m:\u001b[36m_filter_overlapping\u001b[0m:\u001b[36m78\u001b[0m - \u001b[1mFiltering overlapping geometries\u001b[0m\n",
      "\u001b[32m2025-08-15 20:28:59.554\u001b[0m | \u001b[32m\u001b[1mSUCCESS \u001b[0m | \u001b[36mblocksnet.blocks.cutting.processing.core\u001b[0m:\u001b[36mcut_urban_blocks\u001b[0m:\u001b[36m118\u001b[0m - \u001b[32m\u001b[1mBlocks are successfully cut!\u001b[0m\n",
      "\u001b[32m2025-08-15 20:29:19.117\u001b[0m | \u001b[1mINFO    \u001b[0m | \u001b[36mblocksnet.blocks.assignment.core\u001b[0m:\u001b[36massign_land_use\u001b[0m:\u001b[36m44\u001b[0m - \u001b[1mOverlaying geometries\u001b[0m\n",
      "\u001b[32m2025-08-15 20:29:19.850\u001b[0m | \u001b[32m\u001b[1mSUCCESS \u001b[0m | \u001b[36mblocksnet.blocks.assignment.core\u001b[0m:\u001b[36massign_land_use\u001b[0m:\u001b[36m55\u001b[0m - \u001b[32m\u001b[1mShares calculated\u001b[0m\n"
     ]
    },
    {
     "name": "stdout",
     "output_type": "stream",
     "text": [
      " -> Zenica, Bosnia and Herzegovina\n"
     ]
    },
    {
     "name": "stderr",
     "output_type": "stream",
     "text": [
      "\u001b[32m2025-08-15 20:29:57.786\u001b[0m | \u001b[1mINFO    \u001b[0m | \u001b[36mblocksnet.blocks.cutting.preprocessing.core\u001b[0m:\u001b[36mpreprocess_urban_objects\u001b[0m:\u001b[36m44\u001b[0m - \u001b[1mChecking roads schema\u001b[0m\n",
      "\u001b[32m2025-08-15 20:29:57.828\u001b[0m | \u001b[1mINFO    \u001b[0m | \u001b[36mblocksnet.blocks.cutting.preprocessing.core\u001b[0m:\u001b[36mpreprocess_urban_objects\u001b[0m:\u001b[36m51\u001b[0m - \u001b[1mChecking railways schema\u001b[0m\n",
      "\u001b[32m2025-08-15 20:29:57.840\u001b[0m | \u001b[1mINFO    \u001b[0m | \u001b[36mblocksnet.blocks.cutting.preprocessing.core\u001b[0m:\u001b[36mpreprocess_urban_objects\u001b[0m:\u001b[36m58\u001b[0m - \u001b[1mChecking water schema\u001b[0m\n",
      "\u001b[32m2025-08-15 20:29:57.858\u001b[0m | \u001b[1mINFO    \u001b[0m | \u001b[36mblocksnet.blocks.cutting.processing.core\u001b[0m:\u001b[36mwrapper\u001b[0m:\u001b[36m21\u001b[0m - \u001b[1mChecking boundaries schema\u001b[0m\n",
      "\u001b[32m2025-08-15 20:29:57.868\u001b[0m | \u001b[1mINFO    \u001b[0m | \u001b[36mblocksnet.blocks.cutting.processing.core\u001b[0m:\u001b[36mwrapper\u001b[0m:\u001b[36m25\u001b[0m - \u001b[1mChecking line objects schema\u001b[0m\n",
      "\u001b[32m2025-08-15 20:29:57.885\u001b[0m | \u001b[1mINFO    \u001b[0m | \u001b[36mblocksnet.blocks.cutting.processing.core\u001b[0m:\u001b[36mwrapper\u001b[0m:\u001b[36m31\u001b[0m - \u001b[1mChecking polygon objects schema\u001b[0m\n",
      "\u001b[32m2025-08-15 20:29:57.899\u001b[0m | \u001b[1mINFO    \u001b[0m | \u001b[36mblocksnet.blocks.cutting.processing.core\u001b[0m:\u001b[36m_exclude_polygons\u001b[0m:\u001b[36m45\u001b[0m - \u001b[1mExcluding polygon objects from blocks\u001b[0m\n",
      "\u001b[32m2025-08-15 20:29:57.920\u001b[0m | \u001b[1mINFO    \u001b[0m | \u001b[36mblocksnet.blocks.cutting.processing.core\u001b[0m:\u001b[36m_get_enclosures\u001b[0m:\u001b[36m51\u001b[0m - \u001b[1mSetting up enclosures\u001b[0m\n",
      "\u001b[32m2025-08-15 20:29:58.087\u001b[0m | \u001b[1mINFO    \u001b[0m | \u001b[36mblocksnet.blocks.cutting.processing.core\u001b[0m:\u001b[36m_fill_holes\u001b[0m:\u001b[36m68\u001b[0m - \u001b[1mFilling holes inside the blocks\u001b[0m\n",
      "\u001b[32m2025-08-15 20:29:58.161\u001b[0m | \u001b[1mINFO    \u001b[0m | \u001b[36mblocksnet.blocks.cutting.processing.core\u001b[0m:\u001b[36m_filter_overlapping\u001b[0m:\u001b[36m78\u001b[0m - \u001b[1mFiltering overlapping geometries\u001b[0m\n",
      "\u001b[32m2025-08-15 20:29:58.270\u001b[0m | \u001b[32m\u001b[1mSUCCESS \u001b[0m | \u001b[36mblocksnet.blocks.cutting.processing.core\u001b[0m:\u001b[36mcut_urban_blocks\u001b[0m:\u001b[36m118\u001b[0m - \u001b[32m\u001b[1mBlocks are successfully cut!\u001b[0m\n",
      "\u001b[32m2025-08-15 20:30:04.087\u001b[0m | \u001b[1mINFO    \u001b[0m | \u001b[36mblocksnet.blocks.assignment.core\u001b[0m:\u001b[36massign_land_use\u001b[0m:\u001b[36m44\u001b[0m - \u001b[1mOverlaying geometries\u001b[0m\n",
      "\u001b[32m2025-08-15 20:30:04.304\u001b[0m | \u001b[32m\u001b[1mSUCCESS \u001b[0m | \u001b[36mblocksnet.blocks.assignment.core\u001b[0m:\u001b[36massign_land_use\u001b[0m:\u001b[36m55\u001b[0m - \u001b[32m\u001b[1mShares calculated\u001b[0m\n"
     ]
    },
    {
     "name": "stdout",
     "output_type": "stream",
     "text": [
      " -> Tuzla, Bosnia and Herzegovina\n"
     ]
    },
    {
     "name": "stderr",
     "output_type": "stream",
     "text": [
      "\u001b[32m2025-08-15 20:30:40.803\u001b[0m | \u001b[1mINFO    \u001b[0m | \u001b[36mblocksnet.blocks.cutting.preprocessing.core\u001b[0m:\u001b[36mpreprocess_urban_objects\u001b[0m:\u001b[36m44\u001b[0m - \u001b[1mChecking roads schema\u001b[0m\n",
      "\u001b[32m2025-08-15 20:30:40.840\u001b[0m | \u001b[1mINFO    \u001b[0m | \u001b[36mblocksnet.blocks.cutting.preprocessing.core\u001b[0m:\u001b[36mpreprocess_urban_objects\u001b[0m:\u001b[36m51\u001b[0m - \u001b[1mChecking railways schema\u001b[0m\n",
      "\u001b[32m2025-08-15 20:30:40.851\u001b[0m | \u001b[1mINFO    \u001b[0m | \u001b[36mblocksnet.blocks.cutting.preprocessing.core\u001b[0m:\u001b[36mpreprocess_urban_objects\u001b[0m:\u001b[36m58\u001b[0m - \u001b[1mChecking water schema\u001b[0m\n",
      "\u001b[32m2025-08-15 20:30:40.879\u001b[0m | \u001b[1mINFO    \u001b[0m | \u001b[36mblocksnet.blocks.cutting.processing.core\u001b[0m:\u001b[36mwrapper\u001b[0m:\u001b[36m21\u001b[0m - \u001b[1mChecking boundaries schema\u001b[0m\n",
      "\u001b[32m2025-08-15 20:30:40.891\u001b[0m | \u001b[1mINFO    \u001b[0m | \u001b[36mblocksnet.blocks.cutting.processing.core\u001b[0m:\u001b[36mwrapper\u001b[0m:\u001b[36m25\u001b[0m - \u001b[1mChecking line objects schema\u001b[0m\n",
      "\u001b[32m2025-08-15 20:30:40.905\u001b[0m | \u001b[1mINFO    \u001b[0m | \u001b[36mblocksnet.blocks.cutting.processing.core\u001b[0m:\u001b[36mwrapper\u001b[0m:\u001b[36m31\u001b[0m - \u001b[1mChecking polygon objects schema\u001b[0m\n",
      "\u001b[32m2025-08-15 20:30:40.924\u001b[0m | \u001b[1mINFO    \u001b[0m | \u001b[36mblocksnet.blocks.cutting.processing.core\u001b[0m:\u001b[36m_exclude_polygons\u001b[0m:\u001b[36m45\u001b[0m - \u001b[1mExcluding polygon objects from blocks\u001b[0m\n",
      "\u001b[32m2025-08-15 20:30:40.955\u001b[0m | \u001b[1mINFO    \u001b[0m | \u001b[36mblocksnet.blocks.cutting.processing.core\u001b[0m:\u001b[36m_get_enclosures\u001b[0m:\u001b[36m51\u001b[0m - \u001b[1mSetting up enclosures\u001b[0m\n",
      "\u001b[32m2025-08-15 20:30:41.050\u001b[0m | \u001b[1mINFO    \u001b[0m | \u001b[36mblocksnet.blocks.cutting.processing.core\u001b[0m:\u001b[36m_fill_holes\u001b[0m:\u001b[36m68\u001b[0m - \u001b[1mFilling holes inside the blocks\u001b[0m\n",
      "\u001b[32m2025-08-15 20:30:41.133\u001b[0m | \u001b[1mINFO    \u001b[0m | \u001b[36mblocksnet.blocks.cutting.processing.core\u001b[0m:\u001b[36m_filter_overlapping\u001b[0m:\u001b[36m78\u001b[0m - \u001b[1mFiltering overlapping geometries\u001b[0m\n",
      "\u001b[32m2025-08-15 20:30:41.274\u001b[0m | \u001b[32m\u001b[1mSUCCESS \u001b[0m | \u001b[36mblocksnet.blocks.cutting.processing.core\u001b[0m:\u001b[36mcut_urban_blocks\u001b[0m:\u001b[36m118\u001b[0m - \u001b[32m\u001b[1mBlocks are successfully cut!\u001b[0m\n",
      "\u001b[32m2025-08-15 20:30:50.272\u001b[0m | \u001b[1mINFO    \u001b[0m | \u001b[36mblocksnet.blocks.assignment.core\u001b[0m:\u001b[36massign_land_use\u001b[0m:\u001b[36m44\u001b[0m - \u001b[1mOverlaying geometries\u001b[0m\n",
      "\u001b[32m2025-08-15 20:30:50.571\u001b[0m | \u001b[32m\u001b[1mSUCCESS \u001b[0m | \u001b[36mblocksnet.blocks.assignment.core\u001b[0m:\u001b[36massign_land_use\u001b[0m:\u001b[36m55\u001b[0m - \u001b[32m\u001b[1mShares calculated\u001b[0m\n"
     ]
    },
    {
     "name": "stdout",
     "output_type": "stream",
     "text": [
      " -> Mostar, Bosnia and Herzegovina\n"
     ]
    },
    {
     "name": "stderr",
     "output_type": "stream",
     "text": [
      "\u001b[32m2025-08-15 20:31:30.290\u001b[0m | \u001b[1mINFO    \u001b[0m | \u001b[36mblocksnet.blocks.cutting.preprocessing.core\u001b[0m:\u001b[36mpreprocess_urban_objects\u001b[0m:\u001b[36m44\u001b[0m - \u001b[1mChecking roads schema\u001b[0m\n",
      "\u001b[32m2025-08-15 20:31:30.306\u001b[0m | \u001b[1mINFO    \u001b[0m | \u001b[36mblocksnet.blocks.cutting.preprocessing.core\u001b[0m:\u001b[36mpreprocess_urban_objects\u001b[0m:\u001b[36m51\u001b[0m - \u001b[1mChecking railways schema\u001b[0m\n",
      "\u001b[32m2025-08-15 20:31:30.321\u001b[0m | \u001b[1mINFO    \u001b[0m | \u001b[36mblocksnet.blocks.cutting.preprocessing.core\u001b[0m:\u001b[36mpreprocess_urban_objects\u001b[0m:\u001b[36m58\u001b[0m - \u001b[1mChecking water schema\u001b[0m\n",
      "\u001b[32m2025-08-15 20:31:30.342\u001b[0m | \u001b[1mINFO    \u001b[0m | \u001b[36mblocksnet.blocks.cutting.processing.core\u001b[0m:\u001b[36mwrapper\u001b[0m:\u001b[36m21\u001b[0m - \u001b[1mChecking boundaries schema\u001b[0m\n",
      "\u001b[32m2025-08-15 20:31:30.355\u001b[0m | \u001b[1mINFO    \u001b[0m | \u001b[36mblocksnet.blocks.cutting.processing.core\u001b[0m:\u001b[36mwrapper\u001b[0m:\u001b[36m25\u001b[0m - \u001b[1mChecking line objects schema\u001b[0m\n",
      "\u001b[32m2025-08-15 20:31:30.385\u001b[0m | \u001b[1mINFO    \u001b[0m | \u001b[36mblocksnet.blocks.cutting.processing.core\u001b[0m:\u001b[36mwrapper\u001b[0m:\u001b[36m31\u001b[0m - \u001b[1mChecking polygon objects schema\u001b[0m\n",
      "\u001b[32m2025-08-15 20:31:30.400\u001b[0m | \u001b[1mINFO    \u001b[0m | \u001b[36mblocksnet.blocks.cutting.processing.core\u001b[0m:\u001b[36m_exclude_polygons\u001b[0m:\u001b[36m45\u001b[0m - \u001b[1mExcluding polygon objects from blocks\u001b[0m\n",
      "\u001b[32m2025-08-15 20:31:30.421\u001b[0m | \u001b[1mINFO    \u001b[0m | \u001b[36mblocksnet.blocks.cutting.processing.core\u001b[0m:\u001b[36m_get_enclosures\u001b[0m:\u001b[36m51\u001b[0m - \u001b[1mSetting up enclosures\u001b[0m\n",
      "\u001b[32m2025-08-15 20:31:30.588\u001b[0m | \u001b[1mINFO    \u001b[0m | \u001b[36mblocksnet.blocks.cutting.processing.core\u001b[0m:\u001b[36m_fill_holes\u001b[0m:\u001b[36m68\u001b[0m - \u001b[1mFilling holes inside the blocks\u001b[0m\n",
      "\u001b[32m2025-08-15 20:31:30.656\u001b[0m | \u001b[1mINFO    \u001b[0m | \u001b[36mblocksnet.blocks.cutting.processing.core\u001b[0m:\u001b[36m_filter_overlapping\u001b[0m:\u001b[36m78\u001b[0m - \u001b[1mFiltering overlapping geometries\u001b[0m\n",
      "\u001b[32m2025-08-15 20:31:30.770\u001b[0m | \u001b[32m\u001b[1mSUCCESS \u001b[0m | \u001b[36mblocksnet.blocks.cutting.processing.core\u001b[0m:\u001b[36mcut_urban_blocks\u001b[0m:\u001b[36m118\u001b[0m - \u001b[32m\u001b[1mBlocks are successfully cut!\u001b[0m\n",
      "\u001b[32m2025-08-15 20:31:39.669\u001b[0m | \u001b[1mINFO    \u001b[0m | \u001b[36mblocksnet.blocks.assignment.core\u001b[0m:\u001b[36massign_land_use\u001b[0m:\u001b[36m44\u001b[0m - \u001b[1mOverlaying geometries\u001b[0m\n",
      "\u001b[32m2025-08-15 20:31:39.823\u001b[0m | \u001b[32m\u001b[1mSUCCESS \u001b[0m | \u001b[36mblocksnet.blocks.assignment.core\u001b[0m:\u001b[36massign_land_use\u001b[0m:\u001b[36m55\u001b[0m - \u001b[32m\u001b[1mShares calculated\u001b[0m\n"
     ]
    },
    {
     "name": "stdout",
     "output_type": "stream",
     "text": [
      "\n",
      "=== Botswana ===\n",
      " -> Gaborone, Botswana\n"
     ]
    },
    {
     "name": "stderr",
     "output_type": "stream",
     "text": [
      "\u001b[32m2025-08-15 20:32:00.265\u001b[0m | \u001b[1mINFO    \u001b[0m | \u001b[36mblocksnet.blocks.cutting.preprocessing.core\u001b[0m:\u001b[36mpreprocess_urban_objects\u001b[0m:\u001b[36m44\u001b[0m - \u001b[1mChecking roads schema\u001b[0m\n",
      "\u001b[32m2025-08-15 20:32:00.287\u001b[0m | \u001b[1mINFO    \u001b[0m | \u001b[36mblocksnet.blocks.cutting.preprocessing.core\u001b[0m:\u001b[36mpreprocess_urban_objects\u001b[0m:\u001b[36m51\u001b[0m - \u001b[1mChecking railways schema\u001b[0m\n",
      "\u001b[32m2025-08-15 20:32:00.297\u001b[0m | \u001b[1mINFO    \u001b[0m | \u001b[36mblocksnet.blocks.cutting.preprocessing.core\u001b[0m:\u001b[36mpreprocess_urban_objects\u001b[0m:\u001b[36m58\u001b[0m - \u001b[1mChecking water schema\u001b[0m\n",
      "\u001b[32m2025-08-15 20:32:00.316\u001b[0m | \u001b[1mINFO    \u001b[0m | \u001b[36mblocksnet.blocks.cutting.processing.core\u001b[0m:\u001b[36mwrapper\u001b[0m:\u001b[36m21\u001b[0m - \u001b[1mChecking boundaries schema\u001b[0m\n",
      "\u001b[32m2025-08-15 20:32:00.328\u001b[0m | \u001b[1mINFO    \u001b[0m | \u001b[36mblocksnet.blocks.cutting.processing.core\u001b[0m:\u001b[36mwrapper\u001b[0m:\u001b[36m25\u001b[0m - \u001b[1mChecking line objects schema\u001b[0m\n",
      "\u001b[32m2025-08-15 20:32:00.469\u001b[0m | \u001b[1mINFO    \u001b[0m | \u001b[36mblocksnet.blocks.cutting.processing.core\u001b[0m:\u001b[36mwrapper\u001b[0m:\u001b[36m31\u001b[0m - \u001b[1mChecking polygon objects schema\u001b[0m\n",
      "\u001b[32m2025-08-15 20:32:00.498\u001b[0m | \u001b[1mINFO    \u001b[0m | \u001b[36mblocksnet.blocks.cutting.processing.core\u001b[0m:\u001b[36m_exclude_polygons\u001b[0m:\u001b[36m45\u001b[0m - \u001b[1mExcluding polygon objects from blocks\u001b[0m\n",
      "\u001b[32m2025-08-15 20:32:00.539\u001b[0m | \u001b[1mINFO    \u001b[0m | \u001b[36mblocksnet.blocks.cutting.processing.core\u001b[0m:\u001b[36m_get_enclosures\u001b[0m:\u001b[36m51\u001b[0m - \u001b[1mSetting up enclosures\u001b[0m\n",
      "\u001b[32m2025-08-15 20:32:00.892\u001b[0m | \u001b[1mINFO    \u001b[0m | \u001b[36mblocksnet.blocks.cutting.processing.core\u001b[0m:\u001b[36m_fill_holes\u001b[0m:\u001b[36m68\u001b[0m - \u001b[1mFilling holes inside the blocks\u001b[0m\n",
      "\u001b[32m2025-08-15 20:32:01.182\u001b[0m | \u001b[1mINFO    \u001b[0m | \u001b[36mblocksnet.blocks.cutting.processing.core\u001b[0m:\u001b[36m_filter_overlapping\u001b[0m:\u001b[36m78\u001b[0m - \u001b[1mFiltering overlapping geometries\u001b[0m\n",
      "\u001b[32m2025-08-15 20:32:01.624\u001b[0m | \u001b[32m\u001b[1mSUCCESS \u001b[0m | \u001b[36mblocksnet.blocks.cutting.processing.core\u001b[0m:\u001b[36mcut_urban_blocks\u001b[0m:\u001b[36m118\u001b[0m - \u001b[32m\u001b[1mBlocks are successfully cut!\u001b[0m\n",
      "\u001b[32m2025-08-15 20:32:03.858\u001b[0m | \u001b[1mINFO    \u001b[0m | \u001b[36mblocksnet.blocks.assignment.core\u001b[0m:\u001b[36massign_land_use\u001b[0m:\u001b[36m44\u001b[0m - \u001b[1mOverlaying geometries\u001b[0m\n",
      "\u001b[32m2025-08-15 20:32:04.130\u001b[0m | \u001b[32m\u001b[1mSUCCESS \u001b[0m | \u001b[36mblocksnet.blocks.assignment.core\u001b[0m:\u001b[36massign_land_use\u001b[0m:\u001b[36m55\u001b[0m - \u001b[32m\u001b[1mShares calculated\u001b[0m\n"
     ]
    },
    {
     "name": "stdout",
     "output_type": "stream",
     "text": [
      " -> Francistown, Botswana\n"
     ]
    },
    {
     "name": "stderr",
     "output_type": "stream",
     "text": [
      "\u001b[32m2025-08-15 20:32:47.572\u001b[0m | \u001b[1mINFO    \u001b[0m | \u001b[36mblocksnet.blocks.cutting.preprocessing.core\u001b[0m:\u001b[36mpreprocess_urban_objects\u001b[0m:\u001b[36m44\u001b[0m - \u001b[1mChecking roads schema\u001b[0m\n",
      "\u001b[32m2025-08-15 20:32:47.588\u001b[0m | \u001b[1mINFO    \u001b[0m | \u001b[36mblocksnet.blocks.cutting.preprocessing.core\u001b[0m:\u001b[36mpreprocess_urban_objects\u001b[0m:\u001b[36m51\u001b[0m - \u001b[1mChecking railways schema\u001b[0m\n",
      "\u001b[32m2025-08-15 20:32:47.598\u001b[0m | \u001b[1mINFO    \u001b[0m | \u001b[36mblocksnet.blocks.cutting.preprocessing.core\u001b[0m:\u001b[36mpreprocess_urban_objects\u001b[0m:\u001b[36m58\u001b[0m - \u001b[1mChecking water schema\u001b[0m\n",
      "\u001b[32m2025-08-15 20:32:47.616\u001b[0m | \u001b[1mINFO    \u001b[0m | \u001b[36mblocksnet.blocks.cutting.processing.core\u001b[0m:\u001b[36mwrapper\u001b[0m:\u001b[36m21\u001b[0m - \u001b[1mChecking boundaries schema\u001b[0m\n",
      "\u001b[32m2025-08-15 20:32:47.627\u001b[0m | \u001b[1mINFO    \u001b[0m | \u001b[36mblocksnet.blocks.cutting.processing.core\u001b[0m:\u001b[36mwrapper\u001b[0m:\u001b[36m25\u001b[0m - \u001b[1mChecking line objects schema\u001b[0m\n",
      "\u001b[32m2025-08-15 20:32:47.648\u001b[0m | \u001b[1mINFO    \u001b[0m | \u001b[36mblocksnet.blocks.cutting.processing.core\u001b[0m:\u001b[36mwrapper\u001b[0m:\u001b[36m31\u001b[0m - \u001b[1mChecking polygon objects schema\u001b[0m\n",
      "\u001b[32m2025-08-15 20:32:47.662\u001b[0m | \u001b[1mINFO    \u001b[0m | \u001b[36mblocksnet.blocks.cutting.processing.core\u001b[0m:\u001b[36m_exclude_polygons\u001b[0m:\u001b[36m45\u001b[0m - \u001b[1mExcluding polygon objects from blocks\u001b[0m\n",
      "\u001b[32m2025-08-15 20:32:47.675\u001b[0m | \u001b[1mINFO    \u001b[0m | \u001b[36mblocksnet.blocks.cutting.processing.core\u001b[0m:\u001b[36m_get_enclosures\u001b[0m:\u001b[36m51\u001b[0m - \u001b[1mSetting up enclosures\u001b[0m\n",
      "\u001b[32m2025-08-15 20:32:47.790\u001b[0m | \u001b[1mINFO    \u001b[0m | \u001b[36mblocksnet.blocks.cutting.processing.core\u001b[0m:\u001b[36m_fill_holes\u001b[0m:\u001b[36m68\u001b[0m - \u001b[1mFilling holes inside the blocks\u001b[0m\n",
      "\u001b[32m2025-08-15 20:32:47.890\u001b[0m | \u001b[1mINFO    \u001b[0m | \u001b[36mblocksnet.blocks.cutting.processing.core\u001b[0m:\u001b[36m_filter_overlapping\u001b[0m:\u001b[36m78\u001b[0m - \u001b[1mFiltering overlapping geometries\u001b[0m\n",
      "\u001b[32m2025-08-15 20:32:48.044\u001b[0m | \u001b[32m\u001b[1mSUCCESS \u001b[0m | \u001b[36mblocksnet.blocks.cutting.processing.core\u001b[0m:\u001b[36mcut_urban_blocks\u001b[0m:\u001b[36m118\u001b[0m - \u001b[32m\u001b[1mBlocks are successfully cut!\u001b[0m\n",
      "\u001b[32m2025-08-15 20:32:55.409\u001b[0m | \u001b[1mINFO    \u001b[0m | \u001b[36mblocksnet.blocks.assignment.core\u001b[0m:\u001b[36massign_land_use\u001b[0m:\u001b[36m44\u001b[0m - \u001b[1mOverlaying geometries\u001b[0m\n",
      "\u001b[32m2025-08-15 20:32:55.522\u001b[0m | \u001b[32m\u001b[1mSUCCESS \u001b[0m | \u001b[36mblocksnet.blocks.assignment.core\u001b[0m:\u001b[36massign_land_use\u001b[0m:\u001b[36m55\u001b[0m - \u001b[32m\u001b[1mShares calculated\u001b[0m\n"
     ]
    },
    {
     "name": "stdout",
     "output_type": "stream",
     "text": [
      "\n",
      "=== Brazil ===\n",
      " -> São Paulo, Brazil\n"
     ]
    },
    {
     "name": "stderr",
     "output_type": "stream",
     "text": [
      "\u001b[32m2025-08-15 20:39:09.930\u001b[0m | \u001b[1mINFO    \u001b[0m | \u001b[36mblocksnet.blocks.cutting.preprocessing.core\u001b[0m:\u001b[36mpreprocess_urban_objects\u001b[0m:\u001b[36m44\u001b[0m - \u001b[1mChecking roads schema\u001b[0m\n",
      "\u001b[32m2025-08-15 20:39:09.930\u001b[0m | \u001b[33m\u001b[1mWARNING \u001b[0m | \u001b[36mblocksnet.blocks.cutting.preprocessing.core\u001b[0m:\u001b[36mpreprocess_urban_objects\u001b[0m:\u001b[36m46\u001b[0m - \u001b[33m\u001b[1mRoads GeoDataFrame is None. Creating empty\u001b[0m\n",
      "\u001b[32m2025-08-15 20:39:09.946\u001b[0m | \u001b[1mINFO    \u001b[0m | \u001b[36mblocksnet.blocks.cutting.preprocessing.core\u001b[0m:\u001b[36mpreprocess_urban_objects\u001b[0m:\u001b[36m51\u001b[0m - \u001b[1mChecking railways schema\u001b[0m\n",
      "\u001b[32m2025-08-15 20:39:09.946\u001b[0m | \u001b[1mINFO    \u001b[0m | \u001b[36mblocksnet.blocks.cutting.preprocessing.core\u001b[0m:\u001b[36mpreprocess_urban_objects\u001b[0m:\u001b[36m58\u001b[0m - \u001b[1mChecking water schema\u001b[0m\n",
      "\u001b[32m2025-08-15 20:39:09.946\u001b[0m | \u001b[33m\u001b[1mWARNING \u001b[0m | \u001b[36mblocksnet.blocks.cutting.preprocessing.core\u001b[0m:\u001b[36mpreprocess_urban_objects\u001b[0m:\u001b[36m60\u001b[0m - \u001b[33m\u001b[1mWater GeoDataFrame is None. Creating empty\u001b[0m\n",
      "\u001b[32m2025-08-15 20:39:09.966\u001b[0m | \u001b[1mINFO    \u001b[0m | \u001b[36mblocksnet.blocks.cutting.processing.core\u001b[0m:\u001b[36mwrapper\u001b[0m:\u001b[36m21\u001b[0m - \u001b[1mChecking boundaries schema\u001b[0m\n",
      "\u001b[32m2025-08-15 20:39:09.976\u001b[0m | \u001b[1mINFO    \u001b[0m | \u001b[36mblocksnet.blocks.cutting.processing.core\u001b[0m:\u001b[36mwrapper\u001b[0m:\u001b[36m25\u001b[0m - \u001b[1mChecking line objects schema\u001b[0m\n",
      "\u001b[32m2025-08-15 20:39:09.993\u001b[0m | \u001b[1mINFO    \u001b[0m | \u001b[36mblocksnet.blocks.cutting.processing.core\u001b[0m:\u001b[36mwrapper\u001b[0m:\u001b[36m31\u001b[0m - \u001b[1mChecking polygon objects schema\u001b[0m\n"
     ]
    },
    {
     "name": "stdout",
     "output_type": "stream",
     "text": [
      "    [skip] São Paulo, Brazil: Rows count must be greater than 0\n",
      " -> Rio de Janeiro, Brazil\n"
     ]
    },
    {
     "name": "stderr",
     "output_type": "stream",
     "text": [
      "\u001b[32m2025-08-15 20:40:05.460\u001b[0m | \u001b[1mINFO    \u001b[0m | \u001b[36mblocksnet.blocks.cutting.preprocessing.core\u001b[0m:\u001b[36mpreprocess_urban_objects\u001b[0m:\u001b[36m44\u001b[0m - \u001b[1mChecking roads schema\u001b[0m\n",
      "\u001b[32m2025-08-15 20:40:05.828\u001b[0m | \u001b[1mINFO    \u001b[0m | \u001b[36mblocksnet.blocks.cutting.preprocessing.core\u001b[0m:\u001b[36mpreprocess_urban_objects\u001b[0m:\u001b[36m51\u001b[0m - \u001b[1mChecking railways schema\u001b[0m\n",
      "\u001b[32m2025-08-15 20:40:05.853\u001b[0m | \u001b[1mINFO    \u001b[0m | \u001b[36mblocksnet.blocks.cutting.preprocessing.core\u001b[0m:\u001b[36mpreprocess_urban_objects\u001b[0m:\u001b[36m58\u001b[0m - \u001b[1mChecking water schema\u001b[0m\n",
      "\u001b[32m2025-08-15 20:40:05.964\u001b[0m | \u001b[1mINFO    \u001b[0m | \u001b[36mblocksnet.blocks.cutting.processing.core\u001b[0m:\u001b[36mwrapper\u001b[0m:\u001b[36m21\u001b[0m - \u001b[1mChecking boundaries schema\u001b[0m\n",
      "\u001b[32m2025-08-15 20:40:05.964\u001b[0m | \u001b[1mINFO    \u001b[0m | \u001b[36mblocksnet.blocks.cutting.processing.core\u001b[0m:\u001b[36mwrapper\u001b[0m:\u001b[36m25\u001b[0m - \u001b[1mChecking line objects schema\u001b[0m\n",
      "\u001b[32m2025-08-15 20:40:06.242\u001b[0m | \u001b[1mINFO    \u001b[0m | \u001b[36mblocksnet.blocks.cutting.processing.core\u001b[0m:\u001b[36mwrapper\u001b[0m:\u001b[36m31\u001b[0m - \u001b[1mChecking polygon objects schema\u001b[0m\n",
      "\u001b[32m2025-08-15 20:40:06.258\u001b[0m | \u001b[1mINFO    \u001b[0m | \u001b[36mblocksnet.blocks.cutting.processing.core\u001b[0m:\u001b[36m_exclude_polygons\u001b[0m:\u001b[36m45\u001b[0m - \u001b[1mExcluding polygon objects from blocks\u001b[0m\n",
      "\u001b[32m2025-08-15 20:40:06.890\u001b[0m | \u001b[1mINFO    \u001b[0m | \u001b[36mblocksnet.blocks.cutting.processing.core\u001b[0m:\u001b[36m_get_enclosures\u001b[0m:\u001b[36m51\u001b[0m - \u001b[1mSetting up enclosures\u001b[0m\n",
      "\u001b[32m2025-08-15 20:40:11.131\u001b[0m | \u001b[1mINFO    \u001b[0m | \u001b[36mblocksnet.blocks.cutting.processing.core\u001b[0m:\u001b[36m_fill_holes\u001b[0m:\u001b[36m68\u001b[0m - \u001b[1mFilling holes inside the blocks\u001b[0m\n",
      "\u001b[32m2025-08-15 20:40:13.671\u001b[0m | \u001b[1mINFO    \u001b[0m | \u001b[36mblocksnet.blocks.cutting.processing.core\u001b[0m:\u001b[36m_filter_overlapping\u001b[0m:\u001b[36m78\u001b[0m - \u001b[1mFiltering overlapping geometries\u001b[0m\n",
      "\u001b[32m2025-08-15 20:40:17.500\u001b[0m | \u001b[32m\u001b[1mSUCCESS \u001b[0m | \u001b[36mblocksnet.blocks.cutting.processing.core\u001b[0m:\u001b[36mcut_urban_blocks\u001b[0m:\u001b[36m118\u001b[0m - \u001b[32m\u001b[1mBlocks are successfully cut!\u001b[0m\n",
      "\u001b[32m2025-08-15 20:40:24.575\u001b[0m | \u001b[1mINFO    \u001b[0m | \u001b[36mblocksnet.blocks.assignment.core\u001b[0m:\u001b[36massign_land_use\u001b[0m:\u001b[36m44\u001b[0m - \u001b[1mOverlaying geometries\u001b[0m\n",
      "\u001b[32m2025-08-15 20:40:26.361\u001b[0m | \u001b[32m\u001b[1mSUCCESS \u001b[0m | \u001b[36mblocksnet.blocks.assignment.core\u001b[0m:\u001b[36massign_land_use\u001b[0m:\u001b[36m55\u001b[0m - \u001b[32m\u001b[1mShares calculated\u001b[0m\n"
     ]
    },
    {
     "name": "stdout",
     "output_type": "stream",
     "text": [
      " -> Belo Horizonte, Brazil\n"
     ]
    },
    {
     "name": "stderr",
     "output_type": "stream",
     "text": [
      "\u001b[32m2025-08-15 20:42:32.723\u001b[0m | \u001b[1mINFO    \u001b[0m | \u001b[36mblocksnet.blocks.cutting.preprocessing.core\u001b[0m:\u001b[36mpreprocess_urban_objects\u001b[0m:\u001b[36m44\u001b[0m - \u001b[1mChecking roads schema\u001b[0m\n",
      "\u001b[32m2025-08-15 20:42:32.857\u001b[0m | \u001b[1mINFO    \u001b[0m | \u001b[36mblocksnet.blocks.cutting.preprocessing.core\u001b[0m:\u001b[36mpreprocess_urban_objects\u001b[0m:\u001b[36m51\u001b[0m - \u001b[1mChecking railways schema\u001b[0m\n",
      "\u001b[32m2025-08-15 20:42:32.857\u001b[0m | \u001b[1mINFO    \u001b[0m | \u001b[36mblocksnet.blocks.cutting.preprocessing.core\u001b[0m:\u001b[36mpreprocess_urban_objects\u001b[0m:\u001b[36m58\u001b[0m - \u001b[1mChecking water schema\u001b[0m\n",
      "\u001b[32m2025-08-15 20:42:32.957\u001b[0m | \u001b[1mINFO    \u001b[0m | \u001b[36mblocksnet.blocks.cutting.processing.core\u001b[0m:\u001b[36mwrapper\u001b[0m:\u001b[36m21\u001b[0m - \u001b[1mChecking boundaries schema\u001b[0m\n",
      "\u001b[32m2025-08-15 20:42:32.972\u001b[0m | \u001b[1mINFO    \u001b[0m | \u001b[36mblocksnet.blocks.cutting.processing.core\u001b[0m:\u001b[36mwrapper\u001b[0m:\u001b[36m25\u001b[0m - \u001b[1mChecking line objects schema\u001b[0m\n",
      "\u001b[32m2025-08-15 20:42:33.047\u001b[0m | \u001b[1mINFO    \u001b[0m | \u001b[36mblocksnet.blocks.cutting.processing.core\u001b[0m:\u001b[36mwrapper\u001b[0m:\u001b[36m31\u001b[0m - \u001b[1mChecking polygon objects schema\u001b[0m\n",
      "\u001b[32m2025-08-15 20:42:33.062\u001b[0m | \u001b[1mINFO    \u001b[0m | \u001b[36mblocksnet.blocks.cutting.processing.core\u001b[0m:\u001b[36m_exclude_polygons\u001b[0m:\u001b[36m45\u001b[0m - \u001b[1mExcluding polygon objects from blocks\u001b[0m\n",
      "\u001b[32m2025-08-15 20:42:33.165\u001b[0m | \u001b[1mINFO    \u001b[0m | \u001b[36mblocksnet.blocks.cutting.processing.core\u001b[0m:\u001b[36m_get_enclosures\u001b[0m:\u001b[36m51\u001b[0m - \u001b[1mSetting up enclosures\u001b[0m\n",
      "\u001b[32m2025-08-15 20:42:34.971\u001b[0m | \u001b[1mINFO    \u001b[0m | \u001b[36mblocksnet.blocks.cutting.processing.core\u001b[0m:\u001b[36m_fill_holes\u001b[0m:\u001b[36m68\u001b[0m - \u001b[1mFilling holes inside the blocks\u001b[0m\n",
      "\u001b[32m2025-08-15 20:42:36.541\u001b[0m | \u001b[1mINFO    \u001b[0m | \u001b[36mblocksnet.blocks.cutting.processing.core\u001b[0m:\u001b[36m_filter_overlapping\u001b[0m:\u001b[36m78\u001b[0m - \u001b[1mFiltering overlapping geometries\u001b[0m\n",
      "\u001b[32m2025-08-15 20:42:37.926\u001b[0m | \u001b[32m\u001b[1mSUCCESS \u001b[0m | \u001b[36mblocksnet.blocks.cutting.processing.core\u001b[0m:\u001b[36mcut_urban_blocks\u001b[0m:\u001b[36m118\u001b[0m - \u001b[32m\u001b[1mBlocks are successfully cut!\u001b[0m\n",
      "\u001b[32m2025-08-15 20:42:48.941\u001b[0m | \u001b[1mINFO    \u001b[0m | \u001b[36mblocksnet.blocks.assignment.core\u001b[0m:\u001b[36massign_land_use\u001b[0m:\u001b[36m44\u001b[0m - \u001b[1mOverlaying geometries\u001b[0m\n",
      "\u001b[32m2025-08-15 20:42:49.381\u001b[0m | \u001b[32m\u001b[1mSUCCESS \u001b[0m | \u001b[36mblocksnet.blocks.assignment.core\u001b[0m:\u001b[36massign_land_use\u001b[0m:\u001b[36m55\u001b[0m - \u001b[32m\u001b[1mShares calculated\u001b[0m\n"
     ]
    },
    {
     "name": "stdout",
     "output_type": "stream",
     "text": [
      " -> Salvador, Brazil\n"
     ]
    },
    {
     "name": "stderr",
     "output_type": "stream",
     "text": [
      "\u001b[32m2025-08-15 20:43:21.868\u001b[0m | \u001b[1mINFO    \u001b[0m | \u001b[36mblocksnet.blocks.cutting.preprocessing.core\u001b[0m:\u001b[36mpreprocess_urban_objects\u001b[0m:\u001b[36m44\u001b[0m - \u001b[1mChecking roads schema\u001b[0m\n",
      "\u001b[32m2025-08-15 20:43:21.975\u001b[0m | \u001b[1mINFO    \u001b[0m | \u001b[36mblocksnet.blocks.cutting.preprocessing.core\u001b[0m:\u001b[36mpreprocess_urban_objects\u001b[0m:\u001b[36m51\u001b[0m - \u001b[1mChecking railways schema\u001b[0m\n",
      "\u001b[32m2025-08-15 20:43:21.975\u001b[0m | \u001b[1mINFO    \u001b[0m | \u001b[36mblocksnet.blocks.cutting.preprocessing.core\u001b[0m:\u001b[36mpreprocess_urban_objects\u001b[0m:\u001b[36m58\u001b[0m - \u001b[1mChecking water schema\u001b[0m\n",
      "\u001b[32m2025-08-15 20:43:22.029\u001b[0m | \u001b[1mINFO    \u001b[0m | \u001b[36mblocksnet.blocks.cutting.processing.core\u001b[0m:\u001b[36mwrapper\u001b[0m:\u001b[36m21\u001b[0m - \u001b[1mChecking boundaries schema\u001b[0m\n",
      "\u001b[32m2025-08-15 20:43:22.039\u001b[0m | \u001b[1mINFO    \u001b[0m | \u001b[36mblocksnet.blocks.cutting.processing.core\u001b[0m:\u001b[36mwrapper\u001b[0m:\u001b[36m25\u001b[0m - \u001b[1mChecking line objects schema\u001b[0m\n",
      "\u001b[32m2025-08-15 20:43:22.104\u001b[0m | \u001b[1mINFO    \u001b[0m | \u001b[36mblocksnet.blocks.cutting.processing.core\u001b[0m:\u001b[36mwrapper\u001b[0m:\u001b[36m31\u001b[0m - \u001b[1mChecking polygon objects schema\u001b[0m\n",
      "\u001b[32m2025-08-15 20:43:22.109\u001b[0m | \u001b[1mINFO    \u001b[0m | \u001b[36mblocksnet.blocks.cutting.processing.core\u001b[0m:\u001b[36m_exclude_polygons\u001b[0m:\u001b[36m45\u001b[0m - \u001b[1mExcluding polygon objects from blocks\u001b[0m\n",
      "\u001b[32m2025-08-15 20:43:22.872\u001b[0m | \u001b[1mINFO    \u001b[0m | \u001b[36mblocksnet.blocks.cutting.processing.core\u001b[0m:\u001b[36m_get_enclosures\u001b[0m:\u001b[36m51\u001b[0m - \u001b[1mSetting up enclosures\u001b[0m\n",
      "\u001b[32m2025-08-15 20:43:24.358\u001b[0m | \u001b[1mINFO    \u001b[0m | \u001b[36mblocksnet.blocks.cutting.processing.core\u001b[0m:\u001b[36m_fill_holes\u001b[0m:\u001b[36m68\u001b[0m - \u001b[1mFilling holes inside the blocks\u001b[0m\n",
      "\u001b[32m2025-08-15 20:43:25.173\u001b[0m | \u001b[1mINFO    \u001b[0m | \u001b[36mblocksnet.blocks.cutting.processing.core\u001b[0m:\u001b[36m_filter_overlapping\u001b[0m:\u001b[36m78\u001b[0m - \u001b[1mFiltering overlapping geometries\u001b[0m\n",
      "\u001b[32m2025-08-15 20:43:26.860\u001b[0m | \u001b[32m\u001b[1mSUCCESS \u001b[0m | \u001b[36mblocksnet.blocks.cutting.processing.core\u001b[0m:\u001b[36mcut_urban_blocks\u001b[0m:\u001b[36m118\u001b[0m - \u001b[32m\u001b[1mBlocks are successfully cut!\u001b[0m\n",
      "\u001b[32m2025-08-15 20:43:31.808\u001b[0m | \u001b[1mINFO    \u001b[0m | \u001b[36mblocksnet.blocks.assignment.core\u001b[0m:\u001b[36massign_land_use\u001b[0m:\u001b[36m44\u001b[0m - \u001b[1mOverlaying geometries\u001b[0m\n",
      "\u001b[32m2025-08-15 20:43:32.707\u001b[0m | \u001b[32m\u001b[1mSUCCESS \u001b[0m | \u001b[36mblocksnet.blocks.assignment.core\u001b[0m:\u001b[36massign_land_use\u001b[0m:\u001b[36m55\u001b[0m - \u001b[32m\u001b[1mShares calculated\u001b[0m\n"
     ]
    },
    {
     "name": "stdout",
     "output_type": "stream",
     "text": [
      " -> Fortaleza, Brazil\n"
     ]
    },
    {
     "name": "stderr",
     "output_type": "stream",
     "text": [
      "\u001b[32m2025-08-15 20:48:16.148\u001b[0m | \u001b[1mINFO    \u001b[0m | \u001b[36mblocksnet.blocks.cutting.preprocessing.core\u001b[0m:\u001b[36mpreprocess_urban_objects\u001b[0m:\u001b[36m44\u001b[0m - \u001b[1mChecking roads schema\u001b[0m\n",
      "\u001b[32m2025-08-15 20:48:16.286\u001b[0m | \u001b[1mINFO    \u001b[0m | \u001b[36mblocksnet.blocks.cutting.preprocessing.core\u001b[0m:\u001b[36mpreprocess_urban_objects\u001b[0m:\u001b[36m51\u001b[0m - \u001b[1mChecking railways schema\u001b[0m\n",
      "\u001b[32m2025-08-15 20:48:16.305\u001b[0m | \u001b[1mINFO    \u001b[0m | \u001b[36mblocksnet.blocks.cutting.preprocessing.core\u001b[0m:\u001b[36mpreprocess_urban_objects\u001b[0m:\u001b[36m58\u001b[0m - \u001b[1mChecking water schema\u001b[0m\n",
      "\u001b[32m2025-08-15 20:48:16.306\u001b[0m | \u001b[33m\u001b[1mWARNING \u001b[0m | \u001b[36mblocksnet.blocks.cutting.preprocessing.core\u001b[0m:\u001b[36mpreprocess_urban_objects\u001b[0m:\u001b[36m60\u001b[0m - \u001b[33m\u001b[1mWater GeoDataFrame is None. Creating empty\u001b[0m\n",
      "\u001b[32m2025-08-15 20:48:16.364\u001b[0m | \u001b[1mINFO    \u001b[0m | \u001b[36mblocksnet.blocks.cutting.processing.core\u001b[0m:\u001b[36mwrapper\u001b[0m:\u001b[36m21\u001b[0m - \u001b[1mChecking boundaries schema\u001b[0m\n",
      "\u001b[32m2025-08-15 20:48:16.374\u001b[0m | \u001b[1mINFO    \u001b[0m | \u001b[36mblocksnet.blocks.cutting.processing.core\u001b[0m:\u001b[36mwrapper\u001b[0m:\u001b[36m25\u001b[0m - \u001b[1mChecking line objects schema\u001b[0m\n",
      "\u001b[32m2025-08-15 20:48:16.441\u001b[0m | \u001b[1mINFO    \u001b[0m | \u001b[36mblocksnet.blocks.cutting.processing.core\u001b[0m:\u001b[36mwrapper\u001b[0m:\u001b[36m31\u001b[0m - \u001b[1mChecking polygon objects schema\u001b[0m\n"
     ]
    },
    {
     "name": "stdout",
     "output_type": "stream",
     "text": [
      "    [skip] Fortaleza, Brazil: Rows count must be greater than 0\n",
      " -> Manaus, Brazil\n"
     ]
    },
    {
     "name": "stderr",
     "output_type": "stream",
     "text": [
      "\u001b[32m2025-08-15 20:50:13.640\u001b[0m | \u001b[1mINFO    \u001b[0m | \u001b[36mblocksnet.blocks.cutting.preprocessing.core\u001b[0m:\u001b[36mpreprocess_urban_objects\u001b[0m:\u001b[36m44\u001b[0m - \u001b[1mChecking roads schema\u001b[0m\n",
      "\u001b[32m2025-08-15 20:50:13.726\u001b[0m | \u001b[1mINFO    \u001b[0m | \u001b[36mblocksnet.blocks.cutting.preprocessing.core\u001b[0m:\u001b[36mpreprocess_urban_objects\u001b[0m:\u001b[36m51\u001b[0m - \u001b[1mChecking railways schema\u001b[0m\n",
      "\u001b[32m2025-08-15 20:50:13.727\u001b[0m | \u001b[33m\u001b[1mWARNING \u001b[0m | \u001b[36mblocksnet.blocks.cutting.preprocessing.core\u001b[0m:\u001b[36mpreprocess_urban_objects\u001b[0m:\u001b[36m53\u001b[0m - \u001b[33m\u001b[1mRailways GeoDataFrame is None. Creating empty\u001b[0m\n",
      "\u001b[32m2025-08-15 20:50:13.731\u001b[0m | \u001b[1mINFO    \u001b[0m | \u001b[36mblocksnet.blocks.cutting.preprocessing.core\u001b[0m:\u001b[36mpreprocess_urban_objects\u001b[0m:\u001b[36m58\u001b[0m - \u001b[1mChecking water schema\u001b[0m\n",
      "\u001b[32m2025-08-15 20:50:13.768\u001b[0m | \u001b[1mINFO    \u001b[0m | \u001b[36mblocksnet.blocks.cutting.processing.core\u001b[0m:\u001b[36mwrapper\u001b[0m:\u001b[36m21\u001b[0m - \u001b[1mChecking boundaries schema\u001b[0m\n",
      "\u001b[32m2025-08-15 20:50:13.777\u001b[0m | \u001b[1mINFO    \u001b[0m | \u001b[36mblocksnet.blocks.cutting.processing.core\u001b[0m:\u001b[36mwrapper\u001b[0m:\u001b[36m25\u001b[0m - \u001b[1mChecking line objects schema\u001b[0m\n",
      "\u001b[32m2025-08-15 20:50:13.940\u001b[0m | \u001b[1mINFO    \u001b[0m | \u001b[36mblocksnet.blocks.cutting.processing.core\u001b[0m:\u001b[36mwrapper\u001b[0m:\u001b[36m31\u001b[0m - \u001b[1mChecking polygon objects schema\u001b[0m\n",
      "\u001b[32m2025-08-15 20:50:13.953\u001b[0m | \u001b[1mINFO    \u001b[0m | \u001b[36mblocksnet.blocks.cutting.processing.core\u001b[0m:\u001b[36m_exclude_polygons\u001b[0m:\u001b[36m45\u001b[0m - \u001b[1mExcluding polygon objects from blocks\u001b[0m\n",
      "\u001b[32m2025-08-15 20:50:17.168\u001b[0m | \u001b[1mINFO    \u001b[0m | \u001b[36mblocksnet.blocks.cutting.processing.core\u001b[0m:\u001b[36m_get_enclosures\u001b[0m:\u001b[36m51\u001b[0m - \u001b[1mSetting up enclosures\u001b[0m\n",
      "\u001b[32m2025-08-15 20:50:19.118\u001b[0m | \u001b[1mINFO    \u001b[0m | \u001b[36mblocksnet.blocks.cutting.processing.core\u001b[0m:\u001b[36m_fill_holes\u001b[0m:\u001b[36m68\u001b[0m - \u001b[1mFilling holes inside the blocks\u001b[0m\n",
      "\u001b[32m2025-08-15 20:50:20.185\u001b[0m | \u001b[1mINFO    \u001b[0m | \u001b[36mblocksnet.blocks.cutting.processing.core\u001b[0m:\u001b[36m_filter_overlapping\u001b[0m:\u001b[36m78\u001b[0m - \u001b[1mFiltering overlapping geometries\u001b[0m\n",
      "\u001b[32m2025-08-15 20:50:21.918\u001b[0m | \u001b[32m\u001b[1mSUCCESS \u001b[0m | \u001b[36mblocksnet.blocks.cutting.processing.core\u001b[0m:\u001b[36mcut_urban_blocks\u001b[0m:\u001b[36m118\u001b[0m - \u001b[32m\u001b[1mBlocks are successfully cut!\u001b[0m\n",
      "\u001b[32m2025-08-15 20:50:37.457\u001b[0m | \u001b[1mINFO    \u001b[0m | \u001b[36mblocksnet.blocks.assignment.core\u001b[0m:\u001b[36massign_land_use\u001b[0m:\u001b[36m44\u001b[0m - \u001b[1mOverlaying geometries\u001b[0m\n",
      "\u001b[32m2025-08-15 20:50:38.485\u001b[0m | \u001b[32m\u001b[1mSUCCESS \u001b[0m | \u001b[36mblocksnet.blocks.assignment.core\u001b[0m:\u001b[36massign_land_use\u001b[0m:\u001b[36m55\u001b[0m - \u001b[32m\u001b[1mShares calculated\u001b[0m\n"
     ]
    },
    {
     "name": "stdout",
     "output_type": "stream",
     "text": [
      " -> Brasília, Brazil\n"
     ]
    },
    {
     "name": "stderr",
     "output_type": "stream",
     "text": [
      "d:\\programming\\github\\loading-cities-for-land-use\\.venv\\lib\\site-packages\\osmnx\\_overpass.py:271: UserWarning: This area is 6,256 times your configured Overpass max query area size. It will automatically be divided up into multiple sub-queries accordingly. This may take a long time.\n",
      "  multi_poly_proj = utils_geo._consolidate_subdivide_geometry(poly_proj)\n"
     ]
    }
   ],
   "source": [
    "import os\n",
    "import io\n",
    "import time\n",
    "import pickle\n",
    "import unicodedata\n",
    "from pathlib import Path\n",
    "\n",
    "import osmnx as ox\n",
    "import pandas as pd\n",
    "import geopandas as gpd\n",
    "\n",
    "from blocksnet.blocks.cutting import preprocess_urban_objects, cut_urban_blocks  # type: ignore\n",
    "from blocksnet.blocks.assignment import assign_land_use                          # type: ignore\n",
    "from blocksnet.enums import LandUse                                              # type: ignore\n",
    "\n",
    "# ---------- Настройки ----------\n",
    "INPUT_DIR  = Path(\"data/geonames_cities\")   # где лежат CSV \"Country.csv\"\n",
    "OUTPUT_DIR = Path(\"data/blocks\")            # сюда будут pkl в подпапки по странам\n",
    "OUTPUT_DIR.mkdir(parents=True, exist_ok=True)\n",
    "\n",
    "# Фильтр по населению\n",
    "POP_MIN = 100_000\n",
    "POP_MAX = 100_000_000\n",
    "\n",
    "# OSMnx: вежливые настройки\n",
    "ox.settings.default_user_agent = \"blocksnet-city-pipeline/1.0 (contact: you@example.com)\"\n",
    "ox.settings.nominatim_pause = 1.0\n",
    "ox.settings.overpass_rate_limit = True\n",
    "ox.settings.timeout = 180\n",
    "\n",
    "CRS_OUT = \"EPSG:3857\"\n",
    "\n",
    "# ---------- Справочники ----------\n",
    "RULES = {\n",
    "    'commercial': LandUse.BUSINESS,\n",
    "    'industrial': LandUse.INDUSTRIAL,\n",
    "    'cemetery': LandUse.SPECIAL,\n",
    "    'garages': LandUse.INDUSTRIAL,\n",
    "    'residential': LandUse.RESIDENTIAL,\n",
    "    'retail': LandUse.BUSINESS,\n",
    "    'grass': LandUse.RECREATION,\n",
    "    'farmland': LandUse.AGRICULTURE,\n",
    "    'construction': LandUse.SPECIAL,\n",
    "    'brownfield': LandUse.INDUSTRIAL,\n",
    "    'forest': LandUse.RECREATION,\n",
    "    'recreation_ground': LandUse.RECREATION,\n",
    "    'religious': LandUse.SPECIAL,\n",
    "    'flowerbed': LandUse.RECREATION,\n",
    "    'military': LandUse.SPECIAL,\n",
    "    'landfill': LandUse.TRANSPORT\n",
    "}\n",
    "\n",
    "BC_TAGS = {\n",
    "    'roads': {\n",
    "        \"highway\": [\n",
    "            \"construction\", \"crossing\", \"living_street\", \"motorway\", \"motorway_link\", \"motorway_junction\",\n",
    "            \"pedestrian\", \"primary\", \"primary_link\", \"raceway\", \"residential\", \"road\", \"secondary\",\n",
    "            \"secondary_link\", \"services\", \"tertiary\", \"tertiary_link\", \"track\", \"trunk\", \"trunk_link\",\n",
    "            \"turning_circle\", \"turning_loop\", \"unclassified\"\n",
    "        ],\n",
    "        \"service\": [\"living_street\", \"emergency_access\"]\n",
    "    },\n",
    "    'railways': {\"railway\": \"rail\"},\n",
    "    'water': {\n",
    "        'riverbank': True, 'reservoir': True, 'basin': True, 'dock': True,\n",
    "        'canal': True, 'pond': True, 'natural': ['water', 'bay'],\n",
    "        'waterway': ['river', 'canal', 'ditch'], 'landuse': 'basin', 'water': 'lake'\n",
    "    }\n",
    "}\n",
    "\n",
    "# ---------- Утилиты ----------\n",
    "def safe_filename(s: str) -> str:\n",
    "    s = unicodedata.normalize(\"NFKD\", s)\n",
    "    s = \"\".join(c for c in s if c.isalnum() or c in (\" \", \"-\", \"_\", \",\"))\n",
    "    return s.strip().replace(\" \", \"_\")\n",
    "\n",
    "def geocode_city(city: str, country: str) -> gpd.GeoDataFrame:\n",
    "    # Структурный запрос точнее\n",
    "    try:\n",
    "        gdf = ox.geocode_to_gdf({\"city\": city, \"country\": country})\n",
    "        if gdf is not None and not gdf.empty and gdf.geometry.iloc[0].geom_type in (\"Polygon\", \"MultiPolygon\"):\n",
    "            return gdf\n",
    "    except Exception:\n",
    "        pass\n",
    "    label = f\"{city}, {country}\"\n",
    "    for which in (None, 1, 2, 3, 4):\n",
    "        try:\n",
    "            gdf = ox.geocode_to_gdf(label, which_result=which)\n",
    "            if gdf is not None and not gdf.empty:\n",
    "                return gdf\n",
    "        except Exception:\n",
    "            time.sleep(1)\n",
    "            continue\n",
    "    raise RuntimeError(f\"Не найдены границы: {city}, {country}\")\n",
    "\n",
    "# ---------- Основная функция обработки ----------\n",
    "def process_and_save_city(city: str, country: str, out_country_dir: Path, crs=CRS_OUT) -> gpd.GeoDataFrame:\n",
    "    out_country_dir.mkdir(parents=True, exist_ok=True)\n",
    "\n",
    "    boundaries = geocode_city(city, country).to_crs(crs)\n",
    "    poly_4326 = boundaries.to_crs(4326).union_all()\n",
    "    poly_out  = boundaries.union_all()\n",
    "\n",
    "    # water\n",
    "    try:\n",
    "        water = ox.features_from_polygon(poly_4326, BC_TAGS['water']).reset_index(drop=True)\n",
    "        water = water[water.geom_type.isin(['Polygon','MultiPolygon','LineString','MultiLineString'])].copy()\n",
    "        water = None if water.empty else water.to_crs(crs)\n",
    "    except Exception:\n",
    "        water = None\n",
    "\n",
    "    # roads\n",
    "    try:\n",
    "        roads = ox.features_from_polygon(poly_4326, BC_TAGS['roads']).reset_index(drop=True)\n",
    "        roads = roads[roads.geom_type.isin(['LineString','MultiLineString'])].copy()\n",
    "        roads = None if roads.empty else roads.to_crs(crs)\n",
    "    except Exception:\n",
    "        roads = None\n",
    "\n",
    "    # railways\n",
    "    try:\n",
    "        railways = ox.features_from_polygon(poly_4326, BC_TAGS['railways']).reset_index(drop=True)\n",
    "        railways = railways[railways.geom_type.isin(['LineString','MultiLineString'])].copy()\n",
    "        railways = None if railways.empty else railways.to_crs(crs)\n",
    "    except Exception:\n",
    "        railways = None\n",
    "\n",
    "    lines, polygons = preprocess_urban_objects(\n",
    "        roads_gdf=roads, railways_gdf=railways, water_gdf=water\n",
    "    )\n",
    "    blocks = cut_urban_blocks(boundaries, lines, polygons)\n",
    "\n",
    "    # landuse\n",
    "    try:\n",
    "        fz = ox.features_from_polygon(poly_4326, tags={'landuse': True})\n",
    "        fz = fz[fz.geom_type.isin(['Polygon', 'MultiPolygon'])].copy()\n",
    "        fz = None if fz.empty else fz.reset_index(drop=True)[['geometry','landuse']].rename(columns={'landuse':'functional_zone'}).to_crs(crs)\n",
    "    except Exception:\n",
    "        fz = None\n",
    "\n",
    "    if fz is not None:\n",
    "        blocks = assign_land_use(blocks, fz.reset_index(drop=True), RULES)\n",
    "        blocks.dropna(subset=['land_use'], inplace=True)\n",
    "        blocks = blocks[['geometry', 'land_use', 'share']].reset_index(drop=True)\n",
    "    else:\n",
    "        blocks['land_use'] = None\n",
    "        blocks['share'] = None\n",
    "\n",
    "    # save\n",
    "    fname = f\"{city}.pkl\"\n",
    "    with open(out_country_dir / fname, \"wb\") as f:\n",
    "        pickle.dump(blocks, f)\n",
    "    return blocks\n",
    "\n",
    "# ---------- Запуск по всем CSV со странами ----------\n",
    "def run_all():\n",
    "    csv_files = sorted(INPUT_DIR.glob(\"*.csv\"))  # файлы типа Country.csv\n",
    "    for csv_path in csv_files:\n",
    "        country = csv_path.stem.replace(\"_\", \" \")\n",
    "        out_country_dir = OUTPUT_DIR / safe_filename(country)\n",
    "\n",
    "        print(f\"\\n=== {country} ===\")\n",
    "        try:\n",
    "            df = pd.read_csv(csv_path, header=None, names=['name','population','date'])\n",
    "        except Exception as e:\n",
    "            print(f\"[{country}] не удалось прочитать CSV: {e}\")\n",
    "            continue\n",
    "\n",
    "        # фильтр населения\n",
    "        try:\n",
    "            df['population'] = df['population'].astype(int)\n",
    "        except Exception:\n",
    "            df = df[pd.to_numeric(df['population'], errors='coerce').notna()]\n",
    "            df['population'] = df['population'].astype(int)\n",
    "\n",
    "        df = (df.drop_duplicates(subset=['name'])\n",
    "                .query(f\"{POP_MIN} <= population <= {POP_MAX}\")\n",
    "                .sort_values('population', ascending=False))\n",
    "\n",
    "        if df.empty:\n",
    "            print(f\"[{country}] нет городов в диапазоне {POP_MIN}-{POP_MAX}\")\n",
    "            continue\n",
    "\n",
    "        for city in df['name'].tolist():\n",
    "            label = f\"{city}, {country}\"\n",
    "            print(f\" -> {label}\")\n",
    "            try:\n",
    "                process_and_save_city(city, country, out_country_dir)\n",
    "            except Exception as e:\n",
    "                print(f\"    [skip] {label}: {e}\")\n",
    "                continue\n",
    "            # бережём Nominatim/Overpass\n",
    "            time.sleep(1.0)\n",
    "\n",
    "if __name__ == \"__main__\":\n",
    "    run_all()\n"
   ]
  },
  {
   "cell_type": "code",
   "execution_count": null,
   "id": "5f68ac42",
   "metadata": {},
   "outputs": [],
   "source": []
  }
 ],
 "metadata": {
  "kernelspec": {
   "display_name": ".venv",
   "language": "python",
   "name": "python3"
  },
  "language_info": {
   "codemirror_mode": {
    "name": "ipython",
    "version": 3
   },
   "file_extension": ".py",
   "mimetype": "text/x-python",
   "name": "python",
   "nbconvert_exporter": "python",
   "pygments_lexer": "ipython3",
   "version": "3.10.11"
  }
 },
 "nbformat": 4,
 "nbformat_minor": 5
}
