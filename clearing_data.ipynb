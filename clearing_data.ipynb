{
 "cells": [
  {
   "cell_type": "code",
   "execution_count": 13,
   "id": "6cd5ee3b",
   "metadata": {},
   "outputs": [
    {
     "name": "stdout",
     "output_type": "stream",
     "text": [
      "The autoreload extension is already loaded. To reload it, use:\n",
      "  %reload_ext autoreload\n"
     ]
    }
   ],
   "source": [
    "%load_ext autoreload\n",
    "%autoreload 2"
   ]
  },
  {
   "cell_type": "code",
   "execution_count": 81,
   "id": "54c8c05e",
   "metadata": {},
   "outputs": [],
   "source": [
    "import os\n",
    "import pickle\n",
    "import pandas as pd\n",
    "import geopandas as gpd\n",
    "import blocksnet # type: ignore"
   ]
  },
  {
   "cell_type": "code",
   "execution_count": 82,
   "id": "d8eb5b2a",
   "metadata": {},
   "outputs": [],
   "source": [
    "from pathlib import Path\n",
    "import pickle\n",
    "import pandas as pd\n",
    "import geopandas as gpd\n",
    "\n",
    "def load_and_merge_cities(root=\"data/blocks\", pattern=\"*.pkl\", target_crs=None):\n",
    "    \"\"\"\n",
    "    Рекурсивно загружает все .pkl из root (включая подпапки) и объединяет в один GeoDataFrame.\n",
    "    Ожидаем структуру: root/<country>/<city>/*.pkl (но работает и без строгости).\n",
    "\n",
    "    Args:\n",
    "        root: корневая папка (на уровень выше, чем сейчас)\n",
    "        pattern: маска файлов (по умолчанию \"*.pkl\")\n",
    "        target_crs: если указан, приводим все геоданные к этому CRS\n",
    "\n",
    "    Returns:\n",
    "        GeoDataFrame со столбцами 'country', 'city' (если можно извлечь) и объединённой геометрией.\n",
    "    \"\"\"\n",
    "    files = sorted(Path(root).rglob(pattern))\n",
    "    if not files:\n",
    "        return gpd.GeoDataFrame()\n",
    "\n",
    "    gdfs = []\n",
    "    for fp in files:\n",
    "        try:\n",
    "            with open(fp, \"rb\") as f:\n",
    "                gdf = pickle.load(f)\n",
    "        except Exception as e:\n",
    "            print(f\"Пропускаю {fp}: {e}\")\n",
    "            continue\n",
    "\n",
    "        # извлекаем city/country из структуры путей\n",
    "        city = fp.name[:-4]\n",
    "        country = fp.parent.name if fp.parent != fp.anchor else None\n",
    "\n",
    "        if \"city\" not in gdf.columns:\n",
    "            gdf[\"city\"] = city\n",
    "        if country and \"country\" not in gdf.columns:\n",
    "            gdf[\"country\"] = country\n",
    "\n",
    "        gdfs.append(gdf)\n",
    "\n",
    "    # если нужно — приводим CRS к целевому\n",
    "    if not gdfs:\n",
    "        return gpd.GeoDataFrame()\n",
    "\n",
    "    if target_crs:\n",
    "        gdfs = [\n",
    "            (g.to_crs(target_crs) if getattr(g, \"crs\", None) else g.set_crs(target_crs))\n",
    "            for g in gdfs\n",
    "        ]\n",
    "        crs_out = target_crs\n",
    "    else:\n",
    "        # выравниваем к CRS первого непустого\n",
    "        first_crs = next((g.crs for g in gdfs if getattr(g, \"crs\", None)), None)\n",
    "        if first_crs:\n",
    "            gdfs = [g.to_crs(first_crs) if g.crs and g.crs != first_crs else g for g in gdfs]\n",
    "        crs_out = first_crs\n",
    "\n",
    "    return gpd.GeoDataFrame(pd.concat(gdfs, ignore_index=True), crs=crs_out)\n"
   ]
  },
  {
   "cell_type": "code",
   "execution_count": 83,
   "id": "0dd7fd23",
   "metadata": {},
   "outputs": [],
   "source": [
    "MERGE_DICT = {\n",
    "    'recreation': 'NON_URBAN',\n",
    "    'special': 'NON_URBAN',\n",
    "    'agriculture': 'NON_URBAN',\n",
    "    'business': 'URBAN',\n",
    "    'residential': 'URBAN',\n",
    "    'industrial': 'INDUSTRIAL',\n",
    "    'transport': None,\n",
    "\n",
    "    'LandUse.RECREATION': 'NON_URBAN',\n",
    "    'LandUse.SPECIAL': 'NON_URBAN',\n",
    "    'LandUse.AGRICULTURE': 'NON_URBAN',\n",
    "    'LandUse.BUSINESS': 'URBAN',\n",
    "    'LandUse.RESIDENTIAL': 'URBAN',\n",
    "    'LandUse.INDUSTRIAL': 'INDUSTRIAL',\n",
    "    'LandUse.TRANSPORT': None,    \n",
    "}"
   ]
  },
  {
   "cell_type": "code",
   "execution_count": 84,
   "id": "8ba1dd12",
   "metadata": {},
   "outputs": [],
   "source": [
    "russia = load_and_merge_cities('data/blocks/Russia', pattern=\"*.pkl\")\n",
    "india = load_and_merge_cities('data/blocks/India', pattern=\"*.pkl\")\n",
    "germany = load_and_merge_cities('data/blocks/Germany', pattern=\"*.pkl\")\n",
    "\n",
    "all_countries = load_and_merge_cities('data/blocks/', pattern=\"*.pkl\")"
   ]
  },
  {
   "cell_type": "code",
   "execution_count": 156,
   "id": "07dc9067",
   "metadata": {},
   "outputs": [
    {
     "name": "stdout",
     "output_type": "stream",
     "text": [
      "['INDUSTRIAL' 'NON_URBAN' 'URBAN']\n"
     ]
    }
   ],
   "source": [
    "russia['land_use'] = russia['land_use'].astype(str)\n",
    "russia = russia[~russia['land_use'].isin(['None'])]\n",
    "russia = russia[russia['land_use'] != 'LandUse.TRANSPORT']\n",
    "russia.reset_index(drop=True, inplace=True)\n",
    "\n",
    "india['land_use'] = india['land_use'].astype(str)\n",
    "india = india[~india['land_use'].isin(['None'])]\n",
    "india = india[india['land_use'] != 'LandUse.TRANSPORT']\n",
    "india.reset_index(drop=True, inplace=True)\n",
    "\n",
    "germany['land_use'] = germany['land_use'].astype(str)\n",
    "germany = germany[~germany['land_use'].isin(['None'])]\n",
    "germany = germany[germany['land_use'] != 'LandUse.TRANSPORT']\n",
    "germany.reset_index(drop=True, inplace=True)\n",
    "\n",
    "russia['land_use'] = russia['land_use'].map(MERGE_DICT)\n",
    "india['land_use'] = india['land_use'].map(MERGE_DICT)\n",
    "germany['land_use'] = germany['land_use'].map(MERGE_DICT)\n",
    "\n",
    "import pandas as pd\n",
    "from sklearn.preprocessing import LabelEncoder\n",
    "\n",
    "# пример DataFrame\n",
    "# df = pd.DataFrame({\"land_use\": [\"residential\", \"industrial\", \"commercial\", \"residential\"]})\n",
    "\n",
    "# создаём энкодер\n",
    "le = LabelEncoder()\n",
    "\n",
    "# обучаем и трансформируем колонку\n",
    "russia[\"land_use_code\"] = le.fit_transform(russia[\"land_use\"])\n",
    "india[\"land_use_code\"] = le.transform(india[\"land_use\"])\n",
    "germany[\"land_use_code\"] = le.transform(germany[\"land_use\"])\n",
    "\n",
    "print(le.classes_)"
   ]
  },
  {
   "cell_type": "code",
   "execution_count": 85,
   "id": "fb36949e",
   "metadata": {},
   "outputs": [],
   "source": [
    "all_countries['land_use'] = all_countries['land_use'].astype(str)\n",
    "all_countries = all_countries[~all_countries['land_use'].isin(['None'])]\n",
    "all_countries = all_countries[all_countries['land_use'] != 'LandUse.TRANSPORT']\n",
    "all_countries.reset_index(drop=True, inplace=True)\n",
    "all_countries['land_use'] = all_countries['land_use'].map(MERGE_DICT)\n"
   ]
  },
  {
   "cell_type": "code",
   "execution_count": null,
   "id": "ded3d9fb",
   "metadata": {},
   "outputs": [],
   "source": [
    "# взять первую группу\n",
    "# blocks_copy = blocks_copy[blocks_copy['share'] > 0.01]\n",
    "\n",
    "\n",
    "gdf_city = russia.groupby('city').get_group('Moscow')\n",
    "\n",
    "print(f'{gdf_city.shape = }')\n",
    "gdf_city.explore('land_use')"
   ]
  },
  {
   "cell_type": "markdown",
   "id": "c8d86caf",
   "metadata": {},
   "source": [
    "Обучение модели"
   ]
  },
  {
   "cell_type": "code",
   "execution_count": 86,
   "id": "52afeb82",
   "metadata": {},
   "outputs": [],
   "source": [
    "import pickle\n",
    "import pandas as pd\n",
    "from sklearn.model_selection import train_test_split\n",
    "from landuse_rb.classification import SpatialClassifier\n",
    "\n",
    "import warnings\n",
    "warnings.filterwarnings(\"ignore\")\n",
    "pd.set_option('display.max_columns', None)"
   ]
  },
  {
   "cell_type": "code",
   "execution_count": 87,
   "id": "df174c85",
   "metadata": {},
   "outputs": [],
   "source": [
    "import pandas as pd\n",
    "from sklearn.preprocessing import LabelEncoder\n",
    "\n",
    "le = LabelEncoder()\n",
    "all_countries[\"land_use_code\"] = le.fit_transform(all_countries[\"land_use\"])\n",
    "\n",
    "# берём уникальные города\n",
    "unique_cities = all_countries[\"city\"].unique()\n",
    "\n",
    "# выбираем N% случайных уникальных городов\n",
    "sampled_cities = pd.Series(unique_cities).sample(frac=0.8, random_state=42)\n",
    "\n",
    "# первая часть: все строки, где city в этих N%\n",
    "df_part1 = all_countries[all_countries[\"city\"].isin(sampled_cities)].reset_index(drop=True)\n",
    "df_part2 = all_countries[~all_countries[\"city\"].isin(sampled_cities)].reset_index(drop=True)"
   ]
  },
  {
   "cell_type": "code",
   "execution_count": null,
   "id": "c4814afc",
   "metadata": {},
   "outputs": [],
   "source": [
    "df_part1.groupby('land_use').size().sort_values(ascending=False)"
   ]
  },
  {
   "cell_type": "code",
   "execution_count": 89,
   "id": "4b435aef",
   "metadata": {},
   "outputs": [
    {
     "name": "stderr",
     "output_type": "stream",
     "text": [
      "2025-08-20 17:10:40,786 - landuse_rb.classification - INFO - Начало трансформации признаков...\n",
      "2025-08-20 17:10:40,926 - landuse_rb.classification - INFO - Количество геометрий до проверки 5291964\n",
      "2025-08-20 17:13:35,026 - landuse_rb.classification - INFO - Количество геометрий после проверки 5291964\n",
      "2025-08-20 17:53:08,725 - landuse_rb.classification - INFO - Подсчет близлежащих зон разных типов...\n",
      "2025-08-20 17:53:09,077 - landuse_rb.classification - INFO - Трансформация признаков завершена\n"
     ]
    },
    {
     "name": "stdout",
     "output_type": "stream",
     "text": [
      "[LightGBM] [Info] Auto-choosing col-wise multi-threading, the overhead of testing was 0,567411 seconds.\n",
      "You can set `force_col_wise=true` to remove the overhead.\n",
      "[LightGBM] [Info] Total Bins 11195\n",
      "[LightGBM] [Info] Number of data points in the train set: 4233546, number of used features: 44\n",
      "[LightGBM] [Info] Start training from score -1,098612\n",
      "[LightGBM] [Info] Start training from score -1,098612\n",
      "[LightGBM] [Info] Start training from score -1,098612\n",
      "=== Validation on U (20%) ===\n",
      "              precision    recall  f1-score   support\n",
      "\n",
      "           0       0.54      0.81      0.64     47942\n",
      "           1       0.76      0.86      0.81    145182\n",
      "           2       0.98      0.93      0.95    865294\n",
      "\n",
      "    accuracy                           0.92   1058418\n",
      "   macro avg       0.76      0.87      0.80   1058418\n",
      "weighted avg       0.93      0.92      0.92   1058418\n",
      "\n"
     ]
    }
   ],
   "source": [
    "# 1. Инициализация и обучение\n",
    "classifier = SpatialClassifier(buffer_distance=1000, k_neighbors=None)\n",
    "classifier.fit(df_part1.drop(columns=['country']), target_col='land_use_code')"
   ]
  },
  {
   "cell_type": "code",
   "execution_count": null,
   "id": "8ccbc01a",
   "metadata": {},
   "outputs": [],
   "source": []
  },
  {
   "cell_type": "code",
   "execution_count": 157,
   "id": "e7fa448c",
   "metadata": {},
   "outputs": [
    {
     "name": "stderr",
     "output_type": "stream",
     "text": [
      "2025-08-21 14:45:00,933 - landuse_rb.classification - INFO - Начало трансформации признаков...\n",
      "2025-08-21 14:45:00,940 - landuse_rb.classification - INFO - Количество геометрий до проверки 146208\n",
      "2025-08-21 14:45:07,681 - landuse_rb.classification - INFO - Количество геометрий после проверки 146208\n",
      "2025-08-21 14:46:06,650 - landuse_rb.classification - INFO - Подсчет близлежащих зон разных типов...\n",
      "2025-08-21 14:46:06,657 - landuse_rb.classification - INFO - Трансформация признаков завершена\n"
     ]
    },
    {
     "name": "stdout",
     "output_type": "stream",
     "text": [
      "[LightGBM] [Info] Auto-choosing col-wise multi-threading, the overhead of testing was 0,016065 seconds.\n",
      "You can set `force_col_wise=true` to remove the overhead.\n",
      "[LightGBM] [Info] Total Bins 10703\n",
      "[LightGBM] [Info] Number of data points in the train set: 116965, number of used features: 44\n",
      "[LightGBM] [Info] Start training from score -1,098612\n",
      "[LightGBM] [Info] Start training from score -1,098612\n",
      "[LightGBM] [Info] Start training from score -1,098612\n",
      "=== Validation on U (20%) ===\n",
      "              precision    recall  f1-score   support\n",
      "\n",
      "           0       0.60      0.79      0.68      2927\n",
      "           1       0.79      0.80      0.79      4522\n",
      "           2       0.96      0.92      0.94     21794\n",
      "\n",
      "    accuracy                           0.89     29243\n",
      "   macro avg       0.79      0.84      0.81     29243\n",
      "weighted avg       0.90      0.89      0.89     29243\n",
      "\n"
     ]
    }
   ],
   "source": [
    "# 1. Инициализация и обучение\n",
    "classifier_russia = SpatialClassifier(buffer_distance=1000, k_neighbors=None)\n",
    "classifier_russia.fit(russia.drop(columns=['country']), target_col='land_use_code')"
   ]
  },
  {
   "cell_type": "code",
   "execution_count": 158,
   "id": "033a1376",
   "metadata": {},
   "outputs": [
    {
     "name": "stderr",
     "output_type": "stream",
     "text": [
      "2025-08-21 14:46:52,348 - landuse_rb.classification - INFO - Начало трансформации признаков...\n",
      "2025-08-21 14:46:52,355 - landuse_rb.classification - INFO - Количество геометрий до проверки 180778\n",
      "2025-08-21 14:46:59,743 - landuse_rb.classification - INFO - Количество геометрий после проверки 180778\n",
      "2025-08-21 14:48:08,903 - landuse_rb.classification - INFO - Подсчет близлежащих зон разных типов...\n",
      "2025-08-21 14:48:08,910 - landuse_rb.classification - INFO - Трансформация признаков завершена\n"
     ]
    },
    {
     "name": "stdout",
     "output_type": "stream",
     "text": [
      "[LightGBM] [Info] Auto-choosing col-wise multi-threading, the overhead of testing was 0,034538 seconds.\n",
      "You can set `force_col_wise=true` to remove the overhead.\n",
      "[LightGBM] [Info] Total Bins 10982\n",
      "[LightGBM] [Info] Number of data points in the train set: 144619, number of used features: 44\n",
      "[LightGBM] [Info] Start training from score -1,098612\n",
      "[LightGBM] [Info] Start training from score -1,098612\n",
      "[LightGBM] [Info] Start training from score -1,098612\n",
      "=== Validation on U (20%) ===\n",
      "              precision    recall  f1-score   support\n",
      "\n",
      "           0       0.63      0.83      0.72      1756\n",
      "           1       0.85      0.88      0.86     11530\n",
      "           2       0.94      0.91      0.92     22873\n",
      "\n",
      "    accuracy                           0.89     36159\n",
      "   macro avg       0.81      0.87      0.83     36159\n",
      "weighted avg       0.90      0.89      0.89     36159\n",
      "\n"
     ]
    }
   ],
   "source": [
    "# 1. Инициализация и обучение\n",
    "classifier_germany = SpatialClassifier(buffer_distance=1000, k_neighbors=None)\n",
    "classifier_germany.fit(germany.drop(columns=['country']), target_col='land_use_code')"
   ]
  },
  {
   "cell_type": "code",
   "execution_count": 79,
   "id": "ecc9399f",
   "metadata": {},
   "outputs": [
    {
     "name": "stderr",
     "output_type": "stream",
     "text": [
      "2025-08-20 15:53:05,439 - landuse_rb.classification - INFO - Начало трансформации признаков...\n",
      "2025-08-20 15:53:05,467 - landuse_rb.classification - INFO - Количество геометрий до проверки 787580\n",
      "2025-08-20 15:53:20,041 - landuse_rb.classification - INFO - Количество геометрий после проверки 787580\n",
      "2025-08-20 15:57:25,692 - landuse_rb.classification - INFO - Подсчет близлежащих зон разных типов...\n",
      "2025-08-20 15:57:25,706 - landuse_rb.classification - INFO - Трансформация признаков завершена\n",
      "2025-08-20 15:58:06,305 - landuse_rb.classification - INFO - Начало трансформации признаков...\n",
      "2025-08-20 15:58:06,345 - landuse_rb.classification - INFO - Количество геометрий до проверки 787580\n",
      "2025-08-20 15:58:20,662 - landuse_rb.classification - INFO - Количество геометрий после проверки 787580\n",
      "2025-08-20 16:02:21,698 - landuse_rb.classification - INFO - Подсчет близлежащих зон разных типов...\n",
      "2025-08-20 16:02:21,715 - landuse_rb.classification - INFO - Трансформация признаков завершена\n"
     ]
    }
   ],
   "source": [
    "y_pred_r = classifier_russia.predict(india.drop(columns=['country']))\n",
    "y_pred_g = classifier_germany.predict(india.drop(columns=['country']))\n"
   ]
  },
  {
   "cell_type": "code",
   "execution_count": 154,
   "id": "41939efc",
   "metadata": {},
   "outputs": [
    {
     "data": {
      "text/plain": [
       "<landuse_rb.classification.SpatialClassifier at 0x1f2148cb010>"
      ]
     },
     "execution_count": 154,
     "metadata": {},
     "output_type": "execute_result"
    }
   ],
   "source": [
    "classifier"
   ]
  },
  {
   "cell_type": "code",
   "execution_count": 159,
   "id": "c9f649e8",
   "metadata": {},
   "outputs": [
    {
     "data": {
      "text/plain": [
       "['classifier_germany.joblib']"
      ]
     },
     "execution_count": 159,
     "metadata": {},
     "output_type": "execute_result"
    }
   ],
   "source": [
    "import joblib\n",
    "joblib.dump(classifier, 'classifier_global.joblib')\n",
    "joblib.dump(classifier_russia, 'classifier_russia.joblib')\n",
    "joblib.dump(classifier_germany, 'classifier_germany.joblib')"
   ]
  },
  {
   "cell_type": "code",
   "execution_count": 91,
   "id": "2ac41552",
   "metadata": {},
   "outputs": [
    {
     "name": "stdout",
     "output_type": "stream",
     "text": [
      "Train: 80%\n",
      " Test: 20%\n",
      "              precision    recall  f1-score   support\n",
      "\n",
      "  INDUSTRIAL       0.56      0.80      0.66     56656\n",
      "   NON_URBAN       0.76      0.85      0.80    166150\n",
      "       URBAN       0.98      0.94      0.96   1081307\n",
      "\n",
      "    accuracy                           0.92   1304113\n",
      "   macro avg       0.77      0.86      0.81   1304113\n",
      "weighted avg       0.93      0.92      0.93   1304113\n",
      "\n"
     ]
    }
   ],
   "source": [
    "import numpy as np\n",
    "from sklearn.metrics import confusion_matrix, ConfusionMatrixDisplay\n",
    "import matplotlib.pyplot as plt\n",
    "from sklearn.metrics import classification_report\n",
    "\n",
    "y_pred = classifier.predict(df_part2.drop(columns=['country']))\n",
    "y_test = df_part2.land_use_code.to_numpy()\n",
    "# cm = confusion_matrix(y_test, y_pred_r, labels=np.unique(y_test))\n",
    "# disp = ConfusionMatrixDisplay(confusion_matrix=cm,\n",
    "#                               display_labels=np.unique(y_test))\n",
    "# disp.plot(cmap=plt.cm.Blues)\n",
    "# plt.show()\n",
    "print(f'Train: 80%\\n Test: 20%')\n",
    "print(classification_report(y_test, y_pred, target_names=le.classes_))\n",
    "\n",
    "\n",
    "# cm = confusion_matrix(y_test, y_pred_g, labels=np.unique(y_test))\n",
    "# disp = ConfusionMatrixDisplay(confusion_matrix=cm,\n",
    "#                               display_labels=np.unique(y_test))\n",
    "# disp.plot(cmap=plt.cm.Blues)\n",
    "# plt.show()\n",
    "# print(f'Train: Germany\\n Test: India')\n",
    "# print(classification_report(y_test, y_pred, target_names=le.classes_))\n"
   ]
  },
  {
   "cell_type": "code",
   "execution_count": 95,
   "id": "0360a3f5",
   "metadata": {},
   "outputs": [
    {
     "name": "stderr",
     "output_type": "stream",
     "text": [
      "2025-08-21 12:10:56,136 - landuse_rb.classification - INFO - Начало трансформации признаков...\n",
      "2025-08-21 12:10:56,176 - landuse_rb.classification - INFO - Количество геометрий до проверки 1304113\n",
      "2025-08-21 12:11:31,774 - landuse_rb.classification - INFO - Количество геометрий после проверки 1304113\n",
      "2025-08-21 12:23:09,076 - landuse_rb.classification - INFO - Подсчет близлежащих зон разных типов...\n",
      "2025-08-21 12:23:09,105 - landuse_rb.classification - INFO - Трансформация признаков завершена\n"
     ]
    }
   ],
   "source": [
    "y_pred_proba = classifier.predict_proba(df_part2.drop(columns=['country']))"
   ]
  },
  {
   "cell_type": "code",
   "execution_count": 97,
   "id": "b993349a",
   "metadata": {},
   "outputs": [],
   "source": [
    "df_proba = pd.DataFrame(y_pred_proba, columns=le.classes_)"
   ]
  },
  {
   "cell_type": "code",
   "execution_count": 127,
   "id": "20744ad4",
   "metadata": {},
   "outputs": [],
   "source": [
    "#full test\n",
    "ft_df = pd.concat([df_part2, df_proba], axis=1)"
   ]
  },
  {
   "cell_type": "code",
   "execution_count": 140,
   "id": "0693a69f",
   "metadata": {},
   "outputs": [
    {
     "name": "stdout",
     "output_type": "stream",
     "text": [
      "<class 'geopandas.geodataframe.GeoDataFrame'>\n",
      "RangeIndex: 1304113 entries, 0 to 1304112\n",
      "Data columns (total 9 columns):\n",
      " #   Column         Non-Null Count    Dtype   \n",
      "---  ------         --------------    -----   \n",
      " 0   geometry       1304113 non-null  geometry\n",
      " 1   land_use       1304113 non-null  object  \n",
      " 2   share          1304113 non-null  float16 \n",
      " 3   city           1304113 non-null  object  \n",
      " 4   country        1304113 non-null  object  \n",
      " 5   land_use_code  1304113 non-null  int64   \n",
      " 6   INDUSTRIAL     1304113 non-null  float16 \n",
      " 7   NON_URBAN      1304113 non-null  float16 \n",
      " 8   URBAN          1304113 non-null  float16 \n",
      "dtypes: float16(4), geometry(1), int64(1), object(3)\n",
      "memory usage: 59.7+ MB\n"
     ]
    }
   ],
   "source": [
    "ft_df['INDUSTRIAL'] = ft_df['INDUSTRIAL'].astype('float16')\n",
    "ft_df['NON_URBAN'] = ft_df['NON_URBAN'].astype('float16')\n",
    "ft_df['URBAN'] = ft_df['URBAN'].astype('float16')\n",
    "ft_df['share'] = ft_df['share'].astype('float16')\n",
    "\n",
    "ft_df.info()"
   ]
  },
  {
   "cell_type": "code",
   "execution_count": 148,
   "id": "619b43e5",
   "metadata": {},
   "outputs": [
    {
     "data": {
      "text/html": [
       "<div>\n",
       "<style scoped>\n",
       "    .dataframe tbody tr th:only-of-type {\n",
       "        vertical-align: middle;\n",
       "    }\n",
       "\n",
       "    .dataframe tbody tr th {\n",
       "        vertical-align: top;\n",
       "    }\n",
       "\n",
       "    .dataframe thead th {\n",
       "        text-align: right;\n",
       "    }\n",
       "</style>\n",
       "<table border=\"1\" class=\"dataframe\">\n",
       "  <thead>\n",
       "    <tr style=\"text-align: right;\">\n",
       "      <th></th>\n",
       "      <th>geometry</th>\n",
       "      <th>land_use</th>\n",
       "      <th>share</th>\n",
       "      <th>city</th>\n",
       "      <th>country</th>\n",
       "      <th>land_use_code</th>\n",
       "      <th>INDUSTRIAL</th>\n",
       "      <th>NON_URBAN</th>\n",
       "      <th>URBAN</th>\n",
       "    </tr>\n",
       "  </thead>\n",
       "  <tbody>\n",
       "    <tr>\n",
       "      <th>0</th>\n",
       "      <td>POLYGON ((7506116.738 4470704.501, 7506150.635...</td>\n",
       "      <td>URBAN</td>\n",
       "      <td>0.035461</td>\n",
       "      <td>Balkh</td>\n",
       "      <td>Afghanistan</td>\n",
       "      <td>2</td>\n",
       "      <td>0.354980</td>\n",
       "      <td>0.302979</td>\n",
       "      <td>0.342041</td>\n",
       "    </tr>\n",
       "    <tr>\n",
       "      <th>1</th>\n",
       "      <td>POLYGON ((7506150.635 4470588.592, 7506116.738...</td>\n",
       "      <td>NON_URBAN</td>\n",
       "      <td>0.073730</td>\n",
       "      <td>Balkh</td>\n",
       "      <td>Afghanistan</td>\n",
       "      <td>1</td>\n",
       "      <td>0.302979</td>\n",
       "      <td>0.437012</td>\n",
       "      <td>0.260010</td>\n",
       "    </tr>\n",
       "    <tr>\n",
       "      <th>2</th>\n",
       "      <td>POLYGON ((7471050.163 4398445.749, 7471022.968...</td>\n",
       "      <td>URBAN</td>\n",
       "      <td>2.000000</td>\n",
       "      <td>Balkh</td>\n",
       "      <td>Afghanistan</td>\n",
       "      <td>2</td>\n",
       "      <td>0.004002</td>\n",
       "      <td>0.006001</td>\n",
       "      <td>0.990234</td>\n",
       "    </tr>\n",
       "    <tr>\n",
       "      <th>3</th>\n",
       "      <td>POLYGON ((7471022.968 4398440.126, 7471050.163...</td>\n",
       "      <td>URBAN</td>\n",
       "      <td>2.000000</td>\n",
       "      <td>Balkh</td>\n",
       "      <td>Afghanistan</td>\n",
       "      <td>2</td>\n",
       "      <td>0.005001</td>\n",
       "      <td>0.005001</td>\n",
       "      <td>0.988770</td>\n",
       "    </tr>\n",
       "    <tr>\n",
       "      <th>4</th>\n",
       "      <td>POLYGON ((7471022.968 4398440.126, 7470806.207...</td>\n",
       "      <td>URBAN</td>\n",
       "      <td>2.000000</td>\n",
       "      <td>Balkh</td>\n",
       "      <td>Afghanistan</td>\n",
       "      <td>2</td>\n",
       "      <td>0.032990</td>\n",
       "      <td>0.029007</td>\n",
       "      <td>0.937988</td>\n",
       "    </tr>\n",
       "    <tr>\n",
       "      <th>...</th>\n",
       "      <td>...</td>\n",
       "      <td>...</td>\n",
       "      <td>...</td>\n",
       "      <td>...</td>\n",
       "      <td>...</td>\n",
       "      <td>...</td>\n",
       "      <td>...</td>\n",
       "      <td>...</td>\n",
       "      <td>...</td>\n",
       "    </tr>\n",
       "    <tr>\n",
       "      <th>1304108</th>\n",
       "      <td>POLYGON ((8887499.891 773924.641, 8887473.097 ...</td>\n",
       "      <td>NON_URBAN</td>\n",
       "      <td>1.000000</td>\n",
       "      <td>Colombo</td>\n",
       "      <td>Sri_Lanka</td>\n",
       "      <td>1</td>\n",
       "      <td>0.016998</td>\n",
       "      <td>0.958984</td>\n",
       "      <td>0.024002</td>\n",
       "    </tr>\n",
       "    <tr>\n",
       "      <th>1304109</th>\n",
       "      <td>POLYGON ((8887509.598 773927.647, 8887499.891 ...</td>\n",
       "      <td>NON_URBAN</td>\n",
       "      <td>1.000000</td>\n",
       "      <td>Colombo</td>\n",
       "      <td>Sri_Lanka</td>\n",
       "      <td>1</td>\n",
       "      <td>0.018005</td>\n",
       "      <td>0.962891</td>\n",
       "      <td>0.018997</td>\n",
       "    </tr>\n",
       "    <tr>\n",
       "      <th>1304110</th>\n",
       "      <td>POLYGON ((8887537.139 773943.503, 8887509.598 ...</td>\n",
       "      <td>NON_URBAN</td>\n",
       "      <td>1.000000</td>\n",
       "      <td>Colombo</td>\n",
       "      <td>Sri_Lanka</td>\n",
       "      <td>1</td>\n",
       "      <td>0.018005</td>\n",
       "      <td>0.957031</td>\n",
       "      <td>0.024994</td>\n",
       "    </tr>\n",
       "    <tr>\n",
       "      <th>1304111</th>\n",
       "      <td>POLYGON ((8887609.096 773614.799, 8887627.53 7...</td>\n",
       "      <td>NON_URBAN</td>\n",
       "      <td>1.000000</td>\n",
       "      <td>Colombo</td>\n",
       "      <td>Sri_Lanka</td>\n",
       "      <td>1</td>\n",
       "      <td>0.018005</td>\n",
       "      <td>0.960938</td>\n",
       "      <td>0.020996</td>\n",
       "    </tr>\n",
       "    <tr>\n",
       "      <th>1304112</th>\n",
       "      <td>POLYGON ((8887640.978 773516.117, 8887657.241 ...</td>\n",
       "      <td>NON_URBAN</td>\n",
       "      <td>1.000000</td>\n",
       "      <td>Colombo</td>\n",
       "      <td>Sri_Lanka</td>\n",
       "      <td>1</td>\n",
       "      <td>0.018005</td>\n",
       "      <td>0.960938</td>\n",
       "      <td>0.020996</td>\n",
       "    </tr>\n",
       "  </tbody>\n",
       "</table>\n",
       "<p>1304113 rows × 9 columns</p>\n",
       "</div>"
      ],
      "text/plain": [
       "                                                  geometry   land_use  \\\n",
       "0        POLYGON ((7506116.738 4470704.501, 7506150.635...      URBAN   \n",
       "1        POLYGON ((7506150.635 4470588.592, 7506116.738...  NON_URBAN   \n",
       "2        POLYGON ((7471050.163 4398445.749, 7471022.968...      URBAN   \n",
       "3        POLYGON ((7471022.968 4398440.126, 7471050.163...      URBAN   \n",
       "4        POLYGON ((7471022.968 4398440.126, 7470806.207...      URBAN   \n",
       "...                                                    ...        ...   \n",
       "1304108  POLYGON ((8887499.891 773924.641, 8887473.097 ...  NON_URBAN   \n",
       "1304109  POLYGON ((8887509.598 773927.647, 8887499.891 ...  NON_URBAN   \n",
       "1304110  POLYGON ((8887537.139 773943.503, 8887509.598 ...  NON_URBAN   \n",
       "1304111  POLYGON ((8887609.096 773614.799, 8887627.53 7...  NON_URBAN   \n",
       "1304112  POLYGON ((8887640.978 773516.117, 8887657.241 ...  NON_URBAN   \n",
       "\n",
       "            share     city      country  land_use_code  INDUSTRIAL  NON_URBAN  \\\n",
       "0        0.035461    Balkh  Afghanistan              2    0.354980   0.302979   \n",
       "1        0.073730    Balkh  Afghanistan              1    0.302979   0.437012   \n",
       "2        2.000000    Balkh  Afghanistan              2    0.004002   0.006001   \n",
       "3        2.000000    Balkh  Afghanistan              2    0.005001   0.005001   \n",
       "4        2.000000    Balkh  Afghanistan              2    0.032990   0.029007   \n",
       "...           ...      ...          ...            ...         ...        ...   \n",
       "1304108  1.000000  Colombo    Sri_Lanka              1    0.016998   0.958984   \n",
       "1304109  1.000000  Colombo    Sri_Lanka              1    0.018005   0.962891   \n",
       "1304110  1.000000  Colombo    Sri_Lanka              1    0.018005   0.957031   \n",
       "1304111  1.000000  Colombo    Sri_Lanka              1    0.018005   0.960938   \n",
       "1304112  1.000000  Colombo    Sri_Lanka              1    0.018005   0.960938   \n",
       "\n",
       "            URBAN  \n",
       "0        0.342041  \n",
       "1        0.260010  \n",
       "2        0.990234  \n",
       "3        0.988770  \n",
       "4        0.937988  \n",
       "...           ...  \n",
       "1304108  0.024002  \n",
       "1304109  0.018997  \n",
       "1304110  0.024994  \n",
       "1304111  0.020996  \n",
       "1304112  0.020996  \n",
       "\n",
       "[1304113 rows x 9 columns]"
      ]
     },
     "execution_count": 148,
     "metadata": {},
     "output_type": "execute_result"
    }
   ],
   "source": [
    "ft_df"
   ]
  },
  {
   "cell_type": "code",
   "execution_count": 143,
   "id": "ce658138",
   "metadata": {},
   "outputs": [],
   "source": [
    "ft_df.to_pickle('full_test.pkl')"
   ]
  },
  {
   "cell_type": "code",
   "execution_count": 116,
   "id": "dc50c738",
   "metadata": {},
   "outputs": [
    {
     "data": {
      "text/plain": [
       "array(['Angarsk', 'Armavir', 'Biysk', 'Chita', 'Engels', 'Irkutsk',\n",
       "       'Kaliningrad', 'Kamensk-Ural’skiy', 'Kazan', 'Kirov', 'Kolomna',\n",
       "       'Lyubertsy', 'Magnitogorsk', 'Maykop', 'Nakhodka', 'Novokuznetsk',\n",
       "       'Noyabrsk', 'Perm', 'Podolsk', 'Pyatigorsk', 'Rybinsk', 'Seversk',\n",
       "       'Stavropol’', 'Syktyvkar', 'Syzran', 'Taganrog', 'Tobolsk',\n",
       "       'Tomsk', 'Tyumen', 'Vladivostok', 'Yekaterinburg', 'Yoshkar-Ola',\n",
       "       'Yuzhno-Sakhalinsk'], dtype=object)"
      ]
     },
     "execution_count": 116,
     "metadata": {},
     "output_type": "execute_result"
    }
   ],
   "source": [
    "ft_df[ft_df['country'] == 'Russia'].city.unique()"
   ]
  },
  {
   "cell_type": "code",
   "execution_count": null,
   "id": "37dfba8c",
   "metadata": {},
   "outputs": [],
   "source": [
    "gdf_city = ft_df.groupby('city').get_group('Yekaterinburg')\n",
    "\n",
    "print(f'{gdf_city.shape = }')\n",
    "gdf_city.explore('land_use')"
   ]
  },
  {
   "cell_type": "code",
   "execution_count": null,
   "id": "8c80fac6",
   "metadata": {},
   "outputs": [],
   "source": []
  }
 ],
 "metadata": {
  "kernelspec": {
   "display_name": ".venv",
   "language": "python",
   "name": "python3"
  },
  "language_info": {
   "codemirror_mode": {
    "name": "ipython",
    "version": 3
   },
   "file_extension": ".py",
   "mimetype": "text/x-python",
   "name": "python",
   "nbconvert_exporter": "python",
   "pygments_lexer": "ipython3",
   "version": "3.10.11"
  }
 },
 "nbformat": 4,
 "nbformat_minor": 5
}
